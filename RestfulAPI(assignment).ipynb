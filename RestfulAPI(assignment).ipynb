{
 "cells": [
  {
   "cell_type": "markdown",
   "id": "1b27898e-ba5d-496a-85ec-9ba262dca1b7",
   "metadata": {},
   "source": [
    "# Restful API's and Flask "
   ]
  },
  {
   "cell_type": "markdown",
   "id": "f96ccf24-de1e-4b24-acd9-c6f7bbd7e274",
   "metadata": {},
   "source": [
    "## 1. What is a Restful API?"
   ]
  },
  {
   "cell_type": "markdown",
   "id": "72d20ce5-43e1-4356-9690-4d68b919ce68",
   "metadata": {},
   "source": [
    "### A RESTful API (Representational State Transfer Application Programming Interface) is a way for different software systems to communicate with each other over the internet using the HTTP protocol."
   ]
  },
  {
   "cell_type": "code",
   "execution_count": null,
   "id": "0709424a-d669-4e96-b4ca-08ce1edddde5",
   "metadata": {},
   "outputs": [],
   "source": []
  },
  {
   "cell_type": "markdown",
   "id": "933b35c6-6fee-456f-8095-12dcf4a15381",
   "metadata": {},
   "source": [
    "## 2.Explain the concept of API's specification."
   ]
  },
  {
   "cell_type": "markdown",
   "id": "fc007331-97dd-4d98-92f0-dabc62b4c218",
   "metadata": {},
   "source": [
    "### An API specification is a detailed document that describes how an API works and how to interact with it. It tells developers what endpoints are available, what data can be sent or received, and what rules must be followed."
   ]
  },
  {
   "cell_type": "code",
   "execution_count": null,
   "id": "b3971c4a-914f-44db-b3b8-4d90eebf39ce",
   "metadata": {},
   "outputs": [],
   "source": []
  },
  {
   "cell_type": "markdown",
   "id": "bd9926cc-b43f-4797-b1dd-3ac6d4202eb0",
   "metadata": {},
   "source": [
    "## 3.What is flask, and why it is popular for building API's?"
   ]
  },
  {
   "cell_type": "markdown",
   "id": "dc3e9656-4a15-4229-9abd-ee595ecc5a81",
   "metadata": {},
   "source": [
    "### Flask is a lightweight and flexible web framework written in Python. It is used to create web applications and build APIs (Application Programming Interfaces) quickly and easily."
   ]
  },
  {
   "cell_type": "markdown",
   "id": "539a8b81-5be1-4eec-90c7-814916fe1eba",
   "metadata": {},
   "source": [
    "### Why Flask is Popular for Building APIs:\n",
    "\n",
    "1)Simple and Easy to Use\n",
    "\n",
    "Flask has a minimal structure, making it beginner-friendly and quick to set up.\n",
    "\n",
    "2)Lightweight and Fast\n",
    "\n",
    "It doesn’t come with unnecessary tools or libraries, giving the developer more control.\n",
    "\n",
    "3)Built-in Development Server\n",
    "\n",
    "Comes with a built-in server, so you don’t need extra setup to test your API.\n",
    "\n",
    "4)Supports RESTful Routing\n",
    "\n",
    "Makes it easy to create RESTful APIs using routes like GET, POST, PUT, and DELETE.\n",
    "\n",
    "5)Highly Extensible\n",
    "\n",
    "You can easily add plugins or use libraries like Flask-RESTful, SQLAlchemy, etc.\n",
    "\n",
    "6)Good Documentation and Community\n",
    "\n",
    "Well-documented with a large community for support."
   ]
  },
  {
   "cell_type": "code",
   "execution_count": null,
   "id": "b5544179-1773-4f01-9c97-725fc986de6e",
   "metadata": {},
   "outputs": [],
   "source": []
  },
  {
   "cell_type": "markdown",
   "id": "4d28d546-bf50-434e-a106-466a29950385",
   "metadata": {},
   "source": [
    "## 4. What is routing  in flask?"
   ]
  },
  {
   "cell_type": "markdown",
   "id": "959b6bd6-9d18-473f-99d3-7a71cd497501",
   "metadata": {},
   "source": [
    "### Routing in Flask refers to the process of connecting a URL (web address) to a specific function in your Python code. When someone visits a certain URL, Flask uses routing to decide which function should run."
   ]
  },
  {
   "cell_type": "code",
   "execution_count": null,
   "id": "6c9f2311-4732-4d76-a82e-4949124c95a9",
   "metadata": {},
   "outputs": [],
   "source": [
    "## for example:\n",
    "from flask import Flask\n",
    "app = Flask(__name__)\n",
    "\n",
    "@app.route('/')\n",
    "def home():\n",
    "    return \"Welcome to the homepage!\"\n"
   ]
  },
  {
   "cell_type": "code",
   "execution_count": null,
   "id": "455ebaaf-e9f4-4427-a94f-26773a2279f0",
   "metadata": {},
   "outputs": [],
   "source": []
  },
  {
   "cell_type": "markdown",
   "id": "9dc47660-9e38-4910-b55b-a3aac7cac9a0",
   "metadata": {},
   "source": [
    "## 5. how do you create a simpl eflask application?"
   ]
  },
  {
   "cell_type": "code",
   "execution_count": 1,
   "id": "30776538-7080-48b2-95a2-6647f866a47d",
   "metadata": {
    "tags": []
   },
   "outputs": [],
   "source": [
    "## for example:\n",
    "from flask import Flask\n",
    "app = Flask(__name__)\n",
    "\n",
    "@app.route('/')\n",
    "def home():\n",
    "    return \"Welcome to the homepage!\"\n"
   ]
  },
  {
   "cell_type": "code",
   "execution_count": null,
   "id": "2df37b1f-cb55-46b6-9fac-79dbb0ace7d0",
   "metadata": {},
   "outputs": [],
   "source": []
  },
  {
   "cell_type": "markdown",
   "id": "1e502bbb-27c4-4e82-86ef-2ed526cadc3d",
   "metadata": {},
   "source": [
    "## 6. What are HTTP  methods  used in RESTful API's?"
   ]
  },
  {
   "cell_type": "raw",
   "id": "a6811d38-a58b-4eac-afb7-d3323bca2bd7",
   "metadata": {},
   "source": [
    "###\n",
    "1)GET\n",
    "\n",
    "Used to retrieve data from the server.\n",
    "\n",
    "Example: GET /users → gets a list of users.\n",
    "\n",
    "2)POST\n",
    "\n",
    "Used to create new data on the server.\n",
    "\n",
    "Example: POST /users → adds a new user.\n",
    "\n",
    "3)PUT\n",
    "\n",
    "Used to update existing data completely.\n",
    "\n",
    "Example: PUT /users/1 → replaces user with ID 1.\n",
    "\n",
    "4)PATCH\n",
    "\n",
    "Used to partially update existing data.\n",
    "\n",
    "Example: PATCH /users/1 → updates specific fields of user 1.\n",
    "\n",
    "5)DELETE\n",
    "\n",
    "Used to remove data from the server.\n",
    "\n",
    "Example: DELETE /users/1 → deletes user with ID 1."
   ]
  },
  {
   "cell_type": "code",
   "execution_count": null,
   "id": "49c46d28-4a5d-4487-91ac-9a88e759b9a1",
   "metadata": {},
   "outputs": [],
   "source": []
  },
  {
   "cell_type": "markdown",
   "id": "5f26288e-3ff4-48dc-a3a1-48f5542a4ff6",
   "metadata": {},
   "source": [
    "## 7. What is the purpose of the @app.route() decorator in flask?"
   ]
  },
  {
   "cell_type": "markdown",
   "id": "0570430f-dacf-4aae-892f-4db527a80f19",
   "metadata": {},
   "source": [
    "### In Flask, the @app.route() is a decorator used to bind a specific URL path to a Python function. It tells the Flask application which function should run when a particular web address (route) is visited."
   ]
  },
  {
   "cell_type": "code",
   "execution_count": null,
   "id": "4269dfe5-5303-46e8-bd42-584945052848",
   "metadata": {},
   "outputs": [],
   "source": []
  },
  {
   "cell_type": "markdown",
   "id": "ebdb3d70-d76f-435e-853b-3ee9b7140fd0",
   "metadata": {},
   "source": [
    "## 8.What is the difference between GET and POST HTTP methods?"
   ]
  },
  {
   "cell_type": "markdown",
   "id": "e5d6c4f0-55ba-4664-9914-49fb25f7f213",
   "metadata": {},
   "source": [
    "### 🔍 GET Method:\n",
    "Used to retrieve data from the server.\n",
    "\n",
    "Data is sent in the URL as query parameters.\n",
    "\n",
    "Safe and idempotent (does not change data).\n",
    "\n",
    "Can be bookmarked and cached by browsers.\n",
    "\n",
    "Not secure for sending sensitive data (like passwords)."
   ]
  },
  {
   "cell_type": "markdown",
   "id": "9fe99fea-f1d8-499a-b6db-bbf109739b3b",
   "metadata": {},
   "source": [
    "### 📝 POST Method:\n",
    "Used to send data to the server to create or submit something.\n",
    "\n",
    "Data is sent in the body of the request, not in the URL.\n",
    "\n",
    "Not idempotent – each request can change server data.\n",
    "\n",
    "More secure for sending sensitive information.\n",
    "\n",
    "Cannot be bookmarked or cached."
   ]
  },
  {
   "cell_type": "code",
   "execution_count": null,
   "id": "cb8ce76f-fce9-4887-a1b6-69933d276617",
   "metadata": {},
   "outputs": [],
   "source": []
  },
  {
   "cell_type": "markdown",
   "id": "68c9d85a-ac4f-42b8-916c-cd55874c590f",
   "metadata": {},
   "source": [
    "## 9. How do you handle errors in flask API's?"
   ]
  },
  {
   "cell_type": "markdown",
   "id": "72f1816b-2c17-4eca-8722-aa05f6d00b51",
   "metadata": {},
   "source": [
    "### 1. Using @app.errorhandler() Decorator:\n",
    "You can catch specific error codes (like 404 or 500) and return a custom response."
   ]
  },
  {
   "cell_type": "code",
   "execution_count": null,
   "id": "576c60f3-6cf3-465b-98ba-541f42659b2e",
   "metadata": {},
   "outputs": [],
   "source": [
    "from flask import Flask, jsonify\n",
    "\n",
    "app = Flask(__name__)\n",
    "\n",
    "@app.errorhandler(404)\n",
    "def not_found(error):\n",
    "    return jsonify({\"error\": \"Resource not found\"}), 404\n"
   ]
  },
  {
   "cell_type": "markdown",
   "id": "aa5995a0-7532-41f0-a935-4682324ee78c",
   "metadata": {},
   "source": [
    "### 2. Handling Exceptions with Try-Except Blocks:\n",
    "Use try-except to catch errors in your logic and return a safe response."
   ]
  },
  {
   "cell_type": "code",
   "execution_count": null,
   "id": "53e7d0b4-aaa2-4b44-a000-093828659e4e",
   "metadata": {},
   "outputs": [],
   "source": [
    "@app.route('/divide')\n",
    "def divide():\n",
    "    try:\n",
    "        result = 10 / 0\n",
    "        return jsonify({\"result\": result})\n",
    "    except ZeroDivisionError:\n",
    "        return jsonify({\"error\": \"Cannot divide by zero\"}), 400\n"
   ]
  },
  {
   "cell_type": "code",
   "execution_count": null,
   "id": "a906d049-4df0-42f1-b7e5-680dd7ecc0d9",
   "metadata": {},
   "outputs": [],
   "source": []
  },
  {
   "cell_type": "markdown",
   "id": "3860cd3d-6806-4196-aa56-28e6f8bf8d68",
   "metadata": {},
   "source": [
    "## 10.How do you connect flask to a SQL database?"
   ]
  },
  {
   "cell_type": "code",
   "execution_count": null,
   "id": "834a745b-c6c0-4414-b711-7720d5803b0a",
   "metadata": {},
   "outputs": [],
   "source": [
    "from flask import Flask\n",
    "from flask_sqlalchemy import SQLAlchemy\n",
    "\n",
    "app = Flask(__name__)\n",
    "\n",
    "# Configure the SQL database (example: SQLite)\n",
    "app.config['SQLALCHEMY_DATABASE_URI'] = 'sqlite:///mydatabase.db'\n",
    "\n",
    "# Initialize the database object\n",
    "db = SQLAlchemy(app)\n"
   ]
  },
  {
   "cell_type": "code",
   "execution_count": null,
   "id": "294bd16f-5200-4d0e-9240-1fb4b2848121",
   "metadata": {},
   "outputs": [],
   "source": []
  },
  {
   "cell_type": "markdown",
   "id": "7c903aea-5184-4a16-b2aa-abff34ee4d9c",
   "metadata": {},
   "source": [
    "## 11. what is the role of flask-SQLALchemy?"
   ]
  },
  {
   "cell_type": "raw",
   "id": "32964a2b-6f79-4545-b82a-d35665438b5c",
   "metadata": {},
   "source": [
    "1.Simplifies Database Integration\n",
    "\n",
    "It makes it easy to connect Flask with SQL databases like SQLite, MySQL, PostgreSQL, etc.\n",
    "\n",
    "2.Uses Python Classes as Tables (ORM)\n",
    "\n",
    "You define database tables as Python classes, making code cleaner and more readable.\n",
    "\n",
    "3.Handles Queries Easily\n",
    "\n",
    "4.Manages database connections\n",
    "\n",
    "It automatically manages and closes connections to keep the app efficient.\n",
    "\n",
    "5.Supports Migrations (with Flask-Migrate)\n",
    "\n",
    "Helps you easily modify the database schema during development."
   ]
  },
  {
   "cell_type": "code",
   "execution_count": null,
   "id": "67a8daa6-26f0-4142-9564-8fd7d609b280",
   "metadata": {},
   "outputs": [],
   "source": []
  },
  {
   "cell_type": "markdown",
   "id": "b72b0fac-db23-442e-b87a-f969b2a16177",
   "metadata": {},
   "source": [
    "## 12. what are flask blueprints, and how are they useful?"
   ]
  },
  {
   "cell_type": "markdown",
   "id": "51c39ff9-ca33-42cf-b320-ecab02c524bb",
   "metadata": {},
   "source": [
    "### A Flask Blueprint is a way to organize routes, templates, and static files into reusable modules. It helps you break a large Flask application into smaller, manageable components."
   ]
  },
  {
   "cell_type": "markdown",
   "id": "cfe91af3-baa1-444a-a1ee-cbb1145704e8",
   "metadata": {},
   "source": [
    "✅ What is a Blueprint?\n",
    "A Blueprint is like a mini Flask application that contains its own:\n",
    "\n",
    "Routes (URLs)\n",
    "\n",
    "Views (functions)\n",
    "\n",
    "Templates\n",
    "\n",
    "Static files\n",
    "\n",
    "It is later registered with the main Flask app."
   ]
  },
  {
   "cell_type": "code",
   "execution_count": null,
   "id": "4d8a4ac4-f908-4625-8e5d-719998948806",
   "metadata": {},
   "outputs": [],
   "source": []
  },
  {
   "cell_type": "markdown",
   "id": "5a7df7a0-3e7e-4cc2-a8fe-2c712d836e7a",
   "metadata": {},
   "source": [
    "## 13.What is the purpose of flask's jsonify() functions?"
   ]
  },
  {
   "cell_type": "markdown",
   "id": "75074c6d-3390-4127-8c2c-9fd3d6cf82b1",
   "metadata": {},
   "source": [
    "### The jsonify() function in Flask is used to convert Python data (like dictionaries or lists) into a JSON response. This is helpful when building RESTful APIs, where data is typically sent in JSON format."
   ]
  },
  {
   "cell_type": "code",
   "execution_count": null,
   "id": "5d8b5665-0f5b-4a89-bb7f-de1ffb5ad03f",
   "metadata": {},
   "outputs": [],
   "source": []
  },
  {
   "cell_type": "markdown",
   "id": "1a9bf72e-8a24-4ade-8e87-af8b45de307a",
   "metadata": {},
   "source": [
    "## 14. How do you create restful API endpoint using flask?"
   ]
  },
  {
   "cell_type": "markdown",
   "id": "7b96d5e3-e0d0-40f1-a8fa-4610ffdcdfdc",
   "metadata": {},
   "source": [
    "### To create a RESTful API endpoint using Flask, you define a route using @app.route() and a function that handles the request and returns data (often in JSON format using jsonify())."
   ]
  },
  {
   "cell_type": "code",
   "execution_count": null,
   "id": "d29147e9-356c-4f7e-a860-e7ad6543aa25",
   "metadata": {},
   "outputs": [],
   "source": [
    "@app.route('/api/greet', methods=['GET'])\n",
    "def greet_user():\n",
    "    return jsonify({\"message\": \"Hello from the API!\"})\n"
   ]
  },
  {
   "cell_type": "code",
   "execution_count": null,
   "id": "8710b36a-0652-4e66-8a05-e57ff71a8427",
   "metadata": {},
   "outputs": [],
   "source": []
  },
  {
   "cell_type": "markdown",
   "id": "b5f43679-ad2e-40b1-bcad-f86a651c82d1",
   "metadata": {},
   "source": [
    "## 15. what is the purpose of flask's request object?"
   ]
  },
  {
   "cell_type": "markdown",
   "id": "64d9ee03-fd82-43b9-9ce2-eb4427486fb5",
   "metadata": {},
   "source": [
    "### The purpose of Flask's request object is to represent the incoming HTTP request that a client sends to the Flask web server. It allows you to access all the data and metadata related to that request inside your route functions."
   ]
  },
  {
   "cell_type": "code",
   "execution_count": null,
   "id": "60f87e77-6dd2-43dd-b10a-59dda19bc854",
   "metadata": {},
   "outputs": [],
   "source": []
  },
  {
   "cell_type": "markdown",
   "id": "34b06f2f-b0d6-4498-9417-720241e85a75",
   "metadata": {},
   "source": [
    "## 16. Explain flask's url_for() function."
   ]
  },
  {
   "cell_type": "markdown",
   "id": "8de21c64-5a55-48a6-8836-087f07100d59",
   "metadata": {},
   "source": [
    "### The url_for() function is used to generate URLs for your Flask application routes dynamically."
   ]
  },
  {
   "cell_type": "code",
   "execution_count": null,
   "id": "284e6164-6d19-4e67-87fc-5589b0fdc5df",
   "metadata": {},
   "outputs": [],
   "source": []
  },
  {
   "cell_type": "markdown",
   "id": "b6ebcb38-abd3-42f4-9c2b-7de2cf2bf097",
   "metadata": {},
   "source": [
    "## 17. how does flask handle stsic files(css,javascript,etc)?"
   ]
  },
  {
   "cell_type": "markdown",
   "id": "e35dd303-4ce8-48d0-9e10-6e97f15b4d02",
   "metadata": {},
   "source": [
    "### Flask serves static files like CSS and JavaScript from a folder named static by default, and you access them in your templates using url_for('static', filename='yourfile.css')."
   ]
  },
  {
   "cell_type": "raw",
   "id": "f032f495-2a1f-4a0b-9003-1db8ddfb5d63",
   "metadata": {},
   "source": [
    "your_flask_app/\n",
    "│\n",
    "├── app.py\n",
    "├── static/\n",
    "│   ├── style.css\n",
    "│   ├── script.js\n",
    "│   └── images/\n",
    "│       └── logo.png\n",
    "└── templates/\n",
    "    └── index.html\n"
   ]
  },
  {
   "cell_type": "code",
   "execution_count": null,
   "id": "0119858d-4ad7-48c5-b7f5-6a10e1075af7",
   "metadata": {},
   "outputs": [],
   "source": []
  },
  {
   "cell_type": "markdown",
   "id": "8ce368b3-9772-4030-95e0-7772e9ea3ffe",
   "metadata": {},
   "source": [
    "## 18.What is an API specification, and how does it help in building a flask API?"
   ]
  },
  {
   "cell_type": "markdown",
   "id": "ae35f479-0a18-462e-b747-a0748d29db77",
   "metadata": {},
   "source": [
    "### An API specification is a detailed, formal document that defines how an API should behave — including its endpoints, request methods, input parameters, response formats, authentication, and error handling."
   ]
  },
  {
   "cell_type": "markdown",
   "id": "6fb4afdb-8c5d-4527-86d2-e5e33f2d4293",
   "metadata": {},
   "source": [
    "### How it helps in building a Flask API:\n",
    "Provides a clear blueprint of what your API should do and how it should work.\n",
    "\n",
    "Ensures consistent design and communication between frontend and backend teams.\n",
    "\n",
    "Helps you plan and implement routes, expected inputs, and outputs in Flask.\n",
    "\n",
    "Makes it easier to test, document, and maintain the API.\n",
    "\n",
    "Supports tools that can automatically generate code, documentation, and client SDKs from the spec (e.g., OpenAPI/Swagger)."
   ]
  },
  {
   "cell_type": "code",
   "execution_count": null,
   "id": "5a6e55c5-38f5-488b-8b50-dc8655053aab",
   "metadata": {},
   "outputs": [],
   "source": []
  },
  {
   "cell_type": "markdown",
   "id": "ac58b53a-a6fa-4c8b-9150-dc14367e23cf",
   "metadata": {},
   "source": [
    "## 19.What are HTTP status codes, and why are they important in flask app?"
   ]
  },
  {
   "cell_type": "markdown",
   "id": "6de60f39-5350-40cf-906c-f349e915f4e3",
   "metadata": {},
   "source": [
    "### HTTP status codes are standardized three-digit numbers sent by the server in response to a client’s request. They indicate whether the request was successful, if there was an error, or if further action is needed."
   ]
  },
  {
   "cell_type": "markdown",
   "id": "200aad70-9f2f-4287-8708-2412141343d0",
   "metadata": {},
   "source": [
    "### \n",
    "-They inform the client (browser, app, etc.) about the result of their request (e.g., success, failure, unauthorized).\n",
    "\n",
    "-Help handle different scenarios correctly, like:\n",
    "\n",
    "  -200 OK — request succeeded\n",
    "\n",
    "  -404 Not Found — resource doesn’t exist\n",
    "\n",
    "  -500 Internal Server Error — server problem\n",
    "\n",
    "  -401 Unauthorized — authentication needed\n",
    "\n",
    "-Allow clients to take appropriate action based on the response.\n",
    "\n",
    "-Improve API usability and debugging by providing clear response status.\n",
    "\n",
    "-In Flask, you can set status codes in your response to make your app’s behavior clear and standard-compliant."
   ]
  },
  {
   "cell_type": "code",
   "execution_count": null,
   "id": "bf294175-0069-4f1c-bc91-2c8e1524e605",
   "metadata": {},
   "outputs": [],
   "source": []
  },
  {
   "cell_type": "markdown",
   "id": "67938344-99bc-4e62-9fb5-d96a8877cfef",
   "metadata": {},
   "source": [
    "## 20. How do you handle POST request in flask?"
   ]
  },
  {
   "cell_type": "raw",
   "id": "8521373c-ae2a-40de-869c-6fc543a8be7f",
   "metadata": {},
   "source": [
    "Define a route that accepts the POST method.\n",
    "\n",
    "Use Flask’s request object to access the incoming data (form data, JSON, etc.)."
   ]
  },
  {
   "cell_type": "code",
   "execution_count": null,
   "id": "d7e91ebc-a4b7-41b8-a478-de1e8e6cba97",
   "metadata": {},
   "outputs": [],
   "source": [
    "from flask import Flask, request, jsonify\n",
    "\n",
    "app = Flask(__name__)\n",
    "\n",
    "@app.route('/submit', methods=['POST'])\n",
    "def submit():\n",
    "    data = request.get_json()  # Get JSON data sent in the POST request\n",
    "    name = data.get('name')\n",
    "    return jsonify({'message': f'Hello, {name}!'})\n"
   ]
  },
  {
   "cell_type": "code",
   "execution_count": null,
   "id": "d1ed7ff7-1431-464d-a485-d6a56424ef77",
   "metadata": {},
   "outputs": [],
   "source": []
  },
  {
   "cell_type": "markdown",
   "id": "3740f7f5-7319-49eb-8545-fbbab44787b7",
   "metadata": {},
   "source": [
    "## 21. How do you secure a flask API?"
   ]
  },
  {
   "cell_type": "raw",
   "id": "2af082fa-27be-43f1-b1b6-22a2f4cdd324",
   "metadata": {},
   "source": [
    "-Use Authentication: Require users to prove who they are, typically via tokens like JWT (JSON Web Tokens) or API keys.\n",
    "\n",
    "-Use HTTPS: Always serve your API over HTTPS to encrypt data between client and server.\n",
    "\n",
    "-Validate Inputs: Sanitize and validate all incoming data to prevent injections or malformed requests.\n",
    "\n",
    "-Implement Authorization: Ensure users can only access resources they are allowed to (role-based access control).\n",
    "\n",
    "-Rate Limiting: Limit the number of requests per user or IP to prevent abuse or denial-of-service attacks.\n",
    "\n",
    "-Use Secure Headers: Set HTTP headers like Content-Security-Policy, X-Frame-Options, etc.\n",
    "\n",
    "-Handle Errors Gracefully: Avoid leaking sensitive info in error messages.\n",
    "\n",
    "-Keep Dependencies Updated: Regularly update Flask and libraries to patch security vulnerabilities."
   ]
  },
  {
   "cell_type": "code",
   "execution_count": null,
   "id": "97d010c7-91b1-4389-b06f-ccff955df477",
   "metadata": {},
   "outputs": [],
   "source": []
  },
  {
   "cell_type": "markdown",
   "id": "3609d1c8-f240-45d5-b8de-5dfa520b30c9",
   "metadata": {},
   "source": [
    "## 22.What is the significance of the flask-restful extension?"
   ]
  },
  {
   "cell_type": "markdown",
   "id": "c95d5d73-9eef-47ec-b82f-2ad88eb4c07f",
   "metadata": {},
   "source": [
    "### The Flask-RESTful extension is significant because it simplifies building REST APIs in Flask by providing tools and abstractions designed specifically for RESTful services."
   ]
  },
  {
   "cell_type": "raw",
   "id": "526e36a8-7211-4df5-8332-d11927170e6e",
   "metadata": {},
   "source": [
    "Simplifies route and request handling by letting you define resources as classes.\n",
    "\n",
    "Provides built-in support for HTTP methods (GET, POST, PUT, DELETE) with method functions inside resource classes.\n",
    "\n",
    "Makes it easy to parse and validate request data with request parsers.\n",
    "\n",
    "Automatically formats responses (e.g., JSON) consistently.\n",
    "\n",
    "Helps organize code for APIs cleanly and maintainably.\n",
    "\n",
    "Integrates well with Flask but reduces boilerplate code."
   ]
  },
  {
   "cell_type": "code",
   "execution_count": null,
   "id": "12d786e5-524f-4881-94ef-18a169d46da0",
   "metadata": {},
   "outputs": [],
   "source": []
  },
  {
   "cell_type": "markdown",
   "id": "ee903fee-2bc1-4c24-ab7f-d56a2bc010c5",
   "metadata": {},
   "source": [
    "## 23. What is role of the flask's session object?"
   ]
  },
  {
   "cell_type": "markdown",
   "id": "38a67234-9774-4e49-81c7-c742871f754d",
   "metadata": {},
   "source": [
    "### Role of Flask’s session:\n",
    "-Keeps user data persistent between requests (like login status, user preferences).\n",
    "\n",
    "-Stores data on the server side but uses a secure cookie to track the session ID on the client.\n",
    "\n",
    "-Allows you to read and write data easily with a dictionary-like interface.\n",
    "\n",
    "-Helps implement features like user authentication, shopping carts, and personalized experiences."
   ]
  },
  {
   "cell_type": "code",
   "execution_count": null,
   "id": "c3c3ac98-35da-4fce-abd9-5d281e7ea25e",
   "metadata": {},
   "outputs": [],
   "source": []
  },
  {
   "cell_type": "code",
   "execution_count": null,
   "id": "8a7cf209-a1e5-4b5b-8a7b-dd966a3c8350",
   "metadata": {},
   "outputs": [],
   "source": []
  },
  {
   "cell_type": "markdown",
   "id": "6bc7142f-4f71-4137-bb4a-012bd8f31b78",
   "metadata": {},
   "source": [
    "# Practical Questions."
   ]
  },
  {
   "cell_type": "markdown",
   "id": "f9b6c6b4-94e6-4561-976f-c2f88dc86406",
   "metadata": {},
   "source": [
    "## 1. How do you create a basic flask application?"
   ]
  },
  {
   "cell_type": "code",
   "execution_count": 2,
   "id": "7dae9662-28b1-4b13-90d1-1f4376679497",
   "metadata": {
    "tags": []
   },
   "outputs": [
    {
     "name": "stdout",
     "output_type": "stream",
     "text": [
      " * Serving Flask app '__main__'\n",
      " * Debug mode: on\n"
     ]
    },
    {
     "name": "stderr",
     "output_type": "stream",
     "text": [
      "WARNING: This is a development server. Do not use it in a production deployment. Use a production WSGI server instead.\n",
      " * Running on http://127.0.0.1:5000\n",
      "Press CTRL+C to quit\n",
      " * Restarting with watchdog (windowsapi)\n"
     ]
    },
    {
     "ename": "SystemExit",
     "evalue": "1",
     "output_type": "error",
     "traceback": [
      "An exception has occurred, use %tb to see the full traceback.\n",
      "\u001b[1;31mSystemExit\u001b[0m\u001b[1;31m:\u001b[0m 1\n"
     ]
    },
    {
     "name": "stderr",
     "output_type": "stream",
     "text": [
      "C:\\Users\\gj261\\AppData\\Roaming\\Python\\Python311\\site-packages\\IPython\\core\\interactiveshell.py:3534: UserWarning: To exit: use 'exit', 'quit', or Ctrl-D.\n",
      "  warn(\"To exit: use 'exit', 'quit', or Ctrl-D.\", stacklevel=1)\n"
     ]
    }
   ],
   "source": [
    "from flask import Flask\n",
    "\n",
    "app = Flask(__name__)  # Create a Flask app instance\n",
    "\n",
    "@app.route('/')  # Define a route for the root URL\n",
    "def home():\n",
    "    return \"Hello, Flask!\"  # Return a response\n",
    "\n",
    "if __name__ == '__main__':\n",
    "    app.run(debug=True)  # Run the app with debug mode on\n"
   ]
  },
  {
   "cell_type": "code",
   "execution_count": null,
   "id": "572c756b-af6b-4baf-974b-e7194e0aea21",
   "metadata": {},
   "outputs": [],
   "source": []
  },
  {
   "cell_type": "markdown",
   "id": "11dad3c0-4868-43f5-a38f-4de2f468458a",
   "metadata": {},
   "source": [
    "## 2. How do you serve static files like images or CSS in flask?"
   ]
  },
  {
   "cell_type": "markdown",
   "id": "a46fbc91-6c48-4c78-b4b1-2a3796c2cec8",
   "metadata": {},
   "source": [
    "### Put your files inside the static folder:"
   ]
  },
  {
   "cell_type": "raw",
   "id": "738ac780-54d0-4cdc-8e06-3ab00c51f72f",
   "metadata": {
    "tags": []
   },
   "source": [
    "your_project/\n",
    "├── app.py\n",
    "├── static/\n",
    "│   ├── style.css\n",
    "│   └── logo.png\n",
    "└── templates/\n",
    "    └── index.html\n"
   ]
  },
  {
   "cell_type": "markdown",
   "id": "d1eb307d-c34f-4aed-8429-edee0f5ac2ed",
   "metadata": {},
   "source": [
    "### In your HTML templates, use url_for('static', filename='...') to link to these files:"
   ]
  },
  {
   "cell_type": "code",
   "execution_count": 5,
   "id": "92e7804a-1aef-4c89-ac2e-00f9e977de9d",
   "metadata": {
    "tags": []
   },
   "outputs": [],
   "source": [
    "<link rel=\"stylesheet\" href=\"{{ url_for('static', filename='style.css') }}\">\n",
    "<img src=\"{{ url_for('static', filename='logo.png') }}\" alt=\"Logo\">\n"
   ]
  },
  {
   "cell_type": "code",
   "execution_count": null,
   "id": "fa4a3514-da11-4a48-a3b1-37f9d57f3956",
   "metadata": {},
   "outputs": [],
   "source": []
  },
  {
   "cell_type": "markdown",
   "id": "4ea33f40-b56b-4401-bf37-8dc874bd8920",
   "metadata": {},
   "source": [
    "## 3.how do you define different routes with different HTTP methods in flask?"
   ]
  },
  {
   "cell_type": "code",
   "execution_count": 6,
   "id": "d1c9ef9f-c708-410f-b371-d38193336df0",
   "metadata": {
    "tags": []
   },
   "outputs": [],
   "source": [
    "from flask import Flask, request\n",
    "\n",
    "app = Flask(__name__)\n",
    "\n",
    "@app.route('/example', methods=['GET'])\n",
    "def get_example():\n",
    "    return \"This is a GET request\"\n",
    "\n",
    "@app.route('/example', methods=['POST'])\n",
    "def post_example():\n",
    "    data = request.get_json()\n",
    "    return f\"Received POST data: {data}\"\n"
   ]
  },
  {
   "cell_type": "code",
   "execution_count": null,
   "id": "aa2cb21d-e29c-4d6f-88be-3cfb0677b21b",
   "metadata": {},
   "outputs": [],
   "source": []
  },
  {
   "cell_type": "markdown",
   "id": "bfaf85f1-464d-4333-865f-ce18e20f69a6",
   "metadata": {},
   "source": [
    "## 4.How do you render HTML teplates in flask?"
   ]
  },
  {
   "cell_type": "code",
   "execution_count": null,
   "id": "b8be3e81-1a84-4b5f-a62c-32bd1188da17",
   "metadata": {},
   "outputs": [],
   "source": [
    "from flask import Flask, render_template\n",
    "\n",
    "app = Flask(__name__)\n",
    "\n",
    "@app.route('/')\n",
    "def home():\n",
    "    return render_template('index.html', name='Alice')\n"
   ]
  },
  {
   "cell_type": "code",
   "execution_count": null,
   "id": "97c20336-5e18-4d46-838f-1d786ea17cdc",
   "metadata": {},
   "outputs": [],
   "source": []
  },
  {
   "cell_type": "markdown",
   "id": "95921465-1d2f-4d6b-afeb-208deeb2198e",
   "metadata": {},
   "source": [
    "## 5.how can you generate URL'S for routes in flask using url_for?"
   ]
  },
  {
   "cell_type": "code",
   "execution_count": null,
   "id": "1874addf-df64-474f-a6b7-48b61fa66976",
   "metadata": {},
   "outputs": [],
   "source": [
    "from flask import Flask, url_for\n",
    "\n",
    "app = Flask(__name__)\n",
    "\n",
    "@app.route('/')\n",
    "def home():\n",
    "    return 'Home Page'\n",
    "\n",
    "@app.route('/user/<username>')\n",
    "def profile(username):\n",
    "    return f\"User: {username}\"\n",
    "\n",
    "with app.test_request_context():\n",
    "    print(url_for('home'))                # Outputs: '/'\n",
    "    print(url_for('profile', username='bob'))  # Outputs: '/user/bob'\n"
   ]
  },
  {
   "cell_type": "code",
   "execution_count": null,
   "id": "9bc1162c-9da2-452a-8ea6-2677c8a452b4",
   "metadata": {},
   "outputs": [],
   "source": []
  },
  {
   "cell_type": "markdown",
   "id": "b6f39776-7c4f-4aba-9477-a3cf36416fe7",
   "metadata": {},
   "source": [
    "## 6.How do you handle forms in flask?"
   ]
  },
  {
   "cell_type": "raw",
   "id": "497e7db8-6308-49f7-ac6c-a819026e90af",
   "metadata": {},
   "source": [
    "1)Create an HTML form in a template that sends data via POST (usually).\n",
    "\n",
    "2)Define a Flask route that accepts the POST method.\n",
    "\n",
    "3)Use Flask’s request object to get the submitted form data."
   ]
  },
  {
   "cell_type": "code",
   "execution_count": null,
   "id": "09b38b1b-40f3-4efe-ac24-43da9e30f57f",
   "metadata": {},
   "outputs": [],
   "source": [
    "from flask import Flask, request, render_template\n",
    "\n",
    "app = Flask(__name__)\n",
    "\n",
    "@app.route('/form')\n",
    "def form():\n",
    "    return render_template('form.html')\n",
    "\n",
    "@app.route('/submit', methods=['POST'])\n",
    "def submit():\n",
    "    username = request.form.get('username')\n",
    "    return f'Hello, {username}!'\n"
   ]
  },
  {
   "cell_type": "code",
   "execution_count": null,
   "id": "90fba2e2-0434-4494-bb95-9ca75918026b",
   "metadata": {},
   "outputs": [],
   "source": []
  },
  {
   "cell_type": "markdown",
   "id": "65a643ef-6185-46fc-9f72-e92349bf3d56",
   "metadata": {},
   "source": [
    "## 7.Hoe can you validate form in flask? "
   ]
  },
  {
   "cell_type": "code",
   "execution_count": null,
   "id": "0386cba1-87de-4929-873c-8d17e2d4e4ce",
   "metadata": {},
   "outputs": [],
   "source": [
    "from flask import Flask, request, render_template\n",
    "\n",
    "app = Flask(__name__)\n",
    "\n",
    "@app.route('/submit', methods=['POST'])\n",
    "def submit():\n",
    "    username = request.form.get('username', '').strip()\n",
    "    if not username:\n",
    "        return \"Username is required!\", 400  # Bad request\n",
    "    if len(username) < 3:\n",
    "        return \"Username must be at least 3 characters.\", 400\n",
    "    return f\"Hello, {username}!\"\n"
   ]
  },
  {
   "cell_type": "code",
   "execution_count": null,
   "id": "8ccda1c6-d32e-474f-b5ae-c97f643cd095",
   "metadata": {},
   "outputs": [],
   "source": []
  },
  {
   "cell_type": "markdown",
   "id": "cfd35d62-1129-4f28-907b-451ff5f2554b",
   "metadata": {},
   "source": [
    "## 8. How do you manage sessions in flask?"
   ]
  },
  {
   "cell_type": "raw",
   "id": "b09f9af4-ed71-4c9b-b079-2cb1b2dddd62",
   "metadata": {},
   "source": [
    "-Flask stores session data on the client inside a secure cookie (signed and encrypted).\n",
    "\n",
    "-You can store small amounts of data like user IDs, preferences, or login states.\n",
    "\n",
    "-The session behaves like a Python dictionary."
   ]
  },
  {
   "cell_type": "code",
   "execution_count": 7,
   "id": "002a8721-e0b9-4577-a8f6-35ccedf195f8",
   "metadata": {
    "tags": []
   },
   "outputs": [],
   "source": [
    "from flask import Flask, session, redirect, url_for, request\n",
    "\n",
    "app = Flask(__name__)\n",
    "app.secret_key = 'your_secret_key'  # Required for sessions to work\n",
    "\n",
    "@app.route('/login', methods=['POST'])\n",
    "def login():\n",
    "    username = request.form['username']\n",
    "    session['username'] = username  # Store username in session\n",
    "    return redirect(url_for('profile'))\n",
    "\n",
    "\n",
    "@app.route('/profile')\n",
    "def profile():\n",
    "    if 'username' in session:\n",
    "        return f\"Logged in as {session['username']}\"\n",
    "    return \"You are not logged in\"\n",
    "\n",
    "@app.route('/logout')\n",
    "def logout():\n",
    "    session.pop('username', None)  # Remove username from session\n",
    "    return \"Logged out\"\n"
   ]
  },
  {
   "cell_type": "code",
   "execution_count": null,
   "id": "5b9c85de-497d-46a0-aa3e-bc8231bacbb9",
   "metadata": {},
   "outputs": [],
   "source": []
  },
  {
   "cell_type": "markdown",
   "id": "dc8f2893-949f-4bc5-8a7d-e999f8d0b423",
   "metadata": {},
   "source": [
    "## 9.How do you redirect to a different route in flask?"
   ]
  },
  {
   "cell_type": "code",
   "execution_count": null,
   "id": "58977055-782f-40eb-8d2f-a5c9f3517f01",
   "metadata": {},
   "outputs": [],
   "source": [
    "from flask import Flask, redirect, url_for\n",
    "\n",
    "app = Flask(__name__)\n",
    "\n",
    "@app.route('/')\n",
    "def home():\n",
    "    return 'Home Page'\n",
    "\n",
    "@app.route('/go-to-home')\n",
    "def go_to_home():\n",
    "    return redirect(url_for('home'))  # Redirects to the 'home' route\n"
   ]
  },
  {
   "cell_type": "code",
   "execution_count": null,
   "id": "9df6efeb-6119-4803-b126-ba3fce97acb9",
   "metadata": {},
   "outputs": [],
   "source": []
  },
  {
   "cell_type": "markdown",
   "id": "b6b3f0d3-92e5-4f69-ad23-760271af6694",
   "metadata": {},
   "source": [
    "## 10. How do you handle errors in flask?"
   ]
  },
  {
   "cell_type": "code",
   "execution_count": null,
   "id": "64c0e6b8-0995-43b9-ab2a-e63b734ec7cc",
   "metadata": {},
   "outputs": [],
   "source": [
    "from flask import Flask, jsonify\n",
    "\n",
    "app = Flask(__name__)\n",
    "\n",
    "@app.errorhandler(404)\n",
    "def not_found(error):\n",
    "    return jsonify({\"error\": \"Resource not found\"}), 404"
   ]
  },
  {
   "cell_type": "code",
   "execution_count": null,
   "id": "42112a4d-ddbe-42c1-abf0-8dce5ca91d87",
   "metadata": {},
   "outputs": [],
   "source": []
  },
  {
   "cell_type": "markdown",
   "id": "18dfcb30-cd3a-45e4-b49d-12c847aba172",
   "metadata": {},
   "source": [
    "## 11. How do you structure a flask app using blueprints?"
   ]
  },
  {
   "cell_type": "code",
   "execution_count": null,
   "id": "1a551448-2a4a-4f4b-978a-665b5366ab3b",
   "metadata": {},
   "outputs": [],
   "source": [
    "from flask import Flask\n",
    "from auth.routes import auth_bp  # Import your blueprint\n",
    "\n",
    "app = Flask(__name__)\n",
    "app.register_blueprint(auth_bp, url_prefix='/auth')  # Prefix all auth routes with /auth\n",
    "\n",
    "@app.route('/')\n",
    "def home():\n",
    "    return \"Home Page\"\n"
   ]
  },
  {
   "cell_type": "code",
   "execution_count": null,
   "id": "0a7930fd-67d3-4d77-8340-79765fbf4497",
   "metadata": {},
   "outputs": [],
   "source": []
  },
  {
   "cell_type": "markdown",
   "id": "9039024f-8ee9-45ae-ad91-332752a15361",
   "metadata": {},
   "source": [
    "## 12.how do you define a custom jinja filter in flask?\n"
   ]
  },
  {
   "cell_type": "code",
   "execution_count": null,
   "id": "8d1c9cec-4eb9-44b7-95b2-1844df9331a4",
   "metadata": {},
   "outputs": [],
   "source": [
    "from flask import Flask\n",
    "\n",
    "app = Flask(__name__)\n",
    "\n",
    "# Define the filter\n",
    "@app.template_filter('reverse')\n",
    "def reverse_filter(s):\n",
    "    return s[::-1]\n"
   ]
  },
  {
   "cell_type": "code",
   "execution_count": null,
   "id": "fa5f6831-03cc-49be-b25b-52a8df7cbb73",
   "metadata": {},
   "outputs": [],
   "source": []
  },
  {
   "cell_type": "markdown",
   "id": "e31b0c53-6852-4167-b277-c239cb9637ff",
   "metadata": {},
   "source": [
    "## 13. how can you redirect with query parameters in flask?"
   ]
  },
  {
   "cell_type": "code",
   "execution_count": null,
   "id": "b1f9a675-f288-4b28-a8b0-356e2eedf303",
   "metadata": {},
   "outputs": [],
   "source": [
    "from flask import Flask, redirect, url_for, request\n",
    "\n",
    "app = Flask(__name__)\n",
    "\n",
    "@app.route('/')\n",
    "def home():\n",
    "    return redirect(url_for('greet', name='Alice', age=25))\n",
    "\n",
    "@app.route('/greet')\n",
    "def greet():\n",
    "    name = request.args.get('name')\n",
    "    age = request.args.get('age')\n",
    "    return f\"Hello {name}, age {age}!\"\n"
   ]
  },
  {
   "cell_type": "code",
   "execution_count": null,
   "id": "6f8cfc48-da44-42cc-8e85-235e450659f2",
   "metadata": {},
   "outputs": [],
   "source": []
  },
  {
   "cell_type": "markdown",
   "id": "c95e1e40-ed2b-460a-b70b-97b0e085841f",
   "metadata": {},
   "source": [
    "## 14.how do you return JSON responses in flask?"
   ]
  },
  {
   "cell_type": "code",
   "execution_count": null,
   "id": "8fd82d15-4341-4600-9c22-3e76b633d6c8",
   "metadata": {},
   "outputs": [],
   "source": [
    "from flask import Flask, jsonify\n",
    "\n",
    "app = Flask(__name__)\n",
    "\n",
    "@app.route('/api/data')\n",
    "def get_data():\n",
    "    data = {'name': 'Alice', 'age': 25}\n",
    "    return jsonify(data)\n"
   ]
  },
  {
   "cell_type": "code",
   "execution_count": null,
   "id": "0c2d36a7-fd15-4954-9522-fc59e7974188",
   "metadata": {},
   "outputs": [],
   "source": []
  },
  {
   "cell_type": "markdown",
   "id": "ec9b36f8-3a8f-4bdd-beb4-d5f086c31e83",
   "metadata": {},
   "source": [
    "## 15. How do you capture URL parameters in flask?"
   ]
  },
  {
   "cell_type": "markdown",
   "id": "6f710448-5d5f-472e-85c4-47e8dfc39ad9",
   "metadata": {
    "tags": []
   },
   "source": [
    "### In Flask, you capture URL parameters by using angle brackets (< >) in the route and passing them as arguments to the view function."
   ]
  },
  {
   "cell_type": "code",
   "execution_count": null,
   "id": "3b656e1c-c6fd-42b1-8054-a492c19bcd64",
   "metadata": {},
   "outputs": [],
   "source": [
    "from flask import Flask\n",
    "\n",
    "app = Flask(__name__)\n",
    "\n",
    "@app.route('/user/<username>')\n",
    "def show_user(username):\n",
    "    return f\"Hello, {username}!\"\n"
   ]
  }
 ],
 "metadata": {
  "kernelspec": {
   "display_name": "Python 3 (ipykernel)",
   "language": "python",
   "name": "python3"
  },
  "language_info": {
   "codemirror_mode": {
    "name": "ipython",
    "version": 3
   },
   "file_extension": ".py",
   "mimetype": "text/x-python",
   "name": "python",
   "nbconvert_exporter": "python",
   "pygments_lexer": "ipython3",
   "version": "3.11.5"
  }
 },
 "nbformat": 4,
 "nbformat_minor": 5
}
