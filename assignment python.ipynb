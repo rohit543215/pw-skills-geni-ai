{
 "cells": [
  {
   "cell_type": "markdown",
   "id": "313002ea-8eaa-4d17-8fb4-55e4789907d1",
   "metadata": {},
   "source": [
    "# assignment on fucntions"
   ]
  },
  {
   "cell_type": "markdown",
   "id": "6269a1fd-4cc8-49c9-be41-f24754e39cdb",
   "metadata": {},
   "source": [
    "# theory questions"
   ]
  },
  {
   "cell_type": "markdown",
   "id": "cd2c8fe3-6e0d-4ced-837e-83ad78a20134",
   "metadata": {},
   "source": [
    "## 1.what is the difference between a fuctiion and a method."
   ]
  },
  {
   "cell_type": "markdown",
   "id": "97b8f56f-a713-405a-a707-6146f803c268",
   "metadata": {},
   "source": [
    "### 🔹 Function:\n",
    "A function is a block of code that performs a specific task. It can exist independently, not tied to any object or class.\n",
    "\n",
    "✅ Example:"
   ]
  },
  {
   "cell_type": "code",
   "execution_count": 1,
   "id": "f20e6953-2f24-4522-bf6d-99a82b57eeeb",
   "metadata": {
    "tags": []
   },
   "outputs": [
    {
     "name": "stdout",
     "output_type": "stream",
     "text": [
      "Hello, Alice\n"
     ]
    }
   ],
   "source": [
    "def greet(name):\n",
    "    return f\"Hello, {name}\"\n",
    "\n",
    "print(greet(\"Alice\"))\n"
   ]
  },
  {
   "cell_type": "markdown",
   "id": "54ded2b3-ee50-4fe4-9e39-e0faf988b5e2",
   "metadata": {},
   "source": [
    "### 🔹 Method:\n",
    "A method is a function that is associated with an object — it belongs to a class or a data type (like list, string, etc.).\n",
    "\n",
    "✅ Example:"
   ]
  },
  {
   "cell_type": "code",
   "execution_count": 2,
   "id": "d3a9148d-1ebb-4248-870e-732c16aa6a5c",
   "metadata": {
    "tags": []
   },
   "outputs": [
    {
     "name": "stdout",
     "output_type": "stream",
     "text": [
      "HELLO WORLD\n"
     ]
    }
   ],
   "source": [
    "text = \"hello world\"\n",
    "print(text.upper())  # using a string method\n"
   ]
  },
  {
   "cell_type": "markdown",
   "id": "50bb942c-7160-462e-82bc-abd2fd8b2e10",
   "metadata": {},
   "source": [
    "## 2. explain the concept of function arguments and parameters in python."
   ]
  },
  {
   "cell_type": "markdown",
   "id": "fa20ed67-b720-44e0-9d16-57378c883caf",
   "metadata": {},
   "source": [
    "### Parameter = The variable in the function definition."
   ]
  },
  {
   "cell_type": "markdown",
   "id": "a4ccb632-8088-461c-9787-c059a5615155",
   "metadata": {},
   "source": [
    "### Argument =The actual value passed to the function when calling it."
   ]
  },
  {
   "cell_type": "code",
   "execution_count": 3,
   "id": "128ad733-0f39-4bb1-a3ca-5f10dca9155b",
   "metadata": {
    "tags": []
   },
   "outputs": [
    {
     "name": "stdout",
     "output_type": "stream",
     "text": [
      "Hello, Alice\n"
     ]
    }
   ],
   "source": [
    "def greet(name):  # 'name' is a **parameter**\n",
    "    print(f\"Hello, {name}\")\n",
    "\n",
    "greet(\"Alice\")     # \"Alice\" is an **argument**\n"
   ]
  },
  {
   "cell_type": "markdown",
   "id": "19f1d47b-3bdc-4517-bfe7-64422fd26543",
   "metadata": {},
   "source": [
    "## 3. what are the different ways to define and call a function in python?"
   ]
  },
  {
   "cell_type": "markdown",
   "id": "57b46995-9eab-46a2-8a33-b92095ff9d9f",
   "metadata": {},
   "source": [
    "### 🔹 1. Standard Function Definition"
   ]
  },
  {
   "cell_type": "code",
   "execution_count": 4,
   "id": "cdd6c68a-aaee-4913-8199-f0ad1ecd8cfb",
   "metadata": {
    "tags": []
   },
   "outputs": [
    {
     "name": "stdout",
     "output_type": "stream",
     "text": [
      "Hello, Alice\n"
     ]
    }
   ],
   "source": [
    "def greet(name):\n",
    "    print(f\"Hello, {name}\")\n",
    "\n",
    "greet(\"Alice\")  # Call the function with an argument\n"
   ]
  },
  {
   "cell_type": "markdown",
   "id": "fedd1730-21c3-487f-8243-32ba5ac23b5a",
   "metadata": {},
   "source": [
    "### 🔹 2. Function with Default Arguments"
   ]
  },
  {
   "cell_type": "markdown",
   "id": "468ef7a9-608f-4554-b3f2-9f498a08cc04",
   "metadata": {},
   "source": [
    "#### If an argument is not provided, it uses the default value."
   ]
  },
  {
   "cell_type": "code",
   "execution_count": 5,
   "id": "4fc3409c-cb97-48c8-bc37-9d5e113678c4",
   "metadata": {
    "tags": []
   },
   "outputs": [
    {
     "name": "stdout",
     "output_type": "stream",
     "text": [
      "Hello, Guest\n",
      "Hello, John\n"
     ]
    }
   ],
   "source": [
    "def greet(name=\"Guest\"):\n",
    "    print(f\"Hello, {name}\")\n",
    "\n",
    "greet()          # Output: Hello, Guest\n",
    "greet(\"John\")    # Output: Hello, John\n"
   ]
  },
  {
   "cell_type": "markdown",
   "id": "f61f4b54-12df-4216-ab9f-9f3eb37101ed",
   "metadata": {},
   "source": [
    "### 🔹 3. Function with Variable-Length Arguments\n",
    "*args allows multiple positional arguments.\n",
    "\n",
    "**kwargs allows multiple keyword arguments."
   ]
  },
  {
   "cell_type": "code",
   "execution_count": 6,
   "id": "e1b0ffe7-aff8-4ad0-9af5-3095150dd651",
   "metadata": {
    "tags": []
   },
   "outputs": [
    {
     "name": "stdout",
     "output_type": "stream",
     "text": [
      "10\n",
      "{'name': 'Alice', 'age': 25}\n"
     ]
    }
   ],
   "source": [
    "def total(*numbers):\n",
    "    print(sum(numbers))\n",
    "\n",
    "total(1, 2, 3, 4)  # Output: 10\n",
    "\n",
    "def info(**details):\n",
    "    print(details)\n",
    "\n",
    "info(name=\"Alice\", age=25)  # Output: {'name': 'Alice', 'age': 25}\n"
   ]
  },
  {
   "cell_type": "markdown",
   "id": "ca739dd5-f6c3-4443-bcff-fdc4d503281a",
   "metadata": {},
   "source": [
    "### 🔹 4. Lambda (Anonymous) Function\n",
    "A short, inline function using the lambda keyword."
   ]
  },
  {
   "cell_type": "code",
   "execution_count": 7,
   "id": "c9fea9f8-01c6-4f3a-8c22-6405d595a2af",
   "metadata": {
    "tags": []
   },
   "outputs": [
    {
     "name": "stdout",
     "output_type": "stream",
     "text": [
      "8\n"
     ]
    }
   ],
   "source": [
    "add = lambda x, y: x + y\n",
    "print(add(5, 3))  # Output: 8\n",
    "\n"
   ]
  },
  {
   "cell_type": "markdown",
   "id": "b8565241-dca3-423a-a6fe-dcd078532e61",
   "metadata": {
    "tags": []
   },
   "source": [
    "### 🔹 5. Function Inside a Function (Nested Function)"
   ]
  },
  {
   "cell_type": "code",
   "execution_count": 9,
   "id": "32ca32ae-1cdc-4b9e-b177-5632078642db",
   "metadata": {
    "tags": []
   },
   "outputs": [
    {
     "name": "stdout",
     "output_type": "stream",
     "text": [
      "Inner function\n"
     ]
    }
   ],
   "source": [
    "def outer():\n",
    "    def inner():\n",
    "        print(\"Inner function\")\n",
    "    inner()\n",
    "\n",
    "outer()  # Output: Inner function\n"
   ]
  },
  {
   "cell_type": "markdown",
   "id": "ec37c8ab-aea5-4c42-a799-64beaedc9eb0",
   "metadata": {},
   "source": [
    "## 4. what is the purpose of the 'return' statement in python function?"
   ]
  },
  {
   "cell_type": "markdown",
   "id": "20044dfc-2162-4c79-bf28-8af5e34d100f",
   "metadata": {},
   "source": [
    "### 🔹 What is the return Statement in Python?\n",
    "✅ Definition:\n",
    "The return statement is used inside a function to:\n",
    "\n",
    "Send data (a value or result) back to the place where the function was called.\n",
    "\n",
    "End the function’s execution."
   ]
  },
  {
   "cell_type": "code",
   "execution_count": 10,
   "id": "c974ff03-d92f-4f7e-bba0-f33c3064daa3",
   "metadata": {
    "tags": []
   },
   "outputs": [
    {
     "name": "stdout",
     "output_type": "stream",
     "text": [
      "8\n"
     ]
    }
   ],
   "source": [
    "def add(a, b):\n",
    "    return a + b\n",
    "\n",
    "result = add(5, 3)\n",
    "print(result)  # Output: 8\n"
   ]
  },
  {
   "cell_type": "markdown",
   "id": "471e2161-9e5f-46cb-bfc5-26ed548c5aa4",
   "metadata": {},
   "source": [
    "## 5. what are iterators in python and how do they differ from iterables?"
   ]
  },
  {
   "cell_type": "markdown",
   "id": "9bdd5e83-37d5-408d-8c37-dc924fd52956",
   "metadata": {},
   "source": [
    "### 🧩 Iterables:\n",
    "An iterable is any object in Python that you can loop over.\n",
    "\n",
    "Examples: list, tuple, string, set, dict, etc.\n",
    "\n",
    "It must implement the __iter__() method (returns an iterator)."
   ]
  },
  {
   "cell_type": "code",
   "execution_count": 11,
   "id": "b7a8bacb-0d38-4e4d-bce4-9134fad0659b",
   "metadata": {
    "tags": []
   },
   "outputs": [
    {
     "name": "stdout",
     "output_type": "stream",
     "text": [
      "1\n",
      "2\n",
      "3\n"
     ]
    }
   ],
   "source": [
    "nums = [1, 2, 3]\n",
    "for num in nums:\n",
    "    print(num)  # nums is an iterable\n"
   ]
  },
  {
   "cell_type": "markdown",
   "id": "357c774d-940a-4054-95d7-14e5512a7913",
   "metadata": {},
   "source": [
    "### 🔁 Iterators:\n",
    "An iterator is an object that remembers its position during iteration.\n",
    "\n",
    "It implements both:\n",
    "\n",
    "__iter__() – returns the iterator object itself\n",
    "\n",
    "__next__() – returns the next value, and raises StopIteration when done."
   ]
  },
  {
   "cell_type": "code",
   "execution_count": 12,
   "id": "bd9f861c-3485-4f53-8401-cab9599d6496",
   "metadata": {
    "tags": []
   },
   "outputs": [
    {
     "name": "stdout",
     "output_type": "stream",
     "text": [
      "1\n",
      "2\n"
     ]
    }
   ],
   "source": [
    "nums = [1, 2, 3]\n",
    "it = iter(nums) \n",
    "\n",
    "print(next(it))  \n",
    "print(next(it))  \n"
   ]
  },
  {
   "cell_type": "markdown",
   "id": "3982785f-a06f-4f66-bea3-702845d64790",
   "metadata": {},
   "source": [
    "## 6. explain the concept of generators in python and how they are defined?"
   ]
  },
  {
   "cell_type": "markdown",
   "id": "ef50ba2b-f13d-431e-a134-6b08d8f3239f",
   "metadata": {},
   "source": [
    "### ✅ Definition:\n",
    "A generator is a special type of function that:\n",
    "\n",
    "Returns an iterator\n",
    "\n",
    "Uses the yield keyword instead of return\n",
    "\n",
    "Generates values one at a time, saving memory"
   ]
  },
  {
   "cell_type": "markdown",
   "id": "2f40dc3a-d618-4f5f-a19c-1cbc6f4ae3b6",
   "metadata": {},
   "source": [
    "### 🔧 How to Define a Generator\n",
    "### ✅ Using yield inside a function:"
   ]
  },
  {
   "cell_type": "code",
   "execution_count": 14,
   "id": "8e8bba8d-a7ad-4808-932e-c62907ea6cc0",
   "metadata": {
    "tags": []
   },
   "outputs": [
    {
     "name": "stdout",
     "output_type": "stream",
     "text": [
      "1\n",
      "2\n",
      "3\n"
     ]
    }
   ],
   "source": [
    "gen = count_up()     # Create the generator\n",
    "\n",
    "print(next(gen))     # Output: 1\n",
    "print(next(gen))     # Output: 2\n",
    "print(next(gen))     # Output: 3\n",
    "# next(gen) now would raise StopIteration\n"
   ]
  },
  {
   "cell_type": "markdown",
   "id": "f4b6e061-a60c-4e8d-bceb-d8df7516d705",
   "metadata": {},
   "source": [
    "## 7. what are the advantages of using generators over regular functions?"
   ]
  },
  {
   "cell_type": "markdown",
   "id": "47084e11-f2df-48f0-89a3-6135f2cd3e47",
   "metadata": {},
   "source": [
    "### ✅ 1. Memory Efficiency\n",
    "Generators don’t store all values in memory — they generate them one by one on the fly.\n",
    "\n",
    "🆚 Regular functions that return a list hold everything in memory, which can be a problem with large data."
   ]
  },
  {
   "cell_type": "markdown",
   "id": "dfabc457-f864-4c5b-abef-124e40f3dc23",
   "metadata": {},
   "source": [
    "### ✅ 2. Lazy Evaluation\n",
    "They produce values only when needed — nothing is computed until you ask for it."
   ]
  },
  {
   "cell_type": "code",
   "execution_count": 15,
   "id": "20e4cd89-e61e-46ab-8ae6-e668a3f4bb61",
   "metadata": {
    "tags": []
   },
   "outputs": [
    {
     "name": "stdout",
     "output_type": "stream",
     "text": [
      "0\n"
     ]
    }
   ],
   "source": [
    "gen = (x * 2 for x in range(100))  # Nothing is calculated yet\n",
    "print(next(gen))  # Now it gives 0 (x=0 * 2)\n"
   ]
  },
  {
   "cell_type": "markdown",
   "id": "3826e477-8fcb-47c5-837c-bd80611f19a3",
   "metadata": {},
   "source": [
    "### ✅ 3. Infinite Sequences\n",
    "You can generate endless data (like a stream of numbers) without crashing your program."
   ]
  },
  {
   "cell_type": "markdown",
   "id": "d5336629-8408-4308-9850-fc8a06592198",
   "metadata": {},
   "source": [
    "### ✅ 5. Improved Performance in Loops\n",
    "They’re often faster in loops because they avoid the overhead of building full lists."
   ]
  },
  {
   "cell_type": "markdown",
   "id": "335d387a-cfc9-4837-856f-cc0719a302fb",
   "metadata": {},
   "source": [
    "## 8. what is a lambda function in python and when it is typically used ?"
   ]
  },
  {
   "cell_type": "markdown",
   "id": "b8c85a1e-4dfd-4264-942a-b23ef7effdff",
   "metadata": {},
   "source": [
    "### ✅ Definition:\n",
    "A lambda function is a small anonymous function — meaning it has no name.\n",
    "\n",
    "It's used for quick, short operations, usually where defining a full function would feel unnecessary."
   ]
  },
  {
   "cell_type": "code",
   "execution_count": 17,
   "id": "219416a1-b7a7-4c37-97ef-94dd08b23065",
   "metadata": {
    "tags": []
   },
   "outputs": [
    {
     "name": "stdout",
     "output_type": "stream",
     "text": [
      "16\n"
     ]
    }
   ],
   "source": [
    "square=lambda x: x**2\n",
    "print(square(4))"
   ]
  },
  {
   "cell_type": "markdown",
   "id": "f2ccf66a-03c5-40c6-91b2-6578e10572a4",
   "metadata": {},
   "source": [
    "## 9. explain the purpose and uasge of the 'map()' function in python."
   ]
  },
  {
   "cell_type": "markdown",
   "id": "9433998e-eecf-4dda-bb52-9e26b5d7c098",
   "metadata": {},
   "source": [
    "### 🔹 What Is the Purpose of map() in Python?\n",
    "✅ Purpose:\n",
    "The map() function is used to apply a function to every item in a sequence (like a list or tuple) — and returns a new iterable (a map object)."
   ]
  },
  {
   "cell_type": "code",
   "execution_count": 18,
   "id": "a260b8e0-c5b1-4388-928f-a90d0b5e9b97",
   "metadata": {
    "tags": []
   },
   "outputs": [
    {
     "name": "stdout",
     "output_type": "stream",
     "text": [
      "[2, 4, 6, 8]\n"
     ]
    }
   ],
   "source": [
    "nums = [1, 2, 3, 4]\n",
    "result = list(map(lambda x: x * 2, nums))\n",
    "print(result)  # Output: [2, 4, 6, 8]\n"
   ]
  },
  {
   "cell_type": "markdown",
   "id": "11f2a543-ae1b-4c95-bac3-d79498994996",
   "metadata": {},
   "source": [
    "## 10.what is the difference between 'map()','reduce()' and 'filter()' functions in python?"
   ]
  },
  {
   "cell_type": "markdown",
   "id": "1bb03789-94b3-4100-be46-a3c68b8fced7",
   "metadata": {},
   "source": [
    "### 1️⃣ map() — Apply function to each element"
   ]
  },
  {
   "cell_type": "code",
   "execution_count": 19,
   "id": "ddedf832-a8e6-4f3e-b2bf-ae37602d0317",
   "metadata": {
    "tags": []
   },
   "outputs": [
    {
     "name": "stdout",
     "output_type": "stream",
     "text": [
      "[1, 4, 9]\n"
     ]
    }
   ],
   "source": [
    "nums = [1, 2, 3]\n",
    "squares = list(map(lambda x: x**2, nums))\n",
    "print(squares)  # [1, 4, 9]\n"
   ]
  },
  {
   "cell_type": "markdown",
   "id": "1c992c42-ec29-4f24-80f3-e2032fee9845",
   "metadata": {},
   "source": [
    "### 2️⃣ filter() — Keep only items where function is True"
   ]
  },
  {
   "cell_type": "code",
   "execution_count": 20,
   "id": "801ed25f-ffa8-4940-82bb-2cf2286e9259",
   "metadata": {
    "tags": []
   },
   "outputs": [
    {
     "name": "stdout",
     "output_type": "stream",
     "text": [
      "[2, 4]\n"
     ]
    }
   ],
   "source": [
    "nums = [1, 2, 3, 4, 5]\n",
    "evens = list(filter(lambda x: x % 2 == 0, nums))\n",
    "print(evens)  # [2, 4]\n"
   ]
  },
  {
   "cell_type": "markdown",
   "id": "1b49b2e2-a720-440f-b2b9-1af7c0e1ad2d",
   "metadata": {},
   "source": [
    "### 3️⃣ reduce() — Combine all elements into one"
   ]
  },
  {
   "cell_type": "code",
   "execution_count": 21,
   "id": "cecf4917-0b0a-4669-873e-2bc5385aeebf",
   "metadata": {
    "tags": []
   },
   "outputs": [
    {
     "name": "stdout",
     "output_type": "stream",
     "text": [
      "24\n"
     ]
    }
   ],
   "source": [
    "from functools import reduce\n",
    "nums = [1, 2, 3, 4]\n",
    "product = reduce(lambda x, y: x * y, nums)\n",
    "print(product)  # 24\n"
   ]
  },
  {
   "cell_type": "markdown",
   "id": "3f93357e-97f0-4f53-ba1c-e15b19c2de68",
   "metadata": {},
   "source": [
    "## 11. Using pen & Paper write the internal mechanism for sum operation using  reduce function on this given list:[47,11,42,13];"
   ]
  },
  {
   "cell_type": "code",
   "execution_count": null,
   "id": "990021f7-d9b0-4bee-bbc4-dca38dd3827c",
   "metadata": {},
   "outputs": [],
   "source": []
  },
  {
   "cell_type": "markdown",
   "id": "87e41b02-35eb-4314-85a3-56b071e539f4",
   "metadata": {},
   "source": [
    "# Practical Questions"
   ]
  },
  {
   "cell_type": "markdown",
   "id": "3fae8695-ce1b-4ecd-8954-10e59f66b9a2",
   "metadata": {},
   "source": [
    "## 1. write a python function that takes a list of numbers as input and returns the sum of all even numbers in the list."
   ]
  },
  {
   "cell_type": "code",
   "execution_count": 22,
   "id": "2d927963-8b00-48c1-8383-d9cf30f59703",
   "metadata": {
    "tags": []
   },
   "outputs": [
    {
     "name": "stdout",
     "output_type": "stream",
     "text": [
      "Sum of even numbers: 12\n"
     ]
    }
   ],
   "source": [
    "def sum_of_evens(numbers):\n",
    "    return sum(num for num in numbers if num % 2 == 0)\n",
    "nums = [1, 2, 3, 4, 5, 6]\n",
    "result = sum_of_evens(nums)\n",
    "print(\"Sum of even numbers:\", result)\n"
   ]
  },
  {
   "cell_type": "markdown",
   "id": "1af3214b-5204-49b5-9ba4-464d8a025f63",
   "metadata": {},
   "source": [
    "## 2. create a python function that accepts a string and returns the reverse of that string."
   ]
  },
  {
   "cell_type": "code",
   "execution_count": 26,
   "id": "a41d660c-7026-4fd0-9621-a582c38daa42",
   "metadata": {
    "tags": []
   },
   "outputs": [
    {
     "name": "stdout",
     "output_type": "stream",
     "text": [
      "o\n",
      "l\n",
      "l\n",
      "e\n",
      "H\n"
     ]
    }
   ],
   "source": [
    "str1 = \"Hello\"\n",
    "for i in str1[::-1]:   \n",
    "    print(i)\n"
   ]
  },
  {
   "cell_type": "markdown",
   "id": "0643527d-539c-40b3-98cd-a46a4c5f4f94",
   "metadata": {},
   "source": [
    "## 3.implement a python function that takes a list a integers and returns a new list containing the square of each number."
   ]
  },
  {
   "cell_type": "code",
   "execution_count": 27,
   "id": "34ee565f-0405-4e08-b695-4f93fff0a467",
   "metadata": {},
   "outputs": [
    {
     "name": "stdout",
     "output_type": "stream",
     "text": [
      "Squared numbers: [4, 16, 36, 64]\n"
     ]
    }
   ],
   "source": [
    "def square_numbers(numbers):\n",
    "    return [num ** 2 for num in numbers]\n",
    "nums = [2, 4, 6, 8]\n",
    "result = square_numbers(nums)\n",
    "print(\"Squared numbers:\", result)\n"
   ]
  },
  {
   "cell_type": "markdown",
   "id": "4cb851e4-ee7d-4e8f-a3b5-6e82959c7b17",
   "metadata": {},
   "source": [
    "## 4. write a python function that checks if a given number is prime or not between 1 to 200."
   ]
  },
  {
   "cell_type": "code",
   "execution_count": 28,
   "id": "e84e4d9d-14d6-4620-ba60-154224e992af",
   "metadata": {
    "tags": []
   },
   "outputs": [],
   "source": [
    "def is_prime(n):\n",
    "    if n < 2 or n > 200:\n",
    "        return False  # Out of allowed range or not prime\n",
    "    for i in range(2, int(n**0.5) + 1):\n",
    "        if n % i == 0:\n",
    "            return False\n",
    "    return True\n"
   ]
  },
  {
   "cell_type": "code",
   "execution_count": 29,
   "id": "7a9f6476-4223-4bb2-9c5b-eddbbf14940a",
   "metadata": {
    "tags": []
   },
   "outputs": [
    {
     "name": "stdin",
     "output_type": "stream",
     "text": [
      "Enter a number between 1 and 200:  105\n"
     ]
    },
    {
     "name": "stdout",
     "output_type": "stream",
     "text": [
      "105 is not a prime number.\n"
     ]
    }
   ],
   "source": [
    "num = int(input(\"Enter a number between 1 and 200: \"))\n",
    "\n",
    "if is_prime(num):\n",
    "    print(f\"{num} is a prime number.\")\n",
    "else:\n",
    "    print(f\"{num} is not a prime number.\")\n"
   ]
  },
  {
   "cell_type": "markdown",
   "id": "fada5c87-bcde-491b-80e4-deb6fee79a10",
   "metadata": {},
   "source": [
    "## 5. Create an iterator class in Python that generates the Fibonacci sequence up to a specified number of terms."
   ]
  },
  {
   "cell_type": "code",
   "execution_count": 30,
   "id": "e63b3bf0-3179-4e52-9f50-fab707d46fa5",
   "metadata": {
    "tags": []
   },
   "outputs": [],
   "source": [
    "class FibonacciIterator:\n",
    "    def __init__(self, max_terms):\n",
    "        self.max_terms = max_terms\n",
    "        self.count = 0\n",
    "        self.a = 0\n",
    "        self.b = 1\n",
    "\n",
    "    def __iter__(self):\n",
    "        return self\n",
    "\n",
    "    def __next__(self):\n",
    "        if self.count >= self.max_terms:\n",
    "            raise StopIteration\n",
    "        if self.count == 0:\n",
    "            self.count += 1\n",
    "            return 0\n",
    "        elif self.count == 1:\n",
    "            self.count += 1\n",
    "            return 1\n",
    "        else:\n",
    "            self.count += 1\n",
    "            self.a, self.b = self.b, self.a + self.b\n",
    "            return self.b\n"
   ]
  },
  {
   "cell_type": "code",
   "execution_count": 31,
   "id": "ac8cdabb-c468-4dc8-bb6e-936207363016",
   "metadata": {
    "tags": []
   },
   "outputs": [
    {
     "name": "stdout",
     "output_type": "stream",
     "text": [
      "0\n",
      "1\n",
      "1\n",
      "2\n",
      "3\n",
      "5\n",
      "8\n",
      "13\n",
      "21\n",
      "34\n"
     ]
    }
   ],
   "source": [
    "fib = FibonacciIterator(10)  # Generate first 10 Fibonacci numbers\n",
    "\n",
    "for num in fib:\n",
    "    print(num)\n"
   ]
  },
  {
   "cell_type": "markdown",
   "id": "cc4a6e96-a049-4df6-91f1-fc04b7dc6a15",
   "metadata": {},
   "source": [
    "## 6. Write a generator function in Python that yields the powers of 2 up to a given exponent."
   ]
  },
  {
   "cell_type": "code",
   "execution_count": 32,
   "id": "9a9cd2db-770a-44d1-8cfd-fd69d8a7bf86",
   "metadata": {
    "tags": []
   },
   "outputs": [],
   "source": [
    "def powers_of_two(max_exponent):\n",
    "    for exp in range(max_exponent + 1):\n",
    "        yield 2 ** exp\n"
   ]
  },
  {
   "cell_type": "code",
   "execution_count": 33,
   "id": "6657b4fa-e223-47a5-8e95-caf544ec6d4e",
   "metadata": {
    "tags": []
   },
   "outputs": [
    {
     "name": "stdout",
     "output_type": "stream",
     "text": [
      "1\n",
      "2\n",
      "4\n",
      "8\n",
      "16\n",
      "32\n"
     ]
    }
   ],
   "source": [
    "for power in powers_of_two(5):\n",
    "    print(power)\n"
   ]
  },
  {
   "cell_type": "markdown",
   "id": "3fa32f00-aa13-4b16-8efa-f2ca3a732f40",
   "metadata": {},
   "source": [
    "## 7. Implement a generator function that reads a file line by line and yields each line as a string."
   ]
  },
  {
   "cell_type": "code",
   "execution_count": 34,
   "id": "70f7ab68-7ee8-4660-a875-33aa98916ddf",
   "metadata": {
    "tags": []
   },
   "outputs": [],
   "source": [
    "def read_file_lines(filename):\n",
    "    with open(filename, 'r') as file:\n",
    "        for line in file:\n",
    "            yield line.strip()  # strip() removes newline characters\n"
   ]
  },
  {
   "cell_type": "markdown",
   "id": "1a98d0bd-35e7-4f83-a627-5c8ab88d4152",
   "metadata": {
    "tags": []
   },
   "source": [
    "## 8. Use a lambda function in Python to sort a list of tuples based on the second element of each tuple."
   ]
  },
  {
   "cell_type": "code",
   "execution_count": 38,
   "id": "d8016d35-d009-4bb9-af1d-7d2e91c8cfd1",
   "metadata": {
    "tags": []
   },
   "outputs": [
    {
     "name": "stdout",
     "output_type": "stream",
     "text": [
      "Sorted list: [(3, 1), (2, 3), (1, 5), (4, 7)]\n"
     ]
    }
   ],
   "source": [
    "data = [(1, 5), (3, 1), (4, 7), (2, 3)]\n",
    "\n",
    "# Sort using lambda\n",
    "sorted_data = sorted(data, key=lambda x: x[1])\n",
    "\n",
    "print(\"Sorted list:\", sorted_data)\n"
   ]
  },
  {
   "cell_type": "markdown",
   "id": "3791bad2-5262-40de-ae16-2a46f7bfbc3b",
   "metadata": {},
   "source": [
    "## 9. Write a Python program that uses `map()` to convert a list of temperatures from Celsius to Fahrenheit."
   ]
  },
  {
   "cell_type": "code",
   "execution_count": 39,
   "id": "66484d5b-4d05-457a-9596-b9acd9bce69a",
   "metadata": {
    "tags": []
   },
   "outputs": [
    {
     "name": "stdout",
     "output_type": "stream",
     "text": [
      "Fahrenheit temperatures: [32.0, 68.0, 98.6, 212.0]\n"
     ]
    }
   ],
   "source": [
    "# List of temperatures in Celsius\n",
    "celsius = [0, 20, 37, 100]\n",
    "\n",
    "# Convert to Fahrenheit using map and lambda\n",
    "fahrenheit = list(map(lambda c: (c * 9/5) + 32, celsius))\n",
    "\n",
    "print(\"Fahrenheit temperatures:\", fahrenheit)\n"
   ]
  },
  {
   "cell_type": "markdown",
   "id": "ddeb1ffe-b880-4169-ab34-a965795986d0",
   "metadata": {},
   "source": [
    "## 10. Create a Python program that uses `filter()` to remove all the vowels from a given string."
   ]
  },
  {
   "cell_type": "code",
   "execution_count": 40,
   "id": "a9a104cb-bc87-419f-b94d-39be192088d1",
   "metadata": {
    "tags": []
   },
   "outputs": [
    {
     "name": "stdout",
     "output_type": "stream",
     "text": [
      "String without vowels: Dt Scnc nd rtfcl ntllgnc\n"
     ]
    }
   ],
   "source": [
    "def remove_vowels(input_str):\n",
    "    vowels = 'aeiouAEIOU'\n",
    "    return ''.join(filter(lambda ch: ch not in vowels, input_str))\n",
    "\n",
    "# Example usage\n",
    "text = \"Data Science and Artificial Intelligence\"\n",
    "result = remove_vowels(text)\n",
    "\n",
    "print(\"String without vowels:\", result)\n"
   ]
  },
  {
   "cell_type": "markdown",
   "id": "27a24e8b-d340-408c-aa7b-ab3e29240c37",
   "metadata": {},
   "source": [
    "## 11) Imagine an accounting routine used in a book shop. It works on a list with sublists, which look like this:"
   ]
  },
  {
   "cell_type": "code",
   "execution_count": 41,
   "id": "7fad3f25-4a41-4615-9067-c9b194e0410c",
   "metadata": {
    "tags": []
   },
   "outputs": [
    {
     "name": "stdout",
     "output_type": "stream",
     "text": [
      "Order #34587 => Total: $163.8\n",
      "Order #98762 => Total: $284.0\n",
      "Order #77226 => Total: $98.85\n",
      "Order #88112 => Total: $74.97\n"
     ]
    }
   ],
   "source": [
    "orders = [\n",
    "    [34587, \"Learning Python, Mark Lutz\", 4, 40.95],\n",
    "    [98762, \"Programming Python, Mark Lutz\", 5, 56.80],\n",
    "    [77226, \"Head First Python, Paul Barry\", 3, 32.95],\n",
    "    [88112, \"Einführung in Python3, Bernd Klein\", 3, 24.99]\n",
    "]\n",
    "\n",
    "# Each order is processed to get total cost (quantity * price)\n",
    "invoice_totals = list(map(lambda order: [order[0], round(order[2] * order[3], 2)], orders))\n",
    "\n",
    "# Output\n",
    "for invoice in invoice_totals:\n",
    "    print(f\"Order #{invoice[0]} => Total: ${invoice[1]}\")\n"
   ]
  },
  {
   "cell_type": "code",
   "execution_count": null,
   "id": "a3487a80-7509-4b4e-aea0-6358adebf8cb",
   "metadata": {},
   "outputs": [],
   "source": []
  }
 ],
 "metadata": {
  "kernelspec": {
   "display_name": "Python 3 (ipykernel)",
   "language": "python",
   "name": "python3"
  },
  "language_info": {
   "codemirror_mode": {
    "name": "ipython",
    "version": 3
   },
   "file_extension": ".py",
   "mimetype": "text/x-python",
   "name": "python",
   "nbconvert_exporter": "python",
   "pygments_lexer": "ipython3",
   "version": "3.11.5"
  }
 },
 "nbformat": 4,
 "nbformat_minor": 5
}
