{
 "cells": [
  {
   "cell_type": "markdown",
   "id": "ab186544-441f-4e11-816f-ee0dff1dd6db",
   "metadata": {},
   "source": [
    "# Files,exceptional handling,lodding and memory managaement questions."
   ]
  },
  {
   "cell_type": "markdown",
   "id": "68cfd461-5dc2-4827-a2fb-b850c221a0a9",
   "metadata": {},
   "source": [
    "## 1.What is the difference between interpreted and compiled languages?"
   ]
  },
  {
   "cell_type": "markdown",
   "id": "07e2499b-5d07-4fd5-98e9-34ce18f14975",
   "metadata": {},
   "source": [
    "### 🔤 Interpreted Languages:\n",
    "The code is read and executed line-by-line by an interpreter.\n",
    "\n",
    "No separate compilation step.\n",
    "\n",
    "Easier to test and debug.\n",
    "\n",
    "Generally slower because translation happens during execution.\n",
    "\n",
    "Examples: Python, JavaScript, Ruby"
   ]
  },
  {
   "cell_type": "markdown",
   "id": "9eea2dc1-b065-489f-b40c-720a29d81a26",
   "metadata": {},
   "source": [
    "### ⚙️ Compiled Languages:\n",
    "The code is translated into machine code (binary) by a compiler before running.\n",
    "\n",
    "Once compiled, the program runs faster.\n",
    "\n",
    "Harder to debug since you deal with compiled files.\n",
    "\n",
    "Examples: C, C++, Rust"
   ]
  },
  {
   "cell_type": "markdown",
   "id": "a26965e5-31f2-47bf-b012-c0c69d9f508f",
   "metadata": {},
   "source": [
    "## 2. What is exception handling in python?"
   ]
  },
  {
   "cell_type": "markdown",
   "id": "59e69c88-be59-4405-b903-6aa1b0624b53",
   "metadata": {},
   "source": [
    "### ⚠️ What is Exception Handling in Python?\n",
    "Exception handling in Python is the process of managing errors that occur during program execution, so your program doesn’t crash unexpectedly."
   ]
  },
  {
   "cell_type": "code",
   "execution_count": 1,
   "id": "33d40f83-55bb-4c32-9f9d-ba90135ac392",
   "metadata": {
    "tags": []
   },
   "outputs": [
    {
     "name": "stdout",
     "output_type": "stream",
     "text": [
      "Cannot divide by zero.\n",
      "Done.\n"
     ]
    }
   ],
   "source": [
    "try:\n",
    "    # Code that might cause an error\n",
    "    x = 10 / 0\n",
    "except ZeroDivisionError:\n",
    "    # Code that runs if there's a ZeroDivisionError\n",
    "    print(\"Cannot divide by zero.\")\n",
    "finally:\n",
    "    # Code that always runs (optional)\n",
    "    print(\"Done.\")\n"
   ]
  },
  {
   "cell_type": "markdown",
   "id": "97beaf04-e0ee-4ad8-a902-0aa9335b7417",
   "metadata": {},
   "source": [
    "## 3. What is the purpose of the finally block in exception handling?"
   ]
  },
  {
   "cell_type": "markdown",
   "id": "2f8afa59-fe73-4c9e-a84b-24245b516d34",
   "metadata": {},
   "source": [
    "### The finally block is used to ensure that certain code runs no matter what — whether an exception is raised, handled, or not raised at all."
   ]
  },
  {
   "cell_type": "code",
   "execution_count": 5,
   "id": "c3a19539-26ce-434d-ad95-06264c0a251c",
   "metadata": {
    "tags": []
   },
   "outputs": [
    {
     "name": "stdout",
     "output_type": "stream",
     "text": [
      "File not found\n",
      "File closed\n"
     ]
    }
   ],
   "source": [
    "file = None\n",
    "try:\n",
    "    file = open(\"data.txt\", \"r\")\n",
    "    data = file.read()\n",
    "except FileNotFoundError:\n",
    "    print(\"File not found\")\n",
    "finally:\n",
    "    if file:\n",
    "        file.close()\n",
    "    print(\"File closed\")\n"
   ]
  },
  {
   "cell_type": "markdown",
   "id": "ae0a0f2a-06d2-4565-a0f7-245efa0843ee",
   "metadata": {},
   "source": [
    "## 4. What is logging in python?"
   ]
  },
  {
   "cell_type": "markdown",
   "id": "e7ae32d6-9139-4f3f-94af-3c2109ad1d90",
   "metadata": {},
   "source": [
    "### In Python, logging is a way of tracking events that happen while software runs. It is used for debugging and monitoring purposes, helping developers understand the flow of execution and diagnose issues."
   ]
  },
  {
   "cell_type": "code",
   "execution_count": 8,
   "id": "3be4efd0-4680-4588-92c5-5c39a89292ef",
   "metadata": {
    "tags": []
   },
   "outputs": [
    {
     "name": "stderr",
     "output_type": "stream",
     "text": [
      "DEBUG:root:this is a debug message\n",
      "INFO:root:this is an info message\n",
      "WARNING:root:this is an warning message\n",
      "ERROR:root:this is an error message\n",
      "CRITICAL:root:this is a critical message\n"
     ]
    }
   ],
   "source": [
    "import logging\n",
    "\n",
    "logging.basicConfig(level=logging.DEBUG)\n",
    "\n",
    "logging.debug(\"this is a debug message\")\n",
    "logging.info(\"this is an info message\")\n",
    "logging.warning(\"this is an warning message\")\n",
    "logging.error(\"this is an error message\")\n",
    "logging.critical(\"this is a critical message\")"
   ]
  },
  {
   "cell_type": "markdown",
   "id": "88576cc3-f1c8-4db1-bce9-d046a95adb84",
   "metadata": {},
   "source": [
    "## Example"
   ]
  },
  {
   "cell_type": "code",
   "execution_count": 9,
   "id": "288e1652-eb88-45e7-818b-d1492a12d20e",
   "metadata": {
    "tags": []
   },
   "outputs": [
    {
     "name": "stderr",
     "output_type": "stream",
     "text": [
      "DEBUG:root:Debug message\n",
      "INFO:root:Info message\n",
      "WARNING:root:Warning message\n",
      "ERROR:root:Error message\n",
      "CRITICAL:root:Critical message\n"
     ]
    }
   ],
   "source": [
    "import logging\n",
    "\n",
    "# Set up logging to write to a file\n",
    "logging.basicConfig(filename='app.log', level=logging.DEBUG)\n",
    "\n",
    "logging.debug(\"Debug message\")\n",
    "logging.info(\"Info message\")\n",
    "logging.warning(\"Warning message\")\n",
    "logging.error(\"Error message\")\n",
    "logging.critical(\"Critical message\")\n"
   ]
  },
  {
   "cell_type": "markdown",
   "id": "fabec1e6-887b-4a1d-b3e6-3eee2c5598ef",
   "metadata": {
    "tags": []
   },
   "source": [
    "## 5.what is the significance of the \"__del__\" method in python?"
   ]
  },
  {
   "cell_type": "markdown",
   "id": "91d5b220-f5fd-4787-a860-037c982e7018",
   "metadata": {},
   "source": [
    "### The __del__ method in Python is known as the destructor. It is called automatically when an object is about to be destroyed — typically when there are no more references to the object."
   ]
  },
  {
   "cell_type": "code",
   "execution_count": 13,
   "id": "0b3c3e31-00f9-4ae3-ac31-60bf0d58e218",
   "metadata": {
    "tags": []
   },
   "outputs": [
    {
     "name": "stdout",
     "output_type": "stream",
     "text": [
      "file opened\n",
      "file closed\n"
     ]
    }
   ],
   "source": [
    "class FileHandler:\n",
    "    def __init__(self,filename):\n",
    "        self.file=open(filename,\"w\")\n",
    "        print(\"file opened\")\n",
    "        \n",
    "    def __del__(self):\n",
    "        self.file.close()\n",
    "        print(\"file closed\")\n",
    "        \n",
    "handler=FileHandler(\"test.txt\")\n",
    "del handler"
   ]
  },
  {
   "cell_type": "markdown",
   "id": "a6366284-0cb3-4fad-b265-0b1e9b9da243",
   "metadata": {},
   "source": [
    "## 6. What is the difference between import and from ... import in python?"
   ]
  },
  {
   "cell_type": "markdown",
   "id": "1ddbd54f-ee95-43dd-911e-5236fdbfebc8",
   "metadata": {},
   "source": [
    "### 1. import module\n",
    "Imports the entire module.\n",
    "\n",
    "You access functions or variables with the module name as a prefix."
   ]
  },
  {
   "cell_type": "code",
   "execution_count": 14,
   "id": "124bb59c-6d07-4028-8423-74aece87ed04",
   "metadata": {
    "tags": []
   },
   "outputs": [
    {
     "name": "stdout",
     "output_type": "stream",
     "text": [
      "4.0\n"
     ]
    }
   ],
   "source": [
    "import math\n",
    "\n",
    "print(math.sqrt(16))  "
   ]
  },
  {
   "cell_type": "markdown",
   "id": "b0b84dd4-76a5-4667-a807-106984c5197d",
   "metadata": {},
   "source": [
    "### 2. from module import name\n",
    "Imports only the specific name (function, class, variable) from the module.\n",
    "\n",
    "You can use it directly without the module prefix."
   ]
  },
  {
   "cell_type": "code",
   "execution_count": 15,
   "id": "596af1c1-579d-4912-9750-53215897b2cc",
   "metadata": {
    "tags": []
   },
   "outputs": [
    {
     "name": "stdout",
     "output_type": "stream",
     "text": [
      "4.0\n"
     ]
    }
   ],
   "source": [
    "from math import sqrt\n",
    "\n",
    "print(sqrt(16))  \n"
   ]
  },
  {
   "cell_type": "markdown",
   "id": "571c12a5-0267-4f63-8701-32c25b6f9d17",
   "metadata": {},
   "source": [
    "## 7. How can you handle multiple exceptions in python?"
   ]
  },
  {
   "cell_type": "markdown",
   "id": "608eda92-7adf-4549-9f2a-51dd1a52d8c0",
   "metadata": {},
   "source": [
    "### ✅ 1. Multiple except blocks (recommended)"
   ]
  },
  {
   "cell_type": "code",
   "execution_count": 16,
   "id": "938bb775-7abb-4d8c-9e77-955ad9c2f6f9",
   "metadata": {
    "tags": []
   },
   "outputs": [
    {
     "name": "stdout",
     "output_type": "stream",
     "text": [
      "Handled ValueError\n"
     ]
    }
   ],
   "source": [
    "try:\n",
    "    # some risky code\n",
    "    x = int(\"abc\")  # ValueError\n",
    "except ValueError:\n",
    "    print(\"Handled ValueError\")\n",
    "except ZeroDivisionError:\n",
    "    print(\"Handled ZeroDivisionError\")\n"
   ]
  },
  {
   "cell_type": "markdown",
   "id": "5826c3e6-4dd1-4a23-aa15-e919da206b1f",
   "metadata": {},
   "source": [
    "## 8. What is the purpose of the with statement when handling files in python?"
   ]
  },
  {
   "cell_type": "markdown",
   "id": "2133515d-9ff7-4dbb-8521-cf298ece10b7",
   "metadata": {},
   "source": [
    "### The with statement in Python is used to simplify file handling by ensuring that resources like files are properly opened and closed, even if an error occurs during processing."
   ]
  },
  {
   "cell_type": "code",
   "execution_count": 18,
   "id": "97fe44fa-6aa1-4e60-9002-b5d79bc651e2",
   "metadata": {
    "tags": []
   },
   "outputs": [],
   "source": [
    "with open(\"data.txt\", \"r\") as file:\n",
    "    data = file.read()\n"
   ]
  },
  {
   "cell_type": "markdown",
   "id": "18ac6044-63ff-45a9-b43b-4ef8f340a8f5",
   "metadata": {},
   "source": [
    "## 9.What is the difference between multithreading and multiprocessing?"
   ]
  },
  {
   "cell_type": "markdown",
   "id": "443b8672-5c1d-4bb1-a781-9b37943c6e77",
   "metadata": {},
   "source": [
    "### 🧵 Multithreading\n",
    "Involves running multiple threads (lightweight units) within the same process.\n",
    "\n",
    "Threads share the same memory space.\n",
    "\n",
    "Best for I/O-bound tasks (like file handling, web requests) where the program waits for external events.\n",
    "\n",
    "✅ Pros:\n",
    "Low memory usage (since threads share memory).\n",
    "\n",
    "Lightweight and faster thread creation.\n",
    "\n",
    "❌ Cons:\n",
    "Limited by the Global Interpreter Lock (GIL) in CPython, so not ideal for CPU-heavy tasks.\n",
    "\n",
    "Example:"
   ]
  },
  {
   "cell_type": "code",
   "execution_count": 20,
   "id": "e8b802d9-720f-4969-9f10-893dd6acc459",
   "metadata": {
    "tags": []
   },
   "outputs": [
    {
     "name": "stdout",
     "output_type": "stream",
     "text": [
      "running in a thread\n"
     ]
    }
   ],
   "source": [
    "import threading \n",
    "def task():\n",
    "        print(\"running in a thread\")\n",
    "        \n",
    "thread=threading.Thread(target=task)\n",
    "thread.start()"
   ]
  },
  {
   "cell_type": "markdown",
   "id": "3ddc3457-4428-4143-8fdc-f09aa8f3e3a4",
   "metadata": {},
   "source": [
    "🔁 Multiprocessing\n",
    "Involves running multiple processes, each with its own memory space and Python interpreter.\n",
    "\n",
    "Best for CPU-bound tasks (like heavy calculations, data processing).\n",
    "\n",
    "✅ Pros:\n",
    "Bypasses the GIL, so it can fully utilize multiple CPU cores.\n",
    "\n",
    "True parallelism.\n",
    "\n",
    "❌ Cons:\n",
    "Higher memory usage.\n",
    "\n",
    "Slower to start due to process overhead.\n",
    "\n",
    "📌 Example:"
   ]
  },
  {
   "cell_type": "code",
   "execution_count": 25,
   "id": "dc8a15f9-fcf0-43f4-bf54-ee8954b8cd76",
   "metadata": {
    "tags": []
   },
   "outputs": [],
   "source": [
    "import multiprocessing\n",
    "\n",
    "def task():\n",
    "    print(\"Running in a process\")\n",
    "\n",
    "process = multiprocessing.Process(target=task)\n",
    "process.start()\n"
   ]
  },
  {
   "cell_type": "markdown",
   "id": "d3f21866-1154-489d-8508-a18752651eb1",
   "metadata": {},
   "source": [
    "## 10. What are the purpose advantages of using logging in a program?"
   ]
  },
  {
   "cell_type": "markdown",
   "id": "6e6aeae5-bd4d-403c-ac99-f13f288f2d67",
   "metadata": {},
   "source": [
    "### Logging is used to track events, debug issues, and monitor applications without using print statements. It supports different levels (DEBUG, INFO, WARNING, ERROR, CRITICAL), writes logs to files, includes timestamps, and is better for production use than print()."
   ]
  },
  {
   "cell_type": "code",
   "execution_count": 26,
   "id": "3dda1516-8a5d-4899-8d7c-6b05e917491d",
   "metadata": {
    "tags": []
   },
   "outputs": [
    {
     "name": "stderr",
     "output_type": "stream",
     "text": [
      "DEBUG:root:This is a debug message\n",
      "INFO:root:Starting the program\n",
      "WARNING:root:Something might be wrong\n",
      "ERROR:root:An error occurred\n",
      "CRITICAL:root:Critical failure!\n"
     ]
    }
   ],
   "source": [
    "import logging\n",
    "\n",
    "logging.basicConfig(level=logging.INFO, filename='app.log', format='%(asctime)s - %(levelname)s - %(message)s')\n",
    "\n",
    "logging.debug(\"This is a debug message\")   \n",
    "logging.info(\"Starting the program\")\n",
    "logging.warning(\"Something might be wrong\")\n",
    "logging.error(\"An error occurred\")\n",
    "logging.critical(\"Critical failure!\")\n"
   ]
  },
  {
   "cell_type": "markdown",
   "id": "a5ca7f7d-89a1-43de-919d-fdf5a94800cc",
   "metadata": {},
   "source": [
    "## 11. What is memory management in python?"
   ]
  },
  {
   "cell_type": "markdown",
   "id": "a3b27dae-db52-4e43-90fc-3d7f1115a7ba",
   "metadata": {},
   "source": [
    "### Memory management in Python is the process by which Python handles the allocation and deallocation of memory to objects during program execution."
   ]
  },
  {
   "cell_type": "markdown",
   "id": "6c46a452-d73b-4ccf-9373-a8ebe36c1085",
   "metadata": {},
   "source": [
    "### 🔑 Key Features:\n",
    "Automatic Garbage Collection: Unused memory is freed automatically using a garbage collector.\n",
    "\n",
    "Reference Counting: Each object keeps track of how many references point to it; when the count hits zero, memory is freed.\n",
    "\n",
    "Dynamic Typing: Memory is allocated dynamically based on the object type and size at runtime.\n",
    "\n",
    "Private Heap Space: All Python objects and data structures are stored in a private heap, inaccessible directly by the programmer."
   ]
  },
  {
   "cell_type": "markdown",
   "id": "5cf8c72f-9f95-422c-8069-5e1536a0919c",
   "metadata": {},
   "source": [
    "## 12. What are the basic steps involved in exception handling in python?"
   ]
  },
  {
   "cell_type": "markdown",
   "id": "6ba7ea73-e31e-4ca6-b91d-4342e733363d",
   "metadata": {},
   "source": [
    "### The basic steps involved in exception handling in Python are:\n",
    "Try Block:\n",
    "\n",
    "Write the code that might raise an exception inside the try block.\n",
    "\n",
    "Except Block:\n",
    "\n",
    "Handle specific exceptions using one or more except blocks. You can specify the type of exception to catch.\n",
    "\n",
    "Else Block (optional):\n",
    "\n",
    "Code that runs only if no exception was raised in the try block.\n",
    "\n",
    "Finally Block (optional):\n",
    "\n",
    "Code that runs no matter what, whether an exception occurred or not (often used for cleanup)."
   ]
  },
  {
   "cell_type": "code",
   "execution_count": 27,
   "id": "cc247d08-ecce-42a9-8db1-910b78ecf8e6",
   "metadata": {
    "tags": []
   },
   "outputs": [
    {
     "name": "stdout",
     "output_type": "stream",
     "text": [
      "Cannot divide by zero\n",
      "Cleanup done\n"
     ]
    }
   ],
   "source": [
    "try:\n",
    "    x = 10 / 0\n",
    "except ZeroDivisionError:\n",
    "    print(\"Cannot divide by zero\")\n",
    "else:\n",
    "    print(\"Division successful\")\n",
    "finally:\n",
    "    print(\"Cleanup done\")\n"
   ]
  },
  {
   "cell_type": "markdown",
   "id": "44f9fbfa-2dcb-4cc2-ad59-86ae466d2e73",
   "metadata": {},
   "source": [
    "## 13. Why is memory managament important important in python?"
   ]
  },
  {
   "cell_type": "markdown",
   "id": "cd89b216-c5dd-4fef-8af1-167117c014ae",
   "metadata": {},
   "source": [
    "### Memory management in Python is crucial for several reasons:\n",
    "\n",
    "Efficient Resource Use:\n",
    "Proper memory management ensures that the system uses memory efficiently, preventing excessive memory consumption and improving performance.\n",
    "\n",
    "Automatic Cleanup:\n",
    "Python uses automatic garbage collection to free unused memory, reducing the need for manual memory management and minimizing memory leaks.\n",
    "\n",
    "Program Stability:\n",
    "Efficient memory handling prevents the program from consuming all available memory, which could cause crashes or slowdowns.\n",
    "\n",
    "Performance Optimization:\n",
    "Memory management techniques like reference counting and garbage collection help optimize the program’s execution time and resource usage."
   ]
  },
  {
   "cell_type": "markdown",
   "id": "25b0e76b-78b9-4d9c-bbc7-9f831242532c",
   "metadata": {},
   "source": [
    "## 14.What is the role of try and except in exception handling?"
   ]
  },
  {
   "cell_type": "markdown",
   "id": "154e968e-43d0-4263-b097-2fa5fec20def",
   "metadata": {},
   "source": [
    "### 1. try Block:\n",
    "The try block contains the code that might raise an exception.\n",
    "\n",
    "If an exception occurs, the rest of the code in the try block is skipped, and the control is transferred to the except block."
   ]
  },
  {
   "cell_type": "markdown",
   "id": "5f5bf4ad-b973-4dc9-906c-d1e4e5bbcdb2",
   "metadata": {
    "tags": []
   },
   "source": [
    "### 2. except Block:\n",
    "The except block contains code that handles specific exceptions.\n",
    "\n",
    "If an exception occurs in the try block, the corresponding except block is executed, allowing the program to handle the error gracefully."
   ]
  },
  {
   "cell_type": "code",
   "execution_count": 29,
   "id": "23d5b9ff-829e-4b42-bbab-f73915e0ff69",
   "metadata": {
    "tags": []
   },
   "outputs": [
    {
     "name": "stdout",
     "output_type": "stream",
     "text": [
      "Cannot divide by zero!\n"
     ]
    }
   ],
   "source": [
    "try:\n",
    "    x = 10 / 0  # This will raise a ZeroDivisionError\n",
    "except ZeroDivisionError:\n",
    "    print(\"Cannot divide by zero!\")\n"
   ]
  },
  {
   "cell_type": "markdown",
   "id": "c530deff-8fef-48ed-808c-9eeb19842e92",
   "metadata": {},
   "source": [
    "## 15.How does python's garbage collection system work?"
   ]
  },
  {
   "cell_type": "markdown",
   "id": "fe2f1ece-2d57-41c8-a528-8fe7b1ee185b",
   "metadata": {},
   "source": [
    "### Reference Counting: Each object has a reference count. When the count reaches zero (no references), memory is freed."
   ]
  },
  {
   "cell_type": "code",
   "execution_count": 30,
   "id": "5cf4c63e-c935-4da2-8816-7dd4a137b9b1",
   "metadata": {
    "tags": []
   },
   "outputs": [],
   "source": [
    "a = [1, 2, 3]  # Reference count for this list is 1\n",
    "b = a          # Reference count for the list is 2\n",
    "del a          # Reference count for the list is 1\n",
    "del b          # Reference count becomes 0, so the memory is freed\n"
   ]
  },
  {
   "cell_type": "markdown",
   "id": "a52876cf-35b4-4233-86c5-594972823847",
   "metadata": {},
   "source": [
    "### Cyclic Garbage Collection: Handles circular references that reference counting cannot. It runs periodically to detect and clean up cycles."
   ]
  },
  {
   "cell_type": "code",
   "execution_count": 31,
   "id": "6b3f55df-7e5c-402a-8d34-f42c92f7ed99",
   "metadata": {
    "tags": []
   },
   "outputs": [],
   "source": [
    "class A:\n",
    "    def __init__(self):\n",
    "        self.b=None\n",
    "        \n",
    "class B:\n",
    "    def __init__(self):\n",
    "        self.a=None\n",
    "        \n",
    "a=A()\n",
    "b=B()\n",
    "a.b=b\n",
    "b.a=a  # Circular reference: A -> B -> A"
   ]
  },
  {
   "cell_type": "markdown",
   "id": "4fd4ef8c-b52b-468b-b0ea-ed365faf8c39",
   "metadata": {},
   "source": [
    "### Generational Collection: Objects are grouped into generations. Younger objects are collected more frequently than older ones to improve efficiency."
   ]
  },
  {
   "cell_type": "markdown",
   "id": "fa18fbb7-1d62-4d71-9fdd-9b21bbd223c3",
   "metadata": {},
   "source": [
    "## 16.What is the purpose of the else block in exception handling?"
   ]
  },
  {
   "cell_type": "markdown",
   "id": "41a3bf99-0011-442c-90fc-409262779366",
   "metadata": {},
   "source": [
    "### Purpose of the else block:\n",
    "It allows you to specify code that should execute only when the try block runs successfully without exceptions.\n",
    "\n",
    "Helps in separating the normal flow of execution (successful code) from the error-handling code in the except block."
   ]
  },
  {
   "cell_type": "code",
   "execution_count": 32,
   "id": "8c2cdd86-6159-4426-95d0-b452311b825b",
   "metadata": {
    "tags": []
   },
   "outputs": [
    {
     "name": "stdout",
     "output_type": "stream",
     "text": [
      "Division successful, result: 5.0\n"
     ]
    }
   ],
   "source": [
    "try:\n",
    "    result = 10 / 2  # No exception here\n",
    "except ZeroDivisionError:\n",
    "    print(\"Cannot divide by zero\")\n",
    "else:\n",
    "    print(\"Division successful, result:\", result)\n"
   ]
  },
  {
   "cell_type": "markdown",
   "id": "b37ba2d9-3edd-4cb9-8626-e6658e76ba28",
   "metadata": {},
   "source": [
    "## 17. What are the common logging levels in python?"
   ]
  },
  {
   "cell_type": "code",
   "execution_count": null,
   "id": "e47d98c3-f9bc-40ae-91af-1a9ffe7b08c2",
   "metadata": {},
   "outputs": [],
   "source": [
    "import logging\n",
    "\n",
    "logging.basicConfig(level=logging.DEBUG)\n",
    "\n",
    "logging.debug(\"This is a debug message.\")\n",
    "logging.info(\"This is an info message.\")\n",
    "logging.warning(\"This is a warning message.\")\n",
    "logging.error(\"This is an error message.\")\n",
    "logging.critical(\"This is a critical message.\")\n"
   ]
  },
  {
   "cell_type": "markdown",
   "id": "8903615d-3fd0-41db-bcab-91729ae8f63a",
   "metadata": {},
   "source": [
    "## 18. What is the difference between os.fork() and multiprocessing in python?"
   ]
  },
  {
   "cell_type": "markdown",
   "id": "061363f6-1fe9-4bb1-99ec-0dae14ec8e40",
   "metadata": {},
   "source": [
    "### 1. os.fork():\n",
    "Platform-specific:\n",
    "os.fork() is available only on Unix-based systems (Linux, macOS) and is not available on Windows.\n",
    "\n",
    "Low-level process creation:\n",
    "It creates a child process that is a duplicate of the parent process, sharing the same memory space (copy-on-write). The child process runs independently after forking.\n",
    "\n",
    "Process control:\n",
    "The parent process can continue execution after forking, while the child process can execute a different code path.\n",
    "\n",
    "Manual inter-process communication (IPC):\n",
    "It doesn't provide built-in mechanisms for communication between processes, so you need to manually implement IPC mechanisms such as pipes, shared memory, or files.\n",
    "\n",
    "Use case:\n",
    "Generally used in low-level programming when you want explicit control over child processes."
   ]
  },
  {
   "cell_type": "code",
   "execution_count": 33,
   "id": "991802ae-5e3e-4261-b64b-49f058dafcaf",
   "metadata": {
    "tags": []
   },
   "outputs": [
    {
     "ename": "AttributeError",
     "evalue": "module 'os' has no attribute 'fork'",
     "output_type": "error",
     "traceback": [
      "\u001b[1;31m---------------------------------------------------------------------------\u001b[0m",
      "\u001b[1;31mAttributeError\u001b[0m                            Traceback (most recent call last)",
      "Cell \u001b[1;32mIn[33], line 3\u001b[0m\n\u001b[0;32m      1\u001b[0m \u001b[38;5;28;01mimport\u001b[39;00m \u001b[38;5;21;01mos\u001b[39;00m\n\u001b[1;32m----> 3\u001b[0m pid \u001b[38;5;241m=\u001b[39m \u001b[43mos\u001b[49m\u001b[38;5;241;43m.\u001b[39;49m\u001b[43mfork\u001b[49m()\n\u001b[0;32m      5\u001b[0m \u001b[38;5;28;01mif\u001b[39;00m pid \u001b[38;5;241m>\u001b[39m \u001b[38;5;241m0\u001b[39m:\n\u001b[0;32m      6\u001b[0m     \u001b[38;5;28mprint\u001b[39m(\u001b[38;5;124m\"\u001b[39m\u001b[38;5;124mThis is the parent process\u001b[39m\u001b[38;5;124m\"\u001b[39m)\n",
      "\u001b[1;31mAttributeError\u001b[0m: module 'os' has no attribute 'fork'"
     ]
    }
   ],
   "source": [
    "import os\n",
    "\n",
    "pid = os.fork()\n",
    "\n",
    "if pid > 0:\n",
    "    print(\"This is the parent process\")\n",
    "elif pid == 0:\n",
    "    print(\"This is the child process\")\n"
   ]
  },
  {
   "cell_type": "markdown",
   "id": "3d10cdba-cd3e-4cc4-b053-d0f18270dc8c",
   "metadata": {},
   "source": [
    "### 2. multiprocessing:\n",
    "Cross-platform:\n",
    "The multiprocessing module works on both Unix-based and Windows systems.\n",
    "\n",
    "High-level process creation:\n",
    "Provides an abstraction for creating and managing processes using the Process class. It uses forking on Unix and spawning processes on Windows.\n",
    "\n",
    "Built-in IPC support:\n",
    "multiprocessing includes higher-level constructs like queues, pipes, and shared memory to make inter-process communication easier.\n",
    "\n",
    "Process management:\n",
    "It manages process pools, synchronization (locks), and handles cross-platform issues (like process spawning on Windows).\n",
    "\n",
    "Use case:\n",
    "Recommended for concurrent or parallel programming where managing processes and communication is necessary."
   ]
  },
  {
   "cell_type": "code",
   "execution_count": 34,
   "id": "5d918621-6436-4eca-95d6-addbf33a49d6",
   "metadata": {
    "tags": []
   },
   "outputs": [],
   "source": [
    "from multiprocessing import Process\n",
    "\n",
    "def task():\n",
    "    print(\"This is a task in a process\")\n",
    "\n",
    "if __name__ == '__main__':\n",
    "    process = Process(target=task)\n",
    "    process.start()\n",
    "    process.join()\n"
   ]
  },
  {
   "cell_type": "markdown",
   "id": "9f3cf43a-e385-4574-be73-3bb19c6fccc1",
   "metadata": {},
   "source": [
    "## 19. What is the importance of closing a file in python?"
   ]
  },
  {
   "cell_type": "markdown",
   "id": "4719a457-0f41-4f3b-b100-3f8e4262330d",
   "metadata": {},
   "source": [
    "### Closing a file in Python is important because it:\n",
    "\n",
    "Frees system resources: It releases the memory and file handles used by the operating system.\n",
    "\n",
    "Ensures data is saved: If the file is opened in write or append mode, close() ensures all data is properly written and saved.\n",
    "\n",
    "Prevents data corruption: Not closing a file may lead to incomplete writes or data loss.\n",
    "\n",
    "Avoids file locking issues: On some systems, an open file may be locked and inaccessible to other programs."
   ]
  },
  {
   "cell_type": "markdown",
   "id": "cdf6353f-5166-4dc8-93e4-4582b7c85941",
   "metadata": {},
   "source": [
    "## 20. What is the difference between file.read() and file.readline() in python?"
   ]
  },
  {
   "cell_type": "markdown",
   "id": "0473910a-f10e-4758-ab45-ed77103b048e",
   "metadata": {},
   "source": [
    "### ✅ file.read():\n",
    "Reads the entire file (or a specified number of characters).\n",
    "\n",
    "Returns it as a single string.\n",
    "\n"
   ]
  },
  {
   "cell_type": "markdown",
   "id": "eadfbf3e-f381-4bf8-8e66-6d43f77ed849",
   "metadata": {},
   "source": [
    "### ✅ file.readline():\n",
    "Reads one line at a time from the file.\n",
    "\n",
    "Returns the line as a string including the newline character (\\n), unless it's the last line.\n",
    "\n",
    "Useful for processing files line by line, especially large ones."
   ]
  },
  {
   "cell_type": "markdown",
   "id": "6f40e544-e78c-4555-bd7d-86b54db1abb5",
   "metadata": {},
   "source": [
    "## 21. What is the logging module in python used for?"
   ]
  },
  {
   "cell_type": "markdown",
   "id": "c47c3455-bf9a-4fc3-98c8-a5304709f499",
   "metadata": {},
   "source": [
    "### The logging module in Python is used to record messages that describe events happening while a program runs. It helps in debugging, monitoring, and tracking errors or system behavior."
   ]
  },
  {
   "cell_type": "markdown",
   "id": "4cf2899b-131d-4302-be04-f346b6e5274f",
   "metadata": {},
   "source": [
    "## 22. What is the os module in python used for in file handling?"
   ]
  },
  {
   "cell_type": "markdown",
   "id": "9dd6a6d6-b203-4d14-8988-449b326caece",
   "metadata": {},
   "source": [
    "### The os module in Python is used in file handling to interact with the operating system—it helps perform tasks like navigating directories, checking file existence, and manipulating files or folders."
   ]
  },
  {
   "cell_type": "markdown",
   "id": "90ad57f3-b87f-4405-b563-1a42b2dd86df",
   "metadata": {},
   "source": [
    "### Creating folders:"
   ]
  },
  {
   "cell_type": "code",
   "execution_count": null,
   "id": "f0ede104-5a88-4577-b65d-334d98a7b944",
   "metadata": {},
   "outputs": [],
   "source": [
    "os.mkdir(\"new_folder\")"
   ]
  },
  {
   "cell_type": "markdown",
   "id": "4f844ba0-d954-44eb-b6b7-80be7a4ccc79",
   "metadata": {},
   "source": [
    "### Renaming files"
   ]
  },
  {
   "cell_type": "code",
   "execution_count": null,
   "id": "65d9f990-03f5-42fd-b154-d2e930cb74d8",
   "metadata": {},
   "outputs": [],
   "source": [
    "os.rename(\"old.txt\", \"new.txt\")"
   ]
  },
  {
   "cell_type": "markdown",
   "id": "5fb6e5b3-9edd-4dde-b33e-67ae8d05d989",
   "metadata": {},
   "source": [
    "## Checking if a file/folder exists:"
   ]
  },
  {
   "cell_type": "code",
   "execution_count": null,
   "id": "8c57b631-8210-4c39-b505-7e558111b755",
   "metadata": {},
   "outputs": [],
   "source": [
    "os.path.exists(\"file.txt\")"
   ]
  },
  {
   "cell_type": "markdown",
   "id": "58efefa8-b9e1-4bf2-9ee9-7790b1f0fc58",
   "metadata": {},
   "source": [
    "## 23. What are the challenges associated with memory management in python?"
   ]
  },
  {
   "cell_type": "markdown",
   "id": "de9d3156-0494-4969-9425-14c19094c33f",
   "metadata": {},
   "source": [
    "### Challenges associated with memory management in Python:\n",
    "Reference cycles:\n",
    "Objects referencing each other (like in mutual relationships) can prevent automatic garbage collection.\n",
    "\n",
    "Memory leaks:\n",
    "Long-lived references or unused objects held in global scopes or caches can consume memory unnecessarily.\n",
    "\n",
    "High memory usage for large data:\n",
    "Python objects are more memory-intensive than lower-level languages (like C), which can cause performance issues with large datasets.\n",
    "\n",
    "Manual control is limited:\n",
    "Developers have less control over memory allocation and deallocation compared to languages like C/C++.\n",
    "\n",
    "Global Interpreter Lock (GIL):\n",
    "In CPython, the GIL can hinder true parallelism in multithreaded memory-intensive operations.\n",
    "\n",
    "Fragmentation:\n",
    "Frequent allocation/deallocation of memory may lead to fragmentation, making memory reuse inefficient."
   ]
  },
  {
   "cell_type": "markdown",
   "id": "1d6d6b95-76da-4e9a-9585-d26551af41e4",
   "metadata": {},
   "source": [
    "## 24. How do you raise an exception manuallly in python?"
   ]
  },
  {
   "cell_type": "markdown",
   "id": "5e365a49-0d9b-4365-8be0-dac2c1478b87",
   "metadata": {},
   "source": [
    "### 🔹 Example:"
   ]
  },
  {
   "cell_type": "code",
   "execution_count": 35,
   "id": "59a0aad1-9df3-4821-a253-cb7ff98a3f4b",
   "metadata": {
    "tags": []
   },
   "outputs": [
    {
     "ename": "ValueError",
     "evalue": "Age cannot be negative",
     "output_type": "error",
     "traceback": [
      "\u001b[1;31m---------------------------------------------------------------------------\u001b[0m",
      "\u001b[1;31mValueError\u001b[0m                                Traceback (most recent call last)",
      "Cell \u001b[1;32mIn[35], line 3\u001b[0m\n\u001b[0;32m      1\u001b[0m age \u001b[38;5;241m=\u001b[39m \u001b[38;5;241m-\u001b[39m\u001b[38;5;241m5\u001b[39m\n\u001b[0;32m      2\u001b[0m \u001b[38;5;28;01mif\u001b[39;00m age \u001b[38;5;241m<\u001b[39m \u001b[38;5;241m0\u001b[39m:\n\u001b[1;32m----> 3\u001b[0m     \u001b[38;5;28;01mraise\u001b[39;00m \u001b[38;5;167;01mValueError\u001b[39;00m(\u001b[38;5;124m\"\u001b[39m\u001b[38;5;124mAge cannot be negative\u001b[39m\u001b[38;5;124m\"\u001b[39m)\n",
      "\u001b[1;31mValueError\u001b[0m: Age cannot be negative"
     ]
    }
   ],
   "source": [
    "age = -5\n",
    "if age < 0:\n",
    "    raise ValueError(\"Age cannot be negative\")\n"
   ]
  },
  {
   "cell_type": "markdown",
   "id": "69741c6c-63a0-446d-9dbd-b1866fcb0fa4",
   "metadata": {},
   "source": [
    "## 25. Why is it important to use multithreading in certain applications?"
   ]
  },
  {
   "cell_type": "markdown",
   "id": "05c38b6b-0bf3-4967-aec4-6dac1b8041dc",
   "metadata": {},
   "source": [
    "### ✅ Importance of Using Multithreading in Certain Applications:\n",
    "Improves performance in I/O-bound tasks:\n",
    "Multithreading is ideal for tasks like file I/O, network requests, or database operations where the program waits for responses.\n",
    "\n",
    "Better responsiveness:\n",
    "In GUI or web applications, threads help keep the interface responsive while background tasks run.\n",
    "\n",
    "Concurrent task handling:\n",
    "Allows multiple operations (like downloading files or handling multiple user requests) to occur simultaneously.\n",
    "\n",
    "Efficient resource usage:\n",
    "Threads share memory space, making communication between them faster than processes."
   ]
  },
  {
   "cell_type": "code",
   "execution_count": null,
   "id": "2a5b4572-985c-4edd-839a-c5243fdb67e2",
   "metadata": {},
   "outputs": [],
   "source": []
  },
  {
   "cell_type": "code",
   "execution_count": null,
   "id": "19f9e02b-ab9d-4edb-8399-22441bcec198",
   "metadata": {},
   "outputs": [],
   "source": []
  },
  {
   "cell_type": "markdown",
   "id": "935f93cc-26fb-4849-b96c-d8d2db351a58",
   "metadata": {},
   "source": [
    "# Practical Questions"
   ]
  },
  {
   "cell_type": "markdown",
   "id": "6851bec6-555d-4fc6-abdc-9084369e9202",
   "metadata": {},
   "source": [
    "## 1. How can  you open a file for writing in python and write a string to it?"
   ]
  },
  {
   "cell_type": "markdown",
   "id": "3474353e-3d3b-476e-af90-b0c72e2415c4",
   "metadata": {},
   "source": [
    "### You can open a file for writing in Python using the \"w\" mode and write to it using the write() method."
   ]
  },
  {
   "cell_type": "code",
   "execution_count": 36,
   "id": "45b677e6-0955-4356-b335-b5714b76be8d",
   "metadata": {
    "tags": []
   },
   "outputs": [],
   "source": [
    "with open(\"example.txt\", \"w\") as file:\n",
    "    file.write(\"Hello, this is a test.\")\n"
   ]
  },
  {
   "cell_type": "markdown",
   "id": "806f3251-3abe-4c3d-a2c7-a23387a377d1",
   "metadata": {},
   "source": [
    "## 2.Write a python program to read the contents of a file and print each line."
   ]
  },
  {
   "cell_type": "code",
   "execution_count": 38,
   "id": "237decbf-5208-4e7d-8393-b02b1e53bebf",
   "metadata": {
    "tags": []
   },
   "outputs": [
    {
     "name": "stdout",
     "output_type": "stream",
     "text": [
      "Hello, this is a test.\n"
     ]
    }
   ],
   "source": [
    "with open(\"example.txt\",\"r\") as file:\n",
    "    for line in file:\n",
    "        print(line)"
   ]
  },
  {
   "cell_type": "markdown",
   "id": "dc5a24ed-5d2e-488a-97dc-2e5b23bfa070",
   "metadata": {},
   "source": [
    "## 3. How would you handle a case where the file doesn't exist while trying to open it for reading?"
   ]
  },
  {
   "cell_type": "markdown",
   "id": "68214615-e4a7-4927-9df8-040aed61398a",
   "metadata": {},
   "source": [
    "### To handle the case where the file doesn't exist, you can use a try,except block to catch the filenotfounderror."
   ]
  },
  {
   "cell_type": "code",
   "execution_count": 40,
   "id": "6b54e39f-c939-401a-b5bb-ad9f7fd27697",
   "metadata": {
    "tags": []
   },
   "outputs": [
    {
     "name": "stdout",
     "output_type": "stream",
     "text": [
      "Hello, this is a test.\n"
     ]
    }
   ],
   "source": [
    "try:\n",
    "    with open(\"example.txt\",\"r\") as file:\n",
    "        for line in file:\n",
    "            print(line)\n",
    "except FileNotFoundError:\n",
    "    print(\"error: the file does not exists\")\n",
    "            "
   ]
  },
  {
   "cell_type": "markdown",
   "id": "61a873c7-8e8b-41bd-8e5b-d45d354aa0e0",
   "metadata": {},
   "source": [
    "## 4. Write a python script that reads from one file and wriites it's content to another file. "
   ]
  },
  {
   "cell_type": "code",
   "execution_count": 42,
   "id": "cd876329-cdd2-403c-bc36-4262e41f1636",
   "metadata": {
    "tags": []
   },
   "outputs": [
    {
     "name": "stdout",
     "output_type": "stream",
     "text": [
      "error: source file does not exist\n"
     ]
    }
   ],
   "source": [
    "try:\n",
    "    with open(\"source.txt\",\"r\") as source_file:\n",
    "        content=source_file.read()\n",
    "        \n",
    "    with open(\"destination.txt\",\"w\") as destination_file:\n",
    "        destination_file.write(content)\n",
    "    \n",
    "    print(\"file copied successfully\")\n",
    "    \n",
    "except FileNotFoundError:\n",
    "    print(\"error: source file does not exist\")"
   ]
  },
  {
   "cell_type": "markdown",
   "id": "1800f4c8-10db-4684-8cce-a9239a01ed86",
   "metadata": {},
   "source": [
    "## 5. How would you catch and handle division by zero error in python?"
   ]
  },
  {
   "cell_type": "code",
   "execution_count": 47,
   "id": "a69d8aa4-e6d5-4861-9134-d03b75d9862e",
   "metadata": {
    "tags": []
   },
   "outputs": [
    {
     "name": "stdout",
     "output_type": "stream",
     "text": [
      "the error is division by zero\n"
     ]
    }
   ],
   "source": [
    "try:\n",
    "    print(10/0)\n",
    "except Exception as e:\n",
    "    print(\"the error is\",e)"
   ]
  },
  {
   "cell_type": "markdown",
   "id": "f654f4b0-2f61-4687-b3bc-8284fdae2dd2",
   "metadata": {},
   "source": [
    "## 6.Write a python program that logs an error message to a log file when a division by zero exception."
   ]
  },
  {
   "cell_type": "code",
   "execution_count": 51,
   "id": "7501e914-e652-4145-adf7-e37355a6e92e",
   "metadata": {
    "tags": []
   },
   "outputs": [
    {
     "name": "stderr",
     "output_type": "stream",
     "text": [
      "ERROR:root:Division by zero error occurred: division by zero\n"
     ]
    },
    {
     "name": "stdout",
     "output_type": "stream",
     "text": [
      "An error occurred. Check the log file.\n"
     ]
    }
   ],
   "source": [
    "import logging\n",
    "\n",
    "# Configure logging to write to a file\n",
    "logging.basicConfig(filename='error.log', level=logging.ERROR, format='%(asctime)s - %(levelname)s - %(message)s')\n",
    "\n",
    "try:\n",
    "    # Division operation\n",
    "    result = 10 / 0\n",
    "except ZeroDivisionError as e:\n",
    "    logging.error(\"Division by zero error occurred: %s\", e)\n",
    "    print(\"An error occurred. Check the log file.\")\n"
   ]
  },
  {
   "cell_type": "markdown",
   "id": "895a1c77-d1d2-4b77-85c9-aadacaf3bf48",
   "metadata": {},
   "source": [
    "## 7.how do you log information at different levels(INFO,ERROR,WARNNING) in python using the logging module?"
   ]
  },
  {
   "cell_type": "code",
   "execution_count": 52,
   "id": "d78cdd5f-e1aa-40e9-b8a7-febc150f4846",
   "metadata": {
    "tags": []
   },
   "outputs": [
    {
     "name": "stderr",
     "output_type": "stream",
     "text": [
      "DEBUG:root:This is a debug message\n",
      "INFO:root:This is an info message\n",
      "WARNING:root:This is a warning\n",
      "ERROR:root:This is an error\n",
      "CRITICAL:root:This is critical\n"
     ]
    }
   ],
   "source": [
    "import logging\n",
    "\n",
    "logging.basicConfig(level=logging.DEBUG, format='%(levelname)s: %(message)s')\n",
    "\n",
    "logging.debug(\"This is a debug message\")\n",
    "logging.info(\"This is an info message\")\n",
    "logging.warning(\"This is a warning\")\n",
    "logging.error(\"This is an error\")\n",
    "logging.critical(\"This is critical\")\n"
   ]
  },
  {
   "cell_type": "markdown",
   "id": "7371860c-7696-498c-a450-d46ac3fd8207",
   "metadata": {},
   "source": [
    "## 8. Write a program to handle a file opening error using exceptin handling. "
   ]
  },
  {
   "cell_type": "code",
   "execution_count": 53,
   "id": "b8d04385-134d-4fcc-a58e-840c3c6c9107",
   "metadata": {
    "tags": []
   },
   "outputs": [
    {
     "name": "stdout",
     "output_type": "stream",
     "text": [
      "Error: The file could not be found.\n"
     ]
    }
   ],
   "source": [
    "try:\n",
    "    with open(\"non_existent_file.txt\", \"r\") as file:\n",
    "        content = file.read()\n",
    "        print(content)\n",
    "except FileNotFoundError:\n",
    "    print(\"Error: The file could not be found.\")\n"
   ]
  },
  {
   "cell_type": "markdown",
   "id": "116e855b-7054-41fe-b30f-65e98b4d448b",
   "metadata": {},
   "source": [
    "## 9. How can you read a file line by line and store it's content ina list in python?"
   ]
  },
  {
   "cell_type": "code",
   "execution_count": 54,
   "id": "383a52c3-5355-48a3-95d6-d8d1737ed82c",
   "metadata": {
    "tags": []
   },
   "outputs": [
    {
     "name": "stdout",
     "output_type": "stream",
     "text": [
      "['Hello, this is a test.']\n"
     ]
    }
   ],
   "source": [
    "lines = []\n",
    "with open(\"example.txt\", \"r\") as file:\n",
    "    for line in file:\n",
    "        lines.append(line.strip())  # strip() removes newline characters\n",
    "\n",
    "print(lines)\n"
   ]
  },
  {
   "cell_type": "markdown",
   "id": "42fed2e6-e73d-4b03-9093-96e3bb2c583c",
   "metadata": {},
   "source": [
    "## 10. how can you append data to an existing file in python?"
   ]
  },
  {
   "cell_type": "code",
   "execution_count": 55,
   "id": "6ab633f6-61f5-4f59-a19b-cab1e63646f3",
   "metadata": {
    "tags": []
   },
   "outputs": [],
   "source": [
    "with open(\"example.txt\", \"a\") as file:\n",
    "    file.write(\"This line is added to the end of the file.\\n\")\n"
   ]
  },
  {
   "cell_type": "markdown",
   "id": "b68db01f-b864-4003-80c1-2d9fbd8d5d03",
   "metadata": {},
   "source": [
    "## 11.Write a python program that uses a try-except block to handle an error when attempting to access a dictionery key that doesn't exist."
   ]
  },
  {
   "cell_type": "code",
   "execution_count": 56,
   "id": "e389a045-ab62-4159-80b5-54309a58c0d6",
   "metadata": {
    "tags": []
   },
   "outputs": [
    {
     "name": "stdout",
     "output_type": "stream",
     "text": [
      "Error: The key 'city' does not exist in the dictionary.\n"
     ]
    }
   ],
   "source": [
    "person = {\"name\": \"Alice\", \"age\": 25}\n",
    "\n",
    "try:\n",
    "    print(\"City:\", person[\"city\"])  \n",
    "except KeyError:\n",
    "    print(\"Error: The key 'city' does not exist in the dictionary.\")\n"
   ]
  },
  {
   "cell_type": "markdown",
   "id": "a2b01a4d-b5a3-4994-b284-fc40a911958c",
   "metadata": {},
   "source": [
    "## 12.Write a program that demonstrates using multiple except blocks to handle different types of exceptions."
   ]
  },
  {
   "cell_type": "code",
   "execution_count": 57,
   "id": "e4b1d735-4562-4e39-af81-55be26e783f7",
   "metadata": {
    "tags": []
   },
   "outputs": [
    {
     "name": "stdout",
     "output_type": "stream",
     "text": [
      "Error: Cannot divide by zero.\n"
     ]
    }
   ],
   "source": [
    "try:\n",
    "    result = 10 / 0\n",
    "    person = {\"name\": \"Alice\"}\n",
    "    print(person[\"age\"])\n",
    "except ZeroDivisionError:\n",
    "    print(\"Error: Cannot divide by zero.\")\n",
    "except KeyError:\n",
    "    print(\"Error: The key does not exist in the dictionary.\")\n",
    "except Exception as e:\n",
    "    print(f\"An unexpected error occurred: {e}\")\n"
   ]
  },
  {
   "cell_type": "markdown",
   "id": "9f4fb283-6676-425e-b37a-a12ff1e84cff",
   "metadata": {},
   "source": [
    "## 13. How would you check if a file exists before attemting to read it in python?"
   ]
  },
  {
   "cell_type": "code",
   "execution_count": 58,
   "id": "72fc8c5e-17b6-48ff-9e39-da5a050778f8",
   "metadata": {
    "tags": []
   },
   "outputs": [
    {
     "name": "stdout",
     "output_type": "stream",
     "text": [
      "Hello, this is a test.This line is added to the end of the file.\n",
      "\n"
     ]
    }
   ],
   "source": [
    "import os\n",
    "\n",
    "file_path = \"example.txt\"\n",
    "\n",
    "if os.path.exists(file_path):\n",
    "    with open(file_path, \"r\") as file:\n",
    "        content = file.read()\n",
    "        print(content)\n",
    "else:\n",
    "    print(\"Error: The file does not exist.\")\n"
   ]
  },
  {
   "cell_type": "markdown",
   "id": "b5a19919-d3f0-4bae-86d0-05fcc8c5788d",
   "metadata": {},
   "source": [
    "## 14. Write a program that uses the logging module to log both informational and error messages."
   ]
  },
  {
   "cell_type": "code",
   "execution_count": 59,
   "id": "116588fc-8157-4d5d-a18c-33ba14824cd2",
   "metadata": {
    "tags": []
   },
   "outputs": [
    {
     "name": "stderr",
     "output_type": "stream",
     "text": [
      "INFO:root:This is an informational message.\n",
      "ERROR:root:An error occurred: division by zero\n"
     ]
    }
   ],
   "source": [
    "import logging\n",
    "\n",
    "logging.basicConfig(filename='app.log', level=logging.DEBUG, format='%(asctime)s - %(levelname)s - %(message)s')\n",
    "\n",
    "\n",
    "logging.info(\"This is an informational message.\")\n",
    "\n",
    "try:\n",
    "    result = 10 / 0\n",
    "except ZeroDivisionError as e:\n",
    "    logging.error(\"An error occurred: %s\", e)\n"
   ]
  },
  {
   "cell_type": "markdown",
   "id": "e8a5fef0-de78-4992-bcc0-c4b75ab22bd2",
   "metadata": {},
   "source": [
    "## 15.Write a python program that prints the content of a file and handles the case when the file is empty."
   ]
  },
  {
   "cell_type": "code",
   "execution_count": 60,
   "id": "ff4b6e88-22ca-42cd-8d6b-f382b8775157",
   "metadata": {
    "tags": []
   },
   "outputs": [
    {
     "name": "stdout",
     "output_type": "stream",
     "text": [
      "File content:\n",
      " Hello, this is a test.This line is added to the end of the file.\n",
      "\n"
     ]
    }
   ],
   "source": [
    "try:\n",
    "    with open(\"example.txt\", \"r\") as file:\n",
    "        content = file.read()\n",
    "        \n",
    "        if content:\n",
    "            print(\"File content:\\n\", content)\n",
    "        else:\n",
    "            print(\"The file is empty.\")\n",
    "except FileNotFoundError:\n",
    "    print(\"Error: The file does not exist.\")\n"
   ]
  },
  {
   "cell_type": "markdown",
   "id": "d6641b71-149c-4b28-a287-36ee76634eeb",
   "metadata": {},
   "source": [
    "## 16. Demostrate how to use memeory profiling to check check the memeory usage of a small program."
   ]
  },
  {
   "cell_type": "code",
   "execution_count": 61,
   "id": "c77ca387-eaf8-43eb-a571-ae347bb302ba",
   "metadata": {
    "tags": []
   },
   "outputs": [
    {
     "name": "stdout",
     "output_type": "stream",
     "text": [
      "Collecting memory-profiler\n",
      "  Obtaining dependency information for memory-profiler from https://files.pythonhosted.org/packages/49/26/aaca612a0634ceede20682e692a6c55e35a94c21ba36b807cc40fe910ae1/memory_profiler-0.61.0-py3-none-any.whl.metadata\n",
      "  Downloading memory_profiler-0.61.0-py3-none-any.whl.metadata (20 kB)\n",
      "Requirement already satisfied: psutil in c:\\users\\gj261\\appdata\\roaming\\python\\python311\\site-packages (from memory-profiler) (5.9.6)\n",
      "Downloading memory_profiler-0.61.0-py3-none-any.whl (31 kB)\n",
      "Installing collected packages: memory-profiler\n",
      "Successfully installed memory-profiler-0.61.0\n",
      "Note: you may need to restart the kernel to use updated packages.\n"
     ]
    }
   ],
   "source": [
    "pip install memory-profiler\n"
   ]
  },
  {
   "cell_type": "code",
   "execution_count": null,
   "id": "7d4ec5a4-f0e9-4aaa-a24a-844882cb9938",
   "metadata": {},
   "outputs": [],
   "source": [
    "from memory_profiler import profile\n",
    "\n",
    "@profile\n",
    "def my_function():\n",
    "    a = [1] * (10**6)  # List of 1 million integers\n",
    "    b = [2] * (2 * 10**7)  # List of 20 million integers\n",
    "    del b  # Delete one of the lists to free up memory\n",
    "    return a\n",
    "\n",
    "if __name__ == \"__main__\":\n",
    "    my_function()\n"
   ]
  },
  {
   "cell_type": "code",
   "execution_count": null,
   "id": "0b2032a2-6819-4278-9549-22576ba6f187",
   "metadata": {},
   "outputs": [],
   "source": [
    "python -m memory_profiler your_script.py\n"
   ]
  },
  {
   "cell_type": "markdown",
   "id": "ab198ada-2b72-48ae-8b00-ddf0152c98e8",
   "metadata": {},
   "source": [
    "## 17.Write a python program to create and write a list of numbers to a file, one number perline."
   ]
  },
  {
   "cell_type": "code",
   "execution_count": 62,
   "id": "239f2b42-cfec-4539-bc96-c7ccce49a9ea",
   "metadata": {
    "tags": []
   },
   "outputs": [
    {
     "name": "stdout",
     "output_type": "stream",
     "text": [
      "Numbers have been written to 'numbers.txt'.\n"
     ]
    }
   ],
   "source": [
    "numbers = [1, 2, 3, 4, 5, 6, 7, 8, 9, 10]\n",
    "\n",
    "with open(\"numbers.txt\", \"w\") as file:\n",
    "    for number in numbers:\n",
    "        file.write(f\"{number}\\n\")\n",
    "\n",
    "print(\"Numbers have been written to 'numbers.txt'.\")\n"
   ]
  },
  {
   "cell_type": "markdown",
   "id": "b0b9b83f-6f86-4103-923a-843bfd0c5ed8",
   "metadata": {},
   "source": [
    "## 18. How would you implement a basic logging setup that logs to file with roataion after 1MB?"
   ]
  },
  {
   "cell_type": "code",
   "execution_count": 63,
   "id": "4edb4ed9-7e34-4355-a521-6ccbbbf4bd95",
   "metadata": {
    "tags": []
   },
   "outputs": [
    {
     "name": "stderr",
     "output_type": "stream",
     "text": [
      "INFO:root:This is an info message.\n",
      "ERROR:root:This is an error message.\n"
     ]
    }
   ],
   "source": [
    "import logging\n",
    "from logging.handlers import RotatingFileHandler\n",
    "\n",
    "handler = RotatingFileHandler('app.log', maxBytes=1e6, backupCount=3)  # maxBytes=1MB, backupCount=3 keeps 3 backups\n",
    "\n",
    "handler.setLevel(logging.INFO)\n",
    "formatter = logging.Formatter('%(asctime)s - %(levelname)s - %(message)s')\n",
    "handler.setFormatter(formatter)\n",
    "\n",
    "logger = logging.getLogger()\n",
    "logger.addHandler(handler)\n",
    "logger.setLevel(logging.INFO)\n",
    "\n",
    "# Example log messages\n",
    "logger.info(\"This is an info message.\")\n",
    "logger.error(\"This is an error message.\")\n"
   ]
  },
  {
   "cell_type": "markdown",
   "id": "a7a59b19-113e-4e10-aba5-f21ca832f04c",
   "metadata": {},
   "source": [
    "## 19. write a program that handles both indexerror and keyerror using a try-except block."
   ]
  },
  {
   "cell_type": "code",
   "execution_count": 64,
   "id": "a06847cb-3248-4822-a647-dadc97d8736d",
   "metadata": {
    "tags": []
   },
   "outputs": [
    {
     "name": "stdout",
     "output_type": "stream",
     "text": [
      "Error: Index out of range.\n",
      "Error: Key not found in the dictionary.\n"
     ]
    }
   ],
   "source": [
    "# Sample data\n",
    "my_list = [1, 2, 3]\n",
    "my_dict = {\"name\": \"Alice\", \"age\": 25}\n",
    "\n",
    "try:\n",
    "    print(my_list[5])  \n",
    "except IndexError:\n",
    "    print(\"Error: Index out of range.\")\n",
    "\n",
    "try:\n",
    "    print(my_dict[\"city\"])  \n",
    "except KeyError:\n",
    "    print(\"Error: Key not found in the dictionary.\")\n"
   ]
  },
  {
   "cell_type": "markdown",
   "id": "6de7e420-e665-4e89-9453-17a4a58d9921",
   "metadata": {},
   "source": [
    "## 20. How would you open a file and read it's contents using a context manager in python?"
   ]
  },
  {
   "cell_type": "code",
   "execution_count": 65,
   "id": "c3efef02-5f6d-4a31-96ab-30bde40268ca",
   "metadata": {
    "tags": []
   },
   "outputs": [
    {
     "name": "stdout",
     "output_type": "stream",
     "text": [
      "Hello, this is a test.This line is added to the end of the file.\n",
      "\n"
     ]
    }
   ],
   "source": [
    "with open(\"example.txt\", \"r\") as file:\n",
    "    content = file.read()\n",
    "    print(content)\n"
   ]
  },
  {
   "cell_type": "markdown",
   "id": "c896cc7f-f3a1-4d6f-b6c7-89d0ce55409f",
   "metadata": {},
   "source": [
    "## 21. Python Program to Count Occurrences of a Specific Word in a File:"
   ]
  },
  {
   "cell_type": "code",
   "execution_count": 66,
   "id": "fdae930c-4ac9-431e-8da9-78b19daa33c4",
   "metadata": {
    "tags": []
   },
   "outputs": [
    {
     "name": "stdout",
     "output_type": "stream",
     "text": [
      "The word 'python' occurred 0 times.\n"
     ]
    }
   ],
   "source": [
    "def count_word_occurrences(file_name, word_to_find):\n",
    "    try:\n",
    "        with open(file_name, \"r\") as file:\n",
    "            content = file.read()\n",
    "            word_count = content.lower().count(word_to_find.lower())\n",
    "            print(f\"The word '{word_to_find}' occurred {word_count} times.\")\n",
    "    except FileNotFoundError:\n",
    "        print(f\"The file {file_name} was not found.\")\n",
    "\n",
    "count_word_occurrences(\"example.txt\", \"python\")\n"
   ]
  },
  {
   "cell_type": "markdown",
   "id": "8348b504-83d5-4eda-8e75-84aa286448b7",
   "metadata": {},
   "source": [
    "## 22. Python Program to Check if a File is Empty Before Attempting to Read Its Contents:"
   ]
  },
  {
   "cell_type": "code",
   "execution_count": 67,
   "id": "6d433be7-2833-46b8-b1fd-b878863be923",
   "metadata": {
    "tags": []
   },
   "outputs": [
    {
     "name": "stdout",
     "output_type": "stream",
     "text": [
      "The file example.txt is not empty.\n"
     ]
    }
   ],
   "source": [
    "import os\n",
    "\n",
    "def check_if_empty(file_name):\n",
    "    if os.path.getsize(file_name) == 0:\n",
    "        print(f\"The file {file_name} is empty.\")\n",
    "    else:\n",
    "        print(f\"The file {file_name} is not empty.\")\n",
    "\n",
    "check_if_empty(\"example.txt\")\n",
    "\n"
   ]
  },
  {
   "cell_type": "markdown",
   "id": "ece5ab51-b451-49ed-8edb-8ca64ee4bc43",
   "metadata": {},
   "source": [
    "## 23. Python Program that Logs an Error When an Exception Occurs During File Handling:"
   ]
  },
  {
   "cell_type": "code",
   "execution_count": 68,
   "id": "bb466586-0223-48c0-bb10-5a39eebdbc33",
   "metadata": {
    "tags": []
   },
   "outputs": [
    {
     "name": "stdout",
     "output_type": "stream",
     "text": [
      "Hello, this is a test.This line is added to the end of the file.\n",
      "\n"
     ]
    }
   ],
   "source": [
    "import logging\n",
    "\n",
    "logging.basicConfig(filename='error_log.txt', level=logging.ERROR, format='%(asctime)s - %(levelname)s - %(message)s')\n",
    "\n",
    "def handle_file():\n",
    "    try:\n",
    "        with open(\"example.txt\", \"r\") as file:\n",
    "            content = file.read()\n",
    "            print(content)\n",
    "    except FileNotFoundError:\n",
    "        logging.error(\"File not found: example.txt\")\n",
    "        print(\"Error: The file does not exist.\")\n",
    "    except Exception as e:\n",
    "        logging.error(f\"An error occurred: {e}\")\n",
    "        print(f\"Error: {e}\")\n",
    "\n",
    "handle_file()\n"
   ]
  },
  {
   "cell_type": "code",
   "execution_count": null,
   "id": "54707ae2-add9-4bc9-85d5-4d7b8ba01370",
   "metadata": {},
   "outputs": [],
   "source": []
  }
 ],
 "metadata": {
  "kernelspec": {
   "display_name": "Python 3 (ipykernel)",
   "language": "python",
   "name": "python3"
  },
  "language_info": {
   "codemirror_mode": {
    "name": "ipython",
    "version": 3
   },
   "file_extension": ".py",
   "mimetype": "text/x-python",
   "name": "python",
   "nbconvert_exporter": "python",
   "pygments_lexer": "ipython3",
   "version": "3.11.5"
  }
 },
 "nbformat": 4,
 "nbformat_minor": 5
}
