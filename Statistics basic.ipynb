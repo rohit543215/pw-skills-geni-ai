{
 "cells": [
  {
   "cell_type": "markdown",
   "id": "a26ea140-4094-44c8-b759-3b68dcc1bbac",
   "metadata": {},
   "source": [
    "# Statistics Basics Assignment"
   ]
  },
  {
   "cell_type": "markdown",
   "id": "3cd3cc31-0fa7-4a6d-93ec-024535a5b0f4",
   "metadata": {},
   "source": [
    "## 1. What is statistics, and why is it important?"
   ]
  },
  {
   "cell_type": "markdown",
   "id": "5f348567-c93e-4550-af09-2248cd3d6d05",
   "metadata": {},
   "source": [
    "### 📊 What is Statistics?\n",
    "Statistics is a way to collect, study, and understand data.\n",
    "It helps us find patterns, make smart decisions, and understand what the data is telling us."
   ]
  },
  {
   "cell_type": "markdown",
   "id": "e2001b96-de41-4a78-8d11-bce3c8e50f20",
   "metadata": {},
   "source": [
    "### 🤔 Why is Statistics Important?\n",
    "1. Helps in Decision Making\n",
    "   It guides businesses, governments, and individuals in making better choices using data.\n",
    "\n",
    "2. Finds Patterns\n",
    "   Statistics helps us see trends—for example, how the stock market behaves over time.\n",
    "\n",
    "3. Reduces Confusion\n",
    "   Data can be messy. Statistics helps us understand it clearly and deal with uncertainty.\n",
    "\n",
    "4. Used in AI and Machine Learning\n",
    "   All modern technologies, like AI and stock prediction models, use statistics at their core.\n",
    "\n",
    "5. Tests Ideas\n",
    "   We can check if something really works or not—for example, if a new trading rule is better than the old one."
   ]
  },
  {
   "cell_type": "code",
   "execution_count": null,
   "id": "fd4c7e13-1cd8-43d0-9f8d-31621fee3186",
   "metadata": {},
   "outputs": [],
   "source": []
  },
  {
   "cell_type": "markdown",
   "id": "1636d09f-99f9-4df8-a0a9-6ce2b5d4f632",
   "metadata": {},
   "source": [
    "## 2.What are the two main types of statistics?"
   ]
  },
  {
   "cell_type": "markdown",
   "id": "1108ddb5-13fe-41c1-8ba2-fa471eeeb722",
   "metadata": {},
   "source": [
    "### 1.Descriptive statistics \n",
    "👉 This type describes or summarizes data.\n",
    "it helps us understand the basic features of a dataset by showing.\n",
    "- Averages(mean,median.mode)\n",
    "- Spread(range,standard deviation)\n",
    "- charts(bar graphs,histograms,pie charts)\n",
    "\n",
    "📝 Example:\n",
    "    If you check the average stock price over 30 days, you're using descriptive statistics."
   ]
  },
  {
   "cell_type": "markdown",
   "id": "e34f9d20-28a9-4808-b5d3-8f01cb231c20",
   "metadata": {},
   "source": [
    "### 2. Inferential statistics \n",
    "👉 This type helps us make predictions or decisions based on data.\n",
    "\n",
    "It uses a small sample to draw conclusions about a larger group.\n",
    "\n",
    "It includes:\n",
    "\n",
    "- Hypothesis testing (e.g., t-test, z-test)\n",
    "\n",
    "- Confidence intervals\n",
    "\n",
    "- Regression analysis\n",
    "\n",
    "📝 Example:\n",
    "If you use a few months of stock data to predict future prices, you're using inferential statistics."
   ]
  },
  {
   "cell_type": "code",
   "execution_count": null,
   "id": "ac487ca3-9535-40ab-9792-b2cfbb60bdea",
   "metadata": {},
   "outputs": [],
   "source": []
  },
  {
   "cell_type": "markdown",
   "id": "99ded791-66d1-43d8-9940-62c51e4aacdd",
   "metadata": {},
   "source": [
    "## 3.What are descriptive statistics."
   ]
  },
  {
   "cell_type": "markdown",
   "id": "79e7979b-fe1b-4028-9c66-94ab9f204495",
   "metadata": {},
   "source": [
    "### parts of descriptive statistics.\n",
    "\n",
    "1. Measures of Central Tendency (📍 Where the data is centered)\n",
    "- Mean – the average\n",
    "\n",
    "- Median – the middle value\n",
    "\n",
    "- Mode – the most frequent value\n",
    "\n",
    "2. Measures of Spread/Dispersion (📏 How spread out the data is)\n",
    "- Range – difference between max and min\n",
    "\n",
    "- Standard Deviation – how far data is from the mean\n",
    "\n",
    "- Variance – average of squared differences from the mean\n",
    "\n",
    "3. Data Visualization Tools (📈 To see patterns easily)\n",
    "- Bar charts\n",
    "\n",
    "- Histograms\n",
    "\n",
    "- Pie charts\n",
    "\n",
    "- Box plots"
   ]
  },
  {
   "cell_type": "code",
   "execution_count": null,
   "id": "5a1f21ae-716f-4032-9d66-85b2a2626b90",
   "metadata": {},
   "outputs": [],
   "source": []
  },
  {
   "cell_type": "markdown",
   "id": "677d73d2-f8bb-4402-92a4-7ebbdb8ac948",
   "metadata": {},
   "source": [
    "## 4. What inferential statistics."
   ]
  },
  {
   "cell_type": "markdown",
   "id": "dc712216-fc96-4721-8b65-b6bfe3357208",
   "metadata": {},
   "source": [
    "### Parts of inferential statistics\n",
    "\n",
    "1. Hypothesis testing.\n",
    "- Helps you check if a belief or assumption is likely to be true.\n",
    "- Example: is the average return of stock A better than stock B.\n",
    "\n",
    "2. Confidence Intervals.\n",
    "- gives a range where the true value probably lies\n",
    "- Example: \"we are 95% sure the stock's average return is between 4% and 6%.\"\n",
    "\n",
    "3. Regression analysis.\n",
    "- helps find relationships between variables.\n",
    "- Example: how does the price of a stock depend on interest reates or moon       phases?\n",
    "\n",
    "4. Correlation\n",
    "- measures how two things move together\n",
    "- Example: if the moon goes full, do stock prices rise?"
   ]
  },
  {
   "cell_type": "code",
   "execution_count": null,
   "id": "31a8b88e-fd6e-4357-b294-4a4a8fe9c566",
   "metadata": {},
   "outputs": [],
   "source": [
    "\n"
   ]
  },
  {
   "cell_type": "markdown",
   "id": "8151452c-871a-43cc-8e3b-05118d4542df",
   "metadata": {},
   "source": [
    "## 5. What is sampling in statistics? "
   ]
  },
  {
   "cell_type": "markdown",
   "id": "e682752a-bf8c-4521-add7-610a7482a47d",
   "metadata": {},
   "source": [
    "### What is sampling in statistics?\n",
    "Sampling is the process of selecting a small group (sample) from a larger group \n",
    "(population) to study or analyze.\n",
    "Since studying the whole population is often too big, costly, or time-consuming,\n",
    "we use a sample to make it easier- and then draw conclusions about the entire population."
   ]
  },
  {
   "cell_type": "code",
   "execution_count": null,
   "id": "d94cc111-4020-4cfc-ae69-9f07414f8f2a",
   "metadata": {},
   "outputs": [],
   "source": []
  },
  {
   "cell_type": "markdown",
   "id": "265e5119-1ee2-4894-b1ef-c3d83fcf8eab",
   "metadata": {},
   "source": [
    "## 6. What are the different types of sampling methods?"
   ]
  },
  {
   "cell_type": "markdown",
   "id": "b649fb99-3243-4064-a919-5969b97cd439",
   "metadata": {},
   "source": [
    "### 🔹  Probability Sampling\n",
    "👉 Every member of the population has a known and equal chance of being selected.\n",
    "\n",
    "a. Simple Random Sampling\n",
    "Every person/item has an equal chance.\n",
    "\n",
    "Like picking names from a hat.\n",
    "\n",
    "b. Systematic Sampling\n",
    "Select every kᵗʰ person (e.g., every 10th customer).\n",
    "\n",
    "Start from a random point, then pick with a fixed step.\n",
    "\n",
    "c. Stratified Sampling\n",
    "Divide the population into groups (called strata), then randomly sample from each group.\n",
    "\n",
    "Example: Divide by age or income level, then sample from each group.\n",
    "\n",
    "d. Cluster Sampling\n",
    "Divide population into clusters (e.g., cities, schools), then randomly choose some clusters and sample everyone in them.\n",
    "\n",
    "Useful when population is spread out.\n",
    "\n"
   ]
  },
  {
   "cell_type": "code",
   "execution_count": null,
   "id": "0098b31f-d27b-416a-b454-d77692ccc24e",
   "metadata": {},
   "outputs": [],
   "source": []
  },
  {
   "cell_type": "markdown",
   "id": "30dc3ba9-82ec-4064-a93f-4c2250d1040e",
   "metadata": {},
   "source": [
    "## 7. What is the difference between random and non-random sampling?"
   ]
  },
  {
   "cell_type": "markdown",
   "id": "e5a648a4-30f4-462e-b236-aec81e902d5c",
   "metadata": {},
   "source": [
    "### random sampling \n",
    "✅ Definition:\n",
    "In random sampling, every person or item in the population has an equal chance of being selected.\n",
    "\n",
    "🧠 Why it’s good:\n",
    "\n",
    "Fair and unbiased\n",
    "\n",
    "Results can be trusted more\n",
    "\n",
    "Can represent the whole population well\n",
    "\n",
    "🧪 Example:\n",
    "You have 100 students. You write their names on slips of paper, mix them in a box, and pick 10 randomly."
   ]
  },
  {
   "cell_type": "markdown",
   "id": "883063e5-acd7-402f-9df4-0ccd11d3ca33",
   "metadata": {},
   "source": [
    "### Non-random sampling\n",
    "❌ Definition:\n",
    "In non-random sampling, not everyone has an equal chance of being selected. The sample depends on convenience, judgment, or other non-random methods.\n",
    "\n",
    "🧠 Why it’s used:\n",
    "\n",
    "Quick and easy\n",
    "\n",
    "Good when random selection is not possible\n",
    "\n",
    "Useful for specific groups (like rare cases)\n",
    "\n",
    "🧪 Example:\n",
    "You ask the first 10 people you meet in a mall to take your survey"
   ]
  },
  {
   "cell_type": "code",
   "execution_count": null,
   "id": "09e6d259-2c07-42ff-86d4-6eb6c546bf28",
   "metadata": {},
   "outputs": [],
   "source": []
  },
  {
   "cell_type": "markdown",
   "id": "705a53fe-6f74-4ac6-8175-2f52f2abaec3",
   "metadata": {},
   "source": [
    "### 8. Define and give examples of qualitative and quantative data."
   ]
  },
  {
   "cell_type": "markdown",
   "id": "4b21ef90-251a-4060-bf0e-f14d837c605c",
   "metadata": {},
   "source": [
    "### 🔹 Qualitative Data (also called Categorical Data)\n",
    "✅ Definition:\n",
    "Qualitative data describes qualities or categories — things that can't be measured with numbers.\n",
    "\n",
    "📌 It answers: \"What kind?\" or \"Which type?\"\n",
    "\n",
    "🧪 Examples:\n",
    "\n",
    "Eye color (blue, green, brown)\n",
    "\n",
    "Type of stock (Tech, Pharma, Banking)\n",
    "\n",
    "Weather condition (Sunny, Rainy, Cloudy)\n",
    "\n",
    "Customer feedback (Good, Bad, Excellent)"
   ]
  },
  {
   "cell_type": "markdown",
   "id": "635fd91f-0c68-4459-a11f-5fa063614c14",
   "metadata": {},
   "source": [
    "### 🔸 Quantitative Data (also called Numerical Data)\n",
    "✅ Definition:\n",
    "Quantitative data deals with numbers and amounts — things that can be counted or measured.\n",
    "\n",
    "📌 It answers: \"How much?\" or \"How many?\"\n",
    "\n",
    "🧪 Examples:\n",
    "\n",
    "Stock price (₹150.75, ₹402.50)\n",
    "\n",
    "Number of trades in a day (e.g., 120 trades)\n",
    "\n",
    "Age (e.g., 25 years)\n",
    "\n",
    "Temperature (e.g., 32°C)"
   ]
  },
  {
   "cell_type": "code",
   "execution_count": null,
   "id": "4055722b-3027-4c50-a511-f8f5aece8f3d",
   "metadata": {},
   "outputs": [],
   "source": []
  },
  {
   "cell_type": "markdown",
   "id": "a18d8c1f-1b3d-424f-b052-cd9c3b4045b4",
   "metadata": {},
   "source": [
    "## 9. What are the different types of data in statistics?"
   ]
  },
  {
   "cell_type": "markdown",
   "id": "cbb114bd-6258-456e-8845-fe9d1f7d1ac0",
   "metadata": {},
   "source": [
    "### Qualitative Data (Categorical Data)\n",
    "    This type of data describes qualities, labels, or categories. It cannot be     measured in numbers\n",
    "\n",
    "###  Quantitative Data (Numerical Data)\n",
    "     This type of data deals with numbers and can be measured or counted."
   ]
  },
  {
   "cell_type": "code",
   "execution_count": null,
   "id": "b723610f-b134-4eac-a93c-fd9a095b8d6f",
   "metadata": {},
   "outputs": [],
   "source": []
  },
  {
   "cell_type": "markdown",
   "id": "e6331840-543b-404f-b69e-5bcc370153e3",
   "metadata": {},
   "source": [
    "## 10.Explain nominal,ordinal,interval, and ratio levels of measurement."
   ]
  },
  {
   "cell_type": "markdown",
   "id": "83f9384a-a01e-4f7d-a152-6594353688db",
   "metadata": {},
   "source": [
    "###  1. Nominal Level\n",
    "✅ Definition:\n",
    "Data is classified into categories, but there is no order or ranking.\n",
    "\n",
    "📌 Think: Names or labels only\n",
    "\n",
    "🧪 Examples:\n",
    "\n",
    "Stock sector: Tech, Pharma, Banking\n",
    "\n",
    "Blood type: A, B, AB, O\n",
    "\n",
    "Zodiac sign: Aries, Taurus, Gemini...\n",
    "\n",
    "🚫 You can’t say one is greater than the other."
   ]
  },
  {
   "cell_type": "markdown",
   "id": "2c90fd98-8e3a-4953-bff1-1e8af02944c7",
   "metadata": {},
   "source": [
    "### 🔸 2. Ordinal Level\n",
    "✅ Definition:\n",
    "Data is placed in order, but the differences between values are unknown or meaningless.\n",
    "\n",
    "📌 Think: Rankings or positions\n",
    "\n",
    "🧪 Examples:\n",
    "\n",
    "Stock rating: High, Medium, Low\n",
    "\n",
    "Customer satisfaction: Excellent, Good, Fair, Poor\n",
    "\n",
    "Astrological strength: Strong, Medium, Weak\n",
    "\n",
    "🚫 You can’t do math with the differences (e.g., can’t say how much better “High” is than “Medium”).\n",
    "\n"
   ]
  },
  {
   "cell_type": "markdown",
   "id": "622d5554-705c-4d0c-8e94-cc83051638ea",
   "metadata": {},
   "source": [
    "### 🔹 3. Interval Level\n",
    "✅ Definition:\n",
    "Data is ordered, and the difference between values is meaningful, but no true zero.\n",
    "\n",
    "📌 Think: You can measure the difference, but not the full absence\n",
    "\n",
    "🧪 Examples:\n",
    "\n",
    "Temperature in Celsius or Fahrenheit (0°C doesn’t mean “no temperature”)\n",
    "\n",
    "Dates (e.g., year 2000, 2020 – difference matters, but no true zero year)\n",
    "\n",
    "🚫 You can’t multiply/divide the values meaningfully."
   ]
  },
  {
   "cell_type": "markdown",
   "id": "b35c7d2a-bc83-464c-9f0f-6a9d1206733a",
   "metadata": {},
   "source": [
    "### 🔸 4. Ratio Level\n",
    "✅ Definition:\n",
    "Data has all the features of interval data plus a true zero, so you can do all math operations.\n",
    "\n",
    "📌 Think: Numbers with full meaning and a real zero\n",
    "\n",
    "🧪 Examples:\n",
    "\n",
    "Stock price (₹0 means no value)\n",
    "\n",
    "Age, height, weight\n",
    "\n",
    "Trading volume (0 trades = none)\n",
    "\n",
    "✅ You can add, subtract, multiply, divide."
   ]
  },
  {
   "cell_type": "code",
   "execution_count": null,
   "id": "5b30a151-77ee-4056-8ae2-e0b448a93a2d",
   "metadata": {},
   "outputs": [],
   "source": []
  },
  {
   "cell_type": "markdown",
   "id": "d6aad6a2-4002-4bbf-8a00-721e2630b57b",
   "metadata": {},
   "source": [
    "## 11. What is the measure  of central tendency?"
   ]
  },
  {
   "cell_type": "markdown",
   "id": "c5a16d4f-1ed9-408a-aa3e-70130465aa8d",
   "metadata": {},
   "source": [
    "### ✳️ There are three main measures:"
   ]
  },
  {
   "cell_type": "markdown",
   "id": "448cf5a0-6a5d-44f8-87b8-953dad064373",
   "metadata": {},
   "source": [
    "### 🔹 1. Mean (Average)\n",
    "Add all the values, then divide by how many values there are.\n",
    "\n",
    "🧪 Example:\n",
    "Stock prices: ₹100, ₹150, ₹200\n",
    "Mean = (100 + 150 + 200) ÷ 3 = ₹150\n",
    "\n",
    "### 🔹 2. Median (Middle value)\n",
    "Arrange the data in order, and pick the middle value.\n",
    "\n",
    "If even number of values, take the average of the two middle ones.\n",
    "\n",
    "🧪 Example:\n",
    "Prices: ₹100, ₹150, ₹200 → Median = ₹150\n",
    "Prices: ₹100, ₹150, ₹180, ₹200 → Median = (150 + 180) ÷ 2 = ₹165\n",
    "\n",
    "### 🔹 3. Mode (Most frequent value)\n",
    "The value that appears most often in the data.\n",
    "\n",
    "🧪 Example:\n",
    "Prices: ₹120, ₹130, ₹120, ₹140 → Mode = ₹120\n",
    "\n"
   ]
  },
  {
   "cell_type": "code",
   "execution_count": null,
   "id": "cc4d7f45-57d2-4d6e-9d51-48fc18da1f3f",
   "metadata": {},
   "outputs": [],
   "source": []
  },
  {
   "cell_type": "markdown",
   "id": "abb92980-7029-4bb3-9fca-f6f6b4b63a41",
   "metadata": {},
   "source": [
    "## 12. Define mean,median,mode."
   ]
  },
  {
   "cell_type": "markdown",
   "id": "254c7fa1-4c0d-49a9-82d3-65b6c4cf38b7",
   "metadata": {
    "tags": []
   },
   "source": [
    "### 🔹 1. Mean (Average)\n",
    "Add all the values, then divide by how many values there are.\n",
    "\n",
    "🧪 Example:\n",
    "Stock prices: ₹100, ₹150, ₹200\n",
    "Mean = (100 + 150 + 200) ÷ 3 = ₹150\n",
    "\n",
    "### 🔹 2. Median (Middle value)\n",
    "Arrange the data in order, and pick the middle value.\n",
    "\n",
    "If even number of values, take the average of the two middle ones.\n",
    "\n",
    "🧪 Example:\n",
    "Prices: ₹100, ₹150, ₹200 → Median = ₹150\n",
    "Prices: ₹100, ₹150, ₹180, ₹200 → Median = (150 + 180) ÷ 2 = ₹165\n",
    "\n",
    "### 🔹 3. Mode (Most frequent value)\n",
    "The value that appears most often in the data.\n",
    "\n",
    "🧪 Example:\n",
    "Prices: ₹120, ₹130, ₹120, ₹140 → Mode = ₹120\n",
    "\n"
   ]
  },
  {
   "cell_type": "code",
   "execution_count": null,
   "id": "bbadf04f-751a-4cf0-84b2-823b8622c620",
   "metadata": {},
   "outputs": [],
   "source": []
  },
  {
   "cell_type": "markdown",
   "id": "a01c2081-9ce8-41dc-8502-42a3993e4527",
   "metadata": {
    "tags": []
   },
   "source": [
    "## 13.What is the significance of the measure of central tendency?"
   ]
  },
  {
   "cell_type": "markdown",
   "id": "4275ff98-a625-4d4d-9af7-dfa83de2299a",
   "metadata": {},
   "source": [
    "### 🔹 1. Simplifies Complex Data\n",
    "It summarizes a large dataset into a single value that represents the entire group.\n",
    "\n",
    "🧠 Example:\n",
    "Instead of looking at 100 stock prices, we say “the average price is ₹152.”\n",
    "\n",
    "### 🔹 2. Helps in Comparison\n",
    "We can compare two or more datasets easily using their central values.\n",
    "\n",
    "🧠 Example:\n",
    "Compare average returns of two stocks or sectors.\n",
    "\n",
    "### 🔹 3. Useful for Decision-Making\n",
    "Businesses, analysts, and investors use it to make informed decisions.\n",
    "\n",
    "🧠 Example:\n",
    "If the average customer rating is low, the company knows improvement is needed.\n",
    "\n",
    "### 🔹 4. Basis for Further Analysis\n",
    "It is the starting point for deeper statistical analysis like:\n",
    "\n",
    "- Variance\n",
    "\n",
    "- Standard deviation\n",
    "\n",
    "- Hypothesis testing\n",
    "\n"
   ]
  },
  {
   "cell_type": "code",
   "execution_count": null,
   "id": "58335f3a-0d75-49ab-bf50-495c707e885d",
   "metadata": {},
   "outputs": [],
   "source": []
  },
  {
   "cell_type": "markdown",
   "id": "dcd85aa1-9094-4efe-8770-fb7530f59b32",
   "metadata": {},
   "source": [
    "## 14. What is variance,and how is it calculated?"
   ]
  },
  {
   "cell_type": "markdown",
   "id": "3f243ac0-c80d-4405-b149-23d811d917c2",
   "metadata": {},
   "source": [
    "### 🔢 Formula to Calculate Variance:\n",
    "- Population Variance\n",
    "\n",
    "Variance (σ²) = Σ (xi - μ)² / N\n"
   ]
  },
  {
   "cell_type": "markdown",
   "id": "c5f9757b-4900-4d42-99aa-a7b5090cbb2a",
   "metadata": {
    "tags": []
   },
   "source": [
    "- Sample Variance\n",
    "\n",
    "Variance (s²) = Σ (xi - x̄)² / (n - 1)\n"
   ]
  },
  {
   "cell_type": "code",
   "execution_count": null,
   "id": "c9b69835-13dd-4027-a074-10a9416a6df5",
   "metadata": {},
   "outputs": [],
   "source": []
  },
  {
   "cell_type": "markdown",
   "id": "4c92b4d1-bd2b-4beb-a3bd-ec3dfd256ec1",
   "metadata": {},
   "source": [
    "## 15.What is standard deviation, and why is it important?"
   ]
  },
  {
   "cell_type": "markdown",
   "id": "e3f2ebd7-3e32-4743-8968-d8aa1cd0a973",
   "metadata": {},
   "source": [
    "### ✅ What is Standard Deviation?\n",
    "Standard deviation (SD) measures how spread out or how much variation there is in a set of data values.\n",
    "\n",
    "It is the square root of the variance.\n",
    "\n",
    "It tells us, on average, how far each data point is from the mean."
   ]
  },
  {
   "cell_type": "markdown",
   "id": "37097ec7-ece3-4798-9d6a-77ff67c0c1e6",
   "metadata": {},
   "source": [
    "### 🎯 Why is it Important?\n",
    "It helps understand risk or volatility, especially in stock prices or investments.\n",
    "\n",
    "The smaller the SD, the closer the data points are to the mean (less risk).\n",
    "\n",
    "The larger the SD, the more spread out the data is (more risk).\n",
    "\n",
    "Used in statistical analysis for confidence intervals, hypothesis testing, and quality control.\n",
    "\n",
    "Helps in making informed decisions based on how consistent or variable the data is."
   ]
  },
  {
   "cell_type": "code",
   "execution_count": null,
   "id": "74119da0-cb7a-42c2-8044-4f896837e793",
   "metadata": {},
   "outputs": [],
   "source": []
  },
  {
   "cell_type": "markdown",
   "id": "519f220f-99de-4946-a2bf-f7cf20188c67",
   "metadata": {},
   "source": [
    "## 16. Define and explain the term range in statistics?"
   ]
  },
  {
   "cell_type": "markdown",
   "id": "64b1f505-5620-43ee-b6eb-b1d5d948832f",
   "metadata": {},
   "source": [
    "### ✅ What is Range?\n",
    "The range is the difference between the largest and smallest values in a dataset.\n",
    "\n",
    "It tells us how spread out the data is — the total span from the minimum to the maximum.\n",
    "\n"
   ]
  },
  {
   "cell_type": "markdown",
   "id": "adca8d0a-6961-482b-ab74-8e3f48f6bdeb",
   "metadata": {},
   "source": [
    "### 🔢 Formula:\n",
    "Range=Maximum value−Minimum value\n"
   ]
  },
  {
   "cell_type": "code",
   "execution_count": null,
   "id": "abbcc82d-8fae-4666-8d87-e39875574a8a",
   "metadata": {},
   "outputs": [],
   "source": []
  },
  {
   "cell_type": "markdown",
   "id": "8b0b05a7-5b1d-4d4a-a361-0aebcb3b2282",
   "metadata": {},
   "source": [
    "## 17. What is the difference between variance and standard variation."
   ]
  },
  {
   "cell_type": "markdown",
   "id": "f5e0fbca-54e2-4116-81b0-bcebad66dfd5",
   "metadata": {},
   "source": [
    "###\n",
    "- Variance tells you how spread out the data is squared units.\n",
    "\n",
    "- Standard deviation tells you how spread out the data is in the original       units, making it easier to understand."
   ]
  },
  {
   "cell_type": "code",
   "execution_count": null,
   "id": "7a59a88b-ca22-4f18-a6c5-392ec9611c0d",
   "metadata": {},
   "outputs": [],
   "source": []
  },
  {
   "cell_type": "markdown",
   "id": "3de859b8-b06a-457e-921e-38478c20f7b8",
   "metadata": {},
   "source": [
    "## 18. What is the skewness in a dataset?"
   ]
  },
  {
   "cell_type": "markdown",
   "id": "0ffbecf0-3dfc-483b-8965-85858dae497c",
   "metadata": {},
   "source": [
    "### Skewness tells us about the asymmetry (lack of balance) in a dataset’s distribution.\n",
    "### It shows whether the data is symmetrical, or leans more to the left or right of the average (mean)."
   ]
  },
  {
   "cell_type": "code",
   "execution_count": null,
   "id": "a0cde997-d1a5-4530-9b8d-90694bfa846d",
   "metadata": {},
   "outputs": [],
   "source": []
  },
  {
   "cell_type": "markdown",
   "id": "fc012f8e-f0a2-4b5c-9912-3037bfd876db",
   "metadata": {},
   "source": [
    "## 19. What does it mean if a dataset is positively or negatively skewed?"
   ]
  },
  {
   "cell_type": "markdown",
   "id": "8cae3449-d707-46a0-8319-063d459500a1",
   "metadata": {},
   "source": [
    "### 🔸 Positively Skewed (Right-Skewed)\n",
    "The tail is longer on the right side.\n",
    "\n",
    "Most values are smaller, but a few large values pull the mean up.\n",
    "\n",
    "Mean > Median > Mode"
   ]
  },
  {
   "cell_type": "markdown",
   "id": "020987b1-5068-406b-b186-19bbe075c570",
   "metadata": {},
   "source": [
    "        *\n",
    "       **\n",
    "     ****\n",
    " ********\n",
    "*\n"
   ]
  },
  {
   "cell_type": "markdown",
   "id": "a9c3c70b-fcc7-4318-b39b-5763456cbb65",
   "metadata": {},
   "source": [
    "### 🔹 Negatively Skewed (Left-Skewed)\n",
    "The tail is longer on the left side.\n",
    "\n",
    "Most values are higher, but a few very small values pull the mean down.\n",
    "\n",
    "Mean < Median < Mode"
   ]
  },
  {
   "cell_type": "markdown",
   "id": "6d4be65f-0a08-42f3-b0af-a9bb9936f932",
   "metadata": {},
   "source": [
    "     *\n",
    "********\n",
    "     ****\n",
    "       **\n",
    "        *\n"
   ]
  },
  {
   "cell_type": "code",
   "execution_count": null,
   "id": "a9fbefaa-a14a-4527-95f7-1c2b01379e8a",
   "metadata": {},
   "outputs": [],
   "source": []
  },
  {
   "cell_type": "markdown",
   "id": "59b01ea4-4120-4b10-b32d-2920cd7f48a5",
   "metadata": {},
   "source": [
    "## 20. Define and explain kurtosis."
   ]
  },
  {
   "cell_type": "markdown",
   "id": "1243c0a3-317d-40b4-9066-e03e8a80d00d",
   "metadata": {},
   "source": [
    "### ✅ What is Kurtosis?\n",
    "Kurtosis measures how \"peaked\" or \"flat\" a data distribution is compared to a normal (bell-shaped) curve."
   ]
  },
  {
   "cell_type": "markdown",
   "id": "e688b35a-3e87-460f-b45b-51ae4345421f",
   "metadata": {},
   "source": [
    "### 📊 Types of Kurtosis:\n",
    "🔹 1. Mesokurtic (Normal Kurtosis)\n",
    "Peak and tails are normal\n",
    "\n",
    "Like a bell curve\n",
    "\n",
    "Kurtosis value ≈ 3\n",
    "\n",
    "🔹 2. Leptokurtic (High Kurtosis)\n",
    "Sharp peak and fat tails\n",
    "\n",
    "More outliers/extreme values\n",
    "\n",
    "Kurtosis > 3\n",
    "\n",
    "🧪 Example: Stock returns with frequent extreme gains or losses\n",
    "\n",
    "🔹 3. Platykurtic (Low Kurtosis)\n",
    "Flat peak and thin tails\n",
    "\n",
    "Fewer outliers\n",
    "\n",
    "Kurtosis < 3\n",
    "\n",
    "🧪 Example: Test scores clustered near average, few highs/lows"
   ]
  },
  {
   "cell_type": "code",
   "execution_count": null,
   "id": "df51a39e-ddf3-4c91-9067-43b635321ba4",
   "metadata": {},
   "outputs": [],
   "source": []
  },
  {
   "cell_type": "markdown",
   "id": "6f08039f-adaa-4723-935e-ec2ac68ccf35",
   "metadata": {},
   "source": [
    "## 21. What is the purpose of covariance."
   ]
  },
  {
   "cell_type": "markdown",
   "id": "1fb1f27e-7794-42ae-a2dc-37bc87599f0d",
   "metadata": {},
   "source": [
    "### ✅ Definition:\n",
    "Covariance measures how two variables change together.\n",
    "\n",
    "If both variables increase or decrease together, covariance is positive.\n",
    "\n",
    "If one increases while the other decreases, covariance is negative.\n",
    "\n"
   ]
  },
  {
   "cell_type": "markdown",
   "id": "c7fc6bdb-3aca-4897-bad6-1b96cf3aa58e",
   "metadata": {},
   "source": [
    "🔢 Formula:\n",
    "    Cov(X, Y) = Σ [(xi - x̄)(yi - ȳ)] / (n - 1)\n"
   ]
  },
  {
   "cell_type": "code",
   "execution_count": null,
   "id": "8e5333b3-8cd2-46ee-bd08-96b67e01aea8",
   "metadata": {},
   "outputs": [],
   "source": []
  },
  {
   "cell_type": "markdown",
   "id": "7b329321-c91c-4862-ba3d-28bf909bcbc2",
   "metadata": {},
   "source": [
    "## 22. What does correlation measure in statistics?"
   ]
  },
  {
   "cell_type": "markdown",
   "id": "b61cf57d-c047-4ef4-8b6b-0a3233e0be2b",
   "metadata": {},
   "source": [
    "### ✅ Definition:\n",
    "Correlation measures the strength and direction of a relationship between two variables.\n",
    "\n",
    "It tells us how closely two variables move together.\n",
    "\n",
    "Values range between -1 and +1."
   ]
  },
  {
   "cell_type": "markdown",
   "id": "9e52ca43-878d-45cb-b7ac-d9c60f7451ce",
   "metadata": {},
   "source": [
    "## 23. What is the difference between covariance and correlation?"
   ]
  },
  {
   "cell_type": "markdown",
   "id": "9267c426-e4d4-4170-96e6-8a266eade6c3",
   "metadata": {},
   "source": [
    "- Covariance tells if variables move together (but not how strongly).\n",
    "\n",
    "- Correlation tells how strongly and in what direction they move together, with values from -1 to +1."
   ]
  },
  {
   "cell_type": "markdown",
   "id": "693f2cdb-78b2-454f-a64e-785fbfbb6e53",
   "metadata": {},
   "source": [
    "🧪 Example:\n",
    "If stock A and stock B both go up and down together:\n",
    "\n",
    "- Covariance = +50 (positive, but hard to interpret)\n",
    "\n",
    "- Correlation = +0.85 (strong positive relationship, easy to understand)"
   ]
  },
  {
   "cell_type": "code",
   "execution_count": null,
   "id": "5558b6f5-3d46-4c49-a515-1654235cb03e",
   "metadata": {},
   "outputs": [],
   "source": []
  },
  {
   "cell_type": "markdown",
   "id": "01ec2367-c57a-4dfb-b82f-b01717bdcb08",
   "metadata": {},
   "source": [
    "## 24. What are some real-world applications of statistics?"
   ]
  },
  {
   "cell_type": "markdown",
   "id": "3d392e39-9ea3-4009-9acb-5bcee0dcf2ec",
   "metadata": {},
   "source": [
    "### 🔹 1. Business & Marketing\n",
    "- Understand customer behavior\n",
    "\n",
    "- Analyze sales trends\n",
    "\n",
    "- Target ads based on user data\n",
    "\n",
    "🧪 Example: Companies use statistics to find which products are most popular and when to run sales.\n",
    "\n"
   ]
  },
  {
   "cell_type": "markdown",
   "id": "1163125f-1cbe-44e9-bc0b-3a43cc3a9d10",
   "metadata": {},
   "source": [
    "### 🔹 2. Healthcare\n",
    "- Analyze the effectiveness of medicines\n",
    "\n",
    "- Track disease spread (like COVID-19)\n",
    "\n",
    "- Plan hospital resources\n",
    "\n",
    "🧪 Example: Hospitals use statistics to predict how many patients they may get during flu season."
   ]
  },
  {
   "cell_type": "markdown",
   "id": "d3b3271e-fff9-4c88-8924-5b2310b5bc94",
   "metadata": {},
   "source": [
    "### 🔹 3. Education\n",
    "- Measure student performance\n",
    "\n",
    "- Design fair exams\n",
    "\n",
    "- Improve teaching methods\n",
    "\n",
    "🧪 Example: Schools use statistics to compare average scores and improve weak areas.\n",
    "\n"
   ]
  },
  {
   "cell_type": "markdown",
   "id": "7905e7a5-d697-4fa1-a53e-0ffcffa861ec",
   "metadata": {},
   "source": [
    "### 🔹 4. Finance & Stock Market\n",
    "- Risk analysis\n",
    "\n",
    "- Portfolio optimization\n",
    "\n",
    "- Stock price predictions\n",
    "\n",
    "🧪 Example: Investors use statistical models to decide which stocks are likely to grow."
   ]
  },
  {
   "cell_type": "code",
   "execution_count": null,
   "id": "bbd0a122-5dd9-4b5a-9a65-697d8c35616f",
   "metadata": {},
   "outputs": [],
   "source": []
  },
  {
   "cell_type": "code",
   "execution_count": null,
   "id": "93c5833d-fe47-40ad-9560-e2f4feada0e4",
   "metadata": {},
   "outputs": [],
   "source": []
  },
  {
   "cell_type": "code",
   "execution_count": null,
   "id": "99f2366e-43a8-44f9-8f59-c2e60947376c",
   "metadata": {},
   "outputs": [],
   "source": []
  },
  {
   "cell_type": "markdown",
   "id": "8bcd638b-d592-4f64-90d4-7d1295acecd9",
   "metadata": {},
   "source": [
    "# Practical Questions"
   ]
  },
  {
   "cell_type": "markdown",
   "id": "1747c4a0-d38c-4da0-b24a-3ccb8befbbe0",
   "metadata": {},
   "source": [
    "## How do you calculate the mean,median, and mode of a dataset?"
   ]
  },
  {
   "cell_type": "code",
   "execution_count": 6,
   "id": "ac176616-3e0f-4656-bd41-b20ef8a33003",
   "metadata": {
    "tags": []
   },
   "outputs": [
    {
     "name": "stdout",
     "output_type": "stream",
     "text": [
      "Mean: 8.571428571428571\n",
      "Median: 7\n",
      "Mode: 7\n"
     ]
    }
   ],
   "source": [
    "import statistics\n",
    "\n",
    "# Sample dataset\n",
    "data = [5, 7, 9, 10, 15, 7, 7]\n",
    "\n",
    "# Calculate Mean\n",
    "mean = statistics.mean(data)\n",
    "\n",
    "# Calculate Median\n",
    "median = statistics.median(data)\n",
    "\n",
    "# Calculate Mode\n",
    "mode = statistics.mode(data)\n",
    "\n",
    "# Print results\n",
    "print(\"Mean:\", mean)\n",
    "print(\"Median:\", median)\n",
    "print(\"Mode:\", mode)\n"
   ]
  },
  {
   "cell_type": "code",
   "execution_count": null,
   "id": "f04a71e5-101c-4167-83cd-45425c3e5d41",
   "metadata": {},
   "outputs": [],
   "source": []
  },
  {
   "cell_type": "markdown",
   "id": "5472e387-08ca-479a-b34a-38bb427c87ce",
   "metadata": {},
   "source": [
    "## 2. Write a python program to compute the variance and standard deviation of a dataset. "
   ]
  },
  {
   "cell_type": "code",
   "execution_count": 10,
   "id": "6e71d0a3-8a86-424c-b624-18698dde7c5b",
   "metadata": {
    "tags": []
   },
   "outputs": [
    {
     "name": "stdout",
     "output_type": "stream",
     "text": [
      "Variance: 14.2\n",
      "Standard Deviation: 3.7682887362833544\n"
     ]
    }
   ],
   "source": [
    "import statistics\n",
    "\n",
    "# Sample dataset\n",
    "data = [5, 7, 9, 10, 15]\n",
    "\n",
    "# Calculate variance\n",
    "variance = statistics.variance(data)\n",
    "\n",
    "standard_deviation = statistics.stdev(data)\n",
    "\n",
    "\n",
    "# Print result\n",
    "print(\"Variance:\", variance)\n",
    "print(\"Standard Deviation:\", standard_deviation)\n"
   ]
  },
  {
   "cell_type": "code",
   "execution_count": null,
   "id": "f2db3d04-d066-4a38-92b0-3e8c89558707",
   "metadata": {},
   "outputs": [],
   "source": []
  },
  {
   "cell_type": "markdown",
   "id": "510f5132-ca22-4423-809a-9d43e110df8d",
   "metadata": {},
   "source": [
    "## 3.Create a dataset and classify it into nominal,ordial, interval, and ratio types."
   ]
  },
  {
   "cell_type": "code",
   "execution_count": 11,
   "id": "2d38b67e-8656-4e04-b6d2-5649ea29aabc",
   "metadata": {
    "tags": []
   },
   "outputs": [
    {
     "name": "stdout",
     "output_type": "stream",
     "text": [
      "Dataset:\n",
      "   Person  Gender Education Level  Temperature (°C)  Height (cm)\n",
      "0      A    Male     High School                25          170\n",
      "1      B  Female      Bachelor's                30          160\n",
      "2      C    Male        Master's                20          180\n",
      "3      D  Female             PhD                22          165\n",
      "\n",
      "Data Type Classification:\n",
      "Gender: Nominal\n",
      "Education Level: Ordinal\n",
      "Temperature (°C): Interval\n",
      "Height (cm): Ratio\n"
     ]
    }
   ],
   "source": [
    "import pandas as pd\n",
    "\n",
    "# Create the dataset\n",
    "data = {\n",
    "    \"Person\": [\"A\", \"B\", \"C\", \"D\"],\n",
    "    \"Gender\": [\"Male\", \"Female\", \"Male\", \"Female\"],                # Nominal\n",
    "    \"Education Level\": [\"High School\", \"Bachelor's\", \"Master's\", \"PhD\"],  # Ordinal\n",
    "    \"Temperature (°C)\": [25, 30, 20, 22],                          # Interval\n",
    "    \"Height (cm)\": [170, 160, 180, 165]                            # Ratio\n",
    "}\n",
    "\n",
    "df = pd.DataFrame(data)\n",
    "\n",
    "# Print dataset\n",
    "print(\"Dataset:\\n\", df)\n",
    "\n",
    "# Classification dictionary\n",
    "classification = {\n",
    "    \"Gender\": \"Nominal\",\n",
    "    \"Education Level\": \"Ordinal\",\n",
    "    \"Temperature (°C)\": \"Interval\",\n",
    "    \"Height (cm)\": \"Ratio\"\n",
    "}\n",
    "\n",
    "print(\"\\nData Type Classification:\")\n",
    "for column, dtype in classification.items():\n",
    "    print(f\"{column}: {dtype}\")\n"
   ]
  },
  {
   "cell_type": "code",
   "execution_count": null,
   "id": "316e210d-6050-4147-bf71-63cefe09079f",
   "metadata": {},
   "outputs": [],
   "source": []
  },
  {
   "cell_type": "markdown",
   "id": "9593301f-5bb0-4694-8718-2de6ec62300b",
   "metadata": {},
   "source": [
    "## 4. Implement sampling techniques like random sampling and stratified sampling."
   ]
  },
  {
   "cell_type": "code",
   "execution_count": 12,
   "id": "f8c8fdcd-93a2-494b-896f-a97f07d781e1",
   "metadata": {
    "tags": []
   },
   "outputs": [
    {
     "name": "stdout",
     "output_type": "stream",
     "text": [
      "Original Dataset:\n",
      "    ID  Gender  Score\n",
      "0    1    Male     55\n",
      "1    2  Female     60\n",
      "2    3    Male     65\n",
      "3    4  Female     70\n",
      "4    5    Male     75\n",
      "5    6  Female     80\n",
      "6    7    Male     85\n",
      "7    8  Female     90\n",
      "8    9    Male     95\n",
      "9   10  Female    100\n",
      "10  11    Male     58\n",
      "11  12  Female     63\n",
      "12  13    Male     68\n",
      "13  14  Female     73\n",
      "14  15    Male     78\n",
      "15  16  Female     83\n",
      "16  17    Male     88\n",
      "17  18  Female     93\n",
      "18  19    Male     98\n",
      "19  20  Female    103\n",
      "\n",
      "Random Sample (5 rows):\n",
      "    ID  Gender  Score\n",
      "0    1    Male     55\n",
      "17  18  Female     93\n",
      "15  16  Female     83\n",
      "1    2  Female     60\n",
      "8    9    Male     95\n",
      "\n",
      "Stratified Sample (25% of data):\n",
      "    ID  Gender  Score\n",
      "18  19    Male     98\n",
      "0    1    Male     55\n",
      "11  12  Female     63\n",
      "12  13    Male     68\n",
      "1    2  Female     60\n",
      "\n",
      "Original Gender Distribution:\n",
      "Gender\n",
      "Male      0.5\n",
      "Female    0.5\n",
      "Name: proportion, dtype: float64\n",
      "\n",
      "Stratified Sample Gender Distribution:\n",
      "Gender\n",
      "Male      0.6\n",
      "Female    0.4\n",
      "Name: proportion, dtype: float64\n"
     ]
    }
   ],
   "source": [
    "import pandas as pd\n",
    "from sklearn.model_selection import train_test_split\n",
    "\n",
    "# Sample dataset\n",
    "data = {\n",
    "    \"ID\": range(1, 21),\n",
    "    \"Gender\": [\"Male\", \"Female\"] * 10,\n",
    "    \"Score\": [55, 60, 65, 70, 75, 80, 85, 90, 95, 100,\n",
    "              58, 63, 68, 73, 78, 83, 88, 93, 98, 103]\n",
    "}\n",
    "\n",
    "df = pd.DataFrame(data)\n",
    "\n",
    "print(\"Original Dataset:\")\n",
    "print(df)\n",
    "\n",
    "# --- Random Sampling ---\n",
    "# Sample 5 random rows (without replacement)\n",
    "random_sample = df.sample(n=5, random_state=42)\n",
    "print(\"\\nRandom Sample (5 rows):\")\n",
    "print(random_sample)\n",
    "\n",
    "# --- Stratified Sampling ---\n",
    "# We want to sample maintaining proportion of 'Gender'\n",
    "# Using train_test_split with stratify option\n",
    "\n",
    "strat_sample, _ = train_test_split(\n",
    "    df, test_size=0.75, stratify=df['Gender'], random_state=42\n",
    ")\n",
    "\n",
    "print(\"\\nStratified Sample (25% of data):\")\n",
    "print(strat_sample)\n",
    "\n",
    "# Check proportion of Gender in original and sample\n",
    "print(\"\\nOriginal Gender Distribution:\")\n",
    "print(df['Gender'].value_counts(normalize=True))\n",
    "\n",
    "print(\"\\nStratified Sample Gender Distribution:\")\n",
    "print(strat_sample['Gender'].value_counts(normalize=True))\n",
    "\n"
   ]
  },
  {
   "cell_type": "code",
   "execution_count": null,
   "id": "c876aae8-097b-47bd-931f-df47e9ceaf34",
   "metadata": {},
   "outputs": [],
   "source": []
  },
  {
   "cell_type": "markdown",
   "id": "aeee7eab-f5ed-4235-a241-7c20e9faf21d",
   "metadata": {},
   "source": [
    "## 5. Write a python function to calculate the range of a dataset."
   ]
  },
  {
   "cell_type": "code",
   "execution_count": 13,
   "id": "01ed45f6-389e-4b45-bcd3-4fb6b9c87ca4",
   "metadata": {
    "tags": []
   },
   "outputs": [
    {
     "name": "stdout",
     "output_type": "stream",
     "text": [
      "Range: 10\n"
     ]
    }
   ],
   "source": [
    "def calculate_range(data):\n",
    "    return max(data) - min(data)\n",
    "\n",
    "# Example\n",
    "data = [5, 7, 9, 10, 15]\n",
    "print(\"Range:\", calculate_range(data))\n"
   ]
  },
  {
   "cell_type": "code",
   "execution_count": null,
   "id": "d4a573ce-2e71-4062-b424-37e3259fbbe1",
   "metadata": {},
   "outputs": [],
   "source": []
  },
  {
   "cell_type": "markdown",
   "id": "d0f85f16-7f8a-46b1-90e4-1605075b5876",
   "metadata": {},
   "source": [
    "## 6.Create a dataset and plot it's histogram to visualize skewness."
   ]
  },
  {
   "cell_type": "code",
   "execution_count": 14,
   "id": "9c96ef5a-65ce-4c19-aa92-ae035e40f124",
   "metadata": {
    "tags": []
   },
   "outputs": [
    {
     "data": {
      "image/png": "[encoded data removed]",
      "text/plain": [
       "<Figure size 640x480 with 1 Axes>"
      ]
     },
     "metadata": {},
     "output_type": "display_data"
    }
   ],
   "source": [
    "import matplotlib.pyplot as plt\n",
    "\n",
    "# Sample dataset (right-skewed)\n",
    "data = [2, 3, 3, 4, 5, 7, 8, 9, 15, 20, 25, 30, 40]\n",
    "\n",
    "# Plot histogram\n",
    "plt.hist(data, bins=7, edgecolor='black')\n",
    "plt.title(\"Histogram to Visualize Skewness\")\n",
    "plt.xlabel(\"Data Values\")\n",
    "plt.ylabel(\"Frequency\")\n",
    "plt.show()\n"
   ]
  },
  {
   "cell_type": "code",
   "execution_count": null,
   "id": "7845a92b-1d4f-40a4-955b-7cd87d07b289",
   "metadata": {},
   "outputs": [],
   "source": []
  },
  {
   "cell_type": "markdown",
   "id": "b015ed25-8dce-4944-b544-0f969acd4074",
   "metadata": {},
   "source": [
    "## 7. Calculate skewness and kurtosis of a dataset using python libraries. "
   ]
  },
  {
   "cell_type": "code",
   "execution_count": 15,
   "id": "f92b9647-ef5b-4069-8a31-b7ed882dd7c1",
   "metadata": {
    "tags": []
   },
   "outputs": [
    {
     "name": "stdout",
     "output_type": "stream",
     "text": [
      "Skewness: 1.0219447951111187\n",
      "Kurtosis: -0.17029244669593746\n"
     ]
    }
   ],
   "source": [
    "from scipy.stats import skew, kurtosis\n",
    "\n",
    "# Sample dataset\n",
    "data = [2, 3, 3, 4, 5, 7, 8, 9, 15, 20, 25, 30, 40]\n",
    "\n",
    "# Calculate skewness\n",
    "data_skewness = skew(data)\n",
    "\n",
    "# Calculate kurtosis\n",
    "data_kurtosis = kurtosis(data)\n",
    "\n",
    "print(\"Skewness:\", data_skewness)\n",
    "print(\"Kurtosis:\", data_kurtosis)\n"
   ]
  },
  {
   "cell_type": "code",
   "execution_count": null,
   "id": "6324b8e4-8c37-4a82-9f5c-7c9576869051",
   "metadata": {},
   "outputs": [],
   "source": []
  },
  {
   "cell_type": "markdown",
   "id": "5e4cabea-05f9-4fd0-ae5c-4766180b8bff",
   "metadata": {},
   "source": [
    "## 8. Generate a dataset and demonstrate positive and negative skewness."
   ]
  },
  {
   "cell_type": "code",
   "execution_count": 16,
   "id": "385dd900-d9c0-4413-9e80-f658694e5b4c",
   "metadata": {
    "tags": []
   },
   "outputs": [
    {
     "data": {
      "image/png": "[encoded data removed]",
      "text/plain": [
       "<Figure size 1200x500 with 2 Axes>"
      ]
     },
     "metadata": {},
     "output_type": "display_data"
    }
   ],
   "source": [
    "import numpy as np\n",
    "import matplotlib.pyplot as plt\n",
    "from scipy.stats import skew\n",
    "\n",
    "# Generate a positively skewed dataset (right tail longer)\n",
    "positive_skew = np.random.chisquare(df=2, size=1000)\n",
    "\n",
    "# Generate a negatively skewed dataset (left tail longer)\n",
    "negative_skew = -np.random.chisquare(df=2, size=1000)\n",
    "\n",
    "# Plot histograms\n",
    "plt.figure(figsize=(12,5))\n",
    "\n",
    "plt.subplot(1, 2, 1)\n",
    "plt.hist(positive_skew, bins=30, color='skyblue', edgecolor='black')\n",
    "plt.title(f'Positive Skewness\\nSkewness = {skew(positive_skew):.2f}')\n",
    "plt.xlabel('Value')\n",
    "plt.ylabel('Frequency')\n",
    "\n",
    "plt.subplot(1, 2, 2)\n",
    "plt.hist(negative_skew, bins=30, color='salmon', edgecolor='black')\n",
    "plt.title(f'Negative Skewness\\nSkewness = {skew(negative_skew):.2f}')\n",
    "plt.xlabel('Value')\n",
    "plt.ylabel('Frequency')\n",
    "\n",
    "plt.tight_layout()\n",
    "plt.show()\n"
   ]
  },
  {
   "cell_type": "code",
   "execution_count": null,
   "id": "bdd78d68-18e1-4a4a-9a40-0129201dc5c5",
   "metadata": {},
   "outputs": [],
   "source": []
  },
  {
   "cell_type": "markdown",
   "id": "9ed78dd0-e696-4e1a-9571-8b11b469cd26",
   "metadata": {},
   "source": [
    "## 9. Write a python script to calculate covariance between two datasets."
   ]
  },
  {
   "cell_type": "code",
   "execution_count": 17,
   "id": "2f31de4b-2bfc-412b-9b5d-99ba73d1381b",
   "metadata": {
    "tags": []
   },
   "outputs": [
    {
     "name": "stdout",
     "output_type": "stream",
     "text": [
      "Covariance between x and y: 10.0\n"
     ]
    }
   ],
   "source": [
    "import numpy as np\n",
    "\n",
    "# Sample datasets\n",
    "x = [2, 4, 6, 8, 10]\n",
    "y = [1, 3, 5, 7, 9]\n",
    "\n",
    "# Calculate covariance matrix\n",
    "cov_matrix = np.cov(x, y)\n",
    "\n",
    "# Covariance between x and y is at position [0,1]\n",
    "cov_xy = cov_matrix[0, 1]\n",
    "\n",
    "print(\"Covariance between x and y:\", cov_xy)\n"
   ]
  },
  {
   "cell_type": "code",
   "execution_count": null,
   "id": "bf4d0cf7-7ad2-444c-97a7-eaacfa301000",
   "metadata": {},
   "outputs": [],
   "source": []
  },
  {
   "cell_type": "markdown",
   "id": "0cd66640-ab2d-41d4-820d-81b742392dcc",
   "metadata": {},
   "source": [
    "## 10. Write a python script to calculate the correlation coefficiant  between two datasets."
   ]
  },
  {
   "cell_type": "code",
   "execution_count": 18,
   "id": "ed808fec-6e16-499b-aaef-0beeac79cb78",
   "metadata": {
    "tags": []
   },
   "outputs": [
    {
     "name": "stdout",
     "output_type": "stream",
     "text": [
      "Correlation coefficient between x and y: 0.9999999999999999\n"
     ]
    }
   ],
   "source": [
    "import numpy as np\n",
    "\n",
    "# Sample datasets\n",
    "x = [2, 4, 6, 8, 10]\n",
    "y = [1, 3, 5, 7, 9]\n",
    "\n",
    "# Calculate correlation coefficient matrix\n",
    "corr_matrix = np.corrcoef(x, y)\n",
    "\n",
    "# Correlation coefficient between x and y is at position [0,1]\n",
    "corr_xy = corr_matrix[0, 1]\n",
    "\n",
    "print(\"Correlation coefficient between x and y:\", corr_xy)\n"
   ]
  },
  {
   "cell_type": "code",
   "execution_count": null,
   "id": "ba98a11a-09b4-4ef8-8bad-3903f26a43eb",
   "metadata": {},
   "outputs": [],
   "source": []
  },
  {
   "cell_type": "markdown",
   "id": "ffd0b074-cee4-4b71-ac24-0891092b2836",
   "metadata": {},
   "source": [
    "## 11.Create a scatter plot to visualize the relationship between two variables."
   ]
  },
  {
   "cell_type": "code",
   "execution_count": 19,
   "id": "c5183bfa-4e93-47d4-b5a8-1bbca259876e",
   "metadata": {
    "tags": []
   },
   "outputs": [
    {
     "data": {
      "image/png": "[encoded data removed]",
      "text/plain": [
       "<Figure size 640x480 with 1 Axes>"
      ]
     },
     "metadata": {},
     "output_type": "display_data"
    }
   ],
   "source": [
    "import matplotlib.pyplot as plt\n",
    "\n",
    "# Sample data\n",
    "x = [2, 4, 6, 8, 10]\n",
    "y = [1, 3, 5, 7, 9]\n",
    "\n",
    "# Create scatter plot\n",
    "plt.scatter(x, y, color='blue')\n",
    "\n",
    "# Add titles and labels\n",
    "plt.title(\"Scatter Plot of X vs Y\")\n",
    "plt.xlabel(\"X values\")\n",
    "plt.ylabel(\"Y values\")\n",
    "\n",
    "# Show plot\n",
    "plt.show()\n"
   ]
  },
  {
   "cell_type": "code",
   "execution_count": null,
   "id": "433ec31a-33c0-4ae1-a334-ba5909b93b75",
   "metadata": {},
   "outputs": [],
   "source": []
  },
  {
   "cell_type": "markdown",
   "id": "3ee16ef9-e17d-40b1-82e6-c582887f5f86",
   "metadata": {},
   "source": [
    "## 12. Implement and compare  simple random sampling and systematic sampling."
   ]
  },
  {
   "cell_type": "code",
   "execution_count": 20,
   "id": "132af169-d3bb-4b1b-ab70-3424e070c2fe",
   "metadata": {
    "tags": []
   },
   "outputs": [
    {
     "name": "stdout",
     "output_type": "stream",
     "text": [
      "Original Data:\n",
      "[ 1  2  3  4  5  6  7  8  9 10 11 12 13 14 15 16 17 18 19 20]\n",
      "\n",
      "Simple Random Sample:\n",
      "[ 1 18 16  2  9]\n",
      "\n",
      "Systematic Sample:\n",
      "[ 1  5  9 13 17]\n"
     ]
    }
   ],
   "source": [
    "import pandas as pd\n",
    "\n",
    "# Sample dataset: 20 numbers\n",
    "data = pd.DataFrame({'Value': range(1, 21)})\n",
    "\n",
    "print(\"Original Data:\")\n",
    "print(data['Value'].values)\n",
    "\n",
    "# --- Simple Random Sampling ---\n",
    "# Randomly pick 5 samples without replacement\n",
    "simple_random_sample = data.sample(n=5, random_state=42)\n",
    "print(\"\\nSimple Random Sample:\")\n",
    "print(simple_random_sample['Value'].values)\n",
    "\n",
    "# --- Systematic Sampling ---\n",
    "# Pick every k-th item (k = total size / sample size)\n",
    "k = len(data) // 5  # interval\n",
    "start = 0  # could be random between 0 and k-1\n",
    "\n",
    "systematic_sample = data.iloc[start::k][:5]  # take 5 samples\n",
    "print(\"\\nSystematic Sample:\")\n",
    "print(systematic_sample['Value'].values)\n"
   ]
  },
  {
   "cell_type": "code",
   "execution_count": null,
   "id": "62b7d3c5-77ff-4695-84ed-1d4139040a77",
   "metadata": {},
   "outputs": [],
   "source": []
  },
  {
   "cell_type": "markdown",
   "id": "acdba8c7-1835-4bee-97f2-f0c713742868",
   "metadata": {},
   "source": [
    "## 13.Calculate the mean,median, and mode of a grouped data."
   ]
  },
  {
   "cell_type": "code",
   "execution_count": 21,
   "id": "f70b4913-d4fc-4fd8-a678-d44f5af3ebfe",
   "metadata": {
    "tags": []
   },
   "outputs": [
    {
     "name": "stdout",
     "output_type": "stream",
     "text": [
      "Mean: 34.00\n",
      "Median: 34.67\n",
      "Mode: 35.83\n"
     ]
    }
   ],
   "source": [
    "import numpy as np\n",
    "from scipy import stats\n",
    "\n",
    "# Sample grouped data: class intervals and frequencies\n",
    "# Classes: 10-20, 20-30, 30-40, 40-50, 50-60\n",
    "class_intervals = [(10, 20), (20, 30), (30, 40), (40, 50), (50, 60)]\n",
    "frequencies = [5, 8, 15, 10, 2]\n",
    "\n",
    "# Calculate midpoints of classes\n",
    "midpoints = [(low + high) / 2 for low, high in class_intervals]\n",
    "\n",
    "# Total frequency\n",
    "n = sum(frequencies)\n",
    "\n",
    "# --- Mean for grouped data ---\n",
    "mean = sum(m * f for m, f in zip(midpoints, frequencies)) / n\n",
    "\n",
    "# --- Median for grouped data ---\n",
    "# Find median class (where cumulative frequency crosses n/2)\n",
    "cum_freq = np.cumsum(frequencies)\n",
    "median_class_index = np.where(cum_freq >= n / 2)[0][0]\n",
    "\n",
    "L = class_intervals[median_class_index][0]  # lower boundary of median class\n",
    "F = cum_freq[median_class_index - 1] if median_class_index > 0 else 0  # cumulative freq before median class\n",
    "f_m = frequencies[median_class_index]  # frequency of median class\n",
    "h = class_intervals[median_class_index][1] - L  # class width\n",
    "\n",
    "median = L + ((n/2 - F) / f_m) * h\n",
    "\n",
    "# --- Mode for grouped data ---\n",
    "# Mode formula for grouped data:\n",
    "# Mode = L + [(fm - f1) / (2fm - f1 - f2)] * h\n",
    "# where fm = frequency of modal class\n",
    "# f1 = frequency before modal class, f2 = frequency after modal class\n",
    "\n",
    "modal_class_index = np.argmax(frequencies)\n",
    "fm = frequencies[modal_class_index]\n",
    "f1 = frequencies[modal_class_index - 1] if modal_class_index > 0 else 0\n",
    "f2 = frequencies[modal_class_index + 1] if modal_class_index < len(frequencies) - 1 else 0\n",
    "L_mode = class_intervals[modal_class_index][0]\n",
    "\n",
    "mode = L_mode + ((fm - f1) / (2*fm - f1 - f2)) * h\n",
    "\n",
    "print(f\"Mean: {mean:.2f}\")\n",
    "print(f\"Median: {median:.2f}\")\n",
    "print(f\"Mode: {mode:.2f}\")\n"
   ]
  },
  {
   "cell_type": "code",
   "execution_count": null,
   "id": "6b08f47c-88b3-4560-a0ee-50b955a3cfaf",
   "metadata": {},
   "outputs": [],
   "source": []
  },
  {
   "cell_type": "markdown",
   "id": "94fad4fc-8636-4d85-a258-faa7b9726f6f",
   "metadata": {},
   "source": [
    "## 14. Simulate data using python and calculate it's central tendency and dispersion."
   ]
  },
  {
   "cell_type": "code",
   "execution_count": 28,
   "id": "0974046f-0078-458d-8a0e-232a5fa177df",
   "metadata": {
    "tags": []
   },
   "outputs": [
    {
     "name": "stdout",
     "output_type": "stream",
     "text": [
      "Mean: 29.85\n",
      "Median: 31.0\n",
      "Mode: 35\n",
      "Variance: 139.07828282828282\n",
      "Standard Deviation: 11.793145586665283\n",
      "Range: 40\n"
     ]
    }
   ],
   "source": [
    "import numpy as np\n",
    "from scipy import stats\n",
    "\n",
    "data = np.random.randint(10, 51, 100)\n",
    "\n",
    "mode_result = stats.mode(data, keepdims=True)  # keepdims=True for consistent output\n",
    "\n",
    "mode_value = mode_result.mode[0]  # safely get the mode value\n",
    "\n",
    "print(\"Mean:\", np.mean(data))\n",
    "print(\"Median:\", np.median(data))\n",
    "print(\"Mode:\", mode_value)\n",
    "print(\"Variance:\", np.var(data, ddof=1))\n",
    "print(\"Standard Deviation:\", np.std(data, ddof=1))\n",
    "print(\"Range:\", max(data) - min(data))\n"
   ]
  },
  {
   "cell_type": "code",
   "execution_count": null,
   "id": "ba0dcff3-da0e-45cd-92b4-4cc704ebe491",
   "metadata": {},
   "outputs": [],
   "source": []
  },
  {
   "cell_type": "markdown",
   "id": "2570b3e2-9914-4e4f-abe8-7ab139266ab2",
   "metadata": {},
   "source": [
    "## 15. Use numpy or pandas to summarize a dataset's descriptive statistics."
   ]
  },
  {
   "cell_type": "code",
   "execution_count": 29,
   "id": "71a887d0-6801-49db-93e3-f2ebc1b2a4d5",
   "metadata": {
    "tags": []
   },
   "outputs": [
    {
     "name": "stdout",
     "output_type": "stream",
     "text": [
      "              Age        Salary  Experience\n",
      "count  100.000000    100.000000  100.000000\n",
      "mean    40.550000  67566.940000    9.460000\n",
      "std     12.312739  20135.940028    5.768987\n",
      "min     20.000000  31923.000000    1.000000\n",
      "25%     29.000000  49543.500000    4.000000\n",
      "50%     43.000000  72204.500000    9.000000\n",
      "75%     52.000000  83747.000000   15.000000\n",
      "max     59.000000  98724.000000   19.000000\n"
     ]
    }
   ],
   "source": [
    "import pandas as pd\n",
    "import numpy as np\n",
    "\n",
    "# Create a sample dataset\n",
    "data = pd.DataFrame({\n",
    "    'Age': np.random.randint(20, 60, 100),\n",
    "    'Salary': np.random.randint(30000, 100000, 100),\n",
    "    'Experience': np.random.randint(1, 20, 100)\n",
    "})\n",
    "\n",
    "# Get descriptive statistics summary\n",
    "summary = data.describe()\n",
    "\n",
    "print(summary)\n"
   ]
  },
  {
   "cell_type": "code",
   "execution_count": 30,
   "id": "aef7c290-5c95-48f8-b11d-39e0482ad340",
   "metadata": {
    "tags": []
   },
   "outputs": [
    {
     "name": "stdout",
     "output_type": "stream",
     "text": [
      "Mean: 39.85\n",
      "Median: 40.0\n",
      "Standard Deviation: 11.377254466342889\n",
      "Variance: 129.4419191919192\n",
      "Min: 20\n",
      "Max: 59\n",
      "25th percentile: 29.75\n",
      "50th percentile (Median): 40.0\n",
      "75th percentile: 50.25\n"
     ]
    }
   ],
   "source": [
    "# Sample data array\n",
    "data = np.random.randint(20, 60, 100)\n",
    "\n",
    "print(\"Mean:\", np.mean(data))\n",
    "print(\"Median:\", np.median(data))\n",
    "print(\"Standard Deviation:\", np.std(data, ddof=1))\n",
    "print(\"Variance:\", np.var(data, ddof=1))\n",
    "print(\"Min:\", np.min(data))\n",
    "print(\"Max:\", np.max(data))\n",
    "print(\"25th percentile:\", np.percentile(data, 25))\n",
    "print(\"50th percentile (Median):\", np.percentile(data, 50))\n",
    "print(\"75th percentile:\", np.percentile(data, 75))"
   ]
  },
  {
   "cell_type": "code",
   "execution_count": null,
   "id": "e74d1bd0-4ec3-405c-929d-cd2d658f0319",
   "metadata": {},
   "outputs": [],
   "source": []
  },
  {
   "cell_type": "markdown",
   "id": "b5418bfb-88fb-4131-8007-fd21ed7a59ec",
   "metadata": {},
   "source": [
    "## 16. Plot a boxplot to understand the spread and identify outliers."
   ]
  },
  {
   "cell_type": "code",
   "execution_count": 31,
   "id": "0e092e28-6c3a-4882-b058-29f20e5df3cf",
   "metadata": {
    "tags": []
   },
   "outputs": [
    {
     "data": {
      "image/png": "[encoded data removed]",
      "text/plain": [
       "<Figure size 640x480 with 1 Axes>"
      ]
     },
     "metadata": {},
     "output_type": "display_data"
    },
    {
     "data": {
      "image/png": "[encoded data removed]",
      "text/plain": [
       "<Figure size 640x480 with 1 Axes>"
      ]
     },
     "metadata": {},
     "output_type": "display_data"
    }
   ],
   "source": [
    "import matplotlib.pyplot as plt\n",
    "import seaborn as sns\n",
    "import numpy as np\n",
    "\n",
    "# Sample data: random integers with some outliers\n",
    "data = np.append(np.random.randint(20, 50, 100), [5, 70, 80])\n",
    "\n",
    "# Using matplotlib\n",
    "plt.boxplot(data)\n",
    "plt.title(\"Boxplot of Sample Data\")\n",
    "plt.ylabel(\"Values\")\n",
    "plt.show()\n",
    "\n",
    "# Or using seaborn (better styling)\n",
    "sns.boxplot(x=data)\n",
    "plt.title(\"Boxplot of Sample Data\")\n",
    "plt.show()\n"
   ]
  },
  {
   "cell_type": "code",
   "execution_count": null,
   "id": "2d5fcde0-c79f-417f-ac28-9c9cc7b38d3b",
   "metadata": {},
   "outputs": [],
   "source": []
  },
  {
   "cell_type": "markdown",
   "id": "5151495a-4f18-4fab-af26-908cbdbf0856",
   "metadata": {},
   "source": [
    "## 17. Calculate the interquartile range (IQR) of a dataset."
   ]
  },
  {
   "cell_type": "code",
   "execution_count": 32,
   "id": "47796f6f-f7ff-4cee-a198-daeda8ec2ebc",
   "metadata": {
    "tags": []
   },
   "outputs": [
    {
     "name": "stdout",
     "output_type": "stream",
     "text": [
      "Q1 (25th percentile): 7.25\n",
      "Q3 (75th percentile): 17.0\n",
      "Interquartile Range (IQR): 9.75\n"
     ]
    }
   ],
   "source": [
    "import numpy as np\n",
    "\n",
    "# Sample data\n",
    "data = [12, 7, 3, 18, 10, 22, 30, 5, 8, 14]\n",
    "\n",
    "# Calculate Q1 (25th percentile) and Q3 (75th percentile)\n",
    "Q1 = np.percentile(data, 25)\n",
    "Q3 = np.percentile(data, 75)\n",
    "\n",
    "# Calculate IQR\n",
    "IQR = Q3 - Q1\n",
    "\n",
    "print(f\"Q1 (25th percentile): {Q1}\")\n",
    "print(f\"Q3 (75th percentile): {Q3}\")\n",
    "print(f\"Interquartile Range (IQR): {IQR}\")\n"
   ]
  },
  {
   "cell_type": "code",
   "execution_count": null,
   "id": "31a07a67-4070-4814-b9f0-33544606634d",
   "metadata": {},
   "outputs": [],
   "source": []
  },
  {
   "cell_type": "markdown",
   "id": "ae17cb75-d905-420c-99b4-2027acc9c6d9",
   "metadata": {},
   "source": [
    "## 18. Implement Z-score normalization and explain it's significance."
   ]
  },
  {
   "cell_type": "code",
   "execution_count": 33,
   "id": "8176b08c-d590-42ff-8702-1307457767ae",
   "metadata": {
    "tags": []
   },
   "outputs": [
    {
     "name": "stdout",
     "output_type": "stream",
     "text": [
      "Original Data: [10, 12, 15, 20, 25, 30, 35]\n",
      "Z-score Normalized Data: [-1.2617865362880896, -1.0323708024175278, -0.6882472016116852, -0.11470786693528087, 0.4588314677411235, 1.0323708024175278, 1.6059101370939322]\n"
     ]
    }
   ],
   "source": [
    "import numpy as np\n",
    "\n",
    "# Sample dataset\n",
    "data = [10, 12, 15, 20, 25, 30, 35]\n",
    "\n",
    "# Calculate mean and standard deviation\n",
    "mean = np.mean(data)\n",
    "std = np.std(data)\n",
    "\n",
    "# Z-score normalization\n",
    "z_scores = [(x - mean) / std for x in data]\n",
    "\n",
    "print(\"Original Data:\", data)\n",
    "print(\"Z-score Normalized Data:\", z_scores)\n"
   ]
  },
  {
   "cell_type": "code",
   "execution_count": null,
   "id": "632245d6-a4f3-4540-9de4-b95050de46f0",
   "metadata": {},
   "outputs": [],
   "source": []
  },
  {
   "cell_type": "markdown",
   "id": "9586caa8-6f4c-473d-91ee-cc25559d9cf6",
   "metadata": {},
   "source": [
    "## 19. Compare two datasets using their standard deviations."
   ]
  },
  {
   "cell_type": "code",
   "execution_count": 34,
   "id": "fe778e3b-6e89-43d0-9974-6db5ea289883",
   "metadata": {
    "tags": []
   },
   "outputs": [
    {
     "name": "stdout",
     "output_type": "stream",
     "text": [
      "Standard Deviation of Dataset A: 0.71\n",
      "Standard Deviation of Dataset B: 8.06\n",
      "Dataset B is more variable.\n"
     ]
    }
   ],
   "source": [
    "import numpy as np\n",
    "\n",
    "# Dataset A: tightly clustered\n",
    "data_a = [15, 16, 16, 15, 14, 15, 16, 15]\n",
    "\n",
    "# Dataset B: more spread out\n",
    "data_b = [10, 20, 15, 25, 30, 5, 18, 22]\n",
    "\n",
    "# Calculate standard deviations\n",
    "std_a = np.std(data_a, ddof=1)\n",
    "std_b = np.std(data_b, ddof=1)\n",
    "\n",
    "print(\"Standard Deviation of Dataset A:\", round(std_a, 2))\n",
    "print(\"Standard Deviation of Dataset B:\", round(std_b, 2))\n",
    "\n",
    "# Comparison\n",
    "if std_a > std_b:\n",
    "    print(\"Dataset A is more variable.\")\n",
    "elif std_b > std_a:\n",
    "    print(\"Dataset B is more variable.\")\n",
    "else:\n",
    "    print(\"Both datasets have the same variability.\")\n"
   ]
  },
  {
   "cell_type": "code",
   "execution_count": null,
   "id": "48e8d0bb-c27c-433e-a090-cd6dbd64bf85",
   "metadata": {},
   "outputs": [],
   "source": []
  },
  {
   "cell_type": "markdown",
   "id": "41743a66-2edf-4331-a948-9d13e3a287e7",
   "metadata": {},
   "source": [
    "## 20. write a pythonprogram to visualize covariance using a heatmap. "
   ]
  },
  {
   "cell_type": "code",
   "execution_count": 35,
   "id": "a0ea93b2-32b1-474c-849a-6ece1f401c7a",
   "metadata": {
    "tags": []
   },
   "outputs": [
    {
     "data": {
      "image/png": "[encoded data removed]",
      "text/plain": [
       "<Figure size 800x600 with 2 Axes>"
      ]
     },
     "metadata": {},
     "output_type": "display_data"
    }
   ],
   "source": [
    "import pandas as pd\n",
    "import numpy as np\n",
    "import seaborn as sns\n",
    "import matplotlib.pyplot as plt\n",
    "\n",
    "# Create a sample dataset\n",
    "data = {\n",
    "    'Math': np.random.randint(60, 100, 50),\n",
    "    'Science': np.random.randint(55, 95, 50),\n",
    "    'English': np.random.randint(65, 90, 50),\n",
    "    'History': np.random.randint(50, 85, 50)\n",
    "}\n",
    "\n",
    "df = pd.DataFrame(data)\n",
    "\n",
    "# Compute the covariance matrix\n",
    "cov_matrix = df.cov()\n",
    "\n",
    "# Plot heatmap\n",
    "plt.figure(figsize=(8, 6))\n",
    "sns.heatmap(cov_matrix, annot=True, cmap='coolwarm', fmt=\".2f\")\n",
    "plt.title('Covariance Heatmap')\n",
    "plt.show()\n"
   ]
  },
  {
   "cell_type": "code",
   "execution_count": null,
   "id": "2b22a66f-9b78-4f3e-ac69-634100549b4a",
   "metadata": {},
   "outputs": [],
   "source": []
  },
  {
   "cell_type": "markdown",
   "id": "a13d1edc-471c-41c9-b4de-d847a053c1f6",
   "metadata": {},
   "source": [
    "## 21. Use Seaborn to create a correlation matrix for a dataset"
   ]
  },
  {
   "cell_type": "code",
   "execution_count": 36,
   "id": "09beb068-778c-408a-956d-73372c900222",
   "metadata": {
    "tags": []
   },
   "outputs": [
    {
     "data": {
      "image/png": "[encoded data removed]",
      "text/plain": [
       "<Figure size 800x600 with 2 Axes>"
      ]
     },
     "metadata": {},
     "output_type": "display_data"
    }
   ],
   "source": [
    "import pandas as pd\n",
    "import numpy as np\n",
    "import seaborn as sns\n",
    "import matplotlib.pyplot as plt\n",
    "\n",
    "# Sample dataset\n",
    "data = {\n",
    "    'Math': np.random.randint(50, 100, 50),\n",
    "    'Science': np.random.randint(40, 90, 50),\n",
    "    'English': np.random.randint(60, 95, 50),\n",
    "    'History': np.random.randint(45, 85, 50)\n",
    "}\n",
    "\n",
    "df = pd.DataFrame(data)\n",
    "\n",
    "# Compute correlation matrix\n",
    "corr_matrix = df.corr()\n",
    "\n",
    "# Plot heatmap\n",
    "plt.figure(figsize=(8, 6))\n",
    "sns.heatmap(corr_matrix, annot=True, cmap='coolwarm', fmt=\".2f\")\n",
    "plt.title(\"Correlation Matrix Heatmap\")\n",
    "plt.show()\n",
    "\n"
   ]
  },
  {
   "cell_type": "code",
   "execution_count": null,
   "id": "437bac37-d9ee-4e67-943f-5026be202877",
   "metadata": {},
   "outputs": [],
   "source": []
  },
  {
   "cell_type": "markdown",
   "id": "8c3ede77-23ae-4643-a3a2-806530f2822a",
   "metadata": {},
   "source": [
    "## 22. Generate a dataset and implement both variance and standard deviation computations"
   ]
  },
  {
   "cell_type": "code",
   "execution_count": 37,
   "id": "b65d423a-468c-4d2f-af70-6433f7b4a4e6",
   "metadata": {
    "tags": []
   },
   "outputs": [
    {
     "name": "stdout",
     "output_type": "stream",
     "text": [
      "Data: [80 67 20 58 29 83 29 71 60 95 42 41 96 95 32 18 69 41 33 65]\n",
      "Variance: 658.48\n",
      "Standard Deviation: 25.66\n"
     ]
    }
   ],
   "source": [
    "import numpy as np\n",
    "\n",
    "# Generate random data\n",
    "data = np.random.randint(10, 100, 20)\n",
    "\n",
    "# Variance\n",
    "variance = np.var(data, ddof=1)  # Sample variance\n",
    "\n",
    "# Standard Deviation\n",
    "std_dev = np.std(data, ddof=1)  # Sample standard deviation\n",
    "\n",
    "print(\"Data:\", data)\n",
    "print(\"Variance:\", round(variance, 2))\n",
    "print(\"Standard Deviation:\", round(std_dev, 2))\n"
   ]
  },
  {
   "cell_type": "code",
   "execution_count": null,
   "id": "14457ac6-9e84-48e3-85ea-1d0f742ea7e9",
   "metadata": {},
   "outputs": [],
   "source": []
  },
  {
   "cell_type": "markdown",
   "id": "c1820f07-5220-4b04-bd81-c44b7c347dfc",
   "metadata": {},
   "source": [
    "##  23. Visualize skewness and kurtosis using matplotlib or seaborn"
   ]
  },
  {
   "cell_type": "code",
   "execution_count": 38,
   "id": "e2c41971-de82-425f-a116-ab5f0edca14c",
   "metadata": {
    "tags": []
   },
   "outputs": [
    {
     "data": {
      "image/png": "[encoded data removed]",
      "text/plain": [
       "<Figure size 640x480 with 1 Axes>"
      ]
     },
     "metadata": {},
     "output_type": "display_data"
    },
    {
     "name": "stdout",
     "output_type": "stream",
     "text": [
      "Skewness: 2.15\n",
      "Kurtosis: 6.89\n"
     ]
    }
   ],
   "source": [
    "import seaborn as sns\n",
    "import matplotlib.pyplot as plt\n",
    "from scipy.stats import skew, kurtosis\n",
    "import numpy as np\n",
    "\n",
    "# Generate skewed dataset\n",
    "data = np.random.exponential(scale=2, size=1000)\n",
    "\n",
    "# Plot histogram\n",
    "sns.histplot(data, kde=True)\n",
    "plt.title(\"Distribution with Skewness and Kurtosis\")\n",
    "plt.xlabel(\"Values\")\n",
    "plt.ylabel(\"Frequency\")\n",
    "plt.show()\n",
    "\n",
    "# Calculate skewness and kurtosis\n",
    "print(\"Skewness:\", round(skew(data), 2))\n",
    "print(\"Kurtosis:\", round(kurtosis(data), 2))  # excess kurtosis\n"
   ]
  },
  {
   "cell_type": "code",
   "execution_count": null,
   "id": "7131ead1-1865-4ea9-811b-9ae95f4049ce",
   "metadata": {},
   "outputs": [],
   "source": []
  },
  {
   "cell_type": "markdown",
   "id": "da772ccb-8740-4d63-90d8-90da23d0ff8f",
   "metadata": {},
   "source": [
    "## 24. Implement the Pearson and Spearman correlation coefficients for a dataset"
   ]
  },
  {
   "cell_type": "code",
   "execution_count": 39,
   "id": "bd7d2a2b-ce29-460e-8a76-6970167abd61",
   "metadata": {
    "tags": []
   },
   "outputs": [
    {
     "name": "stdout",
     "output_type": "stream",
     "text": [
      "Pearson Correlation: 0.94\n",
      "Spearman Correlation: 0.91\n"
     ]
    }
   ],
   "source": [
    "from scipy.stats import pearsonr, spearmanr\n",
    "import numpy as np\n",
    "\n",
    "# Generate sample data\n",
    "x = np.random.randint(10, 100, 50)\n",
    "y = x + np.random.normal(0, 10, 50)  # Add some noise\n",
    "\n",
    "# Pearson correlation\n",
    "pearson_corr, _ = pearsonr(x, y)\n",
    "\n",
    "# Spearman correlation\n",
    "spearman_corr, _ = spearmanr(x, y)\n",
    "\n",
    "print(\"Pearson Correlation:\", round(pearson_corr, 2))\n",
    "print(\"Spearman Correlation:\", round(spearman_corr, 2))\n"
   ]
  },
  {
   "cell_type": "code",
   "execution_count": null,
   "id": "fdbf0660-b8e7-42f0-9663-64e6993106a7",
   "metadata": {},
   "outputs": [],
   "source": []
  }
 ],
 "metadata": {
  "kernelspec": {
   "display_name": "Python 3 (ipykernel)",
   "language": "python",
   "name": "python3"
  },
  "language_info": {
   "codemirror_mode": {
    "name": "ipython",
    "version": 3
   },
   "file_extension": ".py",
   "mimetype": "text/x-python",
   "name": "python",
   "nbconvert_exporter": "python",
   "pygments_lexer": "ipython3",
   "version": "3.11.5"
  }
 },
 "nbformat": 4,
 "nbformat_minor": 5
}
