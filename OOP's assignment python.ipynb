{
 "cells": [
  {
   "cell_type": "markdown",
   "id": "16e0e8eb-461c-4ab9-afb9-241a49d5f285",
   "metadata": {
    "tags": []
   },
   "source": [
    "# Python OOPs Assignment"
   ]
  },
  {
   "cell_type": "markdown",
   "id": "451753f0-082c-44a4-b2b6-1bf35731cf15",
   "metadata": {},
   "source": [
    "## 1. what is object-oriented programming(OOP)?"
   ]
  },
  {
   "cell_type": "markdown",
   "id": "87570a45-782b-4880-82fb-6996a8adb33f",
   "metadata": {},
   "source": [
    "### what is object-oriented programming(OOP)?\n",
    "\n",
    "Object-Oriented Programming (OOP) is a programming style where everything is built using objects and classes.\n",
    "\n",
    "✅ Key Concepts:\n",
    "Class – A blueprint for creating objects.\n",
    "\n",
    "Object – An instance of a class (real-world entity).\n",
    "\n",
    "Encapsulation – Hiding internal data using private variables.\n",
    "\n",
    "Inheritance – One class can use features of another.\n",
    "\n",
    "Polymorphism – Same function name, different behavior.\n",
    "\n",
    "Abstraction – Showing only important details, hiding complexity."
   ]
  },
  {
   "cell_type": "code",
   "execution_count": 2,
   "id": "75806ab5-8542-4346-8d69-4d53881a49a6",
   "metadata": {
    "tags": []
   },
   "outputs": [
    {
     "name": "stdout",
     "output_type": "stream",
     "text": [
      "Toyota is driving\n"
     ]
    }
   ],
   "source": [
    "class Car:\n",
    "    def __init__(self, brand):\n",
    "        self.brand = brand\n",
    "\n",
    "    def drive(self):\n",
    "        print(f\"{self.brand} is driving\")\n",
    "\n",
    "car1 = Car(\"Toyota\")\n",
    "car1.drive()  \n"
   ]
  },
  {
   "cell_type": "markdown",
   "id": "e2bdbd1b-c41f-476f-b25b-21b9edddf516",
   "metadata": {},
   "source": [
    "## 2. What is a class in OOP?"
   ]
  },
  {
   "cell_type": "markdown",
   "id": "1b3202fc-64d7-4ffd-962d-64f41512f2ea",
   "metadata": {},
   "source": [
    "### A class is a blueprint for creating objects. it defines what data and actions the objects will have."
   ]
  },
  {
   "cell_type": "code",
   "execution_count": 5,
   "id": "4a76a9dc-bb32-4da2-9645-7b2ae5c2e083",
   "metadata": {
    "tags": []
   },
   "outputs": [
    {
     "name": "stdout",
     "output_type": "stream",
     "text": [
      "Car is driving\n"
     ]
    }
   ],
   "source": [
    "class Car:\n",
    "    def drive(self):\n",
    "        print(\"Car is driving\")\n",
    "car=Car()\n",
    "car.drive()"
   ]
  },
  {
   "cell_type": "markdown",
   "id": "34a6ae93-4291-4b43-95ab-aceedfda5cd5",
   "metadata": {},
   "source": [
    "## 3. What is an object in OOP?"
   ]
  },
  {
   "cell_type": "markdown",
   "id": "646fc81c-6dda-420d-871f-bb387115807d",
   "metadata": {},
   "source": [
    "### An object is an instance of a class.\n",
    "It represents a real-world entity created using the class blueprint."
   ]
  },
  {
   "cell_type": "code",
   "execution_count": 6,
   "id": "92cfd8f7-b5de-4506-9369-3b79a51b8eae",
   "metadata": {
    "tags": []
   },
   "outputs": [
    {
     "name": "stdout",
     "output_type": "stream",
     "text": [
      "car is drivung\n"
     ]
    }
   ],
   "source": [
    "class Car:\n",
    "    def drive(self):\n",
    "        print(\"car is drivung\")\n",
    "        \n",
    "car1=Car()\n",
    "car1.drive()"
   ]
  },
  {
   "cell_type": "markdown",
   "id": "fc005ddb-f886-47a2-b4c8-d135fd2194ee",
   "metadata": {},
   "source": [
    "## 4. what is the difference between encapsulation and abstraction?"
   ]
  },
  {
   "cell_type": "markdown",
   "id": "e9b3a83e-69ad-4bfd-b1df-4d7f4c20a715",
   "metadata": {},
   "source": [
    "### Encapsulation means hiding data to keep it safe."
   ]
  },
  {
   "cell_type": "code",
   "execution_count": 7,
   "id": "ce8f46ad-03aa-4828-a8cc-e3b407d9d132",
   "metadata": {
    "tags": []
   },
   "outputs": [],
   "source": [
    "class Person:\n",
    "    def __init__(self):\n",
    "        self.__age = 25  # private variable\n",
    "\n",
    "    def get_age(self):\n",
    "        return self.__age\n"
   ]
  },
  {
   "cell_type": "markdown",
   "id": "78a54bae-4a90-4393-b6ba-5f98a6662d15",
   "metadata": {},
   "source": [
    "### Abstraction means hiding complex things and showing only what is needed."
   ]
  },
  {
   "cell_type": "code",
   "execution_count": 8,
   "id": "b913bf61-6ffc-41bf-a9e3-a69875aaaff0",
   "metadata": {
    "tags": []
   },
   "outputs": [],
   "source": [
    "from abc import ABC, abstractmethod\n",
    "\n",
    "class Animal(ABC):\n",
    "    @abstractmethod\n",
    "    def sound(self):\n",
    "        pass\n"
   ]
  },
  {
   "cell_type": "markdown",
   "id": "e07c51f2-f201-4408-8409-a760dd1a89ac",
   "metadata": {},
   "source": [
    "## 5. What are dunder methods in python?"
   ]
  },
  {
   "cell_type": "markdown",
   "id": "e6a1721e-d0a4-479b-8f39-da8f9a6b38e4",
   "metadata": {},
   "source": [
    "### Dunder methods, also known as magic methods or special methods, are methods in Python that have double underscores (__) at the beginning and end of their names."
   ]
  },
  {
   "cell_type": "code",
   "execution_count": 11,
   "id": "a71913da-9274-434d-aec8-ad1f5f1607b5",
   "metadata": {
    "tags": []
   },
   "outputs": [
    {
     "name": "stdout",
     "output_type": "stream",
     "text": [
      "['__abs__', '__add__', '__and__', '__bool__', '__ceil__', '__class__', '__delattr__', '__dir__', '__divmod__', '__doc__', '__eq__', '__float__', '__floor__', '__floordiv__', '__format__', '__ge__', '__getattribute__', '__getnewargs__', '__getstate__', '__gt__', '__hash__', '__index__', '__init__', '__init_subclass__', '__int__', '__invert__', '__le__', '__lshift__', '__lt__', '__mod__', '__mul__', '__ne__', '__neg__', '__new__', '__or__', '__pos__', '__pow__', '__radd__', '__rand__', '__rdivmod__', '__reduce__', '__reduce_ex__', '__repr__', '__rfloordiv__', '__rlshift__', '__rmod__', '__rmul__', '__ror__', '__round__', '__rpow__', '__rrshift__', '__rshift__', '__rsub__', '__rtruediv__', '__rxor__', '__setattr__', '__sizeof__', '__str__', '__sub__', '__subclasshook__', '__truediv__', '__trunc__', '__xor__', 'as_integer_ratio', 'bit_count', 'bit_length', 'conjugate', 'denominator', 'from_bytes', 'imag', 'numerator', 'real', 'to_bytes']\n"
     ]
    }
   ],
   "source": [
    "print(dir(int))"
   ]
  },
  {
   "cell_type": "code",
   "execution_count": 12,
   "id": "137b757a-6abf-4217-9e35-c5f466fb0f93",
   "metadata": {
    "tags": []
   },
   "outputs": [
    {
     "name": "stdout",
     "output_type": "stream",
     "text": [
      "['__add__', '__class__', '__contains__', '__delattr__', '__dir__', '__doc__', '__eq__', '__format__', '__ge__', '__getattribute__', '__getitem__', '__getnewargs__', '__getstate__', '__gt__', '__hash__', '__init__', '__init_subclass__', '__iter__', '__le__', '__len__', '__lt__', '__mod__', '__mul__', '__ne__', '__new__', '__reduce__', '__reduce_ex__', '__repr__', '__rmod__', '__rmul__', '__setattr__', '__sizeof__', '__str__', '__subclasshook__', 'capitalize', 'casefold', 'center', 'count', 'encode', 'endswith', 'expandtabs', 'find', 'format', 'format_map', 'index', 'isalnum', 'isalpha', 'isascii', 'isdecimal', 'isdigit', 'isidentifier', 'islower', 'isnumeric', 'isprintable', 'isspace', 'istitle', 'isupper', 'join', 'ljust', 'lower', 'lstrip', 'maketrans', 'partition', 'removeprefix', 'removesuffix', 'replace', 'rfind', 'rindex', 'rjust', 'rpartition', 'rsplit', 'rstrip', 'split', 'splitlines', 'startswith', 'strip', 'swapcase', 'title', 'translate', 'upper', 'zfill']\n"
     ]
    }
   ],
   "source": [
    "print(dir(str))"
   ]
  },
  {
   "cell_type": "markdown",
   "id": "d28de508-c2de-45cf-b7fe-72f2ef819f16",
   "metadata": {},
   "source": [
    "## 6.Explain the concept of inheritance in OOP."
   ]
  },
  {
   "cell_type": "markdown",
   "id": "2150e33d-0a4b-4422-a153-bcb65b596c2d",
   "metadata": {},
   "source": [
    "###\n",
    "Inheritance is a core concept in Object-Oriented Programming that allows one class (called a child or subclass) to inherit the attributes and methods of another class (called a parent or superclass)."
   ]
  },
  {
   "cell_type": "code",
   "execution_count": 15,
   "id": "f9758686-79a9-413a-b9fb-5b54f1cbcbf1",
   "metadata": {
    "tags": []
   },
   "outputs": [
    {
     "name": "stdout",
     "output_type": "stream",
     "text": [
      "Toyota vehicle started\n",
      "Toyota car is driving.\n"
     ]
    }
   ],
   "source": [
    "class Vehicle:\n",
    "    def __init__(self,brand):\n",
    "        self.brand=brand\n",
    "        \n",
    "    def start(self):\n",
    "        print(f\"{self.brand} vehicle started\")\n",
    "        \n",
    "class Car(Vehicle) :\n",
    "    def drive(self):\n",
    "        print(f\"{self.brand} car is driving.\")\n",
    "        \n",
    "my_car=Car(\"Toyota\")\n",
    "my_car.start()\n",
    "my_car.drive()"
   ]
  },
  {
   "cell_type": "markdown",
   "id": "d8fcc516-a18d-4d3e-919f-99d947008528",
   "metadata": {},
   "source": [
    "## 7. What is polymorphism in OOP?"
   ]
  },
  {
   "cell_type": "markdown",
   "id": "d5fd19ed-d616-4fd1-a151-74342058e565",
   "metadata": {},
   "source": [
    "### Polymorphism means \"many forms\". In OOP, it refers to the ability of different classes to respond to the same method call in different ways"
   ]
  },
  {
   "cell_type": "code",
   "execution_count": 16,
   "id": "3538ee1b-059a-46e3-80b2-bfe306ec7811",
   "metadata": {
    "tags": []
   },
   "outputs": [
    {
     "name": "stdout",
     "output_type": "stream",
     "text": [
      "The animal makes a sound.\n",
      "The dog barks.\n",
      "The cat meows.\n"
     ]
    }
   ],
   "source": [
    "class Animal:\n",
    "    def speak(self):\n",
    "        print(\"The animal makes a sound.\")\n",
    "\n",
    "class Dog(Animal):\n",
    "    def speak(self):\n",
    "        print(\"The dog barks.\")\n",
    "\n",
    "class Cat(Animal):\n",
    "    def speak(self):\n",
    "        print(\"The cat meows.\")\n",
    "\n",
    "# Polymorphic behavior\n",
    "def make_sound(animal):\n",
    "    animal.speak()\n",
    "\n",
    "# Different objects\n",
    "a = Animal()\n",
    "d = Dog()\n",
    "c = Cat()\n",
    "\n",
    "make_sound(a)  # Output: The animal makes a sound.\n",
    "make_sound(d)  # Output: The dog barks.\n",
    "make_sound(c)  # Output: The cat meows.\n"
   ]
  },
  {
   "cell_type": "markdown",
   "id": "96800ca6-d729-4d6d-a444-d4e0aa8df0a4",
   "metadata": {},
   "source": [
    "## 8. How is encapsulation achieved in python?"
   ]
  },
  {
   "cell_type": "markdown",
   "id": "91d76880-f694-436c-84b9-37fa5a917567",
   "metadata": {},
   "source": [
    "### Encapsulation is the concept of hiding internal details of how an object works and only exposing what’s necessary through a defined interface (like methods)"
   ]
  },
  {
   "cell_type": "code",
   "execution_count": 18,
   "id": "0bbbd5a1-0282-46b7-b85c-c0354db425fc",
   "metadata": {
    "tags": []
   },
   "outputs": [
    {
     "name": "stdout",
     "output_type": "stream",
     "text": [
      "120\n"
     ]
    },
    {
     "ename": "AttributeError",
     "evalue": "'Car' object has no attribute '__speed'",
     "output_type": "error",
     "traceback": [
      "\u001b[1;31m---------------------------------------------------------------------------\u001b[0m",
      "\u001b[1;31mAttributeError\u001b[0m                            Traceback (most recent call last)",
      "Cell \u001b[1;32mIn[18], line 10\u001b[0m\n\u001b[0;32m      8\u001b[0m car \u001b[38;5;241m=\u001b[39m Car()\n\u001b[0;32m      9\u001b[0m \u001b[38;5;28mprint\u001b[39m(car\u001b[38;5;241m.\u001b[39mget_speed())      \u001b[38;5;66;03m# ✅ Safe access via method\u001b[39;00m\n\u001b[1;32m---> 10\u001b[0m \u001b[38;5;28mprint\u001b[39m(\u001b[43mcar\u001b[49m\u001b[38;5;241;43m.\u001b[39;49m\u001b[43m__speed\u001b[49m)        \u001b[38;5;66;03m# ❌ Error: AttributeError\u001b[39;00m\n\u001b[0;32m     11\u001b[0m \u001b[38;5;28mprint\u001b[39m(car\u001b[38;5;241m.\u001b[39m_Car__speed)      \u001b[38;5;66;03m# ⚠️ Works, but not recommended (name mangling bypass)\u001b[39;00m\n",
      "\u001b[1;31mAttributeError\u001b[0m: 'Car' object has no attribute '__speed'"
     ]
    }
   ],
   "source": [
    "class Car:\n",
    "    def __init__(self):\n",
    "        self.__speed = 120  # private\n",
    "\n",
    "    def get_speed(self):\n",
    "        return self.__speed  # controlled access (getter)\n",
    "\n",
    "car = Car()\n",
    "print(car.get_speed())      # ✅ Safe access via method\n",
    "print(car.__speed)        # ❌ Error: AttributeError\n",
    "print(car._Car__speed)      # ⚠️ Works, but not recommended (name mangling bypass)\n"
   ]
  },
  {
   "cell_type": "markdown",
   "id": "4c70b7cb-6955-44af-ac77-b1eb819ca9cb",
   "metadata": {},
   "source": [
    "## 9. What is a constructor in python?"
   ]
  },
  {
   "cell_type": "markdown",
   "id": "3133f1d5-84c3-46a0-b699-2d63dc42b96e",
   "metadata": {},
   "source": [
    "### A constructor in Python is a special method used to initialize the objects of a class. When you create an object, the constructor automatically sets up its initial state (attributes)."
   ]
  },
  {
   "cell_type": "code",
   "execution_count": 20,
   "id": "9a26c704-85d2-4f61-a25f-b1ac8f498746",
   "metadata": {
    "tags": []
   },
   "outputs": [
    {
     "name": "stdout",
     "output_type": "stream",
     "text": [
      "Hello Constructor called\n"
     ]
    }
   ],
   "source": [
    "class Hello:\n",
    "    def __init__(self):\n",
    "        print(\"Hello Constructor called\")\n",
    "\n",
    "h = Hello()  # Output: Hello Constructor called(default)\n"
   ]
  },
  {
   "cell_type": "code",
   "execution_count": 21,
   "id": "d797d615-0f1d-4c0a-814f-5a2ed6897dc2",
   "metadata": {
    "tags": []
   },
   "outputs": [
    {
     "name": "stdout",
     "output_type": "stream",
     "text": [
      "Alice\n",
      "25\n"
     ]
    }
   ],
   "source": [
    "class Person:\n",
    "    def __init__(self, name, age):  # Constructor\n",
    "        self.name = name\n",
    "        self.age = age\n",
    "\n",
    "# Creating an object\n",
    "p = Person(\"Alice\", 25)\n",
    "print(p.name)  # Output: Alice\n",
    "print(p.age)   # Output: 25\n"
   ]
  },
  {
   "cell_type": "markdown",
   "id": "e3218e49-b332-4929-864c-e2971cfbcba0",
   "metadata": {},
   "source": [
    "## 10. What are class and static methods in python?"
   ]
  },
  {
   "cell_type": "markdown",
   "id": "95066d78-e885-4b2f-aafe-38a13ceff4f5",
   "metadata": {},
   "source": [
    "### 1. 🏷️ Class Methods (@classmethod)\n",
    "Belong to the class, not the instance.\n",
    "\n",
    "Take cls as the first parameter (refers to the class, not object).\n",
    "\n",
    "Can access or modify class-level attributes."
   ]
  },
  {
   "cell_type": "code",
   "execution_count": 22,
   "id": "daba7ddf-07a8-45d4-9dee-6be960d727d4",
   "metadata": {
    "tags": []
   },
   "outputs": [
    {
     "name": "stdout",
     "output_type": "stream",
     "text": [
      "XYZ school\n"
     ]
    }
   ],
   "source": [
    "class Student:\n",
    "    school_name=\"ABC High school\"\n",
    "    \n",
    "    def __init__(self,name):\n",
    "        self.name=name\n",
    "        \n",
    "    @classmethod\n",
    "    def change_school(cls,new_name):\n",
    "        cls.school_name=new_name\n",
    "Student.change_school(\"XYZ school\") \n",
    "print(Student.school_name)"
   ]
  },
  {
   "cell_type": "markdown",
   "id": "d3c0da4f-6752-40f6-b7fd-a8b57a0bfec9",
   "metadata": {},
   "source": [
    "## 11. what is method overloading in python?"
   ]
  },
  {
   "cell_type": "markdown",
   "id": "7e907af4-07b5-4c43-8cde-0beb70ffa80f",
   "metadata": {},
   "source": [
    "### Method Overloading means defining multiple methods with the same name but different arguments (number or type). "
   ]
  },
  {
   "cell_type": "markdown",
   "id": "265da800-91df-4d84-b4f1-2334c36c667c",
   "metadata": {
    "tags": []
   },
   "source": [
    "###\n",
    " However, Python does not support traditional method overloading."
   ]
  },
  {
   "cell_type": "markdown",
   "id": "cba24d8b-200f-4695-a586-89ff5c6d0032",
   "metadata": {},
   "source": [
    "###\n",
    "✅ Pythonic Way: Use default arguments or *args"
   ]
  },
  {
   "cell_type": "code",
   "execution_count": 24,
   "id": "5a4d0e47-85d1-4651-8d22-76dc128c7610",
   "metadata": {
    "tags": []
   },
   "outputs": [
    {
     "name": "stdout",
     "output_type": "stream",
     "text": [
      "One argument: 1\n",
      "Two arguments: 1 2\n",
      "No arguments\n"
     ]
    }
   ],
   "source": [
    "class Demo:\n",
    "    def show(self, a=None, b=None):\n",
    "        if a is not None and b is not None:\n",
    "            print(\"Two arguments:\", a, b)\n",
    "        elif a is not None:\n",
    "            print(\"One argument:\", a)\n",
    "        else:\n",
    "            print(\"No arguments\")\n",
    "\n",
    "d = Demo()\n",
    "d.show(1)         # One argument\n",
    "d.show(1, 2)      # Two arguments\n",
    "d.show()          # No arguments\n"
   ]
  },
  {
   "cell_type": "markdown",
   "id": "d6a1152d-19b4-4399-8698-62ecf940c25c",
   "metadata": {},
   "source": [
    "## 12. What is method overriding in python?"
   ]
  },
  {
   "cell_type": "markdown",
   "id": "11d68115-ad95-43c1-bdaa-cf10985df14f",
   "metadata": {},
   "source": [
    "### Method Overriding is an OOP feature that allows a child class to provide a different implementation of a method that is already defined in its parent class."
   ]
  },
  {
   "cell_type": "code",
   "execution_count": 25,
   "id": "603aac86-108d-4b0a-aeb5-8139801a8fab",
   "metadata": {
    "tags": []
   },
   "outputs": [
    {
     "name": "stdout",
     "output_type": "stream",
     "text": [
      "Animal speaks\n",
      "Dog barks\n"
     ]
    }
   ],
   "source": [
    "class Animal:\n",
    "    def speak(self):\n",
    "        print(\"Animal speaks\")\n",
    "\n",
    "class Dog(Animal):\n",
    "    def speak(self):  # Overriding the parent method\n",
    "        print(\"Dog barks\")\n",
    "\n",
    "# Creating objects\n",
    "a = Animal()\n",
    "d = Dog()\n",
    "\n",
    "a.speak()   # Output: Animal speaks\n",
    "d.speak()   # Output: Dog barks\n"
   ]
  },
  {
   "cell_type": "markdown",
   "id": "0c368156-bf35-40b1-a465-4a6a1cb99f0f",
   "metadata": {},
   "source": [
    "## 13. What is property decorator in python?"
   ]
  },
  {
   "cell_type": "markdown",
   "id": "c34d53fc-7969-4422-b30d-a52798c58eb2",
   "metadata": {},
   "source": [
    "### The @property decorator in Python is used to define getter methods in a class, allowing you to access a method like an attribute."
   ]
  },
  {
   "cell_type": "code",
   "execution_count": 26,
   "id": "47abcf2b-edd2-4860-874b-8c4d73864796",
   "metadata": {
    "tags": []
   },
   "outputs": [
    {
     "name": "stdout",
     "output_type": "stream",
     "text": [
      "Alice\n",
      "Deleting name...\n"
     ]
    }
   ],
   "source": [
    "class Person:\n",
    "    def __init__(self, name):\n",
    "        self._name = name\n",
    "\n",
    "    @property\n",
    "    def name(self):        # Getter method\n",
    "        return self._name\n",
    "\n",
    "    @name.setter\n",
    "    def name(self, value):  # Setter method\n",
    "        if not value:\n",
    "            raise ValueError(\"Name cannot be empty\")\n",
    "        self._name = value\n",
    "\n",
    "    @name.deleter\n",
    "    def name(self):         # Deleter method (optional)\n",
    "        print(\"Deleting name...\")\n",
    "        del self._name\n",
    "\n",
    "# Using the class\n",
    "p = Person(\"Alice\")\n",
    "print(p.name)       # Access like an attribute (calls getter)\n",
    "p.name = \"Bob\"      # Calls setter\n",
    "del p.name          # Calls deleter\n",
    "\n"
   ]
  },
  {
   "cell_type": "markdown",
   "id": "b6c68fac-9f2b-4fbb-8f07-496370120afe",
   "metadata": {},
   "source": [
    "## 14. Why is polymorphism important in OOP?"
   ]
  },
  {
   "cell_type": "markdown",
   "id": "89bbd0dd-dad9-492e-9467-edce782c5496",
   "metadata": {},
   "source": [
    "### Polymorphism is a core concept in OOP that allows one interface to be used for different underlying data types. It enables objects of different classes to be treated as if they were of the same class, enhancing flexibility and code reuse."
   ]
  },
  {
   "cell_type": "code",
   "execution_count": 27,
   "id": "c94567da-45e7-4a34-bfef-5fe8231c0e7e",
   "metadata": {
    "tags": []
   },
   "outputs": [
    {
     "name": "stdout",
     "output_type": "stream",
     "text": [
      "Dog says: Woof!\n",
      "Cat says: Meow!\n"
     ]
    }
   ],
   "source": [
    "class Animal:\n",
    "    def speak(self):\n",
    "        pass\n",
    "\n",
    "class Dog(Animal):\n",
    "    def speak(self):\n",
    "        print(\"Dog says: Woof!\")\n",
    "\n",
    "class Cat(Animal):\n",
    "    def speak(self):\n",
    "        print(\"Cat says: Meow!\")\n",
    "\n",
    "# Polymorphic function\n",
    "def make_animal_speak(animal):\n",
    "    animal.speak()\n",
    "\n",
    "# Create objects\n",
    "dog = Dog()\n",
    "cat = Cat()\n",
    "\n",
    "# Call the same method on different objects\n",
    "make_animal_speak(dog)  # Output: Dog says: Woof!\n",
    "make_animal_speak(cat)  # Output: Cat says: Meow!\n"
   ]
  },
  {
   "cell_type": "markdown",
   "id": "2ea69a53-508d-4d40-b03b-93e3ba456d7f",
   "metadata": {},
   "source": [
    "## 15. What is an abstract class in python?"
   ]
  },
  {
   "cell_type": "markdown",
   "id": "d1c78625-847a-409c-a6c9-1989170f7d2e",
   "metadata": {},
   "source": [
    "### An abstract class in Python is a class that cannot be instantiated directly. It is meant to be subclassed, and it allows you to define methods that must be implemented in the derived (child) classes. Abstract classes provide a blueprint for other classes."
   ]
  },
  {
   "cell_type": "code",
   "execution_count": 28,
   "id": "0056f378-e992-4d6d-ae61-32abc7d4c6a8",
   "metadata": {
    "tags": []
   },
   "outputs": [
    {
     "name": "stdout",
     "output_type": "stream",
     "text": [
      "Woof!\n",
      "This animal moves\n",
      "Meow!\n",
      "This animal moves\n"
     ]
    }
   ],
   "source": [
    "from abc import ABC, abstractmethod\n",
    "\n",
    "# Abstract class\n",
    "class Animal(ABC):\n",
    "    \n",
    "    @abstractmethod\n",
    "    def speak(self):  # Abstract method\n",
    "        pass\n",
    "    \n",
    "    def move(self):  # Concrete method\n",
    "        print(\"This animal moves\")\n",
    "\n",
    "# Subclass\n",
    "class Dog(Animal):\n",
    "    def speak(self):\n",
    "        print(\"Woof!\")\n",
    "\n",
    "# Subclass\n",
    "class Cat(Animal):\n",
    "    def speak(self):\n",
    "        print(\"Meow!\")\n",
    "\n",
    "# Creating objects\n",
    "dog = Dog()\n",
    "dog.speak()   # Output: Woof!\n",
    "dog.move()    # Output: This animal moves\n",
    "\n",
    "cat = Cat()\n",
    "cat.speak()   # Output: Meow!\n",
    "cat.move()    # Output: This animal moves\n",
    "\n",
    "# Trying to instantiate an abstract class (will raise an error)\n",
    "# animal = Animal()  # ❌ Error: Can't instantiate abstract class Animal with abstract methods speak\n"
   ]
  },
  {
   "cell_type": "markdown",
   "id": "52d1c702-2ef1-49c8-9982-a49e29b290c7",
   "metadata": {},
   "source": [
    "## 16. What are the advantages of OOP? "
   ]
  },
  {
   "cell_type": "markdown",
   "id": "9da53506-8c28-4856-b0fe-77bacc350839",
   "metadata": {},
   "source": [
    "###\n",
    "-Modularity: Breaks code into manageable parts.\n",
    "\n",
    "-Reusability: Use code again through objects and inheritance.\n",
    "\n",
    "-Maintainability: Easier to fix and update specific parts.\n",
    "\n",
    "-Abstraction: Hides complexity, shows only what's needed.\n",
    "\n",
    "-Encapsulation: Keeps data and methods together, protects data.\n",
    "\n",
    "-Polymorphism: One method, many behaviors for different objects.\n",
    "\n",
    "-Real-world modeling: Represents things more naturally in code."
   ]
  },
  {
   "cell_type": "markdown",
   "id": "d15dc751-a92f-4a6e-bc7c-b78b174ce7fc",
   "metadata": {},
   "source": [
    "## 17.What is the  difference between a class variable and an instance variable?"
   ]
  },
  {
   "cell_type": "markdown",
   "id": "94bc59e0-07aa-4b02-b26a-9014a5e38d8e",
   "metadata": {},
   "source": [
    "###\n",
    "Class Variable: Belongs to the class itself. All instances (objects) of that class share the same copy of the variable. Changes to a class variable affect all instances.   \n",
    "\n",
    "Instance Variable: Belongs to a specific instance (object) of the class. Each instance has its own independent copy of the variable. Changes to an instance variable only affect that particular object.   \n",
    "Sources and related content\n"
   ]
  },
  {
   "cell_type": "code",
   "execution_count": 29,
   "id": "f43dea18-e6fe-490e-a91f-78c1e3a27bcd",
   "metadata": {
    "tags": []
   },
   "outputs": [
    {
     "name": "stdout",
     "output_type": "stream",
     "text": [
      "red\n",
      "blue\n",
      "4\n",
      "4\n",
      "4\n",
      "6\n"
     ]
    }
   ],
   "source": [
    "class Car:\n",
    "    wheels = 4  # Class variable\n",
    "\n",
    "    def __init__(self, color):\n",
    "        self.color = color  # Instance variable\n",
    "\n",
    "car1 = Car(\"red\")\n",
    "car2 = Car(\"blue\")\n",
    "\n",
    "print(car1.color)   # Output: red\n",
    "print(car2.color)   # Output: blue\n",
    "print(Car.wheels)   # Output: 4\n",
    "print(car1.wheels)  # Output: 4\n",
    "print(car2.wheels)  # Output: 4\n",
    "\n",
    "Car.wheels = 6\n",
    "print(car1.wheels)  # Output: 6 (class variable changed for all)"
   ]
  },
  {
   "cell_type": "markdown",
   "id": "68281182-eea8-4717-9adb-4bea30767a12",
   "metadata": {},
   "source": [
    "## 18. What is multiple inheritance in python?"
   ]
  },
  {
   "cell_type": "markdown",
   "id": "d5ecac19-7c1a-4d90-a0b3-c4f13b02e662",
   "metadata": {},
   "source": [
    "### Multiple inheritance occurs when a class inherits from more than one class."
   ]
  },
  {
   "cell_type": "code",
   "execution_count": 30,
   "id": "2d5c7078-489c-40fb-b062-afbbf14fa2fa",
   "metadata": {
    "tags": []
   },
   "outputs": [
    {
     "name": "stdout",
     "output_type": "stream",
     "text": [
      "Dog barks\n",
      "This animal has fur\n"
     ]
    }
   ],
   "source": [
    "class Animal:\n",
    "    def speak(self):\n",
    "        print(\"Animal makes a sound\")\n",
    "\n",
    "class Mammal:\n",
    "    def has_fur(self):\n",
    "        print(\"This animal has fur\")\n",
    "\n",
    "class Dog(Animal, Mammal):  # Multiple inheritance\n",
    "    def speak(self):\n",
    "        print(\"Dog barks\")\n",
    "\n",
    "# Creating an object of Dog\n",
    "dog = Dog()\n",
    "dog.speak()        # Output: Dog barks\n",
    "dog.has_fur()      # Output: This animal has fur\n"
   ]
  },
  {
   "cell_type": "markdown",
   "id": "69afb060-76b4-438f-af00-04e1e316e321",
   "metadata": {},
   "source": [
    "## 19.Explain the purpose of \"__str__ and \"__repr__\" method in python?"
   ]
  },
  {
   "cell_type": "markdown",
   "id": "6a561760-7464-4cfc-a02f-619b64954cea",
   "metadata": {},
   "source": [
    "### __str__= for displaying readable string for end users."
   ]
  },
  {
   "cell_type": "code",
   "execution_count": 31,
   "id": "05cf7e8e-39ea-4614-aa20-76a25c9ad42c",
   "metadata": {
    "tags": []
   },
   "outputs": [
    {
     "name": "stdout",
     "output_type": "stream",
     "text": [
      "Person named Alice\n"
     ]
    }
   ],
   "source": [
    "class Person:\n",
    "    def __init__(self, name):\n",
    "        self.name = name\n",
    "\n",
    "    def __str__(self):\n",
    "        return f\"Person named {self.name}\"\n",
    "\n",
    "p = Person(\"Alice\")\n",
    "print(p)            # Output: Person named Alice\n"
   ]
  },
  {
   "cell_type": "markdown",
   "id": "31c16f11-dbd2-4b9f-a1ed-27d21fda9f88",
   "metadata": {},
   "source": [
    "###  __repr__: Developer-Friendly / Debugging Representation"
   ]
  },
  {
   "cell_type": "code",
   "execution_count": 32,
   "id": "13372edc-d8a0-4ec3-818d-c1814a9597fb",
   "metadata": {
    "tags": []
   },
   "outputs": [
    {
     "name": "stdout",
     "output_type": "stream",
     "text": [
      "Person('Alice')\n"
     ]
    }
   ],
   "source": [
    "class Person:\n",
    "    def __init__(self, name):\n",
    "        self.name = name\n",
    "\n",
    "    def __repr__(self):\n",
    "        return f\"Person('{self.name}')\"\n",
    "\n",
    "p = Person(\"Alice\")\n",
    "print(repr(p))      # Output: Person('Alice')\n"
   ]
  },
  {
   "cell_type": "markdown",
   "id": "7a130b8e-9574-4d2a-bc51-58b67486157c",
   "metadata": {
    "jp-MarkdownHeadingCollapsed": true,
    "tags": []
   },
   "source": [
    "## 20. What is significance of the 'super()' function in python?"
   ]
  },
  {
   "cell_type": "markdown",
   "id": "102c4213-752c-47c6-9d59-4470a59afede",
   "metadata": {},
   "source": [
    "### The super() function in Python is used to call a method from a parent (super) class inside a child class. It’s especially useful in inheritance and helps make your code more maintainable and DRY (Don’t Repeat Yourself)."
   ]
  },
  {
   "cell_type": "code",
   "execution_count": 33,
   "id": "256c9632-fd68-4814-94d0-957523fdad12",
   "metadata": {
    "tags": []
   },
   "outputs": [
    {
     "name": "stdout",
     "output_type": "stream",
     "text": [
      "Parent method\n",
      "Child method\n"
     ]
    }
   ],
   "source": [
    "class Parent:\n",
    "    def show(self):\n",
    "        print(\"Parent method\")\n",
    "\n",
    "class Child(Parent):\n",
    "    def show(self):\n",
    "        super().show()  # Calling Parent's show()\n",
    "        print(\"Child method\")\n",
    "\n",
    "c = Child()\n",
    "c.show()\n"
   ]
  },
  {
   "cell_type": "markdown",
   "id": "0c285213-3b74-47c5-8c3a-ddd7a5e5fe46",
   "metadata": {},
   "source": [
    "## 21. what is the significance of the __del__ method in python?"
   ]
  },
  {
   "cell_type": "markdown",
   "id": "5446b6db-b356-428b-ba0e-f6dc72c6d566",
   "metadata": {},
   "source": [
    "### The __del__ method in Python is a special method (a dunder method) known as the destructor. It is automatically called when an object is about to be destroyed, i.e., when it is garbage collected."
   ]
  },
  {
   "cell_type": "code",
   "execution_count": 34,
   "id": "b4a23e5f-1847-4ae1-9933-e97f39001568",
   "metadata": {
    "tags": []
   },
   "outputs": [
    {
     "name": "stdout",
     "output_type": "stream",
     "text": [
      "File opened.\n",
      "File closed.\n"
     ]
    }
   ],
   "source": [
    "class FileHandler:\n",
    "    def __init__(self, filename):\n",
    "        self.file = open(filename, 'w')\n",
    "        print(\"File opened.\")\n",
    "\n",
    "    def __del__(self):\n",
    "        self.file.close()\n",
    "        print(\"File closed.\")\n",
    "\n",
    "# Create and delete object\n",
    "f = FileHandler(\"sample.txt\")\n",
    "del f  # Manually trigger destructor\n"
   ]
  },
  {
   "cell_type": "markdown",
   "id": "11b46c04-ae6f-498c-b70d-6c868a9314b8",
   "metadata": {},
   "source": [
    "## 22. what is the difference between @staticmethod and @classmethod in python?"
   ]
  },
  {
   "cell_type": "markdown",
   "id": "49543ab6-41da-4864-b76d-f1c941830f05",
   "metadata": {},
   "source": [
    "### 🔹 @staticmethod\n",
    "Does not take self or cls as the first argument.\n",
    "\n",
    "Belongs to the class, but does not access class or instance attributes.\n",
    "\n",
    "Used for utility functions that make sense in the context of the class but don’t need access to class or instance data."
   ]
  },
  {
   "cell_type": "code",
   "execution_count": 35,
   "id": "6102babd-623e-42d0-aa53-b59e75f9aafb",
   "metadata": {
    "tags": []
   },
   "outputs": [
    {
     "name": "stdout",
     "output_type": "stream",
     "text": [
      "8\n"
     ]
    }
   ],
   "source": [
    "class Math:\n",
    "    @staticmethod\n",
    "    def add(a, b):\n",
    "        return a + b\n",
    "\n",
    "print(Math.add(3, 5))  # Output: 8\n"
   ]
  },
  {
   "cell_type": "markdown",
   "id": "cf7b878f-8151-49a8-a8cb-003b1a723dea",
   "metadata": {},
   "source": [
    "### 🔸 @classmethod\n",
    "Takes cls (class itself) as the first argument.\n",
    "\n",
    "Can access and modify class variables.\n",
    "\n",
    "Often used for factory methods or when you need to create class-level functionality.\n",
    "\n",
    "python\n",
    "Copy code\n"
   ]
  },
  {
   "cell_type": "code",
   "execution_count": 36,
   "id": "350c008f-9533-49da-b35b-dace960a3a6e",
   "metadata": {
    "tags": []
   },
   "outputs": [
    {
     "name": "stdout",
     "output_type": "stream",
     "text": [
      "Species: Human\n"
     ]
    }
   ],
   "source": [
    "class Person:\n",
    "    species = \"Human\"\n",
    "\n",
    "    @classmethod\n",
    "    def print_species(cls):\n",
    "        print(\"Species:\", cls.species)\n",
    "\n",
    "Person.print_species()  # Output: Species: Human\n"
   ]
  },
  {
   "cell_type": "markdown",
   "id": "4d669bc0-d2fd-4f6f-af4a-7728fae73774",
   "metadata": {},
   "source": [
    "## 23. How does polymorphism work in python inheritance?"
   ]
  },
  {
   "cell_type": "markdown",
   "id": "6cd8fe07-6ab0-4dcd-bd48-b6c8d161cf41",
   "metadata": {},
   "source": [
    "### Polymorphism means \"many forms\", and in Python, it allows the same method name to behave differently depending on the object (or class) using it — especially useful in inheritance."
   ]
  },
  {
   "cell_type": "markdown",
   "id": "076b8c8a-a735-4117-8fbf-02897eee66f6",
   "metadata": {},
   "source": [
    "### In Python, if a child class overrides a method from the parent class, you can call the same method name on different objects and get different behaviors. This is runtime polymorphism."
   ]
  },
  {
   "cell_type": "code",
   "execution_count": 37,
   "id": "7cb4e1b7-0a37-4d6d-8fc0-fdb5302b3515",
   "metadata": {
    "tags": []
   },
   "outputs": [
    {
     "name": "stdout",
     "output_type": "stream",
     "text": [
      "Woof\n",
      "Meow\n"
     ]
    }
   ],
   "source": [
    "class Animal:\n",
    "    def speak(self):\n",
    "        return \"Some sound\"\n",
    "\n",
    "class Dog(Animal):\n",
    "    def speak(self):\n",
    "        return \"Woof\"\n",
    "\n",
    "class Cat(Animal):\n",
    "    def speak(self):\n",
    "        return \"Meow\"\n",
    "\n",
    "# Polymorphism in action\n",
    "def animal_sound(animal):\n",
    "    print(animal.speak())\n",
    "\n",
    "# Using different subclass objects\n",
    "dog = Dog()\n",
    "cat = Cat()\n",
    "\n",
    "animal_sound(dog)  # Output: Woof\n",
    "animal_sound(cat)  # Output: Meow\n"
   ]
  },
  {
   "cell_type": "markdown",
   "id": "681de581-ccc7-4a39-8cc5-4056b58d05d4",
   "metadata": {},
   "source": [
    "## 24.What is method chaining in python OPP?"
   ]
  },
  {
   "cell_type": "markdown",
   "id": "a31ae3a7-4947-40f5-9e74-17881dd60da0",
   "metadata": {},
   "source": [
    "### Method chaining is a technique in Object-Oriented Programming where multiple methods are called in a single line — one after another — because each method returns the object itself (self)."
   ]
  },
  {
   "cell_type": "code",
   "execution_count": 38,
   "id": "b4cf68b1-e8b6-493f-bfc9-3350be8a1e4c",
   "metadata": {
    "tags": []
   },
   "outputs": [
    {
     "name": "stdout",
     "output_type": "stream",
     "text": [
      "Alice is 25 years old and lives in Delhi\n"
     ]
    },
    {
     "data": {
      "text/plain": [
       "<__main__.Person at 0x20af8a75dd0>"
      ]
     },
     "execution_count": 38,
     "metadata": {},
     "output_type": "execute_result"
    }
   ],
   "source": [
    "class Person:\n",
    "    def __init__(self, name):\n",
    "        self.name = name\n",
    "        self.age = None\n",
    "        self.city = None\n",
    "\n",
    "    def set_age(self, age):\n",
    "        self.age = age\n",
    "        return self  # returning self to allow chaining\n",
    "\n",
    "    def set_city(self, city):\n",
    "        self.city = city\n",
    "        return self\n",
    "\n",
    "    def display(self):\n",
    "        print(f\"{self.name} is {self.age} years old and lives in {self.city}\")\n",
    "        return self\n",
    "\n",
    "# Method chaining in action\n",
    "p = Person(\"Alice\")\n",
    "p.set_age(25).set_city(\"Delhi\").display()\n"
   ]
  },
  {
   "cell_type": "markdown",
   "id": "362245d3-b55e-41c0-abb9-d60ac17e1f7b",
   "metadata": {},
   "source": [
    "## 25. What is purpose of the __call__ method in python?"
   ]
  },
  {
   "cell_type": "markdown",
   "id": "e18a26cd-72b5-4d5c-a03a-49227bd9d594",
   "metadata": {},
   "source": [
    "### The __call__() method in Python allows an instance of a class to be called like a function. This is useful when you want an object to behave like a function while still retaining object-like properties (state, methods, etc.)."
   ]
  },
  {
   "cell_type": "code",
   "execution_count": 39,
   "id": "7a69bf34-c56d-4cf8-bbc9-96897cbba027",
   "metadata": {
    "tags": []
   },
   "outputs": [
    {
     "name": "stdout",
     "output_type": "stream",
     "text": [
      "Hello, Alice!\n"
     ]
    }
   ],
   "source": [
    "class Greeter:\n",
    "    def __init__(self, name):\n",
    "        self.name = name\n",
    "\n",
    "    def __call__(self):\n",
    "        print(f\"Hello, {self.name}!\")\n",
    "\n",
    "g = Greeter(\"Alice\")\n",
    "g()  # This calls g.__call__()\n"
   ]
  },
  {
   "cell_type": "markdown",
   "id": "f4a4d9b3-1ed3-4217-8ebd-f92829953a22",
   "metadata": {},
   "source": [
    "# Practical Questions"
   ]
  },
  {
   "cell_type": "markdown",
   "id": "8d5212fc-60fc-4783-8c94-9d7e635b0c05",
   "metadata": {},
   "source": [
    "## 1. Create a parent class animal with a method speak() that prints a generic message. Create a child class dog that overrides the speak() method to print \"Bark!\"."
   ]
  },
  {
   "cell_type": "code",
   "execution_count": 40,
   "id": "010490c9-609a-41f3-bca9-c9665d0eced2",
   "metadata": {
    "tags": []
   },
   "outputs": [
    {
     "name": "stdout",
     "output_type": "stream",
     "text": [
      "The animal makes a sound\n",
      "Bark!\n"
     ]
    }
   ],
   "source": [
    "# Parent class\n",
    "class Animal:\n",
    "    def speak(self):\n",
    "        print(\"The animal makes a sound\")\n",
    "\n",
    "# Child class\n",
    "class Dog(Animal):\n",
    "    def speak(self):\n",
    "        print(\"Bark!\")\n",
    "\n",
    "# Test the classes\n",
    "a = Animal()\n",
    "a.speak()  # Output: The animal makes a sound\n",
    "\n",
    "d = Dog()\n",
    "d.speak()  # Output: Bark!\n"
   ]
  },
  {
   "cell_type": "markdown",
   "id": "5ce64cbb-92ac-43e0-a8d4-3e5857c2ad94",
   "metadata": {},
   "source": [
    "## 2. Write a program to create an abstract class shape with a method area(). derive classes circle and rectangule from it and implement the area() methodin both."
   ]
  },
  {
   "cell_type": "code",
   "execution_count": 41,
   "id": "c00c4c42-dc34-40db-956e-ef299b38d351",
   "metadata": {
    "tags": []
   },
   "outputs": [
    {
     "name": "stdout",
     "output_type": "stream",
     "text": [
      "Area of Circle: 78.53981633974483\n",
      "Area of Rectangle: 24\n"
     ]
    }
   ],
   "source": [
    "from abc import ABC, abstractmethod\n",
    "import math\n",
    "\n",
    "# Abstract class\n",
    "class Shape(ABC):\n",
    "    \n",
    "    @abstractmethod\n",
    "    def area(self):\n",
    "        pass\n",
    "\n",
    "# Derived class - Circle\n",
    "class Circle(Shape):\n",
    "    def __init__(self, radius):\n",
    "        self.radius = radius\n",
    "    \n",
    "    def area(self):\n",
    "        return math.pi * self.radius ** 2\n",
    "\n",
    "# Derived class - Rectangle\n",
    "class Rectangle(Shape):\n",
    "    def __init__(self, length, width):\n",
    "        self.length = length\n",
    "        self.width = width\n",
    "    \n",
    "    def area(self):\n",
    "        return self.length * self.width\n",
    "\n",
    "# Testing the classes\n",
    "c = Circle(5)\n",
    "r = Rectangle(4, 6)\n",
    "\n",
    "print(\"Area of Circle:\", c.area())       # Output: Area of Circle: 78.53981633974483\n",
    "print(\"Area of Rectangle:\", r.area())    # Output: Area of Rectangle: 24\n",
    "\n"
   ]
  },
  {
   "cell_type": "markdown",
   "id": "b1e91a53-d616-4944-8f98-979c9e0252e9",
   "metadata": {},
   "source": [
    "## 3. implement a multi-level inheritance scenario where a class vehicle has an attribute type. derive a class car and further derive a class electriccar adds a battery attribute."
   ]
  },
  {
   "cell_type": "code",
   "execution_count": 42,
   "id": "f8170642-cdaf-459f-95fc-6654759f7817",
   "metadata": {
    "tags": []
   },
   "outputs": [
    {
     "name": "stdout",
     "output_type": "stream",
     "text": [
      "Type: Four-wheeler\n",
      "Brand: Tesla\n",
      "Battery: 75 kWh\n"
     ]
    }
   ],
   "source": [
    "# Base class\n",
    "class Vehicle:\n",
    "    def __init__(self, vehicle_type):\n",
    "        self.type = vehicle_type\n",
    "\n",
    "# Derived class\n",
    "class Car(Vehicle):\n",
    "    def __init__(self, vehicle_type, brand):\n",
    "        super().__init__(vehicle_type)\n",
    "        self.brand = brand\n",
    "\n",
    "# Further derived class\n",
    "class ElectricCar(Car):\n",
    "    def __init__(self, vehicle_type, brand, battery_capacity):\n",
    "        super().__init__(vehicle_type, brand)\n",
    "        self.battery = battery_capacity\n",
    "\n",
    "    def display_info(self):\n",
    "        print(f\"Type: {self.type}\")\n",
    "        print(f\"Brand: {self.brand}\")\n",
    "        print(f\"Battery: {self.battery} kWh\")\n",
    "\n",
    "# Create object\n",
    "e_car = ElectricCar(\"Four-wheeler\", \"Tesla\", 75)\n",
    "e_car.display_info()\n"
   ]
  },
  {
   "cell_type": "markdown",
   "id": "85fc5202-a33a-4822-899a-c17975e874ac",
   "metadata": {},
   "source": [
    "## 4. demonstrate polymorphism by creating a base class bird with a method fly(). create two derived classes sparrow and penguin thet override the fly() method."
   ]
  },
  {
   "cell_type": "code",
   "execution_count": 43,
   "id": "fc7d2eab-b58a-4f47-9c15-1fb1c7d01539",
   "metadata": {
    "tags": []
   },
   "outputs": [
    {
     "name": "stdout",
     "output_type": "stream",
     "text": [
      "Sparrow flies high in the sky.\n",
      "Penguins can't fly, they swim instead.\n"
     ]
    }
   ],
   "source": [
    "# Base class\n",
    "class Bird:\n",
    "    def fly(self):\n",
    "        print(\"Some birds can fly.\")\n",
    "\n",
    "# Derived class\n",
    "class Sparrow(Bird):\n",
    "    def fly(self):\n",
    "        print(\"Sparrow flies high in the sky.\")\n",
    "\n",
    "# Derived class\n",
    "class Penguin(Bird):\n",
    "    def fly(self):\n",
    "        print(\"Penguins can't fly, they swim instead.\")\n",
    "\n",
    "# Function to demonstrate polymorphism\n",
    "def bird_flight(bird):\n",
    "    bird.fly()\n",
    "\n",
    "# Create objects\n",
    "b1 = Sparrow()\n",
    "b2 = Penguin()\n",
    "\n",
    "# Polymorphic behavior\n",
    "bird_flight(b1)  # Output: Sparrow flies high in the sky.\n",
    "bird_flight(b2)  # Output: Penguins can't fly, they swim instead.\n"
   ]
  },
  {
   "cell_type": "markdown",
   "id": "255fd46c-a333-4f64-aa25-c023e5c5b00e",
   "metadata": {},
   "source": [
    "## 5.Write a program to demonstrate encapsulation by creating a class BankAccount with private attributes balance and methods to deposit, withdraw, and check balance."
   ]
  },
  {
   "cell_type": "code",
   "execution_count": 44,
   "id": "18c78b04-0ded-49ac-ba90-35ae09960f99",
   "metadata": {
    "tags": []
   },
   "outputs": [
    {
     "name": "stdout",
     "output_type": "stream",
     "text": [
      "Current Balance: ₹1000\n",
      "Deposited: ₹500\n",
      "Withdrawn: ₹200\n",
      "Current Balance: ₹1300\n"
     ]
    }
   ],
   "source": [
    "class BankAccount:\n",
    "    def __init__(self, initial_balance=0):\n",
    "        self.__balance = initial_balance  # private attribute\n",
    "\n",
    "    def deposit(self, amount):\n",
    "        if amount > 0:\n",
    "            self.__balance += amount\n",
    "            print(f\"Deposited: ₹{amount}\")\n",
    "        else:\n",
    "            print(\"Invalid deposit amount.\")\n",
    "\n",
    "    def withdraw(self, amount):\n",
    "        if 0 < amount <= self.__balance:\n",
    "            self.__balance -= amount\n",
    "            print(f\"Withdrawn: ₹{amount}\")\n",
    "        else:\n",
    "            print(\"Insufficient balance or invalid amount.\")\n",
    "\n",
    "    def check_balance(self):\n",
    "        print(f\"Current Balance: ₹{self.__balance}\")\n",
    "\n",
    "# Using the class\n",
    "account = BankAccount(1000)\n",
    "account.check_balance()      # Output: Current Balance: ₹1000\n",
    "account.deposit(500)         # Output: Deposited: ₹500\n",
    "account.withdraw(200)        # Output: Withdrawn: ₹200\n",
    "account.check_balance()      # Output: Current Balance: ₹1300\n",
    "\n",
    "# Trying to access private attribute directly (will fail)\n",
    "# print(account.__balance)   # ❌ AttributeError\n"
   ]
  },
  {
   "cell_type": "markdown",
   "id": "45fedc35-22a5-4517-bcc4-d79cbb3ab4c3",
   "metadata": {},
   "source": [
    "## 6. Demonstrate runtime polymorphism using a method play() in a base class Instrument. Derive classes Guitar and Piano that implement their own version of play()."
   ]
  },
  {
   "cell_type": "code",
   "execution_count": 45,
   "id": "7dfeae02-db71-469d-9cdb-8069079397e7",
   "metadata": {
    "tags": []
   },
   "outputs": [
    {
     "name": "stdout",
     "output_type": "stream",
     "text": [
      "Strumming the guitar.\n",
      "Playing the piano keys.\n"
     ]
    }
   ],
   "source": [
    "# Base class\n",
    "class Instrument:\n",
    "    def play(self):\n",
    "        print(\"Playing an instrument.\")\n",
    "\n",
    "# Derived class\n",
    "class Guitar(Instrument):\n",
    "    def play(self):\n",
    "        print(\"Strumming the guitar.\")\n",
    "\n",
    "# Derived class\n",
    "class Piano(Instrument):\n",
    "    def play(self):\n",
    "        print(\"Playing the piano keys.\")\n",
    "\n",
    "# Function to demonstrate runtime polymorphism\n",
    "def start_playing(instrument):\n",
    "    instrument.play()\n",
    "\n",
    "# Create instances\n",
    "g = Guitar()\n",
    "p = Piano()\n",
    "\n",
    "# Polymorphic behavior at runtime\n",
    "start_playing(g)  # Output: Strumming the guitar.\n",
    "start_playing(p)  # Output: Playing the piano keys.\n"
   ]
  },
  {
   "cell_type": "markdown",
   "id": "c89412c9-507a-4526-8204-6b1caaaa414e",
   "metadata": {},
   "source": [
    "### 7. Create a class MathOperations with a class method add_numbers() to add two numbers and a static method subtract_numbers() to subtract two numbers."
   ]
  },
  {
   "cell_type": "code",
   "execution_count": 46,
   "id": "26bca6f4-e200-4f70-b6c5-ab0871228d7a",
   "metadata": {
    "tags": []
   },
   "outputs": [
    {
     "name": "stdout",
     "output_type": "stream",
     "text": [
      "Addition: 15\n",
      "Subtraction: 5\n"
     ]
    }
   ],
   "source": [
    "class MathOperations:\n",
    "    \n",
    "    @classmethod\n",
    "    def add_numbers(cls, a, b):\n",
    "        return a + b\n",
    "\n",
    "    @staticmethod\n",
    "    def subtract_numbers(a, b):\n",
    "        return a - b\n",
    "\n",
    "# Using class method\n",
    "sum_result = MathOperations.add_numbers(10, 5)\n",
    "print(\"Addition:\", sum_result)  # Output: 15\n",
    "\n",
    "# Using static method\n",
    "sub_result = MathOperations.subtract_numbers(10, 5)\n",
    "print(\"Subtraction:\", sub_result)  # Output: 5\n"
   ]
  },
  {
   "cell_type": "markdown",
   "id": "2c10873d-083e-45d1-aa66-e5f4862ae86b",
   "metadata": {},
   "source": [
    "## 8. Implement a class Person with a class method to count the total number of persons created."
   ]
  },
  {
   "cell_type": "code",
   "execution_count": 47,
   "id": "95f6f329-7412-4862-ac54-f45a201b3ba8",
   "metadata": {
    "tags": []
   },
   "outputs": [
    {
     "name": "stdout",
     "output_type": "stream",
     "text": [
      "Total persons created: 3\n"
     ]
    }
   ],
   "source": [
    "class Person:\n",
    "    # Class variable to keep track of the count\n",
    "    total_persons = 0\n",
    "    \n",
    "    def __init__(self, name, age):\n",
    "        self.name = name\n",
    "        self.age = age\n",
    "        Person.total_persons += 1  # Increment count whenever a new person is created\n",
    "\n",
    "    @classmethod\n",
    "    def count_persons(cls):\n",
    "        return cls.total_persons\n",
    "\n",
    "# Creating Person objects\n",
    "p1 = Person(\"Alice\", 25)\n",
    "p2 = Person(\"Bob\", 30)\n",
    "p3 = Person(\"Charlie\", 35)\n",
    "\n",
    "# Using class method to get total count of Person objects created\n",
    "print(\"Total persons created:\", Person.count_persons())  # Output: Total persons created: 3\n"
   ]
  },
  {
   "cell_type": "markdown",
   "id": "f061c5fb-ba57-4270-ba49-764be77a2dfb",
   "metadata": {},
   "source": [
    "## 9. Write a class Fraction with attributes numerator and denominator. Override the str method to display the fraction as \"numerator/denominator\"."
   ]
  },
  {
   "cell_type": "code",
   "execution_count": 48,
   "id": "e4e8bf9b-97aa-4d9a-b008-35480eeadcab",
   "metadata": {
    "tags": []
   },
   "outputs": [
    {
     "name": "stdout",
     "output_type": "stream",
     "text": [
      "3/4\n"
     ]
    }
   ],
   "source": [
    "class Fraction:\n",
    "    def __init__(self, numerator, denominator):\n",
    "        self.numerator = numerator\n",
    "        self.denominator = denominator\n",
    "\n",
    "    def __str__(self):\n",
    "        return f\"{self.numerator}/{self.denominator}\"\n",
    "\n",
    "# Creating a Fraction object\n",
    "fraction = Fraction(3, 4)\n",
    "\n",
    "# Printing the fraction\n",
    "print(fraction)  # Output: 3/4\n"
   ]
  },
  {
   "cell_type": "markdown",
   "id": "40f0d7aa-4dec-46a1-bdb3-9997e558edd5",
   "metadata": {},
   "source": [
    "## 10. Demonstrate operator overloading by creating a class Vector and overriding the add method to add two vectors."
   ]
  },
  {
   "cell_type": "markdown",
   "id": "b848509c-5ddc-46fa-a870-64a85f8554ef",
   "metadata": {},
   "source": [
    "class Vector:\n",
    "    def __init__(self, x, y):\n",
    "        self.x = x\n",
    "        self.y = y\n",
    "\n",
    "    # Overloading the '+' operator using __add__ method\n",
    "    def __add__(self, other):\n",
    "        # Adding the corresponding components of two vectors\n",
    "        return Vector(self.x + other.x, self.y + other.y)\n",
    "\n",
    "    def __str__(self):\n",
    "        return f\"({self.x}, {self.y})\"\n",
    "\n",
    "# Creating two Vector objects\n",
    "v1 = Vector(3, 4)\n",
    "v2 = Vector(1, 2)\n",
    "\n",
    "# Adding two vectors using the overloaded '+' operator\n",
    "v3 = v1 + v2\n",
    "\n",
    "# Printing the result\n",
    "print(\"v1 + v2 =\", v3)  # Output: v1 + v2 = (4, 6)\n"
   ]
  },
  {
   "cell_type": "markdown",
   "id": "8d788c86-fe79-4c00-be46-61f5786e2aa6",
   "metadata": {},
   "source": [
    "## 11. Create a class Person with attributes name and age. Add a method greet() that prints \"Hello, my name is {name} and I am {age} years old.\""
   ]
  },
  {
   "cell_type": "code",
   "execution_count": 49,
   "id": "48db5cf6-7b13-4243-b498-684e727e028f",
   "metadata": {
    "tags": []
   },
   "outputs": [
    {
     "name": "stdout",
     "output_type": "stream",
     "text": [
      "Hello, my name is Alice and I am 25 years old.\n"
     ]
    }
   ],
   "source": [
    "class Person:\n",
    "    def __init__(self, name, age):\n",
    "        self.name = name\n",
    "        self.age = age\n",
    "\n",
    "    def greet(self):\n",
    "        print(f\"Hello, my name is {self.name} and I am {self.age} years old.\")\n",
    "\n",
    "# Creating a Person object\n",
    "person1 = Person(\"Alice\", 25)\n",
    "\n",
    "# Calling the greet method\n",
    "person1.greet()  # Output: Hello, my name is Alice and I am 25 years old.\n"
   ]
  },
  {
   "cell_type": "markdown",
   "id": "1be7c261-e156-4927-aec4-75bee59dd77f",
   "metadata": {},
   "source": [
    "## 12. Implement a class Student with attributes name and grades. Create a method average_grade() to compute the average of the grades."
   ]
  },
  {
   "cell_type": "code",
   "execution_count": 50,
   "id": "d4062e7b-a35b-4224-8dfc-6c84db572b21",
   "metadata": {
    "tags": []
   },
   "outputs": [
    {
     "name": "stdout",
     "output_type": "stream",
     "text": [
      "John's average grade: 86.6\n"
     ]
    }
   ],
   "source": [
    "class Student:\n",
    "    def __init__(self, name, grades):\n",
    "        self.name = name\n",
    "        self.grades = grades  # grades is expected to be a list of numbers\n",
    "\n",
    "    def average_grade(self):\n",
    "        if len(self.grades) > 0:\n",
    "            avg = sum(self.grades) / len(self.grades)\n",
    "            return avg\n",
    "        else:\n",
    "            return 0  # Return 0 if there are no grades\n",
    "\n",
    "# Creating a Student object\n",
    "student1 = Student(\"John\", [85, 90, 78, 92, 88])\n",
    "\n",
    "# Calling the average_grade method\n",
    "average = student1.average_grade()\n",
    "print(f\"{student1.name}'s average grade: {average}\")  # Output: John's average grade: 86.6\n"
   ]
  },
  {
   "cell_type": "markdown",
   "id": "57e87fa5-a733-4dec-8b76-bc72dd1f3434",
   "metadata": {},
   "source": [
    "## 13. Create a class Rectangle with methods set_dimensions() to set the dimensions and area() to calculate the area."
   ]
  },
  {
   "cell_type": "code",
   "execution_count": 51,
   "id": "9e6602a6-87b3-44dd-8ec4-292f9b423eab",
   "metadata": {
    "tags": []
   },
   "outputs": [
    {
     "name": "stdout",
     "output_type": "stream",
     "text": [
      "Area of the rectangle: 50\n"
     ]
    }
   ],
   "source": [
    "class Rectangle:\n",
    "    def __init__(self):\n",
    "        self.length = 0\n",
    "        self.width = 0\n",
    "\n",
    "    def set_dimensions(self, length, width):\n",
    "        self.length = length\n",
    "        self.width = width\n",
    "\n",
    "    def area(self):\n",
    "        return self.length * self.width\n",
    "\n",
    "# Creating a Rectangle object\n",
    "rectangle1 = Rectangle()\n",
    "\n",
    "# Setting the dimensions of the rectangle\n",
    "rectangle1.set_dimensions(10, 5)\n",
    "\n",
    "# Calculating and printing the area\n",
    "print(f\"Area of the rectangle: {rectangle1.area()}\")  # Output: Area of the rectangle: 50\n"
   ]
  },
  {
   "cell_type": "markdown",
   "id": "b2b68912-4105-4f62-b88d-bd2519a6e9b7",
   "metadata": {},
   "source": [
    "## 14. Create a class Employee with a method calculate_salary() that computes the salary based on hours worked and hourly rate. Create a derived class Manager that adds a bonus to the salary."
   ]
  },
  {
   "cell_type": "code",
   "execution_count": 52,
   "id": "65ea539f-27f2-41a9-9689-0a73bf058d7c",
   "metadata": {
    "tags": []
   },
   "outputs": [
    {
     "name": "stdout",
     "output_type": "stream",
     "text": [
      "Employee Salary: $3200\n",
      "Manager Salary: $4500\n"
     ]
    }
   ],
   "source": [
    "# Base class\n",
    "class Employee:\n",
    "    def __init__(self, name, hours_worked, hourly_rate):\n",
    "        self.name = name\n",
    "        self.hours_worked = hours_worked\n",
    "        self.hourly_rate = hourly_rate\n",
    "\n",
    "    def calculate_salary(self):\n",
    "        return self.hours_worked * self.hourly_rate\n",
    "\n",
    "# Derived class\n",
    "class Manager(Employee):\n",
    "    def __init__(self, name, hours_worked, hourly_rate, bonus):\n",
    "        super().__init__(name, hours_worked, hourly_rate)\n",
    "        self.bonus = bonus\n",
    "\n",
    "    def calculate_salary(self):\n",
    "        # Adding bonus to the salary of the Manager\n",
    "        base_salary = super().calculate_salary()\n",
    "        return base_salary + self.bonus\n",
    "\n",
    "# Creating an Employee object\n",
    "employee1 = Employee(\"John\", 160, 20)\n",
    "print(f\"Employee Salary: ${employee1.calculate_salary()}\")  # Output: Employee Salary: $3200\n",
    "\n",
    "# Creating a Manager object\n",
    "manager1 = Manager(\"Alice\", 160, 25, 500)\n",
    "print(f\"Manager Salary: ${manager1.calculate_salary()}\")  # Output: Manager Salary: $4500\n"
   ]
  },
  {
   "cell_type": "markdown",
   "id": "3cee7ce2-a657-4240-8bfa-8b0e16ffb099",
   "metadata": {},
   "source": [
    "## 15. Create a class Product with attributes name, price, and quantity. Implement a method total_price() that calculates the total price of the product."
   ]
  },
  {
   "cell_type": "code",
   "execution_count": 53,
   "id": "231c5b34-b9ac-4e5b-a3ee-bcc2ae3ba3d0",
   "metadata": {
    "tags": []
   },
   "outputs": [
    {
     "name": "stdout",
     "output_type": "stream",
     "text": [
      "Total price for Laptop: $3000\n"
     ]
    }
   ],
   "source": [
    "class Product:\n",
    "    def __init__(self, name, price, quantity):\n",
    "        self.name = name\n",
    "        self.price = price\n",
    "        self.quantity = quantity\n",
    "\n",
    "    def total_price(self):\n",
    "        return self.price * self.quantity\n",
    "\n",
    "# Creating a Product object\n",
    "product1 = Product(\"Laptop\", 1000, 3)\n",
    "\n",
    "# Calculating and printing the total price\n",
    "print(f\"Total price for {product1.name}: ${product1.total_price()}\")  # Output: Total price for Laptop: $3000\n"
   ]
  },
  {
   "cell_type": "markdown",
   "id": "e1d9ea4d-b390-42db-b3f2-3b9bb5257528",
   "metadata": {},
   "source": [
    "## 16. Create a class Animal with an abstract method sound(). Create two derived classes Cow and Sheep that implement the sound() method."
   ]
  },
  {
   "cell_type": "code",
   "execution_count": 54,
   "id": "2ca69c44-59e0-4853-95ca-ce3bde10809e",
   "metadata": {
    "tags": []
   },
   "outputs": [
    {
     "name": "stdout",
     "output_type": "stream",
     "text": [
      "Moo\n",
      "Baa\n"
     ]
    }
   ],
   "source": [
    "from abc import ABC, abstractmethod\n",
    "\n",
    "# Abstract class\n",
    "class Animal(ABC):\n",
    "    @abstractmethod\n",
    "    def sound(self):\n",
    "        pass\n",
    "\n",
    "# Derived class Cow\n",
    "class Cow(Animal):\n",
    "    def sound(self):\n",
    "        print(\"Moo\")\n",
    "\n",
    "# Derived class Sheep\n",
    "class Sheep(Animal):\n",
    "    def sound(self):\n",
    "        print(\"Baa\")\n",
    "\n",
    "# Creating objects of Cow and Sheep\n",
    "cow = Cow()\n",
    "sheep = Sheep()\n",
    "\n",
    "# Calling the sound method\n",
    "cow.sound()   # Output: Moo\n",
    "sheep.sound() # Output: Baa\n"
   ]
  },
  {
   "cell_type": "markdown",
   "id": "4254ffab-83d6-42cb-bc53-ac3e8cc7ccdf",
   "metadata": {},
   "source": [
    "## 17. Create a class Book with attributes title, author, and year_published. Add a method get_book_info() that returns a formatted string with the book's details."
   ]
  },
  {
   "cell_type": "code",
   "execution_count": null,
   "id": "3ee3037e-e575-4f1c-81ff-b7b2f6759d81",
   "metadata": {},
   "outputs": [],
   "source": []
  }
 ],
 "metadata": {
  "kernelspec": {
   "display_name": "Python 3 (ipykernel)",
   "language": "python",
   "name": "python3"
  },
  "language_info": {
   "codemirror_mode": {
    "name": "ipython",
    "version": 3
   },
   "file_extension": ".py",
   "mimetype": "text/x-python",
   "name": "python",
   "nbconvert_exporter": "python",
   "pygments_lexer": "ipython3",
   "version": "3.11.5"
  }
 },
 "nbformat": 4,
 "nbformat_minor": 5
}
