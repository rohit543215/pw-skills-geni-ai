{
 "cells": [
  {
   "cell_type": "markdown",
   "id": "5b216d2f-dde1-496d-ba14-40f34a91a217",
   "metadata": {},
   "source": [
    "# Statistics Advance part 1"
   ]
  },
  {
   "cell_type": "code",
   "execution_count": null,
   "id": "575e3f08-1d4e-43ef-b27e-4c80c903eedb",
   "metadata": {},
   "outputs": [],
   "source": []
  },
  {
   "cell_type": "markdown",
   "id": "ab3bc33a-80c5-43fe-980a-81bafb8b8b7a",
   "metadata": {},
   "source": [
    "## 1. what is a random variable in probablity theory? "
   ]
  },
  {
   "cell_type": "markdown",
   "id": "0fc8b752-4a95-4571-a3b2-ca02a7414e6d",
   "metadata": {},
   "source": [
    "### A random variable in probability theory is a variable thta takes different valuse based on the outcome of a random experiment\n",
    "\n",
    "Example:\n",
    "    when you toss a coin , define a random variable X as.\n",
    "\n",
    "    - X=1 if the result is heads.\n",
    "    - X=0 if the result is tails.\n",
    "    \n",
    "So, a random variable assigns numbers to outcomes of a random process.    "
   ]
  },
  {
   "cell_type": "code",
   "execution_count": null,
   "id": "172128cd-6f7d-4c8a-94ef-06ad8ce8bf22",
   "metadata": {},
   "outputs": [],
   "source": []
  },
  {
   "cell_type": "markdown",
   "id": "5341299f-b9e4-4651-a1b8-d656152ef211",
   "metadata": {},
   "source": [
    "## 2. What are the types of random  variables."
   ]
  },
  {
   "cell_type": "markdown",
   "id": "535f758f-b35f-46a5-8abf-e0a7d7807c15",
   "metadata": {
    "tags": []
   },
   "source": [
    "### There are two main types of random variables :"
   ]
  },
  {
   "cell_type": "markdown",
   "id": "09821261-1b79-40d6-a190-7c43e4fa1f3c",
   "metadata": {},
   "source": [
    "### 1.Discrete random variables\n",
    "- takes countable values (like 0,1,2,3,...)\n",
    "- Example: number of heads in 3 coin  tosses."
   ]
  },
  {
   "cell_type": "markdown",
   "id": "3490c5a9-8d5f-4a56-8a48-f1dd343e1f00",
   "metadata": {},
   "source": [
    "### 2.Continous random variable.\n",
    "- Takes uncountable/infinite values within a range.\n",
    "- Example : height of a person, time taken to run a race."
   ]
  },
  {
   "cell_type": "code",
   "execution_count": null,
   "id": "85255b44-62af-4ae9-bc17-cfe93e2eafa9",
   "metadata": {},
   "outputs": [],
   "source": []
  },
  {
   "cell_type": "markdown",
   "id": "8d721f22-69e6-441f-9e91-ca03b520af2e",
   "metadata": {},
   "source": [
    "## 3.What is the difference between discrete and continous distribution?"
   ]
  },
  {
   "cell_type": "code",
   "execution_count": 3,
   "id": "2e11be8d-2078-4a7b-a7b2-362bd4ad7c23",
   "metadata": {
    "tags": []
   },
   "outputs": [],
   "source": [
    "| Feature         | Discrete Distribution                            | Continuous Distribution                          |\n",
    "| --------------- | ------------------------------------------------ | ------------------------------------------------ |\n",
    "| Values          | Takes specific, countable values                 | Takes any value in a range (uncountable)         |\n",
    "| Example         | Number of students in a class                    | Temperature in a city                            |\n",
    "| Probability     | Probability is assigned to individual values     | Probability is assigned to a range of values     |\n",
    "| Graph Type      | Bar graph                                        | Smooth curve (like bell curve)                   |\n"
   ]
  },
  {
   "cell_type": "code",
   "execution_count": null,
   "id": "a21a8573-a12a-4f7d-bfa4-34fc6ea56304",
   "metadata": {},
   "outputs": [],
   "source": []
  },
  {
   "cell_type": "markdown",
   "id": "56877fe8-341e-4bc1-aedd-947c66697c1a",
   "metadata": {},
   "source": [
    "## 4. What are probability distributions functions(pdf)."
   ]
  },
  {
   "cell_type": "markdown",
   "id": "d90f511d-e277-4c24-974f-77ffa65c0068",
   "metadata": {},
   "source": [
    "### A Probability Distribution Function (PDF) describes how the probabilities are distributed over the values of a random variable."
   ]
  },
  {
   "cell_type": "markdown",
   "id": "5c331239-6925-4eae-b622-f492aaf3f6c9",
   "metadata": {},
   "source": [
    "### there are two types."
   ]
  },
  {
   "cell_type": "markdown",
   "id": "d153150d-1d5d-47bd-9867-b49ed82febc5",
   "metadata": {},
   "source": [
    "### It is called a Probability Mass Function (PMF)\n",
    "- It gives the probability of each possible value.\n",
    "- Example: Tossing a coin\n",
    "  - P(X=1) = 0.5, P(X=0) = 0.5\n"
   ]
  },
  {
   "cell_type": "markdown",
   "id": "3b105f17-6b90-4e31-ba61-f95b1e4077eb",
   "metadata": {},
   "source": [
    "### It is called a Probability Density Function (PDF)\n",
    "- It gives the density of probability at each point.\n",
    "- Probability of a specific value is 0\n",
    "- We calculate the probability over a range using the area under the curve."
   ]
  },
  {
   "cell_type": "code",
   "execution_count": null,
   "id": "57341d82-d6f8-4b43-8e37-1ad88ced1ca8",
   "metadata": {},
   "outputs": [],
   "source": []
  },
  {
   "cell_type": "markdown",
   "id": "a7460eb7-005e-4e51-a479-efa3e60bd541",
   "metadata": {},
   "source": [
    "## 5.How do cummulative distributions functions(cdf) differ from probablity distributions functions(pdf)?"
   ]
  },
  {
   "cell_type": "code",
   "execution_count": 4,
   "id": "506bc74f-8529-4a13-9a13-c60cb129199d",
   "metadata": {
    "tags": []
   },
   "outputs": [],
   "source": [
    "| Feature         | Probability Distribution Function (PDF)                                                 | Cumulative Distribution Function (CDF)                                        |\n",
    "| --------------- | --------------------------------------------------------------------------------------- | ----------------------------------------------------------------------------- |\n",
    "| Definition      | Shows probability density or exact probability                                          | Shows cumulative probability up to a value                                    |\n",
    "| Use             | Used to find probability at a point (for discrete) or over an interval (for continuous) | Used to find probability that a variable is less than or equal to a value     |\n",
    "| Value Range     | Can be > 1 (for density), but area under curve = 1                                      | Always between 0 and 1                                                        |\n",
    "| Type            | PMF for discrete, PDF for continuous                                                    | Works for both discrete and continuous                                        |\n",
    "| Graph           | Bar graph (discrete) or smooth curve (continuous)                                       | Always a non-decreasing curve                                                 |\n"
   ]
  },
  {
   "cell_type": "code",
   "execution_count": null,
   "id": "fa5ca1ee-df76-457e-9bc4-382e2d06309c",
   "metadata": {},
   "outputs": [],
   "source": []
  },
  {
   "cell_type": "markdown",
   "id": "d706bf64-f023-4cd0-b685-4c642751318a",
   "metadata": {},
   "source": [
    "## 6.What is a discrete uniform distribution."
   ]
  },
  {
   "cell_type": "markdown",
   "id": "2cc8daab-b185-4fbc-874b-83e5182e3c26",
   "metadata": {},
   "source": [
    "### A Discrete Uniform Distribution is a probability distribution where all outcomes are equally likely."
   ]
  },
  {
   "cell_type": "markdown",
   "id": "6515d465-db5c-4e26-9532-04dd799f7506",
   "metadata": {},
   "source": [
    "### Example:\n",
    "- Rolling a fair 6-sided die:\n",
    "- Outcomes: {1, 2, 3, 4, 5, 6}\n",
    "- Probability of each outcome:\n",
    "    - =1/6"
   ]
  },
  {
   "cell_type": "code",
   "execution_count": null,
   "id": "9239822a-7115-497b-9948-9a9451f37645",
   "metadata": {},
   "outputs": [],
   "source": []
  },
  {
   "cell_type": "markdown",
   "id": "0a0601cf-326a-41e5-aa05-767ba553b4af",
   "metadata": {},
   "source": [
    "## 7.What are the key properties of a bernoulli distribution."
   ]
  },
  {
   "cell_type": "markdown",
   "id": "244ed4e9-9f0a-4d7e-8cea-4ed899360888",
   "metadata": {},
   "source": [
    "### A Bernoulli distribution models a random experiment with only two possible outcomes:Success (1) or Failure (0)"
   ]
  },
  {
   "cell_type": "markdown",
   "id": "276d0fbe-e395-413a-9ce6-92fd8941a006",
   "metadata": {},
   "source": [
    "✅ Key Properties:\n",
    "- Two outcomes:\n",
    "\n",
    "Success = 1\n",
    "\n",
    "Failure = 0\n",
    "\n",
    "- Single trial:\n",
    "\n",
    "Only one experiment is conducted (like one coin toss)\n",
    "\n",
    "- Probability of success = p\n",
    "\n",
    "Probability of failure = 1 - p\n",
    "\n",
    "So:\n",
    "\n",
    "𝑃\n",
    "(\n",
    "𝑋\n",
    "=\n",
    "1\n",
    ")\n",
    "=\n",
    "𝑝\n",
    ",\n",
    "𝑃\n",
    "(\n",
    "𝑋\n",
    "=\n",
    "0\n",
    ")\n",
    "=\n",
    "1\n",
    "−\n",
    "𝑝\n",
    "P(X=1)=p,P(X=0)=1−p\n",
    "- Mean (Expected Value):\n",
    "\n",
    "𝐸\n",
    "(\n",
    "𝑋\n",
    ")\n",
    "=\n",
    "𝑝\n",
    "E(X)=p\n",
    "-nVariance:\n",
    "\n",
    "𝑉\n",
    "𝑎\n",
    "𝑟\n",
    "(\n",
    "𝑋\n",
    ")\n",
    "=\n",
    "𝑝\n",
    "(\n",
    "1\n",
    "−\n",
    "𝑝\n",
    ")\n",
    "- Var(X)=p(1−p)"
   ]
  },
  {
   "cell_type": "code",
   "execution_count": null,
   "id": "8be661a7-7f37-49de-9106-a45f24d048a3",
   "metadata": {},
   "outputs": [],
   "source": []
  },
  {
   "cell_type": "markdown",
   "id": "ff021eee-94d8-4333-a9e3-5d1d9bfdc535",
   "metadata": {},
   "source": [
    "## 8. What is the binomial distribution, and how is it used in probability?"
   ]
  },
  {
   "cell_type": "markdown",
   "id": "f72b5d61-43b7-4dad-8f42-d611355c9341",
   "metadata": {},
   "source": [
    "### The Binomial Distribution is a probability distribution used to model the number of successes in a fixed number of independent trials, where each trial has only two outcomes (success or failure)."
   ]
  },
  {
   "cell_type": "markdown",
   "id": "c37f933e-3329-47ae-ac14-2580626dc28b",
   "metadata": {},
   "source": [
    "✅ Key Features:\n",
    "- Fixed number of trials (n)\n",
    "- Each trial is independent\n",
    "- Only two outcomes per trial – success (1) or failure (0)\n",
    "- Probability of success = p, failure = 1 − p\n",
    "- Counts the number of successes in n trials\n",
    "- 📌 Formula:\n",
    "- p(X=k)=(n/k)p^k(1-p)^n-k"
   ]
  },
  {
   "cell_type": "code",
   "execution_count": 5,
   "id": "200de95b-2449-4c84-b474-3ebc45effe9f",
   "metadata": {
    "tags": []
   },
   "outputs": [
    {
     "data": {
      "image/png": "[encoded data removed]",
      "text/plain": [
       "<Figure size 640x480 with 1 Axes>"
      ]
     },
     "metadata": {},
     "output_type": "display_data"
    }
   ],
   "source": [
    "import matplotlib.pyplot as plt\n",
    "import matplotlib.image as mpimg\n",
    "\n",
    "\n",
    "img = mpimg.imread('Screenshot 2025-06-13 113134.png')  \n",
    "\n",
    "plt.imshow(img)\n",
    "plt.axis('off')  \n",
    "plt.show()\n"
   ]
  },
  {
   "cell_type": "code",
   "execution_count": null,
   "id": "03b42183-fdae-455b-80da-cc4d5576a528",
   "metadata": {},
   "outputs": [],
   "source": []
  },
  {
   "cell_type": "markdown",
   "id": "6b8f823b-6fc7-4867-88e4-f0b0dd327501",
   "metadata": {},
   "source": [
    "## 9. What is the poisson distribution, and where is it applied?"
   ]
  },
  {
   "cell_type": "markdown",
   "id": "29398593-f2ba-4f55-87bc-a0fbba5b8036",
   "metadata": {},
   "source": [
    "### The Poisson distribution is a probability distribution that models the number of times an event occurs in a fixed interval of time or space, given that the events occur independently and at a constant average rate."
   ]
  },
  {
   "cell_type": "markdown",
   "id": "53a4fce9-8cba-4774-9240-7865073dcb58",
   "metadata": {},
   "source": [
    "### 🎯 Common Applications:\n",
    "- Number of phone calls at a call center per hour\n",
    "- Number of accidents at an intersection per day\n",
    "- Number of emails received in a minute\n",
    "- Number of defects in a length of wire"
   ]
  },
  {
   "cell_type": "code",
   "execution_count": null,
   "id": "7afd1586-5785-49a5-90b0-151db5355010",
   "metadata": {},
   "outputs": [],
   "source": []
  },
  {
   "cell_type": "markdown",
   "id": "8d50a8ce-f8ee-45ef-8039-6971749329b5",
   "metadata": {},
   "source": [
    "## 10. What is a continous uniform distribution?"
   ]
  },
  {
   "cell_type": "markdown",
   "id": "fdc8e5c4-c63d-42b1-b3f5-6b48da2f56eb",
   "metadata": {},
   "source": [
    "### A Continuous Uniform Distribution is a probability distribution where all values in a given range are equally likely to occur."
   ]
  },
  {
   "cell_type": "markdown",
   "id": "6cef5cdf-93df-4f51-adaf-5bcd8866034f",
   "metadata": {
    "tags": []
   },
   "source": [
    "### 📌 Example:\n",
    "If a bus arrives anytime between 10:00 AM and 10:30 AM, and you arrive randomly,\n",
    "- The waiting time X follows a continuous uniform distribution between 𝑎=0 and \n",
    "b=30 minutes\n",
    "- Probability of bus arriving between 10 and 10:10 AM:\n",
    "    - p(0<=X<=10)=10-0/30-0=1/3"
   ]
  },
  {
   "cell_type": "code",
   "execution_count": null,
   "id": "833c2b1f-8e48-46a2-9d58-3db018470390",
   "metadata": {},
   "outputs": [],
   "source": []
  },
  {
   "cell_type": "markdown",
   "id": "cc32e03b-83cc-428a-a27f-c08d1fca09db",
   "metadata": {},
   "source": [
    "## 11. What are the characteristics of a normal distribution?"
   ]
  },
  {
   "cell_type": "markdown",
   "id": "0be844d8-0305-46e5-99ef-e30100dbda58",
   "metadata": {},
   "source": [
    "### The Normal Distribution is a continuous probability distribution that is symmetric and bell-shaped. It is one of the most important distributions in statistics."
   ]
  },
  {
   "cell_type": "markdown",
   "id": "73694221-1b6a-4801-86b4-7e6e1a4b3541",
   "metadata": {},
   "source": [
    "### ✅ Key Characteristics:\n",
    "- 1.Symmetrical Shape\n",
    "\n",
    "   - Left and right sides are mirror images\n",
    "   - Mean = Median = Mode\n",
    "\n",
    "- 2.Bell-Shaped Curve\n",
    "\n",
    "    - Peaks at the mean and tapers off equally on both sides\n",
    "\n",
    "- 3.Mean and Standard Deviation\n",
    "\n",
    "    - Fully defined by its mean (μ) and standard deviation (σ)\n",
    "\n",
    "    - Mean shifts the center; standard deviation controls the spread\n",
    "\n",
    "- 4.Total Area Under the Curve = 1\n",
    "\n",
    "     - Represents total probability\n",
    "\n",
    "- 5.Empirical Rule (68-95-99.7 Rule)\n",
    "\n",
    "      - About 68% of data lies within 1σ of mean\n",
    "\n",
    "      - About 95% within 2σ\n",
    "\n",
    "      - About 99.7% within 3σ\n",
    "\n",
    "-  6.Asymptotic\n",
    "\n",
    "      - The curve never touches the x-axis, but gets infinitely close"
   ]
  },
  {
   "cell_type": "code",
   "execution_count": null,
   "id": "2f601015-6897-4345-b418-2e796d45f05a",
   "metadata": {},
   "outputs": [],
   "source": []
  },
  {
   "cell_type": "markdown",
   "id": "bf3d13d7-102d-4707-a4ef-74c171ed5415",
   "metadata": {},
   "source": [
    "## 12. What is the standard normal distribution, and why is it critical in statistics ?"
   ]
  },
  {
   "cell_type": "markdown",
   "id": "3011d65f-03f3-4fd2-a0c5-bba53f6001a1",
   "metadata": {},
   "source": [
    "### The Standard Normal Distribution is a special case of the normal distribution where:\n",
    "\n",
    "- Mean (μ) = 0\n",
    "\n",
    "- Standard Deviation (σ) = 1"
   ]
  },
  {
   "cell_type": "markdown",
   "id": "6ae56c56-dfbe-429b-b25b-d4a8d939e788",
   "metadata": {},
   "source": [
    "### ✅ Key Features:\n",
    "- Bell-shaped and symmetric around 0\n",
    "- Denoted by the variable Z (called Z-distribution)\n",
    "- Used to convert any normal distribution into a standard form using Z-scores:"
   ]
  },
  {
   "cell_type": "markdown",
   "id": "c670c631-f8f0-46c3-a9fa-65cedd93a289",
   "metadata": {},
   "source": [
    "### 🎯 Why Is It Critical in Statistics?\n",
    "✅ Simplifies calculations: Tables and tools exist for standard normal, so converting helps\n",
    "\n",
    "✅ Used in hypothesis testing\n",
    "\n",
    "✅ Used in confidence intervals\n",
    "\n",
    "✅ Helps compare different datasets on the same scale"
   ]
  },
  {
   "cell_type": "code",
   "execution_count": null,
   "id": "09bd4c53-2d2a-4228-883a-4dd024c681f8",
   "metadata": {},
   "outputs": [],
   "source": []
  },
  {
   "cell_type": "markdown",
   "id": "a4220d1e-7248-4698-9f55-cc7686a22067",
   "metadata": {},
   "source": [
    "## 13. What is the central limit theorem(CLT), and why is it important?"
   ]
  },
  {
   "cell_type": "markdown",
   "id": "8c651dc9-8e68-4993-aa3a-23f8e06566b2",
   "metadata": {},
   "source": [
    "### When you take many random samples from any population (with a finite mean and variance), the sampling distribution of the sample mean will approach a normal distribution as the sample size increases — no matter what the original population distribution is.\n",
    "\n"
   ]
  },
  {
   "cell_type": "markdown",
   "id": "342cf630-7ec8-4317-bfa9-3fe089a74c47",
   "metadata": {},
   "source": [
    "✅ Key Points:\n",
    "Works for any population distribution (not just normal)\n",
    "\n",
    "The larger the sample size, the better the normal approximation\n",
    "\n",
    "The mean of the sample means = population mean (μ)\n",
    "\n",
    "The standard deviation of the sample means = σ/(n^1/2)\n",
    "\n",
    "where \n",
    "σ is population standard deviation, and \n",
    "n is sample size"
   ]
  },
  {
   "cell_type": "markdown",
   "id": "eeb3289d-0b27-4935-8ff3-bbd4df5c1609",
   "metadata": {},
   "source": [
    "🎯 Why Is CLT Important?\n",
    "✅ Enables use of normal distribution for inference (like confidence intervals & hypothesis testing)\n",
    "\n",
    "✅ Simplifies analysis of real-world data\n",
    "\n",
    "✅ Foundation for many statistical methods"
   ]
  },
  {
   "cell_type": "code",
   "execution_count": null,
   "id": "8b829cae-440f-452f-afb2-3cb5d881da91",
   "metadata": {},
   "outputs": [],
   "source": []
  },
  {
   "cell_type": "markdown",
   "id": "157d9968-8f81-4bd0-a482-1f863890b125",
   "metadata": {},
   "source": [
    "## 14.How does the central limit theorem relate to the normal distribution?"
   ]
  },
  {
   "cell_type": "markdown",
   "id": "74f2afb0-75da-4f92-9f77-d7e6f8b0dd3c",
   "metadata": {},
   "source": [
    "### The Central Limit Theorem (CLT) explains why and when the normal distribution appears in statistics — even if the original data is not normal.\n",
    "\n",
    "✅ Relationship Explained:\n",
    "When you take many random samples from any population and compute their means,\n",
    "\n",
    "The distribution of those sample means will approach a normal distribution,\n",
    "\n",
    "As the sample size increases (usually \n",
    "𝑛\n",
    "≥\n",
    "30\n",
    "n≥30 is enough)."
   ]
  },
  {
   "cell_type": "code",
   "execution_count": 7,
   "id": "e2eab1be-dd3a-4e18-98ce-e2c2ca256807",
   "metadata": {
    "tags": []
   },
   "outputs": [],
   "source": [
    "| Central Limit Theorem                             | Normal Distribution                                         |\n",
    "| ------------------------------------------------- | ----------------------------------------------------------- |\n",
    "| Applies to sampling distributions                 | Describes the shape of that distribution                    |\n",
    "| Justifies why we can use normal-based methods     | Helps in calculating probabilities, z-scores, etc.          |\n",
    "| Makes statistical inference possible              | Used in confidence intervals and hypothesis testing         |\n"
   ]
  },
  {
   "cell_type": "code",
   "execution_count": null,
   "id": "0cc4bbfc-1bb6-4f54-a686-4258f08c1748",
   "metadata": {},
   "outputs": [],
   "source": []
  },
  {
   "cell_type": "markdown",
   "id": "8c8411ef-8e8b-4d65-8735-f79cc1655fd6",
   "metadata": {},
   "source": [
    "## 15. What is the application of Z-statistics in hypothesis testing?"
   ]
  },
  {
   "cell_type": "markdown",
   "id": "badccd18-3bbf-49ed-86ae-33d5b4568aa7",
   "metadata": {},
   "source": [
    "### The Z-statistic (or Z-test) is used in hypothesis testing to determine how far a sample mean is from the population mean, in terms of standard deviations — assuming the population standard deviation is known. \n",
    "\n",
    "📌 Applications of Z-Statistics:\n",
    "Test population mean when population standard deviation (σ) is known\n",
    "\n",
    "Example: Is the average weight of apples really 150g?\n",
    "\n",
    "Compare sample mean to known population mean\n",
    "\n",
    "Null hypothesis: sample mean = population mean\n",
    "\n",
    "Alternative: sample mean ≠, <, or > population mean\n",
    "\n",
    "Calculate p-values and confidence intervals\n",
    "\n",
    "Used in large samples (n ≥ 30) or when data is normally distributed\n",
    "\n"
   ]
  },
  {
   "cell_type": "markdown",
   "id": "e32c515c-923a-44f2-a65e-42673145df26",
   "metadata": {},
   "source": []
  },
  {
   "cell_type": "markdown",
   "id": "c9a20a60-3d03-4700-9dd5-7a7400731e04",
   "metadata": {},
   "source": [
    "## 16. How do you calculate a Z-score, ad what does it represent."
   ]
  },
  {
   "cell_type": "markdown",
   "id": "adfff35f-d4a9-4c2d-a187-6963b76fc085",
   "metadata": {},
   "source": [
    "### 🧮 Formula to Calculate Z-Score:\n",
    "               Z=(X-μ)/σ\n",
    "Where:\n",
    "X = individual value\n",
    "μ = mean of the population\n",
    "σ = standard deviation of the population\n",
    " \n",
    "### 📊 What It Represents:\n",
    "- A Z-score of 0 means the value is exactly at the mean\n",
    "- A positive Z-score means the value is above the mean\n",
    "- A negative Z-score means the value is below the mean"
   ]
  },
  {
   "cell_type": "code",
   "execution_count": null,
   "id": "cc99a5b4-8bae-435c-b95f-7bb6940ce667",
   "metadata": {},
   "outputs": [],
   "source": []
  },
  {
   "cell_type": "markdown",
   "id": "d6aa70f6-9208-444d-ba47-90f4ddce308c",
   "metadata": {},
   "source": [
    "## 17.What are point estimates and interval estimates in statistics."
   ]
  },
  {
   "cell_type": "markdown",
   "id": "2a8b8bcc-a12e-43a5-a35e-b0c1ab5425b9",
   "metadata": {},
   "source": [
    "### ✅ 1. Point Estimate:\n",
    "- A point estimate is a single value used to estimate a population parameter.\n",
    "   - Example: Using the sample mean to estimate the population mean\n",
    "   - It gives a specific number, but no information about uncertainty\n",
    "### 📌 Example:\n",
    "   If the average height of 50 students is 165 cm, then 165 is the point \n",
    "     estimate of the population mean height.   "
   ]
  },
  {
   "cell_type": "markdown",
   "id": "d6f3cf1a-4c8c-4840-9207-a2268c86e15a",
   "metadata": {},
   "source": [
    "### ✅ 2. Interval Estimate:\n",
    "An interval estimate gives a range of values (called a confidence interval) within which the population parameter is likely to lie.\n",
    "   - Provides both an estimate and a margin of error\n",
    "   - Usually expressed with a confidence level (e.g., 95%)\n",
    "### 📌 Example:\n",
    "    If the 95% confidence interval for average height is (162 cm, 168 cm), it means we are 95% confident the population mean lies in that range."
   ]
  },
  {
   "cell_type": "code",
   "execution_count": null,
   "id": "8216837e-9d58-401e-bfd0-5e6e95c9300b",
   "metadata": {},
   "outputs": [],
   "source": []
  },
  {
   "cell_type": "markdown",
   "id": "26d804cf-64dc-45c8-8d33-3eff23eda82a",
   "metadata": {},
   "source": [
    "## 18.What is the significance of confidence intervaks estimates in statistics?"
   ]
  },
  {
   "cell_type": "markdown",
   "id": "a93c0a31-c509-4f87-985e-1c6e185c4bf6",
   "metadata": {},
   "source": [
    "### 📌 Definition:\n",
    "A confidence interval (CI) gives a range of values that is likely to contain the true population parameter (like the mean), based on sample data, with a certain level of confidence (e.g., 95%)."
   ]
  },
  {
   "cell_type": "markdown",
   "id": "c93f0912-1518-47b3-829a-1fffac90e867",
   "metadata": {},
   "source": [
    "🎯 Significance of Confidence Intervals:\n",
    "- 1.Shows Precision of Estimates:\n",
    "   - A narrower interval means the estimate is more precise.\n",
    "   - A wider interval means more uncertainty.\n",
    "\n",
    "- 2.Quantifies Uncertainty:\n",
    "    - CIs include a margin of error, showing the reliability of the sample result.\n",
    "\n",
    "- 3.Used in Decision-Making:\n",
    "    - Helps determine whether results are statistically significant.\n",
    "    - If the CI for a mean difference does not include 0, the difference is likely real.\n",
    "\n",
    "- 4.More Informative Than a Point Estimate:\n",
    "    - Instead of just one value, you get a range where the true value probably lies."
   ]
  },
  {
   "cell_type": "code",
   "execution_count": null,
   "id": "34521a11-8664-47da-8f39-f2f2dc9d0e32",
   "metadata": {},
   "outputs": [],
   "source": []
  },
  {
   "cell_type": "markdown",
   "id": "19223a7e-606b-437d-b86c-ba6a5d8da6d7",
   "metadata": {},
   "source": [
    "## 19.What is the relationship between a Z-score and confidence interval?"
   ]
  },
  {
   "cell_type": "markdown",
   "id": "552ccca4-15a4-4a02-bf59-79f4434720b5",
   "metadata": {},
   "source": [
    "### 🧠 How They’re Related:\n",
    "- Z-score determines the margin of error in a confidence interval.\n",
    "\n",
    "- Confidence Intervals use Z-scores as critical values when the population standard deviation is known."
   ]
  },
  {
   "cell_type": "markdown",
   "id": "256fd06d-6433-4029-8431-56d7e38487c8",
   "metadata": {},
   "source": [
    "## 20. How are Z-scores used to comapre different distributions?"
   ]
  },
  {
   "cell_type": "markdown",
   "id": "b3970c9f-c8fa-4106-ba52-3764df269653",
   "metadata": {},
   "source": [
    "### 🧠 How It Works:\n",
    "The Z-score standardizes a value using: the formula\n",
    "So, it tells how many standard deviations a value is from its own distribution's mean.\n",
    "\n",
    "This makes different distributions comparable on the same scale."
   ]
  },
  {
   "cell_type": "code",
   "execution_count": null,
   "id": "361c72f1-0f84-496b-a8bb-78306fb4d8c3",
   "metadata": {},
   "outputs": [],
   "source": []
  },
  {
   "cell_type": "markdown",
   "id": "fdba3509-76b9-4ddc-98c6-c92f36f7e9ac",
   "metadata": {},
   "source": [
    "## 21. What are the assumptions for applying the central limit theorem?"
   ]
  },
  {
   "cell_type": "markdown",
   "id": "d3d201f2-1062-4d2b-8e54-6ef59e4b5d73",
   "metadata": {},
   "source": [
    "### 📌 Key Assumptions:\n",
    "- 1.Independent Samples:\n",
    "   - The observations must be independent of each other.\n",
    "   - One observation should not affect another.\n",
    "\n",
    "- 2.Identically Distributed:\n",
    "   - All samples should be from the same population distribution.\n",
    "\n",
    "- 3.Sample Size Is Large (n ≥ 30):\n",
    "\n",
    "    - A larger sample size makes the approximation to normal more accurate.\n",
    "\n",
    "    - If the population is already normal, even a small sample size is fine.\n",
    "\n",
    "- 4.Finite Mean and Variance:\n",
    "   - The population should have a finite (defined) mean and standard deviation.\n",
    "\n"
   ]
  },
  {
   "cell_type": "code",
   "execution_count": null,
   "id": "77443658-5672-4b35-91c5-94c8599698f6",
   "metadata": {},
   "outputs": [],
   "source": []
  },
  {
   "cell_type": "markdown",
   "id": "6b46d3aa-021f-4f68-a4a4-c5ad456abd60",
   "metadata": {},
   "source": [
    "## 22. What is the concept of expected value in a probability distribution?"
   ]
  },
  {
   "cell_type": "markdown",
   "id": "2f3a30fa-9f9c-40b1-9bf1-53b3da787a89",
   "metadata": {},
   "source": [
    "### The expected value (also called mean) of a probability distribution is the long-term average or average outcome you would expect if an experiment is repeated many times."
   ]
  },
  {
   "cell_type": "markdown",
   "id": "c30bbba7-96e9-42b2-82bb-e3ff1793bb77",
   "metadata": {},
   "source": [
    "### 🧮 Formula:\n",
    "- For a discrete distribution:\n",
    "        E(X)=∑[xi.P(xi)]\n",
    "        where \n",
    "        xi= possible value,p(xi)= its probabilty\n",
    "- For a continous distribution:\n",
    "        ∫x.f(x)dx\n",
    "        where \n",
    "        𝑓(𝑥)\n",
    "f(x) is the probability density function\n",
    "    "
   ]
  },
  {
   "cell_type": "code",
   "execution_count": null,
   "id": "ae4c99a4-3c7f-4356-bdfb-adfec2939b23",
   "metadata": {},
   "outputs": [],
   "source": []
  },
  {
   "cell_type": "markdown",
   "id": "aca1b5c0-0067-4d99-bdbf-788a7cd5593e",
   "metadata": {},
   "source": [
    "## 23.How does a probability distribution relate to the expected outcome of a random variable."
   ]
  },
  {
   "cell_type": "markdown",
   "id": "bee7e299-d5ca-46a9-99b4-9617a0300773",
   "metadata": {},
   "source": [
    "### 📌 Key Relationship:\n",
    "A probability distribution describes all possible values a random variable can take and how likely each value is.\n",
    "\n",
    "The expected outcome (expected value) is the weighted average of those values — using the probabilities from the distribution"
   ]
  },
  {
   "cell_type": "markdown",
   "id": "2ca130ca-ec2e-459c-8844-15ad0e0a4e89",
   "metadata": {},
   "source": [
    "### 🧠 In Other Words:\n",
    "- The random variable gives the outcomes\n",
    "- The probability distribution gives the chances of those outcomes\n",
    "- The expected value is calculated by combining both:"
   ]
  },
  {
   "cell_type": "code",
   "execution_count": null,
   "id": "6aa1029e-8dc4-4849-9bbe-9f248890e443",
   "metadata": {},
   "outputs": [],
   "source": []
  }
 ],
 "metadata": {
  "kernelspec": {
   "display_name": "Python 3 (ipykernel)",
   "language": "python",
   "name": "python3"
  },
  "language_info": {
   "codemirror_mode": {
    "name": "ipython",
    "version": 3
   },
   "file_extension": ".py",
   "mimetype": "text/x-python",
   "name": "python",
   "nbconvert_exporter": "python",
   "pygments_lexer": "ipython3",
   "version": "3.11.5"
  }
 },
 "nbformat": 4,
 "nbformat_minor": 5
}
