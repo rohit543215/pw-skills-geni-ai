{
 "cells": [
  {
   "cell_type": "markdown",
   "id": "ac51bb62-4879-4e1a-990b-a4fc616209be",
   "metadata": {},
   "source": [
    "## 1.what is python, and why is it popular?"
   ]
  },
  {
   "cell_type": "markdown",
   "id": "cdbf8750-3939-4a74-b6f7-490161f6b83b",
   "metadata": {},
   "source": [
    "### Python is a high-level, interpreted programming language known for its simplicity and readability. It was created by Guido van Rossum and first released in 1991. Python emphasizes code readability, which makes it easier for beginners to learn and for developers to write clean, maintainable code."
   ]
  },
  {
   "cell_type": "code",
   "execution_count": null,
   "id": "3d5bc30b-f56e-4455-8602-1e9192ec278e",
   "metadata": {},
   "outputs": [],
   "source": []
  },
  {
   "cell_type": "markdown",
   "id": "17fb8411-e519-4387-8800-7d07ddf97149",
   "metadata": {},
   "source": [
    "## 2. what is an interpreter in python?"
   ]
  },
  {
   "cell_type": "markdown",
   "id": "f58830e1-cb62-4a17-973e-a91564079d9a",
   "metadata": {},
   "source": [
    "### An interpreter is a program that reads and executes code line by line In the case of Python, the interpreter takes your .py file (Python code) and runs it one line at a time."
   ]
  },
  {
   "cell_type": "code",
   "execution_count": null,
   "id": "db7e82ed-32d3-421e-989e-7b2ee008269b",
   "metadata": {},
   "outputs": [],
   "source": []
  },
  {
   "cell_type": "markdown",
   "id": "ae3e6c72-85aa-4628-8cd2-2c6c7ce8470a",
   "metadata": {},
   "source": [
    "## 3.what are pre-defined keywords in python?"
   ]
  },
  {
   "cell_type": "markdown",
   "id": "8e8fec0f-a0a7-45e0-bb66-5ba871226013",
   "metadata": {},
   "source": [
    "###  \n",
    "    False     await     else      import    pass  \n",
    "    None      break     except    in        raise  \n",
    "    True      class     finally   is        return  \n",
    "    and       continue  for       lambda    try  \n",
    "    as        def       from      nonlocal  while  \n",
    "    assert    del       global    not       with  \n",
    "    async     elif      if        or        yield  "
   ]
  },
  {
   "cell_type": "code",
   "execution_count": null,
   "id": "390ee00c-112a-4dc7-95d9-aede69a9c503",
   "metadata": {},
   "outputs": [],
   "source": []
  },
  {
   "cell_type": "markdown",
   "id": "793dce9d-6993-4f2a-925c-aaf930b1242a",
   "metadata": {},
   "source": [
    "## 4. can keywords be used as variable names?"
   ]
  },
  {
   "cell_type": "markdown",
   "id": "9a36e5ad-5b64-47aa-afc1-cc826f8394c8",
   "metadata": {},
   "source": [
    "### No we can't use keywords as variable name"
   ]
  },
  {
   "cell_type": "code",
   "execution_count": null,
   "id": "ddaf92b7-6166-439a-b629-dce37a02aede",
   "metadata": {},
   "outputs": [],
   "source": []
  },
  {
   "cell_type": "markdown",
   "id": "9139073a-6441-4f4c-a880-9ab003a7655a",
   "metadata": {
    "tags": []
   },
   "source": [
    "## 5.what is mutability in python?"
   ]
  },
  {
   "cell_type": "markdown",
   "id": "6b87801e-d653-419d-8386-3a75535b80ae",
   "metadata": {},
   "source": [
    "### mutability means the the functionality of a data type to be modified after being deployed for example list is mutable we can change or modify it. unlike tuple."
   ]
  },
  {
   "cell_type": "code",
   "execution_count": null,
   "id": "0c587c39-d2b7-47fe-aa4c-96474721ee16",
   "metadata": {},
   "outputs": [],
   "source": []
  },
  {
   "cell_type": "markdown",
   "id": "16c41085-1136-4bd2-9a35-ec00bbfda91c",
   "metadata": {
    "tags": []
   },
   "source": [
    "## 6. why are lists are mutable, but tuples are immutable ? "
   ]
  },
  {
   "cell_type": "markdown",
   "id": "5eef0c7e-bdf8-4764-b599-c181cb1250fb",
   "metadata": {},
   "source": [
    "### lists are mutable  Because you can change them after they are created.You can add, remove, or modify items.\n",
    "\n",
    "### tuples are immutable Because you cannot change them after they are created. No adding, removing, or changing items."
   ]
  },
  {
   "cell_type": "code",
   "execution_count": null,
   "id": "d080d214-63db-4819-9aa5-340985e17f3c",
   "metadata": {},
   "outputs": [],
   "source": []
  },
  {
   "cell_type": "markdown",
   "id": "18fa17f0-8c2e-48a6-9f68-ae59e6654446",
   "metadata": {},
   "source": [
    "## 7. what is the difference between \"==\" and  \"is\" operators in python?"
   ]
  },
  {
   "cell_type": "markdown",
   "id": "25525ab4-3034-4f69-b2a1-39c3318aa51d",
   "metadata": {},
   "source": [
    "###  == (Equality Operator)\n",
    "Checks if two values are equal (contents are the same).\n",
    "\n",
    "### is (Identity Operator)\n",
    "Checks if two variables point to the same object in memory."
   ]
  },
  {
   "cell_type": "code",
   "execution_count": null,
   "id": "ae3ef214-56e0-4287-baca-eab5a347dd11",
   "metadata": {},
   "outputs": [],
   "source": []
  },
  {
   "cell_type": "markdown",
   "id": "68a6a033-a112-4654-9874-bb3272bab08a",
   "metadata": {
    "tags": []
   },
   "source": [
    "## 8.what are logical operators in python?"
   ]
  },
  {
   "cell_type": "code",
   "execution_count": null,
   "id": "63b2c56f-eefa-4769-9efb-3fbf5ae1cfec",
   "metadata": {
    "tags": []
   },
   "outputs": [],
   "source": [
    "\n",
    "'''\n",
    "Operator  Meaning                         Example         Result\n",
    "and       True if both are True            True and True   ✅ True\n",
    "or        True if at least one is True    True or False   ✅ True\n",
    "not       Reverses the result             not True        ❌ False\n",
    "'''"
   ]
  },
  {
   "cell_type": "code",
   "execution_count": null,
   "id": "fd08748d-cf5d-4175-b214-1a0e658dc0a5",
   "metadata": {},
   "outputs": [],
   "source": []
  },
  {
   "cell_type": "markdown",
   "id": "d416f9aa-3ef1-4d88-a7db-fa7f9ebcc78d",
   "metadata": {},
   "source": [
    "## 9. what is typecasting in python."
   ]
  },
  {
   "cell_type": "markdown",
   "id": "442c557f-f0e7-478a-a808-9cf35a867c49",
   "metadata": {},
   "source": [
    "### Typecasting means converting one data type into another.For example, you can convert a string into an integer or a float into a string."
   ]
  },
  {
   "cell_type": "code",
   "execution_count": 8,
   "id": "5edfcdfa-e23d-4208-88b2-f3b33f60babe",
   "metadata": {
    "tags": []
   },
   "outputs": [
    {
     "data": {
      "text/plain": [
       "int"
      ]
     },
     "execution_count": 8,
     "metadata": {},
     "output_type": "execute_result"
    }
   ],
   "source": [
    "# example\n",
    "x = \"5\"\n",
    "y = int(x)  # Now y is an integer\n",
    "type(y)"
   ]
  },
  {
   "cell_type": "code",
   "execution_count": null,
   "id": "d606edaa-5458-4157-8418-8c3171c4ac50",
   "metadata": {},
   "outputs": [],
   "source": []
  },
  {
   "cell_type": "markdown",
   "id": "188657d4-c963-4b80-a735-4f247d51814c",
   "metadata": {},
   "source": [
    "## 10. what is the difference between implicit and explicit typecasting"
   ]
  },
  {
   "cell_type": "markdown",
   "id": "e012d4f2-3d04-40e0-8539-b258944f0374",
   "metadata": {},
   "source": [
    "###  Implicit Typecasting\n",
    "Done automatically by Python.\n",
    "\n"
   ]
  },
  {
   "cell_type": "code",
   "execution_count": 9,
   "id": "3da965a0-3fd5-4ad0-9b74-40beafbe1762",
   "metadata": {
    "tags": []
   },
   "outputs": [
    {
     "name": "stdout",
     "output_type": "stream",
     "text": [
      "7.0\n"
     ]
    }
   ],
   "source": [
    "a = 5       # int\n",
    "b = 2.0     # float\n",
    "c = a + b   # Python converts `a` to float\n",
    "print(c)    # Output: 7.0 (float)\n"
   ]
  },
  {
   "cell_type": "markdown",
   "id": "8c8e56e8-352d-492c-af87-20fafb6c4c3e",
   "metadata": {},
   "source": [
    "### Explicit type casting\n",
    "Done manually by the user"
   ]
  },
  {
   "cell_type": "code",
   "execution_count": 10,
   "id": "12ce6cad-ad5f-443f-b003-869be757b1df",
   "metadata": {
    "tags": []
   },
   "outputs": [
    {
     "name": "stdout",
     "output_type": "stream",
     "text": [
      "15\n"
     ]
    }
   ],
   "source": [
    "x = \"10\"\n",
    "y = int(x)  # You convert string to int\n",
    "print(y + 5)  # Output: 15\n"
   ]
  },
  {
   "cell_type": "code",
   "execution_count": null,
   "id": "423af02d-ccb4-46fb-86e6-964964ade38e",
   "metadata": {},
   "outputs": [],
   "source": []
  },
  {
   "cell_type": "markdown",
   "id": "f391db8e-e75f-431a-81a5-4368cd1f0913",
   "metadata": {},
   "source": [
    "## 11. what is the purpose of conditional statements in python?"
   ]
  },
  {
   "cell_type": "markdown",
   "id": "7adbea21-af38-4a07-8d89-3a789b42bb36",
   "metadata": {},
   "source": [
    "### Conditional statements in Python are used to make decisions in your code.They let the program choose what to do based on a condition (like true or false).\n",
    "\n",
    "For example"
   ]
  },
  {
   "cell_type": "code",
   "execution_count": 11,
   "id": "fd39c6de-b5a6-4ff3-9830-0c4710656a6c",
   "metadata": {
    "tags": []
   },
   "outputs": [
    {
     "name": "stdout",
     "output_type": "stream",
     "text": [
      "You can vote\n"
     ]
    }
   ],
   "source": [
    "age = 18\n",
    "if age >= 18:\n",
    "    print(\"You can vote\")\n"
   ]
  },
  {
   "cell_type": "code",
   "execution_count": null,
   "id": "bc9cabd8-fe21-45b1-b0a6-2c8b4dcfe5fc",
   "metadata": {},
   "outputs": [],
   "source": []
  },
  {
   "cell_type": "markdown",
   "id": "41721a27-5816-4d55-87aa-6f389fb1a470",
   "metadata": {
    "tags": []
   },
   "source": [
    "## 12. how does the elif statement work?"
   ]
  },
  {
   "cell_type": "markdown",
   "id": "edf61248-99df-417c-ba5e-8832e0cd4940",
   "metadata": {},
   "source": [
    "### The elif (short for \"else if\") statement lets you check multiple conditions in order.\n",
    "\n",
    "for example."
   ]
  },
  {
   "cell_type": "code",
   "execution_count": 13,
   "id": "e98612b0-c358-4045-929f-c748e2f0b2f3",
   "metadata": {
    "tags": []
   },
   "outputs": [
    {
     "name": "stdout",
     "output_type": "stream",
     "text": [
      "Equal to 10\n"
     ]
    }
   ],
   "source": [
    "x = 10\n",
    "\n",
    "if x < 5:\n",
    "    print(\"Less than 5\")\n",
    "elif x == 10:\n",
    "    print(\"Equal to 10\")  # ✅ This runs\n",
    "else:\n",
    "    print(\"Something else\")\n"
   ]
  },
  {
   "cell_type": "code",
   "execution_count": null,
   "id": "899c65fd-1fac-412f-b5fe-fd3c4232bef3",
   "metadata": {},
   "outputs": [],
   "source": []
  },
  {
   "cell_type": "markdown",
   "id": "df3365c2-2a9e-4a5a-be7b-8a4e8122a398",
   "metadata": {},
   "source": [
    "## 13. What is the difference between for and while loops"
   ]
  },
  {
   "cell_type": "markdown",
   "id": "d7329a92-eda0-4fd3-83bf-425cda0283c5",
   "metadata": {},
   "source": [
    "### for loop is used when you know how many times you want to loop.\n",
    "Example: Loop through a list or range."
   ]
  },
  {
   "cell_type": "code",
   "execution_count": 14,
   "id": "f33a0c78-9d64-460c-ada1-d071e10fa91c",
   "metadata": {
    "tags": []
   },
   "outputs": [
    {
     "name": "stdout",
     "output_type": "stream",
     "text": [
      "0\n",
      "1\n",
      "2\n",
      "3\n",
      "4\n",
      "5\n",
      "6\n",
      "7\n",
      "8\n",
      "9\n"
     ]
    }
   ],
   "source": [
    "for i in range(10):\n",
    "    print(i)"
   ]
  },
  {
   "cell_type": "markdown",
   "id": "d5453cd1-357c-41c8-8bc7-9354b2cd2900",
   "metadata": {},
   "source": [
    "### while loop is used when you want to loop until a condition becomes False.\n",
    "for example."
   ]
  },
  {
   "cell_type": "code",
   "execution_count": 15,
   "id": "4252b705-c850-48ec-8303-3585a6fc76e5",
   "metadata": {
    "tags": []
   },
   "outputs": [
    {
     "name": "stdout",
     "output_type": "stream",
     "text": [
      "0\n",
      "1\n",
      "2\n",
      "3\n",
      "4\n"
     ]
    }
   ],
   "source": [
    "i = 0\n",
    "while i < 5:\n",
    "    print(i)\n",
    "    i += 1\n"
   ]
  },
  {
   "cell_type": "code",
   "execution_count": null,
   "id": "d0acb1a6-7f1f-4da7-a6c4-e4b3d39ac934",
   "metadata": {},
   "outputs": [],
   "source": []
  },
  {
   "cell_type": "markdown",
   "id": "b8cd5e6f-3746-485f-aca4-04dbdc371137",
   "metadata": {},
   "source": [
    "## 14. describe a scenario where a while loop is more suitable than a for loop."
   ]
  },
  {
   "cell_type": "markdown",
   "id": "f696504a-5d71-42cf-a934-9b42d6376b22",
   "metadata": {},
   "source": [
    "### Use a while loop when you don’t know how many times the loop should run."
   ]
  },
  {
   "cell_type": "markdown",
   "id": "adb81d4c-9e01-405d-95a8-0109c8e41e6a",
   "metadata": {},
   "source": [
    "###\n",
    "You want to keep asking the user\n",
    "for a password until they enter the correct one:"
   ]
  },
  {
   "cell_type": "code",
   "execution_count": 16,
   "id": "6f668044-28ca-460f-8006-7c70df1f60ce",
   "metadata": {
    "tags": []
   },
   "outputs": [
    {
     "name": "stdin",
     "output_type": "stream",
     "text": [
      "Enter password:  hi\n",
      "Enter password:  ji\n",
      "Enter password:  secret\n"
     ]
    },
    {
     "name": "stdout",
     "output_type": "stream",
     "text": [
      "Access granted!\n"
     ]
    }
   ],
   "source": [
    "password = \"\"\n",
    "while password != \"secret\":\n",
    "    password = input(\"Enter password: \")\n",
    "\n",
    "print(\"Access granted!\")\n"
   ]
  },
  {
   "cell_type": "code",
   "execution_count": null,
   "id": "f18e3e04-5f29-4c6b-8c6b-5fcaf0ec308b",
   "metadata": {},
   "outputs": [],
   "source": []
  },
  {
   "cell_type": "markdown",
   "id": "f31e0117-eb5b-4420-a6e1-f06cf11daaaa",
   "metadata": {},
   "source": [
    "# Practical Questions"
   ]
  },
  {
   "cell_type": "markdown",
   "id": "b62517a7-3911-44e8-bb15-0cd777f9dad0",
   "metadata": {},
   "source": [
    "## 1.Write a code for printing 'hello world'"
   ]
  },
  {
   "cell_type": "code",
   "execution_count": 17,
   "id": "2d2bc37c-d06b-4789-a286-65d747c09453",
   "metadata": {
    "tags": []
   },
   "outputs": [
    {
     "name": "stdout",
     "output_type": "stream",
     "text": [
      "hello world\n"
     ]
    }
   ],
   "source": [
    "print(\"hello world\")"
   ]
  },
  {
   "cell_type": "code",
   "execution_count": null,
   "id": "9d036667-b146-4eb3-a95b-6f8fbe84f8c3",
   "metadata": {},
   "outputs": [],
   "source": []
  },
  {
   "cell_type": "markdown",
   "id": "8ab1ec6d-3b6a-45a6-b39e-3c2cd16e376c",
   "metadata": {},
   "source": [
    "## 2.display your name and age"
   ]
  },
  {
   "cell_type": "code",
   "execution_count": 18,
   "id": "83d8aff2-d83b-4416-a960-d435abeb0a5c",
   "metadata": {
    "tags": []
   },
   "outputs": [
    {
     "name": "stdout",
     "output_type": "stream",
     "text": [
      "Name:Girish joshi\n",
      "Age: 22\n"
     ]
    }
   ],
   "source": [
    "print(\"Name:Girish joshi\")\n",
    "print(\"Age: 22\")\n"
   ]
  },
  {
   "cell_type": "code",
   "execution_count": null,
   "id": "410aa5ce-39d2-4538-9d38-68f40bb4c2bd",
   "metadata": {},
   "outputs": [],
   "source": []
  },
  {
   "cell_type": "markdown",
   "id": "dc4266e5-ee47-4388-a872-1360b49116ee",
   "metadata": {},
   "source": [
    "## 3. print all pre-defined keywords using the keyword module"
   ]
  },
  {
   "cell_type": "code",
   "execution_count": 19,
   "id": "efdd714c-3fb9-4f14-a0c4-bab4e9db5852",
   "metadata": {
    "tags": []
   },
   "outputs": [
    {
     "name": "stdout",
     "output_type": "stream",
     "text": [
      "Python Keywords are:\n",
      "['False', 'None', 'True', 'and', 'as', 'assert', 'async', 'await', 'break', 'class', 'continue', 'def', 'del', 'elif', 'else', 'except', 'finally', 'for', 'from', 'global', 'if', 'import', 'in', 'is', 'lambda', 'nonlocal', 'not', 'or', 'pass', 'raise', 'return', 'try', 'while', 'with', 'yield']\n"
     ]
    }
   ],
   "source": [
    "import keyword\n",
    "print(\"Python Keywords are:\")\n",
    "print(keyword.kwlist)\n"
   ]
  },
  {
   "cell_type": "code",
   "execution_count": null,
   "id": "0cab48c0-d6b3-44bf-9674-5a94ac1f57f3",
   "metadata": {},
   "outputs": [],
   "source": []
  },
  {
   "cell_type": "markdown",
   "id": "585df490-39d5-47a0-a2e9-32f58d03d620",
   "metadata": {},
   "source": [
    "## 4. check if a word is a python keyword"
   ]
  },
  {
   "cell_type": "code",
   "execution_count": 20,
   "id": "078e0bb0-f045-4e02-a9e9-667cacd6eabf",
   "metadata": {
    "tags": []
   },
   "outputs": [
    {
     "name": "stdin",
     "output_type": "stream",
     "text": [
      "Enter a word:  if\n"
     ]
    },
    {
     "name": "stdout",
     "output_type": "stream",
     "text": [
      "'if' is a Python keyword.\n"
     ]
    }
   ],
   "source": [
    "import keyword\n",
    "\n",
    "word = input(\"Enter a word: \")\n",
    "if keyword.iskeyword(word):\n",
    "    print(f\"'{word}' is a Python keyword.\")\n",
    "else:\n",
    "    print(f\"'{word}' is NOT a Python keyword.\")\n"
   ]
  },
  {
   "cell_type": "code",
   "execution_count": null,
   "id": "210ea9d6-8164-43a1-bdcc-c533e18c0713",
   "metadata": {},
   "outputs": [],
   "source": []
  },
  {
   "cell_type": "markdown",
   "id": "f7f38dea-6997-4d47-b632-e58f6b7bb33b",
   "metadata": {},
   "source": [
    "## 5.list and tuple mutability demostration"
   ]
  },
  {
   "cell_type": "code",
   "execution_count": 21,
   "id": "a641cd61-0f1e-4b31-9056-903cea47547a",
   "metadata": {
    "tags": []
   },
   "outputs": [
    {
     "name": "stdout",
     "output_type": "stream",
     "text": [
      "Modified List: [10, 2, 3]\n"
     ]
    }
   ],
   "source": [
    "my_list = [1, 2, 3]\n",
    "my_list[0] = 10  # This works\n",
    "print(\"Modified List:\", my_list)"
   ]
  },
  {
   "cell_type": "code",
   "execution_count": 22,
   "id": "3f2e8dbf-6f89-41c8-a47a-1865956fef6d",
   "metadata": {
    "tags": []
   },
   "outputs": [
    {
     "ename": "TypeError",
     "evalue": "'tuple' object does not support item assignment",
     "output_type": "error",
     "traceback": [
      "\u001b[1;31m---------------------------------------------------------------------------\u001b[0m",
      "\u001b[1;31mTypeError\u001b[0m                                 Traceback (most recent call last)",
      "Cell \u001b[1;32mIn[22], line 2\u001b[0m\n\u001b[0;32m      1\u001b[0m my_tuple \u001b[38;5;241m=\u001b[39m (\u001b[38;5;241m1\u001b[39m, \u001b[38;5;241m2\u001b[39m, \u001b[38;5;241m3\u001b[39m)\n\u001b[1;32m----> 2\u001b[0m \u001b[43mmy_tuple\u001b[49m\u001b[43m[\u001b[49m\u001b[38;5;241;43m0\u001b[39;49m\u001b[43m]\u001b[49m \u001b[38;5;241m=\u001b[39m \u001b[38;5;241m10\u001b[39m  \u001b[38;5;66;03m# ❌ This will raise an error\u001b[39;00m\n\u001b[0;32m      3\u001b[0m \u001b[38;5;28mprint\u001b[39m(\u001b[38;5;124m\"\u001b[39m\u001b[38;5;124mTuple (unchanged):\u001b[39m\u001b[38;5;124m\"\u001b[39m, my_tuple)\n",
      "\u001b[1;31mTypeError\u001b[0m: 'tuple' object does not support item assignment"
     ]
    }
   ],
   "source": [
    "my_tuple = (1, 2, 3)\n",
    "my_tuple[0] = 10  # ❌ This will raise an error\n",
    "print(\"Tuple (unchanged):\", my_tuple)"
   ]
  },
  {
   "cell_type": "code",
   "execution_count": null,
   "id": "e6bb0492-9957-4782-b3fb-595456f3f354",
   "metadata": {},
   "outputs": [],
   "source": []
  },
  {
   "cell_type": "markdown",
   "id": "d3e9cfb1-54bb-430a-9bb3-7b21bf0d7ecd",
   "metadata": {},
   "source": [
    "## 6. function to show mutable vs immutable behaviour"
   ]
  },
  {
   "cell_type": "code",
   "execution_count": 23,
   "id": "2b192bcc-9755-4a37-adea-5a3852de2e2e",
   "metadata": {
    "tags": []
   },
   "outputs": [
    {
     "name": "stdout",
     "output_type": "stream",
     "text": [
      "Inside function: [1, 2, 3, 4]\n",
      "Outside function: [1, 2, 3, 4]\n",
      "Inside function: 15\n",
      "Outside function: 5\n"
     ]
    }
   ],
   "source": [
    "def modify_list(lst):\n",
    "    lst.append(4)\n",
    "    print(\"Inside function:\", lst)\n",
    "\n",
    "def modify_int(n):\n",
    "    n += 10\n",
    "    print(\"Inside function:\", n)\n",
    "\n",
    "# Mutable\n",
    "my_list = [1, 2, 3]\n",
    "modify_list(my_list)\n",
    "print(\"Outside function:\", my_list)\n",
    "\n",
    "# Immutable\n",
    "num = 5\n",
    "modify_int(num)\n",
    "print(\"Outside function:\", num)\n"
   ]
  },
  {
   "cell_type": "code",
   "execution_count": null,
   "id": "d841693e-58ae-478a-a638-bd66612f2e90",
   "metadata": {},
   "outputs": [],
   "source": []
  },
  {
   "cell_type": "markdown",
   "id": "3ba740df-0a85-4bc3-8d6a-55a6aeef60f2",
   "metadata": {},
   "source": [
    "## 7. basic arithmetic on user input"
   ]
  },
  {
   "cell_type": "code",
   "execution_count": 24,
   "id": "26a03764-2b9a-40ca-be78-ad09f0d6bb24",
   "metadata": {
    "tags": []
   },
   "outputs": [
    {
     "name": "stdin",
     "output_type": "stream",
     "text": [
      "Enter first number:  2\n",
      "Enter second number:  3\n"
     ]
    },
    {
     "name": "stdout",
     "output_type": "stream",
     "text": [
      "Addition: 5.0\n",
      "Subtraction: -1.0\n",
      "Multiplication: 6.0\n",
      "Division: 0.6666666666666666\n"
     ]
    }
   ],
   "source": [
    "a = float(input(\"Enter first number: \"))\n",
    "b = float(input(\"Enter second number: \"))\n",
    "\n",
    "print(\"Addition:\", a + b)\n",
    "print(\"Subtraction:\", a - b)\n",
    "print(\"Multiplication:\", a * b)\n",
    "print(\"Division:\", a / b)\n"
   ]
  },
  {
   "cell_type": "code",
   "execution_count": null,
   "id": "8a04cd15-6784-4905-a19b-4ce4ea4b1dd5",
   "metadata": {},
   "outputs": [],
   "source": []
  },
  {
   "cell_type": "markdown",
   "id": "b5b627da-d9bb-4e5d-a406-17a58993af67",
   "metadata": {},
   "source": [
    "## 8. logical operators demo"
   ]
  },
  {
   "cell_type": "code",
   "execution_count": 25,
   "id": "02f07571-003c-4f6a-9551-0393bc94b7a2",
   "metadata": {
    "tags": []
   },
   "outputs": [
    {
     "name": "stdout",
     "output_type": "stream",
     "text": [
      "True\n",
      "True\n",
      "True\n"
     ]
    }
   ],
   "source": [
    "x = 10\n",
    "y = 5\n",
    "\n",
    "print(x > 5 and y < 10)  # True\n",
    "print(x < 5 or y < 10)   # True\n",
    "print(not(x == y))       # True\n"
   ]
  },
  {
   "cell_type": "code",
   "execution_count": null,
   "id": "2d68d2d4-418c-4517-a09b-06c5dcba6fa2",
   "metadata": {},
   "outputs": [],
   "source": []
  },
  {
   "cell_type": "markdown",
   "id": "ace9d493-a641-4e92-9124-3e2d41e8dea1",
   "metadata": {},
   "source": [
    "## 9. convert input string to int, float, and bool"
   ]
  },
  {
   "cell_type": "code",
   "execution_count": 26,
   "id": "143881a7-9d20-425a-bebf-c6484d60cc44",
   "metadata": {
    "tags": []
   },
   "outputs": [
    {
     "name": "stdin",
     "output_type": "stream",
     "text": [
      "Enter a value:  6\n"
     ]
    },
    {
     "name": "stdout",
     "output_type": "stream",
     "text": [
      "As Integer: 6\n",
      "As Float: 6.0\n",
      "As Boolean: True\n"
     ]
    }
   ],
   "source": [
    "value = input(\"Enter a value: \")\n",
    "print(\"As Integer:\", int(value))\n",
    "print(\"As Float:\", float(value))\n",
    "print(\"As Boolean:\", bool(value))\n"
   ]
  },
  {
   "cell_type": "code",
   "execution_count": null,
   "id": "764c0541-500a-47c1-9901-59eb92be2b72",
   "metadata": {},
   "outputs": [],
   "source": []
  },
  {
   "cell_type": "markdown",
   "id": "591edcfa-ea43-40c1-a557-594a7921f028",
   "metadata": {
    "tags": []
   },
   "source": [
    "## 10.Check if a number is positive, negative, or zero"
   ]
  },
  {
   "cell_type": "code",
   "execution_count": 28,
   "id": "7b13d83f-4b5a-49a1-925d-b8f130a99eac",
   "metadata": {
    "tags": []
   },
   "outputs": [
    {
     "name": "stdin",
     "output_type": "stream",
     "text": [
      "Enter a number:  0\n"
     ]
    },
    {
     "name": "stdout",
     "output_type": "stream",
     "text": [
      "Zero\n"
     ]
    }
   ],
   "source": [
    "num = float(input(\"Enter a number: \"))\n",
    "if num > 0:\n",
    "    print(\"Positive\")\n",
    "elif num < 0:\n",
    "    print(\"Negative\")\n",
    "else:\n",
    "    print(\"Zero\")\n"
   ]
  },
  {
   "cell_type": "code",
   "execution_count": null,
   "id": "d099c11e-188a-48ea-99b1-d89989b3e05f",
   "metadata": {},
   "outputs": [],
   "source": []
  },
  {
   "cell_type": "markdown",
   "id": "d774efa7-fb7d-4eb5-999e-d90fd0daa3f5",
   "metadata": {},
   "source": [
    "## 11. for loop from 1 to 10"
   ]
  },
  {
   "cell_type": "code",
   "execution_count": 29,
   "id": "cb0074ac-b752-42f6-9b13-6bd5eac92fd8",
   "metadata": {
    "tags": []
   },
   "outputs": [
    {
     "name": "stdout",
     "output_type": "stream",
     "text": [
      "1\n",
      "2\n",
      "3\n",
      "4\n",
      "5\n",
      "6\n",
      "7\n",
      "8\n",
      "9\n",
      "10\n"
     ]
    }
   ],
   "source": [
    "for i in range(1, 11):\n",
    "    print(i)\n"
   ]
  },
  {
   "cell_type": "code",
   "execution_count": null,
   "id": "d533b8cc-8370-44bb-90c3-031da7eeca9b",
   "metadata": {},
   "outputs": [],
   "source": []
  },
  {
   "cell_type": "markdown",
   "id": "814f3fa4-4a01-455b-9ef4-b8598637abdd",
   "metadata": {},
   "source": [
    "## 12. sum of even numbers from 1 to 50"
   ]
  },
  {
   "cell_type": "code",
   "execution_count": 30,
   "id": "cffa597b-01a0-41fb-ba57-3659d066f164",
   "metadata": {
    "tags": []
   },
   "outputs": [
    {
     "name": "stdout",
     "output_type": "stream",
     "text": [
      "Sum of even numbers 1–50: 650\n"
     ]
    }
   ],
   "source": [
    "total = 0\n",
    "for i in range(1, 51):\n",
    "    if i % 2 == 0:\n",
    "        total += i\n",
    "print(\"Sum of even numbers 1–50:\", total)\n"
   ]
  },
  {
   "cell_type": "code",
   "execution_count": null,
   "id": "c32a5237-55e4-4255-b69a-c65a4f96415c",
   "metadata": {},
   "outputs": [],
   "source": []
  },
  {
   "cell_type": "markdown",
   "id": "8b246f99-72e6-409f-a421-739c5c892808",
   "metadata": {},
   "source": [
    "## 13. reverse a string using while loop"
   ]
  },
  {
   "cell_type": "code",
   "execution_count": 31,
   "id": "9d05fe2f-eae4-468c-b506-d14b8401ecff",
   "metadata": {
    "tags": []
   },
   "outputs": [
    {
     "name": "stdin",
     "output_type": "stream",
     "text": [
      "Enter a string:  hello\n"
     ]
    },
    {
     "name": "stdout",
     "output_type": "stream",
     "text": [
      "Reversed string: olleh\n"
     ]
    }
   ],
   "source": [
    "text = input(\"Enter a string: \")\n",
    "reversed_text = \"\"\n",
    "i = len(text) - 1\n",
    "while i >= 0:\n",
    "    reversed_text += text[i]\n",
    "    i -= 1\n",
    "print(\"Reversed string:\", reversed_text)\n"
   ]
  },
  {
   "cell_type": "code",
   "execution_count": null,
   "id": "15699a16-03e4-4b69-a584-af03a21365f8",
   "metadata": {},
   "outputs": [],
   "source": []
  },
  {
   "cell_type": "markdown",
   "id": "cb9abf21-8f42-4554-ac2e-cd80e945eeee",
   "metadata": {},
   "source": [
    "## 14. factorial using while loop"
   ]
  },
  {
   "cell_type": "code",
   "execution_count": 32,
   "id": "1d65ff4e-8a41-4ebc-93fe-6c7d9a1518e0",
   "metadata": {
    "tags": []
   },
   "outputs": [
    {
     "name": "stdin",
     "output_type": "stream",
     "text": [
      "Enter a number:  5\n"
     ]
    },
    {
     "name": "stdout",
     "output_type": "stream",
     "text": [
      "Factorial: 120\n"
     ]
    }
   ],
   "source": [
    "n = int(input(\"Enter a number: \"))\n",
    "factorial = 1\n",
    "while n > 0:\n",
    "    factorial *= n\n",
    "    n -= 1\n",
    "print(\"Factorial:\", factorial)\n"
   ]
  },
  {
   "cell_type": "code",
   "execution_count": null,
   "id": "930278e5-049f-4188-907d-59740024ab0c",
   "metadata": {},
   "outputs": [],
   "source": []
  }
 ],
 "metadata": {
  "kernelspec": {
   "display_name": "Python 3 (ipykernel)",
   "language": "python",
   "name": "python3"
  },
  "language_info": {
   "codemirror_mode": {
    "name": "ipython",
    "version": 3
   },
   "file_extension": ".py",
   "mimetype": "text/x-python",
   "name": "python",
   "nbconvert_exporter": "python",
   "pygments_lexer": "ipython3",
   "version": "3.11.5"
  }
 },
 "nbformat": 4,
 "nbformat_minor": 5
}
