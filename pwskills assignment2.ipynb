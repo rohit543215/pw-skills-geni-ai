{
 "cells": [
  {
   "cell_type": "markdown",
   "id": "435db628-4cb9-4f74-90bb-d8bf8f06af26",
   "metadata": {},
   "source": [
    "# Data types and Structures Questions"
   ]
  },
  {
   "cell_type": "markdown",
   "id": "d243016a-5631-4a9c-8f94-785641d417b5",
   "metadata": {},
   "source": [
    "## 1. what are data structures, and why are they important?"
   ]
  },
  {
   "cell_type": "markdown",
   "id": "ba224995-316b-48b3-be7f-e19cc6ffb9bf",
   "metadata": {},
   "source": [
    "### Data structures are ways to store and organize data in a program.\n",
    "\n",
    "They are important because:\n",
    "\n",
    "They help you store data efficiently.\n",
    "\n",
    "They make it easy to access, update, and manage data.\n",
    "\n",
    "They are used to solve problems faster and better."
   ]
  },
  {
   "cell_type": "markdown",
   "id": "80ed5db9-86cf-4a0b-a430-a9f8b190a53c",
   "metadata": {},
   "source": [
    "## 2. Explain the difference between mutable and immutable data types with examples"
   ]
  },
  {
   "cell_type": "markdown",
   "id": "1aea83bb-d84f-4089-bbff-f378fcf81af1",
   "metadata": {},
   "source": [
    "### Mutable data types can be changed after they are created.\n",
    "\n",
    "### Immutable data types cannot be changed once they are created.\n"
   ]
  },
  {
   "cell_type": "code",
   "execution_count": 1,
   "id": "2c7bfac3-7602-4a14-96b2-ad8626eaef81",
   "metadata": {
    "tags": []
   },
   "outputs": [
    {
     "name": "stdout",
     "output_type": "stream",
     "text": [
      "[10, 2, 3]\n"
     ]
    }
   ],
   "source": [
    "# Mutable\n",
    "my_list = [1, 2, 3]\n",
    "my_list[0] = 10\n",
    "print(my_list)  # Output: [10, 2, 3]\n",
    "\n",
    "# Immutable\n",
    "my_str = \"hello\"\n",
    "# my_str[0] = \"H\"  # ❌ This will give an error\n"
   ]
  },
  {
   "cell_type": "markdown",
   "id": "4f33305b-84df-44e7-82cd-740a50082ba8",
   "metadata": {},
   "source": [
    "## 3. what are the main difference between lists and tuples in python?"
   ]
  },
  {
   "cell_type": "markdown",
   "id": "4398af81-7ed0-4ff6-8221-d9279ac58b7e",
   "metadata": {},
   "source": [
    "###\n",
    "Mutability:\n",
    "\n",
    "Lists are mutable (you can change, add, or remove elements).\n",
    "\n",
    "Tuples are immutable (you cannot change the elements once created).\n",
    "\n",
    "Syntax:\n",
    "\n",
    "Lists use square brackets: [1, 2, 3]\n",
    "\n",
    "Tuples use round brackets: (1, 2, 3)\n",
    "\n",
    "Performance:\n",
    "\n",
    "Lists are slightly slower because they are flexible.\n",
    "\n",
    "Tuples are faster and more memory-efficient.\n",
    "\n",
    "Methods:\n",
    "\n",
    "Lists have more built-in methods like append(), remove(), etc.\n",
    "\n",
    "Tuples have fewer methods due to immutability.\n",
    "\n",
    "Use Cases:\n",
    "\n",
    "Use lists when data needs to change.\n",
    "\n",
    "Use tuples when data should stay constant (like coordinates or settings)."
   ]
  },
  {
   "cell_type": "markdown",
   "id": "27d601cf-48c2-4feb-bb5a-f98681250954",
   "metadata": {},
   "source": [
    "## 4. Describe how dictioneries store data."
   ]
  },
  {
   "cell_type": "markdown",
   "id": "c93d35b0-b8f7-4b6e-a438-e971a55edb69",
   "metadata": {},
   "source": [
    "### \n",
    "Each item in a dictionary has a unique key and a value attached to it.\n",
    "\n",
    "Data is stored using curly braces {} with this format:"
   ]
  },
  {
   "cell_type": "code",
   "execution_count": 3,
   "id": "8c859f3d-86fe-4c91-9d15-2cf9b6585601",
   "metadata": {
    "tags": []
   },
   "outputs": [
    {
     "data": {
      "text/plain": [
       "{'name': 'Ali', 'age': 21}"
      ]
     },
     "execution_count": 3,
     "metadata": {},
     "output_type": "execute_result"
    }
   ],
   "source": [
    "my_dict = {\"name\": \"Ali\", \"age\": 21}\n",
    "my_dict"
   ]
  },
  {
   "cell_type": "markdown",
   "id": "f34fcf4e-9121-4f2e-9cbb-d035ff33bdb9",
   "metadata": {},
   "source": [
    "## 5. why might you use a set instead os a list in python?"
   ]
  },
  {
   "cell_type": "markdown",
   "id": "5767f3f9-62ed-4e65-b79b-d173b1e423b6",
   "metadata": {},
   "source": [
    "### 🔑 Key Reasons:\n",
    "-No Duplicates: Sets automatically remove duplicate values.\n",
    "\n",
    "-Faster Lookups: Checking if an item exists in a set is faster than in a list.\n",
    "\n",
    "-Unordered: If the order of elements doesn’t matter, sets are more efficient.\n",
    "\n",
    "-Set Operations: You can perform mathematical operations like union, intersection, and difference."
   ]
  },
  {
   "cell_type": "markdown",
   "id": "428a52af-4b4f-4c94-b277-a905f14b05ec",
   "metadata": {},
   "source": [
    "## 6.what is a string in python, and how is it different form a list?"
   ]
  },
  {
   "cell_type": "markdown",
   "id": "1e5fbc5c-1bfd-4ffa-97ce-fb58a13e2a5d",
   "metadata": {},
   "source": [
    "### \n",
    "A string in Python is a sequence of characters enclosed in either single quotes (' ') or double quotes (\" \"). It is used to represent text-based data like words, sentences, or any other character-based information\n",
    "### Differences Between a String and a List:\n",
    "Data Type:\n",
    "\n",
    "-A string is a sequence of characters (text).\n",
    "\n",
    "-A list is a collection of different data types (strings, integers, booleans, etc.), and it can store multiple items.\n",
    "\n",
    "Mutability:\n",
    "\n",
    "-A string is immutable, meaning you cannot change the characters once the string is created.\n",
    "\n",
    "-A list is mutable, meaning you can modify, add, or remove items from it.\n",
    "\n",
    "Syntax:\n",
    "\n",
    "-A string is created using single or double quotes: \"hello\" or 'world'.\n",
    "\n",
    "-A list is created using square brackets: [\"a\", \"b\", \"c\"].\n",
    "\n",
    "Operations:\n",
    "\n",
    "-Strings support operations related to text, such as concatenation (+), repetition (*), and slicing.\n",
    "\n",
    "-Lists support operations related to collection management, such as adding/removing elements, and can contain elements of different data types.\n"
   ]
  },
  {
   "cell_type": "markdown",
   "id": "a360bbc1-5c0e-4c22-82fd-6e0346e6dd28",
   "metadata": {},
   "source": [
    "## 7. how do tuples ensure data integrity in python?"
   ]
  },
  {
   "cell_type": "markdown",
   "id": "a33070a3-3850-4f0f-accb-ceacfe32d96b",
   "metadata": {},
   "source": [
    "###\n",
    "In Python, tuples help ensure data integrity by being immutable, meaning once a tuple is created, its data cannot be changed. This immutability makes tuples useful when you want to make sure that the data remains constant and cannot be modified accidentally.\n",
    "\n"
   ]
  },
  {
   "cell_type": "markdown",
   "id": "0e75c520-2c1a-4c5f-be04-003761b59e43",
   "metadata": {},
   "source": [
    "## 8. what is hash table, and how does it relate to dictioneries in python?"
   ]
  },
  {
   "cell_type": "markdown",
   "id": "ec3e2615-2c27-41aa-9cb9-256662192072",
   "metadata": {},
   "source": [
    "### \n",
    "A hash table is a data structure that allows for fast data retrieval by using a hash function to map data to a unique key. It stores data as key-value pairs, making it very efficient for looking up, inserting, or deleting items.\n",
    "\n",
    "Hashing:\n",
    "\n",
    "When you insert a key-value pair into a dictionary, Python applies a hash function to the key to generate a unique index (or hash code).\n",
    "\n",
    "This index is used to determine where the value is stored in memory.\n",
    "\n",
    "Fast Lookups:\n",
    "\n",
    "When you try to access a value using a key, Python applies the same hash function to the key and finds the corresponding index, allowing it to retrieve the value in constant time (on average).\n",
    "\n",
    "Collision Handling:\n",
    "\n",
    "If two different keys hash to the same index (a collision), Python handles this by storing both key-value pairs at that index using techniques like chaining or open addressing.\n",
    "\n"
   ]
  },
  {
   "cell_type": "markdown",
   "id": "a420c268-b8d3-484f-9c5e-ddbad6c57a1f",
   "metadata": {},
   "source": [
    "## 9. can lists contain different data types in python?"
   ]
  },
  {
   "cell_type": "markdown",
   "id": "3194106b-024f-448b-aec7-6d9838be29c9",
   "metadata": {},
   "source": [
    "###\n",
    "Yes, lists in Python can contain different data types."
   ]
  },
  {
   "cell_type": "code",
   "execution_count": 5,
   "id": "ddebbb56-a930-40b1-9e49-0dbb9cfc5742",
   "metadata": {
    "tags": []
   },
   "outputs": [
    {
     "name": "stdout",
     "output_type": "stream",
     "text": [
      "[10, 'hello', 3.14, True, [1, 2], {'name': 'Alice'}]\n"
     ]
    }
   ],
   "source": [
    "my_list = [10, \"hello\", 3.14, True, [1, 2], {\"name\": \"Alice\"}]\n",
    "print(my_list)"
   ]
  },
  {
   "cell_type": "markdown",
   "id": "5eb5aa58-2204-43d5-8729-42d0fc4d10e8",
   "metadata": {},
   "source": [
    "## 10. explain why strings are immutable in python."
   ]
  },
  {
   "cell_type": "markdown",
   "id": "ed890d04-b890-4933-9f2e-2f89a75dba53",
   "metadata": {},
   "source": [
    "###\n",
    "In Python, strings are immutable because once a string is created, its contents (characters) cannot be changed.\n",
    "\n",
    "✅ Why?\n",
    "Memory Efficiency:\n",
    "Immutability allows Python to reuse memory for identical strings, which makes programs faster and more memory-efficient.\n",
    "\n",
    "Hashability:\n",
    "Since strings don't change, they can be used as keys in dictionaries or elements in sets — these data structures require that keys or elements be immutable.\n",
    "\n",
    "Data Integrity:\n",
    "When strings are passed around in code, their immutability ensures that they won't accidentally change, making debugging and reasoning easier."
   ]
  },
  {
   "cell_type": "markdown",
   "id": "20e059b5-fb90-46ce-9301-55b36bea07cf",
   "metadata": {},
   "source": [
    "## 11. what advantages do dictioneries offer over lists for certain tasks. "
   ]
  },
  {
   "cell_type": "markdown",
   "id": "a4c903b7-b8fc-408d-b34f-7a0b4a3d9d4d",
   "metadata": {},
   "source": [
    "###\n",
    "1)Fast Lookups:\n",
    "Dictionaries provide constant time (O(1)) access to values using keys, while lists require searching (O(n)) to find an item.\n",
    "\n",
    "2)Key-Value Pair Storage:\n",
    "Dictionaries store data as key-value pairs, making them ideal for representing structured data like a person’s details ({\"name\": \"Alex\", \"age\": 25\"}), while lists just store values by position.\n",
    "\n",
    "3)Better Readability:\n",
    "Accessing data by a meaningful key (person[\"name\"]) is often clearer than by index (person[0] in a list).\n",
    "\n",
    "4)No Need to Remember Indexes:\n",
    "With dictionaries, you don’t need to remember which index holds what — just use the key.\n",
    "\n",
    "5)Dynamic & Flexible:\n",
    "You can easily add, update, or delete key-value pairs in a dictionary."
   ]
  },
  {
   "cell_type": "markdown",
   "id": "9244d170-7e37-4a1b-8d24-9f2f33097595",
   "metadata": {},
   "source": [
    "## 12. describe a scenario where using tuple would be preferable over a list"
   ]
  },
  {
   "cell_type": "markdown",
   "id": "6de210a6-0f3d-47e5-80e7-210aae877d74",
   "metadata": {},
   "source": [
    "###\n",
    "A tuple is ideal when you want to store a fixed collection of items that should not change.\n",
    "\n",
    "Returning multiple fixed values from a function.\n",
    "\n",
    "Using as keys in a dictionary (since lists can't be keys due to being mutable).\n",
    "\n",
    "Representing constant sets of data like RGB color codes, months, etc."
   ]
  },
  {
   "cell_type": "markdown",
   "id": "233c2709-5a75-4b20-949a-99b0d305f6b8",
   "metadata": {},
   "source": [
    "## 13. how do sets handle duplicate values in python?"
   ]
  },
  {
   "cell_type": "markdown",
   "id": "aafe0264-242a-48cb-9fee-987b912e79cd",
   "metadata": {},
   "source": [
    "###\n",
    "-A set is an unordered collection of unique elements.\n",
    "\n",
    "-When you add duplicate items to a set, Python keeps only one copy of each unique value."
   ]
  },
  {
   "cell_type": "code",
   "execution_count": 6,
   "id": "4749761d-c1eb-49b0-8f3c-32d02c984aa5",
   "metadata": {
    "tags": []
   },
   "outputs": [
    {
     "name": "stdout",
     "output_type": "stream",
     "text": [
      "{1, 2, 3, 4}\n"
     ]
    }
   ],
   "source": [
    "my_set = {1, 2, 2, 3, 4, 4, 4}\n",
    "print(my_set)\n"
   ]
  },
  {
   "cell_type": "markdown",
   "id": "ee0ad1f6-3007-4a45-b943-87e3a2d829e5",
   "metadata": {},
   "source": [
    "## 14. how does the 'in' keyword work differently for dictioneries and lists? "
   ]
  },
  {
   "cell_type": "markdown",
   "id": "d98141ac-a277-4943-b3ab-b6d1b613ac6b",
   "metadata": {},
   "source": [
    "###\n",
    "-The 'in' keyword in Python is used to check membership, but it works differently for lists and dictionaries:\n",
    "\n",
    "🔹 In lists:\n",
    "'in' checks if a value exists in the list.\n",
    "\n",
    "🔸 In dictionaries:\n",
    "'in' checks if a key exists in the dictionary — not the value."
   ]
  },
  {
   "cell_type": "markdown",
   "id": "8391af92-546b-44cf-8ec5-7a336c4bf5f4",
   "metadata": {},
   "source": [
    "## 15. can you modify the elements of a tuple? explain why or why not."
   ]
  },
  {
   "cell_type": "markdown",
   "id": "c7efc3a6-0602-45fb-9371-d43b70d971f5",
   "metadata": {},
   "source": [
    "### No, you cannot modify the elements of a tuple in Python.\n",
    "\n",
    "❓ Why?\n",
    "Because tuples are immutable, which means once a tuple is created, its contents cannot be changed — you can’t add, remove, or modify any of its elements."
   ]
  },
  {
   "cell_type": "markdown",
   "id": "e8cbc0e4-6496-4e0c-ba6f-9b8dfbc4cd0d",
   "metadata": {},
   "source": [
    "## 16. what is a nested dictionery, and give an example of its use case?"
   ]
  },
  {
   "cell_type": "markdown",
   "id": "dbb7e0d2-2a05-4545-989b-36b8a6d689c0",
   "metadata": {},
   "source": [
    "###\n",
    "A nested dictionary in Python is a dictionary inside another dictionary. It allows you to organize data in a structured, hierarchical way — like storing multiple levels of related information."
   ]
  },
  {
   "cell_type": "code",
   "execution_count": 8,
   "id": "6d244ff3-4b2c-489f-8922-72ea0def49db",
   "metadata": {
    "tags": []
   },
   "outputs": [
    {
     "data": {
      "text/plain": [
       "{'student1': {'name': 'Alice', 'age': 20, 'grade': 'A'},\n",
       " 'student2': {'name': 'Bob', 'age': 22, 'grade': 'B'}}"
      ]
     },
     "execution_count": 8,
     "metadata": {},
     "output_type": "execute_result"
    }
   ],
   "source": [
    "students = {\n",
    "    \"student1\": {\"name\": \"Alice\", \"age\": 20, \"grade\": \"A\"},\n",
    "    \"student2\": {\"name\": \"Bob\", \"age\": 22, \"grade\": \"B\"}\n",
    "}\n",
    "students\n"
   ]
  },
  {
   "cell_type": "markdown",
   "id": "0f0dde24-296a-44c9-9776-534d731a300e",
   "metadata": {
    "tags": []
   },
   "source": [
    "## 17 describe the time comlexity of accessing elements in a dictionery"
   ]
  },
  {
   "cell_type": "markdown",
   "id": "7cf93b0f-4ea0-47ef-9b40-bd51eae9bd17",
   "metadata": {},
   "source": [
    "### ✅ O(1) — Constant Time\n",
    "This means accessing a value by its key is very fast, regardless of the size of the dictionary."
   ]
  },
  {
   "cell_type": "markdown",
   "id": "16d3a18d-e277-4f31-8a0b-4b3ab8c7ede2",
   "metadata": {},
   "source": [
    "## 18. in what situations are lists preferred over dictioneries."
   ]
  },
  {
   "cell_type": "markdown",
   "id": "e1ae437d-c093-449d-b8df-4de63da9015a",
   "metadata": {},
   "source": [
    "###✅ Situations Where Lists Are Preferred Over Dictionaries:\n",
    "Ordered Data Matters:\n",
    "Lists maintain the order of elements, so they’re perfect when sequence and position are important (e.g., to-do lists, queues, etc.).\n",
    "\n",
    "Simple Collections:\n",
    "When you just need to store a collection of items (like numbers or names) without associating them with specific keys, a list is simpler and cleaner.\n",
    "\n",
    "Index-Based Access:\n",
    "If you plan to access elements using their position (index), lists are ideal:\n",
    "\n",
    "\n",
    "\n",
    "Duplicates Are Allowed:\n",
    "Lists allow duplicate values, which is useful when you need to store repeated items (like multiple entries of the same score or name).\n",
    "\n",
    "Iteration and Sorting:\n",
    "Lists are better suited for sorting, slicing, and iterating in order, which is more complex with dictionaries.\n"
   ]
  },
  {
   "cell_type": "code",
   "execution_count": 13,
   "id": "40abfa28-41b7-45d1-ad22-47d0cda49c4b",
   "metadata": {
    "tags": []
   },
   "outputs": [
    {
     "name": "stdout",
     "output_type": "stream",
     "text": [
      "Alice\n"
     ]
    }
   ],
   "source": [
    "names = [\"Alice\", \"Bob\"]\n",
    "print(names[0])  # Alice\n"
   ]
  },
  {
   "cell_type": "markdown",
   "id": "f38c0071-7b27-4629-931d-067038d6186a",
   "metadata": {},
   "source": [
    "## 19. why are dictioneries considered unordered and how does that affect data retrieval."
   ]
  },
  {
   "cell_type": "markdown",
   "id": "9ef0d7da-8e46-4020-9bcc-d76b0ffd0b60",
   "metadata": {},
   "source": [
    "###\n",
    "🔹 Why Are Dictionaries Considered Unordered?\n",
    "In older versions of Python (before Python 3.7), dictionaries were considered unordered — meaning the items didn’t maintain the order in which they were added.\n",
    "\n",
    "This is because dictionaries are built on hash tables, and the focus is on fast access to values via keys, not on maintaining order.\n",
    "\n",
    "🔸 What About Newer Versions?\n",
    "Starting from Python 3.7, dictionaries do preserve insertion order — but this behavior is a language feature, not a guarantee for algorithmic use. So we still treat dictionaries as unordered for general concepts."
   ]
  },
  {
   "cell_type": "markdown",
   "id": "a273d266-2441-4ffe-bf22-24a625779d5e",
   "metadata": {},
   "source": [
    "###\n",
    "📌 How Does This Affect Data Retrieval?\n",
    "Key-based access is always efficient and fast (O(1)), regardless of order.\n",
    "\n",
    "However, if your logic depends on the order of items, a dictionary may not be reliable (especially in older versions or conceptually)."
   ]
  },
  {
   "cell_type": "markdown",
   "id": "75dce025-fc45-431d-8c8c-dca2f0cd79f2",
   "metadata": {},
   "source": [
    "## 20. explain the difference etween a list and a dictionery in terms of data retrieval."
   ]
  },
  {
   "cell_type": "markdown",
   "id": "788d6be8-bbb1-4bf7-b6de-dc9a98b4a139",
   "metadata": {},
   "source": [
    "###\n",
    "🔹 Lists:\n",
    "Data Retrieval by Index:\n",
    "In a list, you retrieve data by accessing its index (position).\n",
    "\n",
    "Index-based Access: To retrieve an element, you provide its index.\n",
    "\n",
    "Linear Search: In the case of unsorted lists, finding an item by value (not index) requires searching through the entire list.\n",
    "\n",
    "Example:"
   ]
  },
  {
   "cell_type": "code",
   "execution_count": 14,
   "id": "caeaf7e2-1ba2-4cb8-92f5-560249361241",
   "metadata": {
    "tags": []
   },
   "outputs": [
    {
     "name": "stdout",
     "output_type": "stream",
     "text": [
      "30\n"
     ]
    }
   ],
   "source": [
    "my_list = [10, 20, 30, 40]\n",
    "print(my_list[2])  # Output: 30 (Access by index)"
   ]
  },
  {
   "cell_type": "markdown",
   "id": "5e376964-bf38-48a6-96dd-c5e688cdc501",
   "metadata": {},
   "source": [
    "###\n",
    "Access Time:\n",
    "\n",
    "O(1) for accessing an element by index.\n",
    "\n",
    "O(n) for searching for a value in an unsorted list."
   ]
  },
  {
   "cell_type": "code",
   "execution_count": null,
   "id": "6df1bf8b-6740-4a45-abff-6d763a60e5c1",
   "metadata": {},
   "outputs": [],
   "source": []
  },
  {
   "cell_type": "code",
   "execution_count": null,
   "id": "ac07e9be-0e3d-4e0a-833e-f23799ea3f14",
   "metadata": {},
   "outputs": [],
   "source": []
  },
  {
   "cell_type": "markdown",
   "id": "c619be3e-ee7d-4024-b0d4-2768d54a0aa3",
   "metadata": {},
   "source": [
    "# Practical Questions"
   ]
  },
  {
   "cell_type": "markdown",
   "id": "dbaa9e72-b08a-4ef3-baf2-9894fc95b3e2",
   "metadata": {},
   "source": [
    "## 1. write a code to create a string with your name and print it."
   ]
  },
  {
   "cell_type": "code",
   "execution_count": 15,
   "id": "f5a99e56-8663-487d-bb65-6e6747eead7e",
   "metadata": {
    "tags": []
   },
   "outputs": [
    {
     "name": "stdout",
     "output_type": "stream",
     "text": [
      "My name is: Girish Joshi\n"
     ]
    }
   ],
   "source": [
    "my_name = \"Girish Joshi\"\n",
    "\n",
    "print(\"My name is:\", my_name)\n"
   ]
  },
  {
   "cell_type": "markdown",
   "id": "9ad68b36-7b5c-4c6e-86f9-1471b95ad66a",
   "metadata": {},
   "source": [
    "## 2. write a code to find the length of the string \"hello world\"."
   ]
  },
  {
   "cell_type": "code",
   "execution_count": 19,
   "id": "83d7a4ff-30b8-461e-a4ef-270095987cf2",
   "metadata": {
    "tags": []
   },
   "outputs": [
    {
     "name": "stdout",
     "output_type": "stream",
     "text": [
      "11\n"
     ]
    }
   ],
   "source": [
    "text=\"hello world\"\n",
    "print(len(text))"
   ]
  },
  {
   "cell_type": "markdown",
   "id": "1cf0da66-6fb8-4710-bfb6-3d3fe7de8b53",
   "metadata": {},
   "source": [
    "## 3. write a code to slice the first 3 characters from the string \"python programming\"."
   ]
  },
  {
   "cell_type": "code",
   "execution_count": 20,
   "id": "6aba884d-a2a8-410b-bddd-14604bacc973",
   "metadata": {
    "tags": []
   },
   "outputs": [
    {
     "data": {
      "text/plain": [
       "'pyt'"
      ]
     },
     "execution_count": 20,
     "metadata": {},
     "output_type": "execute_result"
    }
   ],
   "source": [
    "text= \"python programming\"\n",
    "text[0:3]"
   ]
  },
  {
   "cell_type": "markdown",
   "id": "ad55e466-db4d-4385-88ae-83ca3707ab68",
   "metadata": {},
   "source": [
    "## 4. write a code to convert the string \"hello\" to uppercase.\n"
   ]
  },
  {
   "cell_type": "code",
   "execution_count": 24,
   "id": "9eb65d52-4c1d-4f72-ba21-2aa4c896259a",
   "metadata": {
    "tags": []
   },
   "outputs": [
    {
     "name": "stdout",
     "output_type": "stream",
     "text": [
      "HELLO WORLD\n"
     ]
    }
   ],
   "source": [
    "text=\"hello world\"\n",
    "print(text.upper())"
   ]
  },
  {
   "cell_type": "markdown",
   "id": "0e7aaf2f-7f7d-4978-89dd-00c6995c1831",
   "metadata": {},
   "source": [
    "## 5. write a code to replace the word 'apple' with 'orange' in the stirng 'I like apple'."
   ]
  },
  {
   "cell_type": "code",
   "execution_count": 25,
   "id": "f60f6ccc-83fd-4b43-8627-4c5248e0a9fd",
   "metadata": {
    "tags": []
   },
   "outputs": [
    {
     "name": "stdout",
     "output_type": "stream",
     "text": [
      "I like orange\n"
     ]
    }
   ],
   "source": [
    "text = \"I like apple\"\n",
    "new_text = text.replace(\"apple\", \"orange\")\n",
    "print(new_text)\n"
   ]
  },
  {
   "cell_type": "markdown",
   "id": "74dffd08-7f93-402b-b5ff-a97c8c1f1e8a",
   "metadata": {},
   "source": [
    "## 6. write a code to create a list with numbers 1 to 5 and print it."
   ]
  },
  {
   "cell_type": "code",
   "execution_count": 31,
   "id": "d2ee0570-45d7-44b5-a4fa-67261a2355a7",
   "metadata": {
    "tags": []
   },
   "outputs": [
    {
     "name": "stdout",
     "output_type": "stream",
     "text": [
      "[1, 2, 3, 4, 5]\n"
     ]
    }
   ],
   "source": [
    "numbers = [1, 2, 3, 4, 5]\n",
    "print(numbers)\n"
   ]
  },
  {
   "cell_type": "code",
   "execution_count": 32,
   "id": "75836398-ea4e-447c-bcaf-da5be1d3446d",
   "metadata": {
    "tags": []
   },
   "outputs": [
    {
     "name": "stdout",
     "output_type": "stream",
     "text": [
      "[1, 2, 3, 4, 5]\n"
     ]
    }
   ],
   "source": [
    "numbers = list(range(1, 6))\n",
    "print(numbers)\n"
   ]
  },
  {
   "cell_type": "markdown",
   "id": "bc84714e-da46-464c-be26-8fc153d6abb5",
   "metadata": {
    "tags": []
   },
   "source": [
    "## 7. write a code to append the number 10 to the list [1,2,3,4]."
   ]
  },
  {
   "cell_type": "code",
   "execution_count": 42,
   "id": "699cff4a-5500-4225-8967-d3c853e176e0",
   "metadata": {
    "tags": []
   },
   "outputs": [
    {
     "data": {
      "text/plain": [
       "[1, 2, 3, 4, 10]"
      ]
     },
     "execution_count": 42,
     "metadata": {},
     "output_type": "execute_result"
    }
   ],
   "source": [
    "list1=[1,2,3,4]\n",
    "list1.append(10)\n",
    "list1\n",
    "    "
   ]
  },
  {
   "cell_type": "markdown",
   "id": "a22a2b0c-92b3-4f8a-a972-ce4ce93b5c50",
   "metadata": {},
   "source": [
    "## 8. write a code to remove the number 3 from the list [1,2,3,4,5]."
   ]
  },
  {
   "cell_type": "code",
   "execution_count": 45,
   "id": "a13601ff-be28-434d-a90a-843a1edfb638",
   "metadata": {
    "tags": []
   },
   "outputs": [
    {
     "data": {
      "text/plain": [
       "[1, 2, 4, 5]"
      ]
     },
     "execution_count": 45,
     "metadata": {},
     "output_type": "execute_result"
    }
   ],
   "source": [
    "list1=[1,2,3,4,5]\n",
    "list1.remove(3)\n",
    "list1"
   ]
  },
  {
   "cell_type": "markdown",
   "id": "6666153c-8119-4605-8454-b8fa1480d149",
   "metadata": {},
   "source": [
    "## 9. write a code to access the second element in the list ['a','b','c','d']"
   ]
  },
  {
   "cell_type": "code",
   "execution_count": 50,
   "id": "803796fc-3c65-4a21-a008-1dcdc2e6c814",
   "metadata": {
    "tags": []
   },
   "outputs": [
    {
     "data": {
      "text/plain": [
       "'b'"
      ]
     },
     "execution_count": 50,
     "metadata": {},
     "output_type": "execute_result"
    }
   ],
   "source": [
    "list1=['a','b','c','d']\n",
    "list1[1]"
   ]
  },
  {
   "cell_type": "markdown",
   "id": "519b96ec-1883-48c7-9df7-73cacf11d572",
   "metadata": {
    "tags": []
   },
   "source": [
    "## 10. write a code reverse the list [10,20,30,40,50]"
   ]
  },
  {
   "cell_type": "code",
   "execution_count": 49,
   "id": "38d089f6-381b-42c0-bf81-ab79fdeba91c",
   "metadata": {
    "tags": []
   },
   "outputs": [
    {
     "name": "stdout",
     "output_type": "stream",
     "text": [
      "[50, 40, 30, 20, 10]\n"
     ]
    }
   ],
   "source": [
    "list1=[10,20,30,40,50]\n",
    "print(list1[::-1]) "
   ]
  },
  {
   "cell_type": "markdown",
   "id": "7a975cfe-7924-4c62-9902-989ade04af6d",
   "metadata": {},
   "source": [
    "## 11. write a code to create a tuple with the elements 100,200,300 and print it."
   ]
  },
  {
   "cell_type": "code",
   "execution_count": 52,
   "id": "3f695837-5d65-4a02-b93a-6fe320adeac0",
   "metadata": {
    "tags": []
   },
   "outputs": [
    {
     "data": {
      "text/plain": [
       "(100, 200, 300)"
      ]
     },
     "execution_count": 52,
     "metadata": {},
     "output_type": "execute_result"
    }
   ],
   "source": [
    "tuple1=(100,200,300)\n",
    "tuple1"
   ]
  },
  {
   "cell_type": "markdown",
   "id": "13854143-67f5-4667-9b11-e70361c78b46",
   "metadata": {},
   "source": [
    "## 12. Write a code to access the second-to-last element of the tuple ('red', 'green', 'blue', 'yellow')."
   ]
  },
  {
   "cell_type": "code",
   "execution_count": 53,
   "id": "c5de0a98-2334-4ae7-ad08-8897c102c8c2",
   "metadata": {
    "tags": []
   },
   "outputs": [
    {
     "data": {
      "text/plain": [
       "'blue'"
      ]
     },
     "execution_count": 53,
     "metadata": {},
     "output_type": "execute_result"
    }
   ],
   "source": [
    "tuple1=('red', 'green', 'blue', 'yellow')\n",
    "tuple1[-2]"
   ]
  },
  {
   "cell_type": "markdown",
   "id": "a21e34e8-69c7-4010-9c65-fdbec8438851",
   "metadata": {},
   "source": [
    "## 13.Write a code to find the minimum number in the tuple (10, 20, 5, 15)."
   ]
  },
  {
   "cell_type": "code",
   "execution_count": 57,
   "id": "83689550-b637-4888-ba40-1110f1b175d2",
   "metadata": {
    "tags": []
   },
   "outputs": [
    {
     "data": {
      "text/plain": [
       "5"
      ]
     },
     "execution_count": 57,
     "metadata": {},
     "output_type": "execute_result"
    }
   ],
   "source": [
    "tuple1=(10,20,5,15)\n",
    "min(tuple1)"
   ]
  },
  {
   "cell_type": "markdown",
   "id": "28a19d4b-a1c1-449e-9f89-58c38500bf47",
   "metadata": {},
   "source": [
    "## 14.Write a code to find the index of the element \"cat\" in the tuple ('dog', 'cat', 'rabbit')"
   ]
  },
  {
   "cell_type": "code",
   "execution_count": 58,
   "id": "e24a4097-d50e-419b-b8b5-431e20107281",
   "metadata": {
    "tags": []
   },
   "outputs": [
    {
     "name": "stdout",
     "output_type": "stream",
     "text": [
      "Index of 'cat': 1\n"
     ]
    }
   ],
   "source": [
    "animals = ('dog', 'cat', 'rabbit')\n",
    "index_of_cat = animals.index('cat')\n",
    "print(\"Index of 'cat':\", index_of_cat)\n"
   ]
  },
  {
   "cell_type": "markdown",
   "id": "68b2b534-accf-4a08-8739-7c54cf2f9458",
   "metadata": {},
   "source": [
    "## 15. write a code to create a tuple containing three different fruits and check if 'kiwi' is in it."
   ]
  },
  {
   "cell_type": "code",
   "execution_count": 60,
   "id": "d0c1d087-3691-4b3e-9ed9-6214efbd39a6",
   "metadata": {
    "tags": []
   },
   "outputs": [
    {
     "name": "stdout",
     "output_type": "stream",
     "text": [
      "yes kiwi is here and it's index is 2\n"
     ]
    }
   ],
   "source": [
    "fruits=('mango','apple','kiwi')\n",
    "for i in fruits:\n",
    "    if i==\"kiwi\":\n",
    "        print(\"yes kiwi is here and it's index is\",fruits.index(\"kiwi\"))\n"
   ]
  },
  {
   "cell_type": "markdown",
   "id": "4dda39d3-a979-4808-81f6-bee3901719a7",
   "metadata": {},
   "source": [
    "## 16. write a code create a set with the elements 'a','b','c' and print it."
   ]
  },
  {
   "cell_type": "code",
   "execution_count": 62,
   "id": "90f1032b-0d05-4737-be25-3cf10280c913",
   "metadata": {
    "tags": []
   },
   "outputs": [
    {
     "data": {
      "text/plain": [
       "{'a', 'b', 'c'}"
      ]
     },
     "execution_count": 62,
     "metadata": {},
     "output_type": "execute_result"
    }
   ],
   "source": [
    "set1={'a','b','c'}\n",
    "set1"
   ]
  },
  {
   "cell_type": "markdown",
   "id": "724901b5-241b-4a2b-af97-168a2462dfc5",
   "metadata": {},
   "source": [
    "## 17. write a code to clear all elements from the set {1,2,3,4,5}."
   ]
  },
  {
   "cell_type": "code",
   "execution_count": 65,
   "id": "a6232677-e536-447c-8bbd-7cddd303710e",
   "metadata": {
    "tags": []
   },
   "outputs": [
    {
     "data": {
      "text/plain": [
       "set()"
      ]
     },
     "execution_count": 65,
     "metadata": {},
     "output_type": "execute_result"
    }
   ],
   "source": [
    "set1={1,2,3,4,5}\n",
    "set1.clear()\n",
    "set1"
   ]
  },
  {
   "cell_type": "markdown",
   "id": "7e43c701-c79d-42dc-9ad5-750abd1933f1",
   "metadata": {},
   "source": [
    "## 18. write a code to remove the element 4 from the set {1,2,3,4}."
   ]
  },
  {
   "cell_type": "code",
   "execution_count": 68,
   "id": "7e76e0f4-bee6-437a-a58d-5814f42f99aa",
   "metadata": {
    "tags": []
   },
   "outputs": [
    {
     "data": {
      "text/plain": [
       "{1, 2, 3}"
      ]
     },
     "execution_count": 68,
     "metadata": {},
     "output_type": "execute_result"
    }
   ],
   "source": [
    "set1={1,2,3,4}\n",
    "set1.remove(4)\n",
    "set1"
   ]
  },
  {
   "cell_type": "markdown",
   "id": "890fa782-9ba9-4a2d-889a-a27099d267b6",
   "metadata": {},
   "source": [
    "## 19. write a code to find the union of two sets {1,2,3} and {2,3,4}."
   ]
  },
  {
   "cell_type": "code",
   "execution_count": 71,
   "id": "9cb43de2-613d-466f-9369-389c3014ec1c",
   "metadata": {
    "tags": []
   },
   "outputs": [
    {
     "data": {
      "text/plain": [
       "{1, 2, 3, 4, 5, 6}"
      ]
     },
     "execution_count": 71,
     "metadata": {},
     "output_type": "execute_result"
    }
   ],
   "source": [
    "set1={1,2,3}\n",
    "set2={2,3,4,5,6}\n",
    "union_set=set1.union(set2)\n",
    "union_set\n"
   ]
  },
  {
   "cell_type": "markdown",
   "id": "d2aa19ea-f047-40a8-9b20-8f7a05cb873c",
   "metadata": {},
   "source": [
    "## 20. write a code to find the intersection of two sets {1,2,3} and {2,3,4}."
   ]
  },
  {
   "cell_type": "code",
   "execution_count": 74,
   "id": "65534103-1bfd-4039-ad3b-2cbb4e7cb742",
   "metadata": {
    "tags": []
   },
   "outputs": [
    {
     "data": {
      "text/plain": [
       "{2, 3}"
      ]
     },
     "execution_count": 74,
     "metadata": {},
     "output_type": "execute_result"
    }
   ],
   "source": [
    "intersection=set1.intersection(set2)\n",
    "intersection"
   ]
  },
  {
   "cell_type": "markdown",
   "id": "7e8af4ad-57f4-4422-a82b-8377855554c3",
   "metadata": {},
   "source": [
    "## 21. write a code to create a dictionary with the \"name\",\"age\" and \"city\" and print it."
   ]
  },
  {
   "cell_type": "code",
   "execution_count": 77,
   "id": "2b4c4987-cf1e-419c-849d-495fce72a9d7",
   "metadata": {
    "tags": []
   },
   "outputs": [
    {
     "data": {
      "text/plain": [
       "{'name': 'girish joshi', 'age': 22, 'city': 'pune'}"
      ]
     },
     "execution_count": 77,
     "metadata": {},
     "output_type": "execute_result"
    }
   ],
   "source": [
    "details={'name':'girish joshi','age':22,'city':\"pune\"}\n",
    "details"
   ]
  },
  {
   "cell_type": "markdown",
   "id": "ddf29611-6c84-461e-afc5-fb7b3ba540db",
   "metadata": {},
   "source": [
    "## 22. write a code to add a new key-value pair \"country\": \"USA\" to the dictionary {'name': 'John', 'age': 25}."
   ]
  },
  {
   "cell_type": "code",
   "execution_count": 78,
   "id": "9acc34f3-df24-42ed-a6e5-996ca6d5e5f3",
   "metadata": {
    "tags": []
   },
   "outputs": [
    {
     "name": "stdout",
     "output_type": "stream",
     "text": [
      "{'name': 'John', 'age': 25, 'country': 'USA'}\n"
     ]
    }
   ],
   "source": [
    "person = {'name': 'John', 'age': 25}\n",
    "person['country'] = 'USA'\n",
    "\n",
    "print(person)\n"
   ]
  },
  {
   "cell_type": "markdown",
   "id": "ec20e403-d9dd-4620-8e20-415305103d8b",
   "metadata": {},
   "source": [
    "## 23. write a code to access the value associated with the key \"name\" in the dictionery {'name':'alice','age':30}"
   ]
  },
  {
   "cell_type": "code",
   "execution_count": 82,
   "id": "1588945c-cc4b-4732-9aa4-7ff6af776a15",
   "metadata": {
    "tags": []
   },
   "outputs": [
    {
     "name": "stdout",
     "output_type": "stream",
     "text": [
      "alice\n"
     ]
    }
   ],
   "source": [
    "details={'name':'alice','age':30}\n",
    "print(details['name'])"
   ]
  },
  {
   "cell_type": "markdown",
   "id": "bd5c820f-24b5-4635-9f45-3a7185676320",
   "metadata": {},
   "source": [
    "## 24. write a code to remove the key 'age' from the dictionary {'name':'bob','agr':22,'city':'new york'}"
   ]
  },
  {
   "cell_type": "code",
   "execution_count": 85,
   "id": "e6bcd715-0769-4792-9a20-d09b1a95f305",
   "metadata": {
    "tags": []
   },
   "outputs": [
    {
     "name": "stdout",
     "output_type": "stream",
     "text": [
      "{'name': 'bob', 'city': 'new york'}\n"
     ]
    }
   ],
   "source": [
    "person = {'name': 'bob', 'age': 22, 'city': 'new york'}\n",
    "del person['age']\n",
    "\n",
    "print(person)\n"
   ]
  },
  {
   "cell_type": "markdown",
   "id": "80deafd0-6d3f-4fb6-a847-fcb6b6cdbad6",
   "metadata": {},
   "source": [
    "## 25. . Write a code to check if the key \"city\" exists in the dictionary {'name': 'Alice', 'city': 'Paris'}."
   ]
  },
  {
   "cell_type": "code",
   "execution_count": 87,
   "id": "f9e6e9b9-ab00-4f2e-81a1-e78fc0c22399",
   "metadata": {
    "tags": []
   },
   "outputs": [
    {
     "name": "stdout",
     "output_type": "stream",
     "text": [
      "it's in there\n"
     ]
    }
   ],
   "source": [
    "details={'name': 'Alice', 'city': 'Paris'}\n",
    "\n",
    "for i in details:\n",
    "    if i==\"city\":\n",
    "        print(\"it's in there\")"
   ]
  },
  {
   "cell_type": "markdown",
   "id": "74ee0a42-c08e-484c-8c1e-e86332fd52e8",
   "metadata": {},
   "source": [
    "## 26.Write a code to create a list, a tuple, and a dictionary, and print them all"
   ]
  },
  {
   "cell_type": "code",
   "execution_count": 88,
   "id": "fbadb0ba-801a-4cb9-b208-2b9bed506109",
   "metadata": {
    "tags": []
   },
   "outputs": [
    {
     "name": "stdout",
     "output_type": "stream",
     "text": [
      "List: [1, 2, 3, 4, 5]\n",
      "Tuple: ('apple', 'banana', 'cherry')\n",
      "Dictionary: {'name': 'Alice', 'age': 30, 'city': 'New York'}\n"
     ]
    }
   ],
   "source": [
    "my_list = [1, 2, 3, 4, 5]\n",
    "\n",
    "my_tuple = ('apple', 'banana', 'cherry')\n",
    "\n",
    "my_dict = {'name': 'Alice', 'age': 30, 'city': 'New York'}\n",
    "\n",
    "# Printing them\n",
    "print(\"List:\", my_list)\n",
    "print(\"Tuple:\", my_tuple)\n",
    "print(\"Dictionary:\", my_dict)\n"
   ]
  },
  {
   "cell_type": "markdown",
   "id": "7dc4b32e-2ad7-4750-bea1-4c6ec6b6638a",
   "metadata": {},
   "source": [
    "## 27. Write a code to create a list of 5 random numbers between 1 and 100, sort it in ascending order, and print the result.(replaced)"
   ]
  },
  {
   "cell_type": "code",
   "execution_count": 89,
   "id": "0abfa06a-7067-4872-bf0c-47b893d2ef44",
   "metadata": {
    "tags": []
   },
   "outputs": [
    {
     "name": "stdout",
     "output_type": "stream",
     "text": [
      "Sorted random numbers: [18, 49, 72, 78, 80]\n"
     ]
    }
   ],
   "source": [
    "import random\n",
    "\n",
    "random_numbers = random.sample(range(1, 101), 5)\n",
    "\n",
    "random_numbers.sort()\n",
    "\n",
    "print(\"Sorted random numbers:\", random_numbers)\n"
   ]
  },
  {
   "cell_type": "markdown",
   "id": "a2f856d3-b3a3-4c45-be01-b5710c9039f3",
   "metadata": {},
   "source": [
    "## 28. write a code to create a list with strings and print the element at the third index."
   ]
  },
  {
   "cell_type": "code",
   "execution_count": 90,
   "id": "d52f13f8-30db-4ba7-a77c-b0b76f31bbfd",
   "metadata": {
    "tags": []
   },
   "outputs": [
    {
     "name": "stdout",
     "output_type": "stream",
     "text": [
      "Element at index 3: orange\n"
     ]
    }
   ],
   "source": [
    "fruits = ['apple', 'banana', 'cherry', 'orange', 'grape']\n",
    "\n",
    "print(\"Element at index 3:\", fruits[3])\n"
   ]
  },
  {
   "cell_type": "markdown",
   "id": "8a3e025b-4a1b-48d4-8d3a-e60c6d985f4c",
   "metadata": {},
   "source": [
    "## 29.write a code to combine two dictioneries into one and print the result."
   ]
  },
  {
   "cell_type": "code",
   "execution_count": 93,
   "id": "8695ebc4-f8c3-4b17-a9d9-c1a9d50bb62d",
   "metadata": {
    "tags": []
   },
   "outputs": [
    {
     "name": "stdout",
     "output_type": "stream",
     "text": [
      "Combined Dictionary: {'a': 1, 'b': 2, 'c': 3, 'd': 4}\n"
     ]
    }
   ],
   "source": [
    "dict1 = {'a': 1, 'b': 2}\n",
    "dict2 = {'c': 3, 'd': 4}\n",
    "\n",
    "combined_dict = {**dict1,**dict2}\n",
    "\n",
    "print(\"Combined Dictionary:\", combined_dict)\n"
   ]
  },
  {
   "cell_type": "markdown",
   "id": "67e1d7ec-26b6-4640-921c-d9b1e44ad85e",
   "metadata": {},
   "source": [
    "## 30. Write a code to convert a list of strings into a set."
   ]
  },
  {
   "cell_type": "code",
   "execution_count": 94,
   "id": "b0aea93b-ff41-4423-84df-828d7e37ad4b",
   "metadata": {
    "tags": []
   },
   "outputs": [
    {
     "name": "stdout",
     "output_type": "stream",
     "text": [
      "Set: {'banana', 'apple', 'cherry'}\n"
     ]
    }
   ],
   "source": [
    "string_list = ['apple', 'banana', 'cherry', 'apple']\n",
    "\n",
    "string_set = set(string_list)\n",
    "\n",
    "print(\"Set:\", string_set)\n"
   ]
  },
  {
   "cell_type": "code",
   "execution_count": null,
   "id": "2dc6ac4a-5832-4a90-98a5-b96bb411e551",
   "metadata": {},
   "outputs": [],
   "source": []
  }
 ],
 "metadata": {
  "kernelspec": {
   "display_name": "Python 3 (ipykernel)",
   "language": "python",
   "name": "python3"
  },
  "language_info": {
   "codemirror_mode": {
    "name": "ipython",
    "version": 3
   },
   "file_extension": ".py",
   "mimetype": "text/x-python",
   "name": "python",
   "nbconvert_exporter": "python",
   "pygments_lexer": "ipython3",
   "version": "3.11.5"
  }
 },
 "nbformat": 4,
 "nbformat_minor": 5
}
